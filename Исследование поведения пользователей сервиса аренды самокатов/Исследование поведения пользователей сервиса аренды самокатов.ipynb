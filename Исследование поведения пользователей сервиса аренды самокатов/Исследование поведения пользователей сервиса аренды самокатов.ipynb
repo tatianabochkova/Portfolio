{
 "cells": [
  {
   "cell_type": "markdown",
   "id": "26afab5a",
   "metadata": {},
   "source": [
    "# Исследование поведения пользователей сервиса аренды самокатов"
   ]
  },
  {
   "cell_type": "markdown",
   "id": "4b7c2be2",
   "metadata": {},
   "source": [
    "**Цель :** проанализировать данные и проверить  гипотезы, которые могут помочь бизнесу по аренде самокатов вырасти.\n",
    "\n",
    "*Гипотезы:*\n",
    "* Пользователи с подпиской тратят больше времени на поездки.\n",
    "* Среднее расстояние, которое проезжают пользователи с подпиской за одну поездку, превышает 3130 м.\n",
    "* Помесячная выручка от пользователей с подпиской по месяцам будет выше, чем выручка от пользователей без подписки.\n",
    "* Количество обращений в техподдержку значимо снизилось, так как техническая команда сервиса обновила сервера, с которыми взаимодействует мобильное приложение. \n",
    "\n",
    "**Входные данные** —  3 CSV-файла  с данными, в которых есть информация о пользователях, их поездках и подписках.\n",
    "\n",
    "**План:**\n",
    "\n",
    "* Обзор данных.\n",
    "* Предобработка данных.\n",
    "* Исследовательский анализ данных.\n",
    "* Объединение данных.\n",
    "* Подсчёт выручки.\n",
    "* Проверка гипотез."
   ]
  },
  {
   "cell_type": "markdown",
   "id": "c42cbe00",
   "metadata": {},
   "source": [
    "## Загрузка данных"
   ]
  },
  {
   "cell_type": "markdown",
   "id": "5803acfd",
   "metadata": {},
   "source": [
    "**Откроем файл с данными и изучим общую информацию**"
   ]
  },
  {
   "cell_type": "code",
   "execution_count": 1,
   "id": "32a8ad87",
   "metadata": {},
   "outputs": [],
   "source": [
    "import pandas as pd\n",
    "import matplotlib.pyplot as plt\n",
    "import seaborn as sns\n",
    "import math\n",
    "import numpy as np"
   ]
  },
  {
   "cell_type": "code",
   "execution_count": 2,
   "id": "43f404d9",
   "metadata": {},
   "outputs": [],
   "source": [
    "users = pd.read_csv('/datasets/users_go.csv')\n",
    "rides = pd.read_csv('/datasets/rides_go.csv')\n",
    "subscriptions = pd.read_csv('/datasets/subscriptions_go.csv')\n"
   ]
  },
  {
   "cell_type": "code",
   "execution_count": 3,
   "id": "f520c019",
   "metadata": {},
   "outputs": [
    {
     "data": {
      "text/html": [
       "<div>\n",
       "<style scoped>\n",
       "    .dataframe tbody tr th:only-of-type {\n",
       "        vertical-align: middle;\n",
       "    }\n",
       "\n",
       "    .dataframe tbody tr th {\n",
       "        vertical-align: top;\n",
       "    }\n",
       "\n",
       "    .dataframe thead th {\n",
       "        text-align: right;\n",
       "    }\n",
       "</style>\n",
       "<table border=\"1\" class=\"dataframe\">\n",
       "  <thead>\n",
       "    <tr style=\"text-align: right;\">\n",
       "      <th></th>\n",
       "      <th>user_id</th>\n",
       "      <th>name</th>\n",
       "      <th>age</th>\n",
       "      <th>city</th>\n",
       "      <th>subscription_type</th>\n",
       "    </tr>\n",
       "  </thead>\n",
       "  <tbody>\n",
       "    <tr>\n",
       "      <th>0</th>\n",
       "      <td>1</td>\n",
       "      <td>Кира</td>\n",
       "      <td>22</td>\n",
       "      <td>Тюмень</td>\n",
       "      <td>ultra</td>\n",
       "    </tr>\n",
       "    <tr>\n",
       "      <th>1</th>\n",
       "      <td>2</td>\n",
       "      <td>Станислав</td>\n",
       "      <td>31</td>\n",
       "      <td>Омск</td>\n",
       "      <td>ultra</td>\n",
       "    </tr>\n",
       "    <tr>\n",
       "      <th>2</th>\n",
       "      <td>3</td>\n",
       "      <td>Алексей</td>\n",
       "      <td>20</td>\n",
       "      <td>Москва</td>\n",
       "      <td>ultra</td>\n",
       "    </tr>\n",
       "    <tr>\n",
       "      <th>3</th>\n",
       "      <td>4</td>\n",
       "      <td>Константин</td>\n",
       "      <td>26</td>\n",
       "      <td>Ростов-на-Дону</td>\n",
       "      <td>ultra</td>\n",
       "    </tr>\n",
       "    <tr>\n",
       "      <th>4</th>\n",
       "      <td>5</td>\n",
       "      <td>Адель</td>\n",
       "      <td>28</td>\n",
       "      <td>Омск</td>\n",
       "      <td>ultra</td>\n",
       "    </tr>\n",
       "  </tbody>\n",
       "</table>\n",
       "</div>"
      ],
      "text/plain": [
       "   user_id        name  age            city subscription_type\n",
       "0        1        Кира   22          Тюмень             ultra\n",
       "1        2   Станислав   31            Омск             ultra\n",
       "2        3     Алексей   20          Москва             ultra\n",
       "3        4  Константин   26  Ростов-на-Дону             ultra\n",
       "4        5       Адель   28            Омск             ultra"
      ]
     },
     "execution_count": 3,
     "metadata": {},
     "output_type": "execute_result"
    }
   ],
   "source": [
    "users.head()"
   ]
  },
  {
   "cell_type": "code",
   "execution_count": 4,
   "id": "8c8f43fe",
   "metadata": {},
   "outputs": [
    {
     "data": {
      "text/html": [
       "<div>\n",
       "<style scoped>\n",
       "    .dataframe tbody tr th:only-of-type {\n",
       "        vertical-align: middle;\n",
       "    }\n",
       "\n",
       "    .dataframe tbody tr th {\n",
       "        vertical-align: top;\n",
       "    }\n",
       "\n",
       "    .dataframe thead th {\n",
       "        text-align: right;\n",
       "    }\n",
       "</style>\n",
       "<table border=\"1\" class=\"dataframe\">\n",
       "  <thead>\n",
       "    <tr style=\"text-align: right;\">\n",
       "      <th></th>\n",
       "      <th>user_id</th>\n",
       "      <th>distance</th>\n",
       "      <th>duration</th>\n",
       "      <th>date</th>\n",
       "    </tr>\n",
       "  </thead>\n",
       "  <tbody>\n",
       "    <tr>\n",
       "      <th>0</th>\n",
       "      <td>1</td>\n",
       "      <td>4409.919140</td>\n",
       "      <td>25.599769</td>\n",
       "      <td>2021-01-01</td>\n",
       "    </tr>\n",
       "    <tr>\n",
       "      <th>1</th>\n",
       "      <td>1</td>\n",
       "      <td>2617.592153</td>\n",
       "      <td>15.816871</td>\n",
       "      <td>2021-01-18</td>\n",
       "    </tr>\n",
       "    <tr>\n",
       "      <th>2</th>\n",
       "      <td>1</td>\n",
       "      <td>754.159807</td>\n",
       "      <td>6.232113</td>\n",
       "      <td>2021-04-20</td>\n",
       "    </tr>\n",
       "    <tr>\n",
       "      <th>3</th>\n",
       "      <td>1</td>\n",
       "      <td>2694.783254</td>\n",
       "      <td>18.511000</td>\n",
       "      <td>2021-08-11</td>\n",
       "    </tr>\n",
       "    <tr>\n",
       "      <th>4</th>\n",
       "      <td>1</td>\n",
       "      <td>4028.687306</td>\n",
       "      <td>26.265803</td>\n",
       "      <td>2021-08-28</td>\n",
       "    </tr>\n",
       "  </tbody>\n",
       "</table>\n",
       "</div>"
      ],
      "text/plain": [
       "   user_id     distance   duration        date\n",
       "0        1  4409.919140  25.599769  2021-01-01\n",
       "1        1  2617.592153  15.816871  2021-01-18\n",
       "2        1   754.159807   6.232113  2021-04-20\n",
       "3        1  2694.783254  18.511000  2021-08-11\n",
       "4        1  4028.687306  26.265803  2021-08-28"
      ]
     },
     "execution_count": 4,
     "metadata": {},
     "output_type": "execute_result"
    }
   ],
   "source": [
    "rides.head()"
   ]
  },
  {
   "cell_type": "code",
   "execution_count": 5,
   "id": "ba26b806",
   "metadata": {},
   "outputs": [
    {
     "data": {
      "text/html": [
       "<div>\n",
       "<style scoped>\n",
       "    .dataframe tbody tr th:only-of-type {\n",
       "        vertical-align: middle;\n",
       "    }\n",
       "\n",
       "    .dataframe tbody tr th {\n",
       "        vertical-align: top;\n",
       "    }\n",
       "\n",
       "    .dataframe thead th {\n",
       "        text-align: right;\n",
       "    }\n",
       "</style>\n",
       "<table border=\"1\" class=\"dataframe\">\n",
       "  <thead>\n",
       "    <tr style=\"text-align: right;\">\n",
       "      <th></th>\n",
       "      <th>subscription_type</th>\n",
       "      <th>minute_price</th>\n",
       "      <th>start_ride_price</th>\n",
       "      <th>subscription_fee</th>\n",
       "    </tr>\n",
       "  </thead>\n",
       "  <tbody>\n",
       "    <tr>\n",
       "      <th>0</th>\n",
       "      <td>free</td>\n",
       "      <td>8</td>\n",
       "      <td>50</td>\n",
       "      <td>0</td>\n",
       "    </tr>\n",
       "    <tr>\n",
       "      <th>1</th>\n",
       "      <td>ultra</td>\n",
       "      <td>6</td>\n",
       "      <td>0</td>\n",
       "      <td>199</td>\n",
       "    </tr>\n",
       "  </tbody>\n",
       "</table>\n",
       "</div>"
      ],
      "text/plain": [
       "  subscription_type  minute_price  start_ride_price  subscription_fee\n",
       "0              free             8                50                 0\n",
       "1             ultra             6                 0               199"
      ]
     },
     "execution_count": 5,
     "metadata": {},
     "output_type": "execute_result"
    }
   ],
   "source": [
    "subscriptions.head()"
   ]
  },
  {
   "cell_type": "markdown",
   "id": "6c626291",
   "metadata": {},
   "source": [
    "**Вывод:** В датафреймах описана информация о пользователях, их поездках и подписках."
   ]
  },
  {
   "cell_type": "markdown",
   "id": "e95ebca7",
   "metadata": {},
   "source": [
    "## Предобработка данных"
   ]
  },
  {
   "cell_type": "markdown",
   "id": "2a65e595-8333-47b8-9a51-947ecf8c2a39",
   "metadata": {},
   "source": [
    "### Типы данных"
   ]
  },
  {
   "cell_type": "markdown",
   "id": "75533dd3",
   "metadata": {},
   "source": [
    "Поменяем тип данных там, где это возможно"
   ]
  },
  {
   "cell_type": "code",
   "execution_count": 6,
   "id": "af6d202c",
   "metadata": {},
   "outputs": [
    {
     "name": "stdout",
     "output_type": "stream",
     "text": [
      "<class 'pandas.core.frame.DataFrame'>\n",
      "RangeIndex: 1565 entries, 0 to 1564\n",
      "Data columns (total 5 columns):\n",
      " #   Column             Non-Null Count  Dtype \n",
      "---  ------             --------------  ----- \n",
      " 0   user_id            1565 non-null   int64 \n",
      " 1   name               1565 non-null   object\n",
      " 2   age                1565 non-null   int64 \n",
      " 3   city               1565 non-null   object\n",
      " 4   subscription_type  1565 non-null   object\n",
      "dtypes: int64(2), object(3)\n",
      "memory usage: 61.3+ KB\n"
     ]
    }
   ],
   "source": [
    "users.info()"
   ]
  },
  {
   "cell_type": "code",
   "execution_count": 7,
   "id": "d234cdcf",
   "metadata": {},
   "outputs": [
    {
     "name": "stdout",
     "output_type": "stream",
     "text": [
      "<class 'pandas.core.frame.DataFrame'>\n",
      "RangeIndex: 18068 entries, 0 to 18067\n",
      "Data columns (total 4 columns):\n",
      " #   Column    Non-Null Count  Dtype  \n",
      "---  ------    --------------  -----  \n",
      " 0   user_id   18068 non-null  int64  \n",
      " 1   distance  18068 non-null  float64\n",
      " 2   duration  18068 non-null  float64\n",
      " 3   date      18068 non-null  object \n",
      "dtypes: float64(2), int64(1), object(1)\n",
      "memory usage: 564.8+ KB\n"
     ]
    }
   ],
   "source": [
    "rides.info()"
   ]
  },
  {
   "cell_type": "code",
   "execution_count": 8,
   "id": "f22be713",
   "metadata": {},
   "outputs": [],
   "source": [
    "#приведем столбец date из датафрейма rides к типу даты\n",
    "rides['date'] = pd.to_datetime(rides['date'], format ='%Y-%m-%d')"
   ]
  },
  {
   "cell_type": "code",
   "execution_count": 9,
   "id": "7e947d59",
   "metadata": {},
   "outputs": [],
   "source": [
    "#создадим столбец month c данными о месяце поездки\n",
    "rides['month'] = rides['date'].dt.month "
   ]
  },
  {
   "cell_type": "code",
   "execution_count": 10,
   "id": "69dfd632",
   "metadata": {},
   "outputs": [
    {
     "name": "stdout",
     "output_type": "stream",
     "text": [
      "<class 'pandas.core.frame.DataFrame'>\n",
      "RangeIndex: 18068 entries, 0 to 18067\n",
      "Data columns (total 5 columns):\n",
      " #   Column    Non-Null Count  Dtype         \n",
      "---  ------    --------------  -----         \n",
      " 0   user_id   18068 non-null  int64         \n",
      " 1   distance  18068 non-null  float64       \n",
      " 2   duration  18068 non-null  float64       \n",
      " 3   date      18068 non-null  datetime64[ns]\n",
      " 4   month     18068 non-null  int64         \n",
      "dtypes: datetime64[ns](1), float64(2), int64(2)\n",
      "memory usage: 705.9 KB\n"
     ]
    }
   ],
   "source": [
    "rides.info()"
   ]
  },
  {
   "cell_type": "code",
   "execution_count": 11,
   "id": "094845bf",
   "metadata": {},
   "outputs": [
    {
     "data": {
      "text/html": [
       "<div>\n",
       "<style scoped>\n",
       "    .dataframe tbody tr th:only-of-type {\n",
       "        vertical-align: middle;\n",
       "    }\n",
       "\n",
       "    .dataframe tbody tr th {\n",
       "        vertical-align: top;\n",
       "    }\n",
       "\n",
       "    .dataframe thead th {\n",
       "        text-align: right;\n",
       "    }\n",
       "</style>\n",
       "<table border=\"1\" class=\"dataframe\">\n",
       "  <thead>\n",
       "    <tr style=\"text-align: right;\">\n",
       "      <th></th>\n",
       "      <th>user_id</th>\n",
       "      <th>distance</th>\n",
       "      <th>duration</th>\n",
       "      <th>date</th>\n",
       "      <th>month</th>\n",
       "    </tr>\n",
       "  </thead>\n",
       "  <tbody>\n",
       "    <tr>\n",
       "      <th>18063</th>\n",
       "      <td>1534</td>\n",
       "      <td>3781.098080</td>\n",
       "      <td>19.822962</td>\n",
       "      <td>2021-11-04</td>\n",
       "      <td>11</td>\n",
       "    </tr>\n",
       "    <tr>\n",
       "      <th>18064</th>\n",
       "      <td>1534</td>\n",
       "      <td>2840.423057</td>\n",
       "      <td>21.409799</td>\n",
       "      <td>2021-11-16</td>\n",
       "      <td>11</td>\n",
       "    </tr>\n",
       "    <tr>\n",
       "      <th>18065</th>\n",
       "      <td>1534</td>\n",
       "      <td>3826.185507</td>\n",
       "      <td>18.435051</td>\n",
       "      <td>2021-11-18</td>\n",
       "      <td>11</td>\n",
       "    </tr>\n",
       "    <tr>\n",
       "      <th>18066</th>\n",
       "      <td>1534</td>\n",
       "      <td>2902.308661</td>\n",
       "      <td>16.674362</td>\n",
       "      <td>2021-11-27</td>\n",
       "      <td>11</td>\n",
       "    </tr>\n",
       "    <tr>\n",
       "      <th>18067</th>\n",
       "      <td>1534</td>\n",
       "      <td>2371.711192</td>\n",
       "      <td>15.893917</td>\n",
       "      <td>2021-12-29</td>\n",
       "      <td>12</td>\n",
       "    </tr>\n",
       "  </tbody>\n",
       "</table>\n",
       "</div>"
      ],
      "text/plain": [
       "       user_id     distance   duration       date  month\n",
       "18063     1534  3781.098080  19.822962 2021-11-04     11\n",
       "18064     1534  2840.423057  21.409799 2021-11-16     11\n",
       "18065     1534  3826.185507  18.435051 2021-11-18     11\n",
       "18066     1534  2902.308661  16.674362 2021-11-27     11\n",
       "18067     1534  2371.711192  15.893917 2021-12-29     12"
      ]
     },
     "execution_count": 11,
     "metadata": {},
     "output_type": "execute_result"
    }
   ],
   "source": [
    "rides.tail()"
   ]
  },
  {
   "cell_type": "code",
   "execution_count": 12,
   "id": "ca017dfe",
   "metadata": {},
   "outputs": [
    {
     "name": "stdout",
     "output_type": "stream",
     "text": [
      "<class 'pandas.core.frame.DataFrame'>\n",
      "RangeIndex: 2 entries, 0 to 1\n",
      "Data columns (total 4 columns):\n",
      " #   Column             Non-Null Count  Dtype \n",
      "---  ------             --------------  ----- \n",
      " 0   subscription_type  2 non-null      object\n",
      " 1   minute_price       2 non-null      int64 \n",
      " 2   start_ride_price   2 non-null      int64 \n",
      " 3   subscription_fee   2 non-null      int64 \n",
      "dtypes: int64(3), object(1)\n",
      "memory usage: 192.0+ bytes\n"
     ]
    }
   ],
   "source": [
    "subscriptions.info()"
   ]
  },
  {
   "cell_type": "markdown",
   "id": "a35f8883-d6c1-4275-a371-58fdbd57f82f",
   "metadata": {},
   "source": [
    "### Дубликаты"
   ]
  },
  {
   "cell_type": "markdown",
   "id": "5d38e556",
   "metadata": {},
   "source": [
    "Найдем пустые значения и дубликаты"
   ]
  },
  {
   "cell_type": "markdown",
   "id": "978fa083",
   "metadata": {},
   "source": [
    "**Изучим таблицу users**"
   ]
  },
  {
   "cell_type": "code",
   "execution_count": 13,
   "id": "c77d6ddf",
   "metadata": {
    "scrolled": true
   },
   "outputs": [
    {
     "data": {
      "text/plain": [
       "user_id              0\n",
       "name                 0\n",
       "age                  0\n",
       "city                 0\n",
       "subscription_type    0\n",
       "dtype: int64"
      ]
     },
     "execution_count": 13,
     "metadata": {},
     "output_type": "execute_result"
    }
   ],
   "source": [
    "users.isna().sum()"
   ]
  },
  {
   "cell_type": "code",
   "execution_count": 14,
   "id": "cd3b87af",
   "metadata": {},
   "outputs": [
    {
     "data": {
      "text/plain": [
       "31"
      ]
     },
     "execution_count": 14,
     "metadata": {},
     "output_type": "execute_result"
    }
   ],
   "source": [
    "users.duplicated().sum()"
   ]
  },
  {
   "cell_type": "code",
   "execution_count": 15,
   "id": "fa3c5519",
   "metadata": {},
   "outputs": [],
   "source": [
    "users = users.drop_duplicates() \n"
   ]
  },
  {
   "cell_type": "markdown",
   "id": "17d23e16",
   "metadata": {},
   "source": [
    "В таблице users не было пустых строк, а вот дубликаты 31 штука присутствовали. Мы их удалили"
   ]
  },
  {
   "cell_type": "markdown",
   "id": "80517c41",
   "metadata": {},
   "source": [
    "**Изучим таблицу rides**"
   ]
  },
  {
   "cell_type": "code",
   "execution_count": 16,
   "id": "bbf640f8",
   "metadata": {},
   "outputs": [
    {
     "data": {
      "text/plain": [
       "user_id     0\n",
       "distance    0\n",
       "duration    0\n",
       "date        0\n",
       "month       0\n",
       "dtype: int64"
      ]
     },
     "execution_count": 16,
     "metadata": {},
     "output_type": "execute_result"
    }
   ],
   "source": [
    "rides.isna().sum()"
   ]
  },
  {
   "cell_type": "code",
   "execution_count": 17,
   "id": "3b6c0201",
   "metadata": {},
   "outputs": [
    {
     "data": {
      "text/plain": [
       "0"
      ]
     },
     "execution_count": 17,
     "metadata": {},
     "output_type": "execute_result"
    }
   ],
   "source": [
    "rides.duplicated().sum()"
   ]
  },
  {
   "cell_type": "markdown",
   "id": "312fd2d3",
   "metadata": {},
   "source": [
    "В таблице rides нет пустых строк и явных дубликатов"
   ]
  },
  {
   "cell_type": "markdown",
   "id": "f523ffb9",
   "metadata": {},
   "source": [
    "**Изучим таблицу subscriptions**"
   ]
  },
  {
   "cell_type": "code",
   "execution_count": 18,
   "id": "c05ef7a7",
   "metadata": {},
   "outputs": [
    {
     "data": {
      "text/plain": [
       "subscription_type    0\n",
       "minute_price         0\n",
       "start_ride_price     0\n",
       "subscription_fee     0\n",
       "dtype: int64"
      ]
     },
     "execution_count": 18,
     "metadata": {},
     "output_type": "execute_result"
    }
   ],
   "source": [
    "subscriptions.isna().sum()"
   ]
  },
  {
   "cell_type": "code",
   "execution_count": 19,
   "id": "3e731355",
   "metadata": {},
   "outputs": [
    {
     "data": {
      "text/plain": [
       "0"
      ]
     },
     "execution_count": 19,
     "metadata": {},
     "output_type": "execute_result"
    }
   ],
   "source": [
    "subscriptions.duplicated().sum()"
   ]
  },
  {
   "cell_type": "markdown",
   "id": "52b0af59",
   "metadata": {},
   "source": [
    "В таблице subscriptions нет пустых строк и отсутствуют явные дубликаты"
   ]
  },
  {
   "cell_type": "markdown",
   "id": "e5439268",
   "metadata": {},
   "source": [
    "**Вывод:**\n",
    "Пропущенных данных в таблицах нет.\n",
    "\n",
    "Дубликаты имеются среди пользователей и их 31, мы их удалили.\n",
    "\n",
    "В таблице с информацией о поездках и подписках дубликатов нет.\n",
    "\n",
    "Приобразовали столбец с датой в таблице rides в тип даты. Добавили в таблицу rides столбец month с номер месяца."
   ]
  },
  {
   "cell_type": "markdown",
   "id": "212593c7",
   "metadata": {},
   "source": [
    "## Исследовательский анализ данных"
   ]
  },
  {
   "cell_type": "markdown",
   "id": "2c75ac13",
   "metadata": {},
   "source": [
    "Визуализируем часть данных"
   ]
  },
  {
   "cell_type": "markdown",
   "id": "6bc61302",
   "metadata": {},
   "source": [
    "**Частота встречаемости городов**\n"
   ]
  },
  {
   "cell_type": "code",
   "execution_count": 20,
   "id": "d0ec9795",
   "metadata": {},
   "outputs": [],
   "source": [
    "city_stat = round(users.groupby('city')['user_id'].count()/users['city'].count()*100)"
   ]
  },
  {
   "cell_type": "code",
   "execution_count": 21,
   "id": "5169b2b5",
   "metadata": {},
   "outputs": [
    {
     "data": {
      "text/plain": [
       "city\n",
       "Екатеринбург      204\n",
       "Краснодар         193\n",
       "Москва            168\n",
       "Омск              183\n",
       "Пятигорск         219\n",
       "Ростов-на-Дону    198\n",
       "Сочи              189\n",
       "Тюмень            180\n",
       "Name: user_id, dtype: int64"
      ]
     },
     "execution_count": 21,
     "metadata": {},
     "output_type": "execute_result"
    }
   ],
   "source": [
    "city_stat = users.groupby('city')['user_id'].count()\n",
    "city_stat"
   ]
  },
  {
   "cell_type": "code",
   "execution_count": 22,
   "id": "5b5fe762",
   "metadata": {
    "scrolled": true
   },
   "outputs": [
    {
     "data": {
      "image/png": "[encoded data removed]",
      "text/plain": [
       "<Figure size 864x504 with 1 Axes>"
      ]
     },
     "metadata": {},
     "output_type": "display_data"
    }
   ],
   "source": [
    "city_stat = users.groupby('city')['user_id'].count()\n",
    "city_stat.plot(kind='pie', autopct='%1.1f%%', figsize=(12,7))\n",
    "plt.title('Распределение пользователей по городам')\n",
    "plt.show()"
   ]
  },
  {
   "cell_type": "markdown",
   "id": "ca80f7b7",
   "metadata": {},
   "source": [
    "<div class=\"alert alert-warning\">\n",
    "<b>⚠️ Комментарий ревьюера v1:</b> \n",
    "<br>Так как у нас группы с очень близкими результатами, то для визуализации больше подойдет барплот\n",
    "</div>"
   ]
  },
  {
   "cell_type": "markdown",
   "id": "96caf0ca",
   "metadata": {},
   "source": [
    "**Cоотношение пользователей с подпиской и без подписк**"
   ]
  },
  {
   "cell_type": "code",
   "execution_count": 23,
   "id": "8eae9724",
   "metadata": {},
   "outputs": [],
   "source": [
    "subscription_stat = users['subscription_type'].value_counts()"
   ]
  },
  {
   "cell_type": "code",
   "execution_count": 24,
   "id": "d50246ac",
   "metadata": {},
   "outputs": [
    {
     "data": {
      "text/plain": [
       "free     835\n",
       "ultra    699\n",
       "Name: subscription_type, dtype: int64"
      ]
     },
     "execution_count": 24,
     "metadata": {},
     "output_type": "execute_result"
    }
   ],
   "source": [
    "subscription_stat"
   ]
  },
  {
   "cell_type": "code",
   "execution_count": 25,
   "id": "a7e89c7f",
   "metadata": {},
   "outputs": [
    {
     "data": {
      "image/png": "[encoded data removed]",
      "text/plain": [
       "<Figure size 432x288 with 1 Axes>"
      ]
     },
     "metadata": {},
     "output_type": "display_data"
    }
   ],
   "source": [
    "colors = ['coral', 'lightblue']\n",
    "labels = 'Без подписки', 'С подпиской'\n",
    "plt.pie(subscription_stat, labels = labels, colors=colors, autopct='%1.1f%%', shadow=True, startangle=90)\n",
    "plt.title('Соотношение пользователей с подпиской и без', fontsize=14)\n",
    "plt.show()"
   ]
  },
  {
   "cell_type": "markdown",
   "id": "32054b9f",
   "metadata": {},
   "source": [
    "**Возраст пользователей**"
   ]
  },
  {
   "cell_type": "code",
   "execution_count": 26,
   "id": "662b4323",
   "metadata": {},
   "outputs": [
    {
     "data": {
      "text/plain": [
       "12      4\n",
       "13      8\n",
       "14      9\n",
       "15     13\n",
       "16     19\n",
       "17     26\n",
       "18     46\n",
       "19     47\n",
       "20     71\n",
       "21     93\n",
       "22    119\n",
       "23    129\n",
       "24    132\n",
       "25    145\n",
       "26    131\n",
       "27    119\n",
       "28    112\n",
       "29     68\n",
       "30     68\n",
       "31     48\n",
       "32     41\n",
       "33     39\n",
       "34     19\n",
       "35     15\n",
       "36      6\n",
       "37      2\n",
       "38      3\n",
       "39      1\n",
       "43      1\n",
       "Name: age, dtype: int64"
      ]
     },
     "execution_count": 26,
     "metadata": {},
     "output_type": "execute_result"
    }
   ],
   "source": [
    "users['age'].value_counts().sort_index()"
   ]
  },
  {
   "cell_type": "code",
   "execution_count": 27,
   "id": "a1441778",
   "metadata": {},
   "outputs": [
    {
     "data": {
      "image/png": "[encoded data removed]",
      "text/plain": [
       "<Figure size 720x720 with 1 Axes>"
      ]
     },
     "metadata": {
      "needs_background": "light"
     },
     "output_type": "display_data"
    }
   ],
   "source": [
    "(\n",
    "    users['age']\n",
    "    .value_counts()\n",
    "    .plot.bar(\n",
    "        title='Количество пользователей по возрасту', color='green', xlabel='Возраст',\n",
    "        ylabel='Количество пользователей', figsize=(10,10), grid=True\n",
    "    )\n",
    ")\n",
    "plt.show()"
   ]
  },
  {
   "cell_type": "markdown",
   "id": "7db38e27",
   "metadata": {},
   "source": [
    "**Расстояние, которое пользователь преодолел за одну поездку**"
   ]
  },
  {
   "cell_type": "code",
   "execution_count": 28,
   "id": "281973c0",
   "metadata": {},
   "outputs": [
    {
     "data": {
      "text/plain": [
       "mean      3070.66\n",
       "median    3133.61\n",
       "min          0.86\n",
       "max       7211.01\n",
       "Name: distance, dtype: float64"
      ]
     },
     "execution_count": 28,
     "metadata": {},
     "output_type": "execute_result"
    }
   ],
   "source": [
    "round(rides['distance'].agg(['mean', 'median','min','max']),2)"
   ]
  },
  {
   "cell_type": "code",
   "execution_count": 29,
   "id": "4863c627",
   "metadata": {},
   "outputs": [
    {
     "data": {
      "image/png": "[encoded data removed]",
      "text/plain": [
       "<Figure size 432x288 with 1 Axes>"
      ]
     },
     "metadata": {
      "needs_background": "light"
     },
     "output_type": "display_data"
    }
   ],
   "source": [
    "rides.hist(column = 'distance',bins=20)\n",
    "plt.xlabel('Расстояние')\n",
    "plt.ylabel('Количество пользователей')\n",
    "plt.title('Дистанция поездки')\n",
    "plt.show()"
   ]
  },
  {
   "cell_type": "code",
   "execution_count": 30,
   "id": "c05f72c6",
   "metadata": {},
   "outputs": [
    {
     "data": {
      "image/png": "[encoded data removed]",
      "text/plain": [
       "<Figure size 432x288 with 1 Axes>"
      ]
     },
     "metadata": {
      "needs_background": "light"
     },
     "output_type": "display_data"
    }
   ],
   "source": [
    "rides.boxplot(['distance'])\n",
    "plt.xlabel('Количество пользователей')\n",
    "plt.ylabel('Расстояние')\n",
    "plt.title('Дистанция поездки')\n",
    "plt.show()"
   ]
  },
  {
   "cell_type": "markdown",
   "id": "4136ec13",
   "metadata": {},
   "source": [
    "**Продолжительность поездок**"
   ]
  },
  {
   "cell_type": "code",
   "execution_count": 31,
   "id": "1dd12f0c",
   "metadata": {},
   "outputs": [
    {
     "data": {
      "text/plain": [
       "mean      17.81\n",
       "median    17.68\n",
       "min        0.50\n",
       "max       40.82\n",
       "Name: duration, dtype: float64"
      ]
     },
     "execution_count": 31,
     "metadata": {},
     "output_type": "execute_result"
    }
   ],
   "source": [
    "round(rides['duration'].agg(['mean', 'median','min','max']),2)"
   ]
  },
  {
   "cell_type": "code",
   "execution_count": 32,
   "id": "1623b70c",
   "metadata": {},
   "outputs": [
    {
     "data": {
      "image/png": "[encoded data removed]",
      "text/plain": [
       "<Figure size 432x288 with 1 Axes>"
      ]
     },
     "metadata": {
      "needs_background": "light"
     },
     "output_type": "display_data"
    }
   ],
   "source": [
    "rides.hist(column='duration',bins=20)\n",
    "plt.xlabel('Время поездок')\n",
    "plt.ylabel('Количество пользователей')\n",
    "plt.title('Продолжительность поездок')\n",
    "plt.show()"
   ]
  },
  {
   "cell_type": "markdown",
   "id": "0cfccc4c",
   "metadata": {},
   "source": [
    "**Вывод**\n",
    "\n",
    "**Частота встречаемости городов:** пользоветели арендой самокатов распределены равномерно по всем городам\n",
    "\n",
    "**Соотношение пользователей с подпиской и без подписки:** пользователей, которые используют бесплатную подписку больше и их 835 человека. 54.4% пользователей без подписок и 45.6 с подпиской.\n",
    "\n",
    "**Возраст пользователей:** распределен от 12 до 43 лет. Наиболее активные пользователи от 20-30 лет.\n",
    "\n",
    "**Расстояние, которое пользователь преодолел за одну поездку:** в среднем 3 км. Минимальное растояние - 0.86 км. Самая длинная - 7.2 км.\n",
    "\n",
    "**Продолжительность поездок:** в среднем 17.68 минут. Минимальное время 50 секунд.Скорее всего или самокат был сломан или пользватель передумал пользоваться. Максимальное время поездки 40 минут.\n",
    "\n"
   ]
  },
  {
   "cell_type": "markdown",
   "id": "216b97d9",
   "metadata": {},
   "source": [
    "**Объединим все таблицы в одну**"
   ]
  },
  {
   "cell_type": "code",
   "execution_count": 33,
   "id": "98f7be3f",
   "metadata": {},
   "outputs": [
    {
     "data": {
      "text/plain": [
       "0"
      ]
     },
     "execution_count": 33,
     "metadata": {},
     "output_type": "execute_result"
    }
   ],
   "source": [
    "rides['user_id'].isna().sum()"
   ]
  },
  {
   "cell_type": "code",
   "execution_count": 34,
   "id": "0cad4456",
   "metadata": {},
   "outputs": [
    {
     "data": {
      "text/plain": [
       "(1534, 18068)"
      ]
     },
     "execution_count": 34,
     "metadata": {},
     "output_type": "execute_result"
    }
   ],
   "source": [
    "users.shape[0], rides.shape[0]"
   ]
  },
  {
   "cell_type": "code",
   "execution_count": 35,
   "id": "6bf288b5",
   "metadata": {},
   "outputs": [
    {
     "data": {
      "text/plain": [
       "18068"
      ]
     },
     "execution_count": 35,
     "metadata": {},
     "output_type": "execute_result"
    }
   ],
   "source": [
    "table = users.merge(rides, on='user_id', how ='left')\n",
    "table.shape[0]"
   ]
  },
  {
   "cell_type": "code",
   "execution_count": 36,
   "id": "54829831",
   "metadata": {},
   "outputs": [],
   "source": [
    "table_users = table.merge(subscriptions, on='subscription_type',how = 'left')"
   ]
  },
  {
   "cell_type": "code",
   "execution_count": 37,
   "id": "0bd3154f",
   "metadata": {},
   "outputs": [
    {
     "data": {
      "text/html": [
       "<div>\n",
       "<style scoped>\n",
       "    .dataframe tbody tr th:only-of-type {\n",
       "        vertical-align: middle;\n",
       "    }\n",
       "\n",
       "    .dataframe tbody tr th {\n",
       "        vertical-align: top;\n",
       "    }\n",
       "\n",
       "    .dataframe thead th {\n",
       "        text-align: right;\n",
       "    }\n",
       "</style>\n",
       "<table border=\"1\" class=\"dataframe\">\n",
       "  <thead>\n",
       "    <tr style=\"text-align: right;\">\n",
       "      <th></th>\n",
       "      <th>user_id</th>\n",
       "      <th>name</th>\n",
       "      <th>age</th>\n",
       "      <th>city</th>\n",
       "      <th>subscription_type</th>\n",
       "      <th>distance</th>\n",
       "      <th>duration</th>\n",
       "      <th>date</th>\n",
       "      <th>month</th>\n",
       "      <th>minute_price</th>\n",
       "      <th>start_ride_price</th>\n",
       "      <th>subscription_fee</th>\n",
       "    </tr>\n",
       "  </thead>\n",
       "  <tbody>\n",
       "    <tr>\n",
       "      <th>0</th>\n",
       "      <td>1</td>\n",
       "      <td>Кира</td>\n",
       "      <td>22</td>\n",
       "      <td>Тюмень</td>\n",
       "      <td>ultra</td>\n",
       "      <td>4409.919140</td>\n",
       "      <td>25.599769</td>\n",
       "      <td>2021-01-01</td>\n",
       "      <td>1</td>\n",
       "      <td>6</td>\n",
       "      <td>0</td>\n",
       "      <td>199</td>\n",
       "    </tr>\n",
       "    <tr>\n",
       "      <th>1</th>\n",
       "      <td>1</td>\n",
       "      <td>Кира</td>\n",
       "      <td>22</td>\n",
       "      <td>Тюмень</td>\n",
       "      <td>ultra</td>\n",
       "      <td>2617.592153</td>\n",
       "      <td>15.816871</td>\n",
       "      <td>2021-01-18</td>\n",
       "      <td>1</td>\n",
       "      <td>6</td>\n",
       "      <td>0</td>\n",
       "      <td>199</td>\n",
       "    </tr>\n",
       "    <tr>\n",
       "      <th>2</th>\n",
       "      <td>1</td>\n",
       "      <td>Кира</td>\n",
       "      <td>22</td>\n",
       "      <td>Тюмень</td>\n",
       "      <td>ultra</td>\n",
       "      <td>754.159807</td>\n",
       "      <td>6.232113</td>\n",
       "      <td>2021-04-20</td>\n",
       "      <td>4</td>\n",
       "      <td>6</td>\n",
       "      <td>0</td>\n",
       "      <td>199</td>\n",
       "    </tr>\n",
       "    <tr>\n",
       "      <th>3</th>\n",
       "      <td>1</td>\n",
       "      <td>Кира</td>\n",
       "      <td>22</td>\n",
       "      <td>Тюмень</td>\n",
       "      <td>ultra</td>\n",
       "      <td>2694.783254</td>\n",
       "      <td>18.511000</td>\n",
       "      <td>2021-08-11</td>\n",
       "      <td>8</td>\n",
       "      <td>6</td>\n",
       "      <td>0</td>\n",
       "      <td>199</td>\n",
       "    </tr>\n",
       "    <tr>\n",
       "      <th>4</th>\n",
       "      <td>1</td>\n",
       "      <td>Кира</td>\n",
       "      <td>22</td>\n",
       "      <td>Тюмень</td>\n",
       "      <td>ultra</td>\n",
       "      <td>4028.687306</td>\n",
       "      <td>26.265803</td>\n",
       "      <td>2021-08-28</td>\n",
       "      <td>8</td>\n",
       "      <td>6</td>\n",
       "      <td>0</td>\n",
       "      <td>199</td>\n",
       "    </tr>\n",
       "  </tbody>\n",
       "</table>\n",
       "</div>"
      ],
      "text/plain": [
       "   user_id  name  age    city subscription_type     distance   duration  \\\n",
       "0        1  Кира   22  Тюмень             ultra  4409.919140  25.599769   \n",
       "1        1  Кира   22  Тюмень             ultra  2617.592153  15.816871   \n",
       "2        1  Кира   22  Тюмень             ultra   754.159807   6.232113   \n",
       "3        1  Кира   22  Тюмень             ultra  2694.783254  18.511000   \n",
       "4        1  Кира   22  Тюмень             ultra  4028.687306  26.265803   \n",
       "\n",
       "        date  month  minute_price  start_ride_price  subscription_fee  \n",
       "0 2021-01-01      1             6                 0               199  \n",
       "1 2021-01-18      1             6                 0               199  \n",
       "2 2021-04-20      4             6                 0               199  \n",
       "3 2021-08-11      8             6                 0               199  \n",
       "4 2021-08-28      8             6                 0               199  "
      ]
     },
     "execution_count": 37,
     "metadata": {},
     "output_type": "execute_result"
    }
   ],
   "source": [
    "table_users.head(5)"
   ]
  },
  {
   "cell_type": "markdown",
   "id": "0f114c39",
   "metadata": {},
   "source": [
    "**Создадим отдельные таблицы пользователей с подписками и без подписок**"
   ]
  },
  {
   "cell_type": "code",
   "execution_count": 38,
   "id": "c0e0f224",
   "metadata": {},
   "outputs": [],
   "source": [
    "users_without_subscriptions = table_users[table_users['subscription_type'] == 'free']"
   ]
  },
  {
   "cell_type": "code",
   "execution_count": 39,
   "id": "04cb2123",
   "metadata": {},
   "outputs": [
    {
     "data": {
      "text/html": [
       "<div>\n",
       "<style scoped>\n",
       "    .dataframe tbody tr th:only-of-type {\n",
       "        vertical-align: middle;\n",
       "    }\n",
       "\n",
       "    .dataframe tbody tr th {\n",
       "        vertical-align: top;\n",
       "    }\n",
       "\n",
       "    .dataframe thead th {\n",
       "        text-align: right;\n",
       "    }\n",
       "</style>\n",
       "<table border=\"1\" class=\"dataframe\">\n",
       "  <thead>\n",
       "    <tr style=\"text-align: right;\">\n",
       "      <th></th>\n",
       "      <th>user_id</th>\n",
       "      <th>name</th>\n",
       "      <th>age</th>\n",
       "      <th>city</th>\n",
       "      <th>subscription_type</th>\n",
       "      <th>distance</th>\n",
       "      <th>duration</th>\n",
       "      <th>date</th>\n",
       "      <th>month</th>\n",
       "      <th>minute_price</th>\n",
       "      <th>start_ride_price</th>\n",
       "      <th>subscription_fee</th>\n",
       "    </tr>\n",
       "  </thead>\n",
       "  <tbody>\n",
       "    <tr>\n",
       "      <th>6500</th>\n",
       "      <td>700</td>\n",
       "      <td>Айдар</td>\n",
       "      <td>22</td>\n",
       "      <td>Омск</td>\n",
       "      <td>free</td>\n",
       "      <td>2515.690719</td>\n",
       "      <td>14.944286</td>\n",
       "      <td>2021-01-02</td>\n",
       "      <td>1</td>\n",
       "      <td>8</td>\n",
       "      <td>50</td>\n",
       "      <td>0</td>\n",
       "    </tr>\n",
       "    <tr>\n",
       "      <th>6501</th>\n",
       "      <td>700</td>\n",
       "      <td>Айдар</td>\n",
       "      <td>22</td>\n",
       "      <td>Омск</td>\n",
       "      <td>free</td>\n",
       "      <td>846.932642</td>\n",
       "      <td>16.234663</td>\n",
       "      <td>2021-02-01</td>\n",
       "      <td>2</td>\n",
       "      <td>8</td>\n",
       "      <td>50</td>\n",
       "      <td>0</td>\n",
       "    </tr>\n",
       "    <tr>\n",
       "      <th>6502</th>\n",
       "      <td>700</td>\n",
       "      <td>Айдар</td>\n",
       "      <td>22</td>\n",
       "      <td>Омск</td>\n",
       "      <td>free</td>\n",
       "      <td>4004.434142</td>\n",
       "      <td>20.016628</td>\n",
       "      <td>2021-02-04</td>\n",
       "      <td>2</td>\n",
       "      <td>8</td>\n",
       "      <td>50</td>\n",
       "      <td>0</td>\n",
       "    </tr>\n",
       "    <tr>\n",
       "      <th>6503</th>\n",
       "      <td>700</td>\n",
       "      <td>Айдар</td>\n",
       "      <td>22</td>\n",
       "      <td>Омск</td>\n",
       "      <td>free</td>\n",
       "      <td>1205.911290</td>\n",
       "      <td>9.782872</td>\n",
       "      <td>2021-02-10</td>\n",
       "      <td>2</td>\n",
       "      <td>8</td>\n",
       "      <td>50</td>\n",
       "      <td>0</td>\n",
       "    </tr>\n",
       "    <tr>\n",
       "      <th>6504</th>\n",
       "      <td>700</td>\n",
       "      <td>Айдар</td>\n",
       "      <td>22</td>\n",
       "      <td>Омск</td>\n",
       "      <td>free</td>\n",
       "      <td>3047.379435</td>\n",
       "      <td>17.427673</td>\n",
       "      <td>2021-02-14</td>\n",
       "      <td>2</td>\n",
       "      <td>8</td>\n",
       "      <td>50</td>\n",
       "      <td>0</td>\n",
       "    </tr>\n",
       "  </tbody>\n",
       "</table>\n",
       "</div>"
      ],
      "text/plain": [
       "      user_id   name  age  city subscription_type     distance   duration  \\\n",
       "6500      700  Айдар   22  Омск              free  2515.690719  14.944286   \n",
       "6501      700  Айдар   22  Омск              free   846.932642  16.234663   \n",
       "6502      700  Айдар   22  Омск              free  4004.434142  20.016628   \n",
       "6503      700  Айдар   22  Омск              free  1205.911290   9.782872   \n",
       "6504      700  Айдар   22  Омск              free  3047.379435  17.427673   \n",
       "\n",
       "           date  month  minute_price  start_ride_price  subscription_fee  \n",
       "6500 2021-01-02      1             8                50                 0  \n",
       "6501 2021-02-01      2             8                50                 0  \n",
       "6502 2021-02-04      2             8                50                 0  \n",
       "6503 2021-02-10      2             8                50                 0  \n",
       "6504 2021-02-14      2             8                50                 0  "
      ]
     },
     "execution_count": 39,
     "metadata": {},
     "output_type": "execute_result"
    }
   ],
   "source": [
    "users_without_subscriptions.head()"
   ]
  },
  {
   "cell_type": "code",
   "execution_count": 40,
   "id": "af861e2a",
   "metadata": {},
   "outputs": [],
   "source": [
    "users_with_subscriptions = table_users[table_users['subscription_type'] == 'ultra']"
   ]
  },
  {
   "cell_type": "code",
   "execution_count": 41,
   "id": "2478137a",
   "metadata": {},
   "outputs": [
    {
     "data": {
      "text/html": [
       "<div>\n",
       "<style scoped>\n",
       "    .dataframe tbody tr th:only-of-type {\n",
       "        vertical-align: middle;\n",
       "    }\n",
       "\n",
       "    .dataframe tbody tr th {\n",
       "        vertical-align: top;\n",
       "    }\n",
       "\n",
       "    .dataframe thead th {\n",
       "        text-align: right;\n",
       "    }\n",
       "</style>\n",
       "<table border=\"1\" class=\"dataframe\">\n",
       "  <thead>\n",
       "    <tr style=\"text-align: right;\">\n",
       "      <th></th>\n",
       "      <th>user_id</th>\n",
       "      <th>name</th>\n",
       "      <th>age</th>\n",
       "      <th>city</th>\n",
       "      <th>subscription_type</th>\n",
       "      <th>distance</th>\n",
       "      <th>duration</th>\n",
       "      <th>date</th>\n",
       "      <th>month</th>\n",
       "      <th>minute_price</th>\n",
       "      <th>start_ride_price</th>\n",
       "      <th>subscription_fee</th>\n",
       "    </tr>\n",
       "  </thead>\n",
       "  <tbody>\n",
       "    <tr>\n",
       "      <th>0</th>\n",
       "      <td>1</td>\n",
       "      <td>Кира</td>\n",
       "      <td>22</td>\n",
       "      <td>Тюмень</td>\n",
       "      <td>ultra</td>\n",
       "      <td>4409.919140</td>\n",
       "      <td>25.599769</td>\n",
       "      <td>2021-01-01</td>\n",
       "      <td>1</td>\n",
       "      <td>6</td>\n",
       "      <td>0</td>\n",
       "      <td>199</td>\n",
       "    </tr>\n",
       "    <tr>\n",
       "      <th>1</th>\n",
       "      <td>1</td>\n",
       "      <td>Кира</td>\n",
       "      <td>22</td>\n",
       "      <td>Тюмень</td>\n",
       "      <td>ultra</td>\n",
       "      <td>2617.592153</td>\n",
       "      <td>15.816871</td>\n",
       "      <td>2021-01-18</td>\n",
       "      <td>1</td>\n",
       "      <td>6</td>\n",
       "      <td>0</td>\n",
       "      <td>199</td>\n",
       "    </tr>\n",
       "    <tr>\n",
       "      <th>2</th>\n",
       "      <td>1</td>\n",
       "      <td>Кира</td>\n",
       "      <td>22</td>\n",
       "      <td>Тюмень</td>\n",
       "      <td>ultra</td>\n",
       "      <td>754.159807</td>\n",
       "      <td>6.232113</td>\n",
       "      <td>2021-04-20</td>\n",
       "      <td>4</td>\n",
       "      <td>6</td>\n",
       "      <td>0</td>\n",
       "      <td>199</td>\n",
       "    </tr>\n",
       "    <tr>\n",
       "      <th>3</th>\n",
       "      <td>1</td>\n",
       "      <td>Кира</td>\n",
       "      <td>22</td>\n",
       "      <td>Тюмень</td>\n",
       "      <td>ultra</td>\n",
       "      <td>2694.783254</td>\n",
       "      <td>18.511000</td>\n",
       "      <td>2021-08-11</td>\n",
       "      <td>8</td>\n",
       "      <td>6</td>\n",
       "      <td>0</td>\n",
       "      <td>199</td>\n",
       "    </tr>\n",
       "    <tr>\n",
       "      <th>4</th>\n",
       "      <td>1</td>\n",
       "      <td>Кира</td>\n",
       "      <td>22</td>\n",
       "      <td>Тюмень</td>\n",
       "      <td>ultra</td>\n",
       "      <td>4028.687306</td>\n",
       "      <td>26.265803</td>\n",
       "      <td>2021-08-28</td>\n",
       "      <td>8</td>\n",
       "      <td>6</td>\n",
       "      <td>0</td>\n",
       "      <td>199</td>\n",
       "    </tr>\n",
       "  </tbody>\n",
       "</table>\n",
       "</div>"
      ],
      "text/plain": [
       "   user_id  name  age    city subscription_type     distance   duration  \\\n",
       "0        1  Кира   22  Тюмень             ultra  4409.919140  25.599769   \n",
       "1        1  Кира   22  Тюмень             ultra  2617.592153  15.816871   \n",
       "2        1  Кира   22  Тюмень             ultra   754.159807   6.232113   \n",
       "3        1  Кира   22  Тюмень             ultra  2694.783254  18.511000   \n",
       "4        1  Кира   22  Тюмень             ultra  4028.687306  26.265803   \n",
       "\n",
       "        date  month  minute_price  start_ride_price  subscription_fee  \n",
       "0 2021-01-01      1             6                 0               199  \n",
       "1 2021-01-18      1             6                 0               199  \n",
       "2 2021-04-20      4             6                 0               199  \n",
       "3 2021-08-11      8             6                 0               199  \n",
       "4 2021-08-28      8             6                 0               199  "
      ]
     },
     "execution_count": 41,
     "metadata": {},
     "output_type": "execute_result"
    }
   ],
   "source": [
    "users_with_subscriptions.head()"
   ]
  },
  {
   "cell_type": "code",
   "execution_count": 42,
   "id": "09946a95",
   "metadata": {},
   "outputs": [
    {
     "data": {
      "text/plain": [
       "(6500, 12)"
      ]
     },
     "execution_count": 42,
     "metadata": {},
     "output_type": "execute_result"
    }
   ],
   "source": [
    "users_with_subscriptions.shape"
   ]
  },
  {
   "cell_type": "code",
   "execution_count": 43,
   "id": "660cef91",
   "metadata": {},
   "outputs": [
    {
     "data": {
      "text/plain": [
       "(11568, 12)"
      ]
     },
     "execution_count": 43,
     "metadata": {},
     "output_type": "execute_result"
    }
   ],
   "source": [
    "users_without_subscriptions.shape"
   ]
  },
  {
   "cell_type": "markdown",
   "id": "483101b0",
   "metadata": {},
   "source": [
    "**Визуализируем информацию о расстоянии и времени поездок для пользователей обеих категорий**"
   ]
  },
  {
   "cell_type": "code",
   "execution_count": 44,
   "id": "6ac9900b",
   "metadata": {},
   "outputs": [
    {
     "data": {
      "text/plain": [
       "mean      3045.495282\n",
       "median    3114.648465\n",
       "min          0.855683\n",
       "max       7211.007745\n",
       "Name: distance, dtype: float64"
      ]
     },
     "execution_count": 44,
     "metadata": {},
     "output_type": "execute_result"
    }
   ],
   "source": [
    "users_without_subscriptions['distance'].agg(['mean', 'median','min','max'])"
   ]
  },
  {
   "cell_type": "code",
   "execution_count": 45,
   "id": "4efc016d",
   "metadata": {},
   "outputs": [
    {
     "data": {
      "text/plain": [
       "mean      3115.445388\n",
       "median    3148.637229\n",
       "min        244.210438\n",
       "max       5699.769662\n",
       "Name: distance, dtype: float64"
      ]
     },
     "execution_count": 45,
     "metadata": {},
     "output_type": "execute_result"
    }
   ],
   "source": [
    "users_with_subscriptions['distance'].agg(['mean', 'median','min','max'])"
   ]
  },
  {
   "cell_type": "code",
   "execution_count": 46,
   "id": "23c59997",
   "metadata": {},
   "outputs": [
    {
     "data": {
      "image/png": "[encoded data removed]",
      "text/plain": [
       "<Figure size 720x360 with 2 Axes>"
      ]
     },
     "metadata": {
      "needs_background": "light"
     },
     "output_type": "display_data"
    }
   ],
   "source": [
    "fig, (ax1, ax2) = plt.subplots(nrows=1, ncols=2, figsize=(10, 5))\n",
    "\n",
    "users_without_subscriptions['distance'].plot.hist(ax=ax1, bins=40, alpha=0.5)\n",
    "users_with_subscriptions['distance'].plot.hist(ax=ax2, bins=40, alpha=0.5, color='red')\n",
    "ax1.set_title('Расстояние без подписки')\n",
    "ax1.set_xlabel('Расстояние')\n",
    "ax1.set_ylabel('Количество пользователей')\n",
    "\n",
    "ax2.set_title('Расстояние с подпиской')\n",
    "ax2.set_xlabel('Расстояние')\n",
    "ax2.set_ylabel('Количество пользователей')\n",
    "\n",
    "fig.tight_layout()\n",
    "\n",
    "plt.show()"
   ]
  },
  {
   "cell_type": "code",
   "execution_count": 47,
   "id": "af77fdae",
   "metadata": {},
   "outputs": [
    {
     "data": {
      "text/plain": [
       "mean      18.541985\n",
       "median    18.178153\n",
       "min        3.760353\n",
       "max       40.823963\n",
       "Name: duration, dtype: float64"
      ]
     },
     "execution_count": 47,
     "metadata": {},
     "output_type": "execute_result"
    }
   ],
   "source": [
    "users_with_subscriptions['duration'].agg(['mean', 'median','min','max'])"
   ]
  },
  {
   "cell_type": "code",
   "execution_count": 48,
   "id": "ba772103",
   "metadata": {},
   "outputs": [
    {
     "data": {
      "text/plain": [
       "mean      17.390909\n",
       "median    17.326890\n",
       "min        0.500000\n",
       "max       34.948498\n",
       "Name: duration, dtype: float64"
      ]
     },
     "execution_count": 48,
     "metadata": {},
     "output_type": "execute_result"
    }
   ],
   "source": [
    "users_without_subscriptions['duration'].agg(['mean', 'median','min','max'])"
   ]
  },
  {
   "cell_type": "code",
   "execution_count": 49,
   "id": "69a0bb0c",
   "metadata": {},
   "outputs": [
    {
     "data": {
      "image/png": "[encoded data removed]",
      "text/plain": [
       "<Figure size 720x360 with 2 Axes>"
      ]
     },
     "metadata": {
      "needs_background": "light"
     },
     "output_type": "display_data"
    }
   ],
   "source": [
    "fig, ax = plt.subplots(nrows=1, ncols=2, figsize=(10, 5))\n",
    "fig.suptitle('Продолжительность поездки')\n",
    "\n",
    "users_without_subscriptions['duration'].plot.hist(ax=ax[0], bins=40, alpha=0.5)\n",
    "users_with_subscriptions['duration'].plot.hist(ax=ax[1], bins=40, alpha=0.5, color='red')\n",
    "\n",
    "ax[0].set_title('Время поездки без подписки')\n",
    "ax[0].set_xlabel('Время')\n",
    "ax[0].set_ylabel('Количество пользователей')\n",
    "ax[1].set_title('Время поездки с подписки')\n",
    "ax[1].set_xlabel('Время')\n",
    "ax[1].set_ylabel('Количество пользователей')\n",
    "\n",
    "fig.tight_layout()\n",
    "plt.show()"
   ]
  },
  {
   "cell_type": "markdown",
   "id": "25d287d7",
   "metadata": {},
   "source": [
    "Максимальное расстояние у пользователей без подписки привосходит пользователей с подпиской на полтора километра. Среднее растояние у пользователей с и без подписки одинаковое. На гистограмме видно что присутствуют много пользователей без подписки которые проехали всего около 100 метров, возможно они не поняли как управлять самокатом.\n",
    "\n",
    "По гистограммам можно сделать вывод, что:\n",
    "\n",
    "**Для бесплатного тарифа** среднее время поездки составляет от 10 до 20 минут,растояние от 2 до 5 км\n",
    "\n",
    "**Для тарифа с подпиской** в основном время в промежутке 15 до 25 минут. Пик расстояния приходится на 3км.\n",
    "\n",
    "**Таким образом, можно сделать вывод, что пользователи с бесплатным тарифом в целом совершают более долгие поездки, а также проезжают большее расстояние, чем пользователи на платном тарифе.**"
   ]
  },
  {
   "cell_type": "markdown",
   "id": "402d620f",
   "metadata": {},
   "source": [
    "## Подсчёт выручки"
   ]
  },
  {
   "cell_type": "code",
   "execution_count": 50,
   "id": "c540260c",
   "metadata": {},
   "outputs": [],
   "source": [
    "table_users['duration'] = np.ceil(table_users['duration'])"
   ]
  },
  {
   "cell_type": "code",
   "execution_count": 51,
   "id": "2f679de0",
   "metadata": {},
   "outputs": [
    {
     "data": {
      "text/html": [
       "<div>\n",
       "<style scoped>\n",
       "    .dataframe tbody tr th:only-of-type {\n",
       "        vertical-align: middle;\n",
       "    }\n",
       "\n",
       "    .dataframe tbody tr th {\n",
       "        vertical-align: top;\n",
       "    }\n",
       "\n",
       "    .dataframe thead th {\n",
       "        text-align: right;\n",
       "    }\n",
       "</style>\n",
       "<table border=\"1\" class=\"dataframe\">\n",
       "  <thead>\n",
       "    <tr style=\"text-align: right;\">\n",
       "      <th></th>\n",
       "      <th></th>\n",
       "      <th>distance</th>\n",
       "      <th>duration</th>\n",
       "      <th>total_trips</th>\n",
       "      <th>subscription_type</th>\n",
       "    </tr>\n",
       "    <tr>\n",
       "      <th>month</th>\n",
       "      <th>user_id</th>\n",
       "      <th></th>\n",
       "      <th></th>\n",
       "      <th></th>\n",
       "      <th></th>\n",
       "    </tr>\n",
       "  </thead>\n",
       "  <tbody>\n",
       "    <tr>\n",
       "      <th rowspan=\"5\" valign=\"top\">1</th>\n",
       "      <th>1</th>\n",
       "      <td>7027.511294</td>\n",
       "      <td>42.0</td>\n",
       "      <td>2</td>\n",
       "      <td>ultra</td>\n",
       "    </tr>\n",
       "    <tr>\n",
       "      <th>3</th>\n",
       "      <td>3061.777147</td>\n",
       "      <td>13.0</td>\n",
       "      <td>1</td>\n",
       "      <td>ultra</td>\n",
       "    </tr>\n",
       "    <tr>\n",
       "      <th>5</th>\n",
       "      <td>3914.646990</td>\n",
       "      <td>13.0</td>\n",
       "      <td>1</td>\n",
       "      <td>ultra</td>\n",
       "    </tr>\n",
       "    <tr>\n",
       "      <th>7</th>\n",
       "      <td>6478.080979</td>\n",
       "      <td>28.0</td>\n",
       "      <td>2</td>\n",
       "      <td>ultra</td>\n",
       "    </tr>\n",
       "    <tr>\n",
       "      <th>12</th>\n",
       "      <td>3577.151148</td>\n",
       "      <td>33.0</td>\n",
       "      <td>1</td>\n",
       "      <td>ultra</td>\n",
       "    </tr>\n",
       "    <tr>\n",
       "      <th>...</th>\n",
       "      <th>...</th>\n",
       "      <td>...</td>\n",
       "      <td>...</td>\n",
       "      <td>...</td>\n",
       "      <td>...</td>\n",
       "    </tr>\n",
       "    <tr>\n",
       "      <th rowspan=\"5\" valign=\"top\">12</th>\n",
       "      <th>1525</th>\n",
       "      <td>4597.854350</td>\n",
       "      <td>34.0</td>\n",
       "      <td>1</td>\n",
       "      <td>free</td>\n",
       "    </tr>\n",
       "    <tr>\n",
       "      <th>1526</th>\n",
       "      <td>3644.121544</td>\n",
       "      <td>23.0</td>\n",
       "      <td>1</td>\n",
       "      <td>free</td>\n",
       "    </tr>\n",
       "    <tr>\n",
       "      <th>1528</th>\n",
       "      <td>3998.569324</td>\n",
       "      <td>11.0</td>\n",
       "      <td>1</td>\n",
       "      <td>free</td>\n",
       "    </tr>\n",
       "    <tr>\n",
       "      <th>1532</th>\n",
       "      <td>6111.889853</td>\n",
       "      <td>42.0</td>\n",
       "      <td>2</td>\n",
       "      <td>free</td>\n",
       "    </tr>\n",
       "    <tr>\n",
       "      <th>1534</th>\n",
       "      <td>2371.711192</td>\n",
       "      <td>16.0</td>\n",
       "      <td>1</td>\n",
       "      <td>free</td>\n",
       "    </tr>\n",
       "  </tbody>\n",
       "</table>\n",
       "<p>11331 rows × 4 columns</p>\n",
       "</div>"
      ],
      "text/plain": [
       "                  distance  duration  total_trips subscription_type\n",
       "month user_id                                                      \n",
       "1     1        7027.511294      42.0            2             ultra\n",
       "      3        3061.777147      13.0            1             ultra\n",
       "      5        3914.646990      13.0            1             ultra\n",
       "      7        6478.080979      28.0            2             ultra\n",
       "      12       3577.151148      33.0            1             ultra\n",
       "...                    ...       ...          ...               ...\n",
       "12    1525     4597.854350      34.0            1              free\n",
       "      1526     3644.121544      23.0            1              free\n",
       "      1528     3998.569324      11.0            1              free\n",
       "      1532     6111.889853      42.0            2              free\n",
       "      1534     2371.711192      16.0            1              free\n",
       "\n",
       "[11331 rows x 4 columns]"
      ]
     },
     "execution_count": 51,
     "metadata": {},
     "output_type": "execute_result"
    }
   ],
   "source": [
    "total_data = pd.pivot_table(\n",
    "    table_users,\n",
    "    index=['month', 'user_id'],\n",
    "    values=['distance', 'name', 'duration','subscription_type'],\n",
    "    aggfunc={'distance': 'sum','name': 'count','duration':'sum', 'subscription_type': min}\n",
    ")\n",
    "total_data = total_data.rename(columns={'name': 'total_trips'})\n",
    "total_data"
   ]
  },
  {
   "cell_type": "code",
   "execution_count": 52,
   "id": "c09df3ac",
   "metadata": {},
   "outputs": [],
   "source": [
    "def revenue(row):\n",
    "    if row['subscription_type'] == 'ultra':\n",
    "        return 6 * row['duration'] + 199\n",
    "    elif row['subscription_type'] == 'free':\n",
    "        return 8 * row['duration'] + 50 * row['total_trips']\n",
    "    else:\n",
    "        return 'Not such sub'"
   ]
  },
  {
   "cell_type": "code",
   "execution_count": 53,
   "id": "883edc40",
   "metadata": {},
   "outputs": [],
   "source": [
    "total_data['revenue_per_month'] = total_data.apply(revenue, axis=1)"
   ]
  },
  {
   "cell_type": "code",
   "execution_count": 54,
   "id": "0c93d21d",
   "metadata": {},
   "outputs": [
    {
     "data": {
      "text/html": [
       "<div>\n",
       "<style scoped>\n",
       "    .dataframe tbody tr th:only-of-type {\n",
       "        vertical-align: middle;\n",
       "    }\n",
       "\n",
       "    .dataframe tbody tr th {\n",
       "        vertical-align: top;\n",
       "    }\n",
       "\n",
       "    .dataframe thead th {\n",
       "        text-align: right;\n",
       "    }\n",
       "</style>\n",
       "<table border=\"1\" class=\"dataframe\">\n",
       "  <thead>\n",
       "    <tr style=\"text-align: right;\">\n",
       "      <th></th>\n",
       "      <th></th>\n",
       "      <th>distance</th>\n",
       "      <th>duration</th>\n",
       "      <th>total_trips</th>\n",
       "      <th>subscription_type</th>\n",
       "      <th>revenue_per_month</th>\n",
       "    </tr>\n",
       "    <tr>\n",
       "      <th>month</th>\n",
       "      <th>user_id</th>\n",
       "      <th></th>\n",
       "      <th></th>\n",
       "      <th></th>\n",
       "      <th></th>\n",
       "      <th></th>\n",
       "    </tr>\n",
       "  </thead>\n",
       "  <tbody>\n",
       "    <tr>\n",
       "      <th rowspan=\"5\" valign=\"top\">1</th>\n",
       "      <th>1</th>\n",
       "      <td>7027.511294</td>\n",
       "      <td>42.0</td>\n",
       "      <td>2</td>\n",
       "      <td>ultra</td>\n",
       "      <td>451.0</td>\n",
       "    </tr>\n",
       "    <tr>\n",
       "      <th>3</th>\n",
       "      <td>3061.777147</td>\n",
       "      <td>13.0</td>\n",
       "      <td>1</td>\n",
       "      <td>ultra</td>\n",
       "      <td>277.0</td>\n",
       "    </tr>\n",
       "    <tr>\n",
       "      <th>5</th>\n",
       "      <td>3914.646990</td>\n",
       "      <td>13.0</td>\n",
       "      <td>1</td>\n",
       "      <td>ultra</td>\n",
       "      <td>277.0</td>\n",
       "    </tr>\n",
       "    <tr>\n",
       "      <th>7</th>\n",
       "      <td>6478.080979</td>\n",
       "      <td>28.0</td>\n",
       "      <td>2</td>\n",
       "      <td>ultra</td>\n",
       "      <td>367.0</td>\n",
       "    </tr>\n",
       "    <tr>\n",
       "      <th>12</th>\n",
       "      <td>3577.151148</td>\n",
       "      <td>33.0</td>\n",
       "      <td>1</td>\n",
       "      <td>ultra</td>\n",
       "      <td>397.0</td>\n",
       "    </tr>\n",
       "    <tr>\n",
       "      <th>...</th>\n",
       "      <th>...</th>\n",
       "      <td>...</td>\n",
       "      <td>...</td>\n",
       "      <td>...</td>\n",
       "      <td>...</td>\n",
       "      <td>...</td>\n",
       "    </tr>\n",
       "    <tr>\n",
       "      <th rowspan=\"5\" valign=\"top\">12</th>\n",
       "      <th>1525</th>\n",
       "      <td>4597.854350</td>\n",
       "      <td>34.0</td>\n",
       "      <td>1</td>\n",
       "      <td>free</td>\n",
       "      <td>322.0</td>\n",
       "    </tr>\n",
       "    <tr>\n",
       "      <th>1526</th>\n",
       "      <td>3644.121544</td>\n",
       "      <td>23.0</td>\n",
       "      <td>1</td>\n",
       "      <td>free</td>\n",
       "      <td>234.0</td>\n",
       "    </tr>\n",
       "    <tr>\n",
       "      <th>1528</th>\n",
       "      <td>3998.569324</td>\n",
       "      <td>11.0</td>\n",
       "      <td>1</td>\n",
       "      <td>free</td>\n",
       "      <td>138.0</td>\n",
       "    </tr>\n",
       "    <tr>\n",
       "      <th>1532</th>\n",
       "      <td>6111.889853</td>\n",
       "      <td>42.0</td>\n",
       "      <td>2</td>\n",
       "      <td>free</td>\n",
       "      <td>436.0</td>\n",
       "    </tr>\n",
       "    <tr>\n",
       "      <th>1534</th>\n",
       "      <td>2371.711192</td>\n",
       "      <td>16.0</td>\n",
       "      <td>1</td>\n",
       "      <td>free</td>\n",
       "      <td>178.0</td>\n",
       "    </tr>\n",
       "  </tbody>\n",
       "</table>\n",
       "<p>11331 rows × 5 columns</p>\n",
       "</div>"
      ],
      "text/plain": [
       "                  distance  duration  total_trips subscription_type  \\\n",
       "month user_id                                                         \n",
       "1     1        7027.511294      42.0            2             ultra   \n",
       "      3        3061.777147      13.0            1             ultra   \n",
       "      5        3914.646990      13.0            1             ultra   \n",
       "      7        6478.080979      28.0            2             ultra   \n",
       "      12       3577.151148      33.0            1             ultra   \n",
       "...                    ...       ...          ...               ...   \n",
       "12    1525     4597.854350      34.0            1              free   \n",
       "      1526     3644.121544      23.0            1              free   \n",
       "      1528     3998.569324      11.0            1              free   \n",
       "      1532     6111.889853      42.0            2              free   \n",
       "      1534     2371.711192      16.0            1              free   \n",
       "\n",
       "               revenue_per_month  \n",
       "month user_id                     \n",
       "1     1                    451.0  \n",
       "      3                    277.0  \n",
       "      5                    277.0  \n",
       "      7                    367.0  \n",
       "      12                   397.0  \n",
       "...                          ...  \n",
       "12    1525                 322.0  \n",
       "      1526                 234.0  \n",
       "      1528                 138.0  \n",
       "      1532                 436.0  \n",
       "      1534                 178.0  \n",
       "\n",
       "[11331 rows x 5 columns]"
      ]
     },
     "execution_count": 54,
     "metadata": {},
     "output_type": "execute_result"
    }
   ],
   "source": [
    "total_data"
   ]
  },
  {
   "cell_type": "code",
   "execution_count": 55,
   "id": "abd8e68b",
   "metadata": {},
   "outputs": [
    {
     "data": {
      "text/plain": [
       "month  user_id\n",
       "1      1          451.0\n",
       "       3          277.0\n",
       "       5          277.0\n",
       "       7          367.0\n",
       "       12         397.0\n",
       "       13         451.0\n",
       "       14         409.0\n",
       "       15         433.0\n",
       "       20         373.0\n",
       "       22         277.0\n",
       "       25         301.0\n",
       "       26         367.0\n",
       "       30         349.0\n",
       "       32         349.0\n",
       "       35         541.0\n",
       "       42         337.0\n",
       "       43         487.0\n",
       "       44         313.0\n",
       "       45         361.0\n",
       "       46         319.0\n",
       "Name: revenue_per_month, dtype: float64"
      ]
     },
     "execution_count": 55,
     "metadata": {},
     "output_type": "execute_result"
    }
   ],
   "source": [
    "total_data['revenue_per_month'].head(20)"
   ]
  },
  {
   "cell_type": "code",
   "execution_count": 56,
   "id": "b37e5e46",
   "metadata": {},
   "outputs": [
    {
     "data": {
      "text/html": [
       "<div>\n",
       "<style scoped>\n",
       "    .dataframe tbody tr th:only-of-type {\n",
       "        vertical-align: middle;\n",
       "    }\n",
       "\n",
       "    .dataframe tbody tr th {\n",
       "        vertical-align: top;\n",
       "    }\n",
       "\n",
       "    .dataframe thead th {\n",
       "        text-align: right;\n",
       "    }\n",
       "</style>\n",
       "<table border=\"1\" class=\"dataframe\">\n",
       "  <thead>\n",
       "    <tr style=\"text-align: right;\">\n",
       "      <th></th>\n",
       "      <th>revenue_per_month</th>\n",
       "    </tr>\n",
       "  </thead>\n",
       "  <tbody>\n",
       "    <tr>\n",
       "      <th>min</th>\n",
       "      <td>241.0</td>\n",
       "    </tr>\n",
       "    <tr>\n",
       "      <th>max</th>\n",
       "      <td>535.0</td>\n",
       "    </tr>\n",
       "  </tbody>\n",
       "</table>\n",
       "</div>"
      ],
      "text/plain": [
       "     revenue_per_month\n",
       "min              241.0\n",
       "max              535.0"
      ]
     },
     "execution_count": 56,
     "metadata": {},
     "output_type": "execute_result"
    }
   ],
   "source": [
    "total_data.query('user_id == 1').agg({'revenue_per_month':['min','max']})"
   ]
  },
  {
   "cell_type": "code",
   "execution_count": 57,
   "id": "38a6c938",
   "metadata": {},
   "outputs": [
    {
     "data": {
      "text/html": [
       "<div>\n",
       "<style scoped>\n",
       "    .dataframe tbody tr th:only-of-type {\n",
       "        vertical-align: middle;\n",
       "    }\n",
       "\n",
       "    .dataframe tbody tr th {\n",
       "        vertical-align: top;\n",
       "    }\n",
       "\n",
       "    .dataframe thead th {\n",
       "        text-align: right;\n",
       "    }\n",
       "</style>\n",
       "<table border=\"1\" class=\"dataframe\">\n",
       "  <thead>\n",
       "    <tr style=\"text-align: right;\">\n",
       "      <th></th>\n",
       "      <th>revenue_per_month</th>\n",
       "    </tr>\n",
       "  </thead>\n",
       "  <tbody>\n",
       "    <tr>\n",
       "      <th>min</th>\n",
       "      <td>295.0</td>\n",
       "    </tr>\n",
       "    <tr>\n",
       "      <th>max</th>\n",
       "      <td>475.0</td>\n",
       "    </tr>\n",
       "  </tbody>\n",
       "</table>\n",
       "</div>"
      ],
      "text/plain": [
       "     revenue_per_month\n",
       "min              295.0\n",
       "max              475.0"
      ]
     },
     "execution_count": 57,
     "metadata": {},
     "output_type": "execute_result"
    }
   ],
   "source": [
    "total_data.query('user_id == 46').agg({'revenue_per_month':['min','max']})"
   ]
  },
  {
   "cell_type": "markdown",
   "id": "f8fb37ad",
   "metadata": {},
   "source": [
    "**Создали таблицу на показателях которых расчитали сумму выручки по месяцам. В зависимости от месяца суммы выручки по разным пользователям различаются**"
   ]
  },
  {
   "cell_type": "markdown",
   "id": "41545ac0",
   "metadata": {},
   "source": [
    "## Проверка гипотез"
   ]
  },
  {
   "cell_type": "markdown",
   "id": "9d768f59",
   "metadata": {},
   "source": [
    "Проверим некоторые гипотезы, чтобы сделать выводы как сделать бизнес лучше"
   ]
  },
  {
   "cell_type": "markdown",
   "id": "a9a8f5d7",
   "metadata": {},
   "source": [
    "**Гипотеза : Пользователи с подпиской тратят больше времени на поездки.**\n",
    "\n",
    "**Ho** - пользователи с подпиской и без подписки тратят одинаковое время на поездки\n",
    "\n",
    "**H1** - пользователи с подпиской тратят больше времени на поездки\n",
    "\n",
    "Статистическую значимость возьмем за 5 процентов"
   ]
  },
  {
   "cell_type": "code",
   "execution_count": 58,
   "id": "9cd5fff7",
   "metadata": {
    "scrolled": true
   },
   "outputs": [
    {
     "name": "stdout",
     "output_type": "stream",
     "text": [
      "1.2804098316645618e-34\n",
      "Отвергаем нулевую гипотезу. Значит пользователи с подпиской тратят больше времени на поездки\n"
     ]
    }
   ],
   "source": [
    "from scipy import stats as st\n",
    "ultra = users_with_subscriptions['duration'] \n",
    "\n",
    "free = users_without_subscriptions['duration']\n",
    "\n",
    "results = st.ttest_ind(ultra, \n",
    "                       free,\n",
    "                       alternative = 'greater')\n",
    "\n",
    "alpha = .05\n",
    "\n",
    "print(results.pvalue)\n",
    "\n",
    "if results.pvalue < alpha:\n",
    "    print('Отвергаем нулевую гипотезу. Значит пользователи с подпиской тратят больше времени на поездки')\n",
    "else:\n",
    "    print('Не удалось отвергнуть нулевую гипотезу')"
   ]
  },
  {
   "cell_type": "code",
   "execution_count": 59,
   "id": "7104d92e",
   "metadata": {},
   "outputs": [
    {
     "data": {
      "text/plain": [
       "min          0.500000\n",
       "max         34.948498\n",
       "mean        17.390909\n",
       "median      17.326890\n",
       "<lambda>    12.958437\n",
       "<lambda>    17.326890\n",
       "<lambda>    21.594071\n",
       "Name: duration, dtype: float64"
      ]
     },
     "execution_count": 59,
     "metadata": {},
     "output_type": "execute_result"
    }
   ],
   "source": [
    "users_without_subscriptions['duration'].agg(['min','max', 'mean', 'median', \n",
    "                          lambda x: x.quantile(0.25), \n",
    "                          lambda x: x.quantile(0.50), \n",
    "                          lambda x: x.quantile(0.75)])"
   ]
  },
  {
   "cell_type": "code",
   "execution_count": 60,
   "id": "e63b419b",
   "metadata": {},
   "outputs": [
    {
     "data": {
      "text/plain": [
       "min          3.760353\n",
       "max         40.823963\n",
       "mean        18.541985\n",
       "median      18.178153\n",
       "<lambda>    14.524654\n",
       "<lambda>    18.178153\n",
       "<lambda>    21.884129\n",
       "Name: duration, dtype: float64"
      ]
     },
     "execution_count": 60,
     "metadata": {},
     "output_type": "execute_result"
    }
   ],
   "source": [
    "users_with_subscriptions['duration'].agg(['min','max', 'mean', 'median', \n",
    "                          lambda x: x.quantile(0.25), \n",
    "                          lambda x: x.quantile(0.50), \n",
    "                          lambda x: x.quantile(0.75)])"
   ]
  },
  {
   "cell_type": "markdown",
   "id": "b67532d1",
   "metadata": {},
   "source": [
    "**Действительно пользователи с подпиской тратят больше времени на поездки.**\n",
    "И имеют:\n",
    "\n",
    "* минимальное время 3 минуты, а без подписки полторы минуты\n",
    "* среднее время 18 минут, а без подписки 17 минут\n",
    "* максимальное время 40 минут, а без подписки 34 минуты"
   ]
  },
  {
   "cell_type": "markdown",
   "id": "cf4fe066",
   "metadata": {},
   "source": [
    "**Гипотеза : Среднее расстояние, которое проезжают пользователи с подпиской за одну поездку, превышает 3130 м.**\n",
    "\n",
    "**Ho** - среднее расстояние, которое проезжают пользователи с подпиской за одну поездку,равно 3130 м\n",
    "\n",
    "**H1** - среднее расстояние, которое проезжают пользователи с подпиской за одну поездку, превышает 3130 м\n",
    "\n",
    "Статистическую значимость возьмем за 5 процентов"
   ]
  },
  {
   "cell_type": "code",
   "execution_count": 61,
   "id": "8f05cd81",
   "metadata": {},
   "outputs": [
    {
     "name": "stdout",
     "output_type": "stream",
     "text": [
      "0.9195368847849785\n",
      "Не удалось отвергнуть нулевую гипотезу\n"
     ]
    }
   ],
   "source": [
    "ultra_distance = users_with_subscriptions['distance'] \n",
    "                                   \n",
    "interested_value = 3130                               \n",
    "alpha = 0.05\n",
    "\n",
    "results = st.ttest_1samp(ultra_distance, \n",
    "                         interested_value,\n",
    "                         alternative='greater')\n",
    "\n",
    "print(results.pvalue)  \n",
    "\n",
    "if results.pvalue < alpha:\n",
    "    print('Отвергаем нулевую гипотезу. Значит среднее расстояние, которое проезжают пользователи с подпиской за одну поездку, больше 3130 м')\n",
    "else:\n",
    "    print('Не удалось отвергнуть нулевую гипотезу')"
   ]
  },
  {
   "cell_type": "markdown",
   "id": "53e469a1",
   "metadata": {},
   "source": [
    "**Проверили гипотезу, и мы не можем утверждать, что расстояние, которое проехали пользователи с подпиской  превышает 3130 метров.**"
   ]
  },
  {
   "cell_type": "markdown",
   "id": "e2e052c4",
   "metadata": {},
   "source": [
    "**Гипотеза : Помесячная выручка от пользователей с подпиской по месяцам будет выше, чем выручка от пользователей без подписки.**\n",
    "\n",
    "**Ho** - помесячная выручка от пользователей с подпиской по месяцам будет равна  выручки от пользователей без подписки.\n",
    "\n",
    "**H1** - помесячная выручка от пользователей с подпиской по месяцам будет выше, чем выручка от пользователей без подписки.\n",
    "\n",
    "Статистическую значимость возьмем за 5 процентов"
   ]
  },
  {
   "cell_type": "code",
   "execution_count": 62,
   "id": "7e26fb8b",
   "metadata": {},
   "outputs": [
    {
     "name": "stdout",
     "output_type": "stream",
     "text": [
      "1.8850394384715216e-31\n",
      "Отвергаем нулевую гипотезу. Значит помесячная выручка от пользователей с подпиской по месяцам будет выше, чем выручка от пользователей без подписки.\n"
     ]
    }
   ],
   "source": [
    "ultra_revenue_per_month = total_data.loc[total_data['subscription_type']=='ultra', 'revenue_per_month']\n",
    "                                   \n",
    "free_revenue_per_month =  total_data.loc[total_data['subscription_type']=='free', 'revenue_per_month']                              \n",
    "alpha = 0.05\n",
    "\n",
    "\n",
    "\n",
    "results = st.ttest_ind(ultra_revenue_per_month, \n",
    "                       free_revenue_per_month,\n",
    "                       alternative = 'greater')\n",
    "\n",
    "print(results.pvalue)\n",
    "\n",
    "if results.pvalue < alpha:\n",
    "    print('Отвергаем нулевую гипотезу. Значит помесячная выручка от пользователей с подпиской по месяцам будет выше, чем выручка от пользователей без подписки.')\n",
    "else:\n",
    "    print('Не удалось отвергнуть нулевую гипотезу')"
   ]
  },
  {
   "cell_type": "markdown",
   "id": "d48f2715",
   "metadata": {},
   "source": [
    "**Гипотеза : Количество обращений в техподдержку значимо снизилось, так как техническая команда сервиса обновила сервера, с которыми взаимодействует мобильное приложение.**\n",
    "\n",
    "**H0** - количество обращений в техподдержку после того как  техническая команда сервиса обновила сервера, с которыми взаимодействует мобильное приложение равно количеству обращений в техподдержку до.\n",
    "\n",
    "**H1** - количество обращений в техподдержку значимо снизилось, так как техническая команда сервиса обновила сервера, с которыми взаимодействует мобильное приложение\n",
    "\n",
    "К сожалению тест по проверки гипотез провести невозможно,  так как отсутствуют данные для рассчетов. Но если бы данные были в полном объеме то использовали бы scipy.stats.ttest_rel():парный t-тест - это статистический процедура, используемая для определения, есть ли значимая разница между средними значениями двух групп, в которых наблюдения в каждой группе связаны."
   ]
  },
  {
   "cell_type": "markdown",
   "id": "61213c5e",
   "metadata": {},
   "source": [
    "## Общий вывод"
   ]
  },
  {
   "cell_type": "markdown",
   "id": "0107a0f0",
   "metadata": {},
   "source": [
    "Для исследавания сервиса аренды самокатов GoFast, использовали таблицы, в которых есть информация о пользователях, их поездках и подписках.\n",
    "\n",
    "**На этапе предобработки данных** выяснили, что пропущенных данных в таблицах нет. Дубликаты имеются среди пользователей и их 31, мы их удалили. В таблице с информацией о поездках и подписках дубликатов нет. Также мы приобразовали столбец с датой в таблице rides в тип даты и добавили в таблицу rides столбец month с номер месяца.\n",
    "\n",
    "**На этапе исследования данных** обнаружили, что:\n",
    "\n",
    "Пользоветели арендой самокатов распределены равномерно по всем городам\n",
    "\n",
    "Пользователей, которые используют бесплатную подписку больше и их 835 человека. 54.4% пользователей без подписок и 45.6 с подпиской.\n",
    "\n",
    "Возраст пользователей распределен от 12 до 43 лет. Наиболее активные пользователи от 20-30 лет.\n",
    "\n",
    "Расстояние, которое пользователь преодолел за одну поездку: в среднем 3 км. Минимальное растояние - 0.86 км. Самая длинная - 7.2 км.\n",
    "\n",
    "Продолжительность поездок: в среднем 17.68 минут. Минимальное время 50 секунд.Скорее всего или самокат был сломан или пользватель передумал пользоваться. Максимальное время поездки 40 минут.\n",
    "\n",
    "\n",
    "**На этапе объединения данных** определили, что максимальное расстояние у пользователей без подписки привосходит пользователей с подпиской на полтора километра. Среднее растояние у пользователей с и без подписки одинаковое. Нарисовали гистограмму по которой видно что присутствуют много пользователей без подписки которые проехали всего около 100 метров, возможно они не поняли как управлять самокатом.\n",
    "\n",
    "По гистограммам можно сделать вывод, что:\n",
    "\n",
    "Для бесплатного тарифа среднее время поездки составляет от 10 до 20 минут,растояние от 2 до 5 км\n",
    "\n",
    "Для тарифа с подпиской в основном время в промежутке 15 до 25 минут. Пик расстояния приходится на 3км.\n",
    "\n",
    "Таким образом, можно сделать вывод, что пользователи с бесплатным тарифом в целом совершают более долгие поездки, а также проезжают большее расстояние, чем пользователи на платном тарифе.\n",
    "\n",
    "**На этапе подсчёта выручки** cоздали таблицу на показателях которых расчитали сумму выручки по месяцам. В зависимости от месяца суммы выручки по разным пользователям различаются\n",
    "\n",
    "**На этапе проверки гипотез**\n",
    "\n",
    "Отвергли 0 гипотезу и сделали вывод, что пользователи с подпиской тратят больше времени на поездки, чем пользователи на бесплатном тарифе\n",
    "\n",
    "Не удалось отвергнуть нулевую гипотезу. Мы не можем утверждать, что расстояние, которое проехали пользователи с подпиской превышает 3130 метров.\n",
    "\n",
    "Отвергли 0 гипотезу и сделали вывод, что помесячная выручка от пользователей с подпиской выше, чем выручка от пользователей без подписки.\n",
    "\n",
    "**Исходя из исследования важно увеличить количество пользователей с подпиской, чтобы увеличить выручку.**\n",
    "\n"
   ]
  }
 ],
 "metadata": {
  "ExecuteTimeLog": [
   {
    "duration": 96,
    "start_time": "2023-09-26T07:08:46.016Z"
   },
   {
    "duration": 874,
    "start_time": "2023-09-26T07:31:36.785Z"
   },
   {
    "duration": 16,
    "start_time": "2023-09-26T07:32:12.294Z"
   },
   {
    "duration": 90,
    "start_time": "2023-09-26T07:36:35.106Z"
   },
   {
    "duration": 145,
    "start_time": "2023-09-26T07:36:50.070Z"
   },
   {
    "duration": 13,
    "start_time": "2023-09-26T07:37:25.504Z"
   },
   {
    "duration": 8,
    "start_time": "2023-09-26T07:37:27.488Z"
   },
   {
    "duration": 7,
    "start_time": "2023-09-26T07:37:41.492Z"
   },
   {
    "duration": 12,
    "start_time": "2023-09-26T07:41:27.982Z"
   },
   {
    "duration": 381,
    "start_time": "2023-09-26T07:42:55.483Z"
   },
   {
    "duration": 99,
    "start_time": "2023-09-26T07:46:21.491Z"
   },
   {
    "duration": 1057,
    "start_time": "2023-09-26T10:10:11.487Z"
   },
   {
    "duration": 11,
    "start_time": "2023-09-26T10:18:53.983Z"
   },
   {
    "duration": 14,
    "start_time": "2023-09-26T10:18:59.901Z"
   },
   {
    "duration": 72,
    "start_time": "2023-09-26T10:19:48.800Z"
   },
   {
    "duration": 12,
    "start_time": "2023-09-26T10:19:52.462Z"
   },
   {
    "duration": 11,
    "start_time": "2023-09-26T10:20:10.057Z"
   },
   {
    "duration": 1408,
    "start_time": "2023-09-26T10:24:15.606Z"
   },
   {
    "duration": 1109,
    "start_time": "2023-09-26T10:24:36.621Z"
   },
   {
    "duration": 891,
    "start_time": "2023-09-26T10:24:49.334Z"
   },
   {
    "duration": 7,
    "start_time": "2023-09-26T10:25:07.614Z"
   },
   {
    "duration": 12,
    "start_time": "2023-09-26T10:27:01.316Z"
   },
   {
    "duration": 12,
    "start_time": "2023-09-26T10:27:22.219Z"
   },
   {
    "duration": 12,
    "start_time": "2023-09-26T10:27:27.521Z"
   },
   {
    "duration": 113,
    "start_time": "2023-09-26T10:29:44.053Z"
   },
   {
    "duration": 81,
    "start_time": "2023-09-26T10:36:33.012Z"
   },
   {
    "duration": 103,
    "start_time": "2023-09-26T10:36:40.365Z"
   },
   {
    "duration": 1638,
    "start_time": "2023-09-26T10:37:09.565Z"
   },
   {
    "duration": 14,
    "start_time": "2023-09-26T10:37:37.194Z"
   },
   {
    "duration": 6,
    "start_time": "2023-09-26T10:37:39.938Z"
   },
   {
    "duration": 10,
    "start_time": "2023-09-26T10:37:44.814Z"
   },
   {
    "duration": 9,
    "start_time": "2023-09-26T10:38:00.904Z"
   },
   {
    "duration": 11,
    "start_time": "2023-09-26T10:38:33.795Z"
   },
   {
    "duration": 14,
    "start_time": "2023-09-26T10:42:58.674Z"
   },
   {
    "duration": 11,
    "start_time": "2023-09-26T10:47:10.071Z"
   },
   {
    "duration": 10,
    "start_time": "2023-09-26T10:50:55.449Z"
   },
   {
    "duration": 336,
    "start_time": "2023-09-26T10:51:28.278Z"
   },
   {
    "duration": 11,
    "start_time": "2023-09-26T10:51:51.999Z"
   },
   {
    "duration": 90,
    "start_time": "2023-09-26T10:52:17.226Z"
   },
   {
    "duration": 10,
    "start_time": "2023-09-26T10:52:43.667Z"
   },
   {
    "duration": 203,
    "start_time": "2023-09-26T10:53:04.487Z"
   },
   {
    "duration": 79,
    "start_time": "2023-09-26T10:53:55.167Z"
   },
   {
    "duration": 10,
    "start_time": "2023-09-26T10:54:38.078Z"
   },
   {
    "duration": 10,
    "start_time": "2023-09-26T10:54:51.310Z"
   },
   {
    "duration": 7,
    "start_time": "2023-09-26T10:56:49.270Z"
   },
   {
    "duration": 6,
    "start_time": "2023-09-26T10:56:53.810Z"
   },
   {
    "duration": 6,
    "start_time": "2023-09-26T10:57:00.511Z"
   },
   {
    "duration": 5,
    "start_time": "2023-09-26T10:57:24.778Z"
   },
   {
    "duration": 12,
    "start_time": "2023-09-26T10:57:57.950Z"
   },
   {
    "duration": 7,
    "start_time": "2023-09-26T10:58:14.479Z"
   },
   {
    "duration": 5,
    "start_time": "2023-09-26T10:59:06.223Z"
   },
   {
    "duration": 14,
    "start_time": "2023-09-26T10:59:15.537Z"
   },
   {
    "duration": 18,
    "start_time": "2023-09-26T11:00:14.631Z"
   },
   {
    "duration": 7,
    "start_time": "2023-09-26T11:07:32.412Z"
   },
   {
    "duration": 9,
    "start_time": "2023-09-26T11:07:59.700Z"
   },
   {
    "duration": 5,
    "start_time": "2023-09-26T11:08:23.430Z"
   },
   {
    "duration": 10,
    "start_time": "2023-09-26T11:08:26.818Z"
   },
   {
    "duration": 8,
    "start_time": "2023-09-26T11:10:08.999Z"
   },
   {
    "duration": 5,
    "start_time": "2023-09-26T11:11:12.028Z"
   },
   {
    "duration": 4,
    "start_time": "2023-09-26T11:13:51.153Z"
   },
   {
    "duration": 7,
    "start_time": "2023-09-26T11:14:41.225Z"
   },
   {
    "duration": 6,
    "start_time": "2023-09-26T11:15:43.378Z"
   },
   {
    "duration": 8,
    "start_time": "2023-09-26T11:15:57.832Z"
   },
   {
    "duration": 6,
    "start_time": "2023-09-26T11:16:11.534Z"
   },
   {
    "duration": 90,
    "start_time": "2023-09-26T11:16:50.889Z"
   },
   {
    "duration": 56,
    "start_time": "2023-09-26T14:12:54.941Z"
   },
   {
    "duration": 1098,
    "start_time": "2023-09-26T14:13:22.472Z"
   },
   {
    "duration": 13,
    "start_time": "2023-09-26T14:13:23.573Z"
   },
   {
    "duration": 11,
    "start_time": "2023-09-26T14:13:23.587Z"
   },
   {
    "duration": 25,
    "start_time": "2023-09-26T14:13:23.600Z"
   },
   {
    "duration": 11,
    "start_time": "2023-09-26T14:13:23.627Z"
   },
   {
    "duration": 12,
    "start_time": "2023-09-26T14:13:23.639Z"
   },
   {
    "duration": 9,
    "start_time": "2023-09-26T14:13:23.653Z"
   },
   {
    "duration": 6,
    "start_time": "2023-09-26T14:13:23.664Z"
   },
   {
    "duration": 12,
    "start_time": "2023-09-26T14:13:23.672Z"
   },
   {
    "duration": 8,
    "start_time": "2023-09-26T14:13:23.685Z"
   },
   {
    "duration": 16,
    "start_time": "2023-09-26T14:13:23.694Z"
   },
   {
    "duration": 10,
    "start_time": "2023-09-26T14:13:23.711Z"
   },
   {
    "duration": 30,
    "start_time": "2023-09-26T14:13:23.722Z"
   },
   {
    "duration": 8,
    "start_time": "2023-09-26T14:13:23.755Z"
   },
   {
    "duration": 6,
    "start_time": "2023-09-26T14:13:23.765Z"
   },
   {
    "duration": 8,
    "start_time": "2023-09-26T14:13:23.773Z"
   },
   {
    "duration": 6,
    "start_time": "2023-09-26T14:13:23.782Z"
   },
   {
    "duration": 6,
    "start_time": "2023-09-26T14:13:23.790Z"
   },
   {
    "duration": 78,
    "start_time": "2023-09-26T14:13:23.797Z"
   },
   {
    "duration": 0,
    "start_time": "2023-09-26T14:13:23.877Z"
   },
   {
    "duration": 7,
    "start_time": "2023-09-26T14:13:38.384Z"
   },
   {
    "duration": 86,
    "start_time": "2023-09-26T14:28:47.535Z"
   },
   {
    "duration": 8,
    "start_time": "2023-09-26T14:28:54.756Z"
   },
   {
    "duration": 8,
    "start_time": "2023-09-26T14:29:00.987Z"
   },
   {
    "duration": 8,
    "start_time": "2023-09-26T14:29:33.714Z"
   },
   {
    "duration": 119,
    "start_time": "2023-09-26T14:32:05.706Z"
   },
   {
    "duration": 8,
    "start_time": "2023-09-26T14:32:27.372Z"
   },
   {
    "duration": 8,
    "start_time": "2023-09-26T14:33:06.628Z"
   },
   {
    "duration": 7,
    "start_time": "2023-09-26T14:33:20.934Z"
   },
   {
    "duration": 12,
    "start_time": "2023-09-26T14:33:30.110Z"
   },
   {
    "duration": 8,
    "start_time": "2023-09-26T14:34:16.804Z"
   },
   {
    "duration": 50,
    "start_time": "2023-09-26T15:57:28.545Z"
   },
   {
    "duration": 1056,
    "start_time": "2023-09-26T15:57:39.676Z"
   },
   {
    "duration": 13,
    "start_time": "2023-09-26T15:57:40.734Z"
   },
   {
    "duration": 12,
    "start_time": "2023-09-26T15:57:40.749Z"
   },
   {
    "duration": 11,
    "start_time": "2023-09-26T15:57:40.763Z"
   },
   {
    "duration": 15,
    "start_time": "2023-09-26T15:57:40.778Z"
   },
   {
    "duration": 12,
    "start_time": "2023-09-26T15:57:40.795Z"
   },
   {
    "duration": 12,
    "start_time": "2023-09-26T15:57:40.809Z"
   },
   {
    "duration": 12,
    "start_time": "2023-09-26T15:57:40.823Z"
   },
   {
    "duration": 23,
    "start_time": "2023-09-26T15:57:40.837Z"
   },
   {
    "duration": 23,
    "start_time": "2023-09-26T15:57:40.863Z"
   },
   {
    "duration": 13,
    "start_time": "2023-09-26T15:57:40.889Z"
   },
   {
    "duration": 20,
    "start_time": "2023-09-26T15:57:40.904Z"
   },
   {
    "duration": 13,
    "start_time": "2023-09-26T15:57:40.926Z"
   },
   {
    "duration": 10,
    "start_time": "2023-09-26T15:57:40.942Z"
   },
   {
    "duration": 9,
    "start_time": "2023-09-26T15:57:40.954Z"
   },
   {
    "duration": 21,
    "start_time": "2023-09-26T15:57:40.965Z"
   },
   {
    "duration": 7,
    "start_time": "2023-09-26T15:57:40.988Z"
   },
   {
    "duration": 15,
    "start_time": "2023-09-26T15:57:40.997Z"
   },
   {
    "duration": 23,
    "start_time": "2023-09-26T15:57:41.014Z"
   },
   {
    "duration": 80,
    "start_time": "2023-09-26T15:57:41.038Z"
   },
   {
    "duration": 107,
    "start_time": "2023-09-26T15:59:59.724Z"
   },
   {
    "duration": 125,
    "start_time": "2023-09-26T16:00:20.574Z"
   },
   {
    "duration": 1480,
    "start_time": "2023-09-26T16:02:53.347Z"
   },
   {
    "duration": 7,
    "start_time": "2023-09-26T16:03:01.823Z"
   },
   {
    "duration": 113,
    "start_time": "2023-09-26T16:03:17.670Z"
   },
   {
    "duration": 11,
    "start_time": "2023-09-26T16:16:25.909Z"
   },
   {
    "duration": 20,
    "start_time": "2023-09-26T16:16:34.320Z"
   },
   {
    "duration": 11,
    "start_time": "2023-09-26T16:24:33.002Z"
   },
   {
    "duration": 19,
    "start_time": "2023-09-26T16:24:35.385Z"
   },
   {
    "duration": 11,
    "start_time": "2023-09-26T16:26:02.906Z"
   },
   {
    "duration": 21,
    "start_time": "2023-09-26T16:26:11.699Z"
   },
   {
    "duration": 14,
    "start_time": "2023-09-26T16:27:15.118Z"
   },
   {
    "duration": 111,
    "start_time": "2023-09-26T16:36:07.982Z"
   },
   {
    "duration": 13,
    "start_time": "2023-09-26T16:43:37.529Z"
   },
   {
    "duration": 12,
    "start_time": "2023-09-26T16:43:41.876Z"
   },
   {
    "duration": 92,
    "start_time": "2023-09-26T16:47:45.616Z"
   },
   {
    "duration": 8,
    "start_time": "2023-09-26T16:47:51.583Z"
   },
   {
    "duration": 6,
    "start_time": "2023-09-26T16:48:17.284Z"
   },
   {
    "duration": 13,
    "start_time": "2023-09-26T16:48:27.330Z"
   },
   {
    "duration": 6,
    "start_time": "2023-09-26T16:48:53.829Z"
   },
   {
    "duration": 12,
    "start_time": "2023-09-26T16:49:07.917Z"
   },
   {
    "duration": 14,
    "start_time": "2023-09-26T16:49:27.009Z"
   },
   {
    "duration": 14,
    "start_time": "2023-09-26T16:49:38.252Z"
   },
   {
    "duration": 4,
    "start_time": "2023-09-26T16:49:41.347Z"
   },
   {
    "duration": 4,
    "start_time": "2023-09-26T16:49:54.961Z"
   },
   {
    "duration": 132,
    "start_time": "2023-09-26T17:01:49.321Z"
   },
   {
    "duration": 6,
    "start_time": "2023-09-26T17:14:50.358Z"
   },
   {
    "duration": 8,
    "start_time": "2023-09-26T17:15:12.608Z"
   },
   {
    "duration": 149,
    "start_time": "2023-09-26T17:15:25.306Z"
   },
   {
    "duration": 8,
    "start_time": "2023-09-26T17:16:31.641Z"
   },
   {
    "duration": 206,
    "start_time": "2023-09-26T17:17:06.395Z"
   },
   {
    "duration": 151,
    "start_time": "2023-09-26T17:17:11.466Z"
   },
   {
    "duration": 146,
    "start_time": "2023-09-26T17:18:55.653Z"
   },
   {
    "duration": 160,
    "start_time": "2023-09-26T17:19:01.114Z"
   },
   {
    "duration": 201,
    "start_time": "2023-09-26T17:19:12.269Z"
   },
   {
    "duration": 5,
    "start_time": "2023-09-26T17:43:27.333Z"
   },
   {
    "duration": 4,
    "start_time": "2023-09-26T17:43:33.420Z"
   },
   {
    "duration": 4,
    "start_time": "2023-09-26T17:43:41.092Z"
   },
   {
    "duration": 4,
    "start_time": "2023-09-26T17:46:38.576Z"
   },
   {
    "duration": 12,
    "start_time": "2023-09-26T17:46:59.548Z"
   },
   {
    "duration": 109,
    "start_time": "2023-09-27T07:53:50.202Z"
   },
   {
    "duration": 1115,
    "start_time": "2023-09-27T07:54:22.390Z"
   },
   {
    "duration": 13,
    "start_time": "2023-09-27T07:54:23.507Z"
   },
   {
    "duration": 8,
    "start_time": "2023-09-27T07:54:23.522Z"
   },
   {
    "duration": 20,
    "start_time": "2023-09-27T07:54:23.532Z"
   },
   {
    "duration": 16,
    "start_time": "2023-09-27T07:54:23.555Z"
   },
   {
    "duration": 16,
    "start_time": "2023-09-27T07:54:23.573Z"
   },
   {
    "duration": 7,
    "start_time": "2023-09-27T07:54:23.591Z"
   },
   {
    "duration": 6,
    "start_time": "2023-09-27T07:54:23.600Z"
   },
   {
    "duration": 10,
    "start_time": "2023-09-27T07:54:23.607Z"
   },
   {
    "duration": 17,
    "start_time": "2023-09-27T07:54:23.647Z"
   },
   {
    "duration": 9,
    "start_time": "2023-09-27T07:54:23.667Z"
   },
   {
    "duration": 14,
    "start_time": "2023-09-27T07:54:23.678Z"
   },
   {
    "duration": 14,
    "start_time": "2023-09-27T07:54:23.694Z"
   },
   {
    "duration": 7,
    "start_time": "2023-09-27T07:54:23.709Z"
   },
   {
    "duration": 10,
    "start_time": "2023-09-27T07:54:23.718Z"
   },
   {
    "duration": 26,
    "start_time": "2023-09-27T07:54:23.730Z"
   },
   {
    "duration": 8,
    "start_time": "2023-09-27T07:54:23.758Z"
   },
   {
    "duration": 11,
    "start_time": "2023-09-27T07:54:23.767Z"
   },
   {
    "duration": 7,
    "start_time": "2023-09-27T07:54:23.780Z"
   },
   {
    "duration": 6,
    "start_time": "2023-09-27T07:54:23.789Z"
   },
   {
    "duration": 83,
    "start_time": "2023-09-27T07:54:23.797Z"
   },
   {
    "duration": 0,
    "start_time": "2023-09-27T07:54:23.881Z"
   },
   {
    "duration": 0,
    "start_time": "2023-09-27T07:54:23.883Z"
   },
   {
    "duration": 0,
    "start_time": "2023-09-27T07:54:23.884Z"
   },
   {
    "duration": 0,
    "start_time": "2023-09-27T07:54:23.886Z"
   },
   {
    "duration": 0,
    "start_time": "2023-09-27T07:54:23.887Z"
   },
   {
    "duration": 0,
    "start_time": "2023-09-27T07:54:23.889Z"
   },
   {
    "duration": 0,
    "start_time": "2023-09-27T07:54:23.891Z"
   },
   {
    "duration": 0,
    "start_time": "2023-09-27T07:54:23.892Z"
   },
   {
    "duration": 0,
    "start_time": "2023-09-27T07:54:23.893Z"
   },
   {
    "duration": 0,
    "start_time": "2023-09-27T07:54:23.895Z"
   },
   {
    "duration": 0,
    "start_time": "2023-09-27T07:54:23.896Z"
   },
   {
    "duration": 126,
    "start_time": "2023-09-27T07:54:47.295Z"
   },
   {
    "duration": 136,
    "start_time": "2023-09-27T07:54:55.706Z"
   },
   {
    "duration": 151,
    "start_time": "2023-09-27T07:55:23.359Z"
   },
   {
    "duration": 168,
    "start_time": "2023-09-27T07:55:29.216Z"
   },
   {
    "duration": 216,
    "start_time": "2023-09-27T07:55:35.193Z"
   },
   {
    "duration": 135,
    "start_time": "2023-09-27T07:55:40.774Z"
   },
   {
    "duration": 149,
    "start_time": "2023-09-27T08:00:39.143Z"
   },
   {
    "duration": 235,
    "start_time": "2023-09-27T08:06:24.376Z"
   },
   {
    "duration": 88,
    "start_time": "2023-09-27T08:07:57.942Z"
   },
   {
    "duration": 153,
    "start_time": "2023-09-27T08:08:07.573Z"
   },
   {
    "duration": 97,
    "start_time": "2023-09-27T08:10:56.739Z"
   },
   {
    "duration": 79,
    "start_time": "2023-09-27T08:14:44.186Z"
   },
   {
    "duration": 71,
    "start_time": "2023-09-27T08:20:56.506Z"
   },
   {
    "duration": 72,
    "start_time": "2023-09-27T08:21:55.184Z"
   },
   {
    "duration": 7,
    "start_time": "2023-09-27T08:23:06.564Z"
   },
   {
    "duration": 4,
    "start_time": "2023-09-27T08:23:25.904Z"
   },
   {
    "duration": 6,
    "start_time": "2023-09-27T08:23:30.294Z"
   },
   {
    "duration": 5,
    "start_time": "2023-09-27T08:25:09.166Z"
   },
   {
    "duration": 7,
    "start_time": "2023-09-27T08:25:13.631Z"
   },
   {
    "duration": 7,
    "start_time": "2023-09-27T08:26:18.454Z"
   },
   {
    "duration": 11,
    "start_time": "2023-09-27T08:26:23.652Z"
   },
   {
    "duration": 88,
    "start_time": "2023-09-27T08:28:53.752Z"
   },
   {
    "duration": 1616,
    "start_time": "2023-09-27T08:38:30.191Z"
   },
   {
    "duration": 5,
    "start_time": "2023-09-27T08:38:42.669Z"
   },
   {
    "duration": 8,
    "start_time": "2023-09-27T08:40:44.375Z"
   },
   {
    "duration": 6,
    "start_time": "2023-09-27T08:40:58.853Z"
   },
   {
    "duration": 4,
    "start_time": "2023-09-27T08:42:46.750Z"
   },
   {
    "duration": 4,
    "start_time": "2023-09-27T08:43:31.493Z"
   },
   {
    "duration": 60,
    "start_time": "2023-09-27T08:44:07.185Z"
   },
   {
    "duration": 78,
    "start_time": "2023-09-27T08:46:28.638Z"
   },
   {
    "duration": 11,
    "start_time": "2023-09-27T08:46:34.937Z"
   },
   {
    "duration": 80,
    "start_time": "2023-09-27T08:47:42.414Z"
   },
   {
    "duration": 10,
    "start_time": "2023-09-27T08:47:57.053Z"
   },
   {
    "duration": 79,
    "start_time": "2023-09-27T08:48:07.620Z"
   },
   {
    "duration": 92,
    "start_time": "2023-09-27T08:48:31.469Z"
   },
   {
    "duration": 71,
    "start_time": "2023-09-27T08:48:54.967Z"
   },
   {
    "duration": 119,
    "start_time": "2023-09-27T08:49:30.323Z"
   },
   {
    "duration": 134,
    "start_time": "2023-09-27T08:49:37.359Z"
   },
   {
    "duration": 83,
    "start_time": "2023-09-27T08:50:50.902Z"
   },
   {
    "duration": 164,
    "start_time": "2023-09-27T08:51:40.237Z"
   },
   {
    "duration": 99,
    "start_time": "2023-09-27T08:51:58.878Z"
   },
   {
    "duration": 106,
    "start_time": "2023-09-27T08:52:38.784Z"
   },
   {
    "duration": 98,
    "start_time": "2023-09-27T08:53:06.606Z"
   },
   {
    "duration": 108,
    "start_time": "2023-09-27T08:53:37.517Z"
   },
   {
    "duration": 99,
    "start_time": "2023-09-27T08:53:47.531Z"
   },
   {
    "duration": 111,
    "start_time": "2023-09-27T08:53:54.292Z"
   },
   {
    "duration": 193,
    "start_time": "2023-09-27T08:54:01.685Z"
   },
   {
    "duration": 116,
    "start_time": "2023-09-27T08:54:05.867Z"
   },
   {
    "duration": 105,
    "start_time": "2023-09-27T08:54:51.565Z"
   },
   {
    "duration": 4,
    "start_time": "2023-09-27T08:56:51.971Z"
   },
   {
    "duration": 4,
    "start_time": "2023-09-27T08:56:53.719Z"
   },
   {
    "duration": 94,
    "start_time": "2023-09-27T08:56:55.421Z"
   },
   {
    "duration": 110,
    "start_time": "2023-09-27T10:18:49.433Z"
   },
   {
    "duration": 12,
    "start_time": "2023-09-27T10:20:09.048Z"
   },
   {
    "duration": 9,
    "start_time": "2023-09-27T10:20:15.041Z"
   },
   {
    "duration": 8,
    "start_time": "2023-09-27T10:20:29.240Z"
   },
   {
    "duration": 5,
    "start_time": "2023-09-27T10:20:38.835Z"
   },
   {
    "duration": 239,
    "start_time": "2023-09-27T10:24:55.968Z"
   },
   {
    "duration": 8,
    "start_time": "2023-09-27T10:25:15.224Z"
   },
   {
    "duration": 9,
    "start_time": "2023-09-27T10:25:44.822Z"
   },
   {
    "duration": 289,
    "start_time": "2023-09-27T10:26:09.038Z"
   },
   {
    "duration": 211,
    "start_time": "2023-09-27T10:27:10.295Z"
   },
   {
    "duration": 212,
    "start_time": "2023-09-27T10:28:11.781Z"
   },
   {
    "duration": 226,
    "start_time": "2023-09-27T10:28:51.798Z"
   },
   {
    "duration": 217,
    "start_time": "2023-09-27T10:29:08.756Z"
   },
   {
    "duration": 250,
    "start_time": "2023-09-27T10:29:46.236Z"
   },
   {
    "duration": 77,
    "start_time": "2023-09-27T10:31:03.619Z"
   },
   {
    "duration": 254,
    "start_time": "2023-09-27T10:31:21.288Z"
   },
   {
    "duration": 285,
    "start_time": "2023-09-27T10:31:47.413Z"
   },
   {
    "duration": 10,
    "start_time": "2023-09-27T10:36:10.518Z"
   },
   {
    "duration": 270,
    "start_time": "2023-09-27T10:37:23.396Z"
   },
   {
    "duration": 343,
    "start_time": "2023-09-27T11:09:52.733Z"
   },
   {
    "duration": 580,
    "start_time": "2023-09-27T11:10:34.659Z"
   },
   {
    "duration": 155,
    "start_time": "2023-09-27T11:10:54.331Z"
   },
   {
    "duration": 140,
    "start_time": "2023-09-27T11:13:37.723Z"
   },
   {
    "duration": 142,
    "start_time": "2023-09-27T11:14:39.295Z"
   },
   {
    "duration": 185,
    "start_time": "2023-09-27T11:14:46.683Z"
   },
   {
    "duration": 170,
    "start_time": "2023-09-27T11:15:04.118Z"
   },
   {
    "duration": 239,
    "start_time": "2023-09-27T11:15:08.575Z"
   },
   {
    "duration": 148,
    "start_time": "2023-09-27T11:15:14.644Z"
   },
   {
    "duration": 136,
    "start_time": "2023-09-27T11:17:56.868Z"
   },
   {
    "duration": 189,
    "start_time": "2023-09-27T11:18:26.242Z"
   },
   {
    "duration": 89,
    "start_time": "2023-09-27T11:19:28.970Z"
   },
   {
    "duration": 216,
    "start_time": "2023-09-27T11:19:34.131Z"
   },
   {
    "duration": 162,
    "start_time": "2023-09-27T11:19:49.923Z"
   },
   {
    "duration": 161,
    "start_time": "2023-09-27T11:20:07.074Z"
   },
   {
    "duration": 238,
    "start_time": "2023-09-27T11:20:13.753Z"
   },
   {
    "duration": 180,
    "start_time": "2023-09-27T11:20:26.878Z"
   },
   {
    "duration": 149,
    "start_time": "2023-09-27T11:20:59.004Z"
   },
   {
    "duration": 344,
    "start_time": "2023-09-27T11:21:35.095Z"
   },
   {
    "duration": 11,
    "start_time": "2023-09-27T11:23:34.834Z"
   },
   {
    "duration": 12,
    "start_time": "2023-09-27T11:25:37.925Z"
   },
   {
    "duration": 199,
    "start_time": "2023-09-27T11:25:49.026Z"
   },
   {
    "duration": 102,
    "start_time": "2023-09-27T11:27:03.794Z"
   },
   {
    "duration": 112,
    "start_time": "2023-09-27T11:27:54.254Z"
   },
   {
    "duration": 140,
    "start_time": "2023-09-27T11:28:25.120Z"
   },
   {
    "duration": 169,
    "start_time": "2023-09-27T11:28:34.267Z"
   },
   {
    "duration": 141,
    "start_time": "2023-09-27T11:28:43.817Z"
   },
   {
    "duration": 88,
    "start_time": "2023-09-27T11:33:10.126Z"
   },
   {
    "duration": 6,
    "start_time": "2023-09-27T11:36:46.346Z"
   },
   {
    "duration": 7,
    "start_time": "2023-09-27T11:41:53.936Z"
   },
   {
    "duration": 8,
    "start_time": "2023-09-27T11:42:05.243Z"
   },
   {
    "duration": 8,
    "start_time": "2023-09-27T11:42:25.569Z"
   },
   {
    "duration": 10,
    "start_time": "2023-09-27T11:47:57.205Z"
   },
   {
    "duration": 145,
    "start_time": "2023-09-27T11:55:01.661Z"
   },
   {
    "duration": 143,
    "start_time": "2023-09-27T11:55:22.753Z"
   },
   {
    "duration": 688,
    "start_time": "2023-09-27T11:56:29.369Z"
   },
   {
    "duration": 16,
    "start_time": "2023-09-27T11:56:30.059Z"
   },
   {
    "duration": 103,
    "start_time": "2023-09-27T11:56:30.077Z"
   },
   {
    "duration": 125,
    "start_time": "2023-09-27T11:56:30.182Z"
   },
   {
    "duration": 128,
    "start_time": "2023-09-27T11:56:30.309Z"
   },
   {
    "duration": 119,
    "start_time": "2023-09-27T11:56:30.439Z"
   },
   {
    "duration": 110,
    "start_time": "2023-09-27T11:56:30.559Z"
   },
   {
    "duration": 90,
    "start_time": "2023-09-27T11:56:30.671Z"
   },
   {
    "duration": 87,
    "start_time": "2023-09-27T11:56:30.763Z"
   },
   {
    "duration": 57,
    "start_time": "2023-09-27T11:56:30.851Z"
   },
   {
    "duration": 70,
    "start_time": "2023-09-27T11:56:30.910Z"
   },
   {
    "duration": 57,
    "start_time": "2023-09-27T11:56:30.982Z"
   },
   {
    "duration": 42,
    "start_time": "2023-09-27T11:56:31.041Z"
   },
   {
    "duration": 41,
    "start_time": "2023-09-27T11:56:31.086Z"
   },
   {
    "duration": 49,
    "start_time": "2023-09-27T11:56:31.129Z"
   },
   {
    "duration": 63,
    "start_time": "2023-09-27T11:56:31.180Z"
   },
   {
    "duration": 48,
    "start_time": "2023-09-27T11:56:31.245Z"
   },
   {
    "duration": 55,
    "start_time": "2023-09-27T11:56:31.295Z"
   },
   {
    "duration": 34,
    "start_time": "2023-09-27T11:56:31.352Z"
   },
   {
    "duration": 23,
    "start_time": "2023-09-27T11:56:31.388Z"
   },
   {
    "duration": 164,
    "start_time": "2023-09-27T11:56:31.412Z"
   },
   {
    "duration": 4,
    "start_time": "2023-09-27T11:56:31.577Z"
   },
   {
    "duration": 43,
    "start_time": "2023-09-27T11:56:31.582Z"
   },
   {
    "duration": 93,
    "start_time": "2023-09-27T11:56:31.627Z"
   },
   {
    "duration": 0,
    "start_time": "2023-09-27T11:56:31.722Z"
   },
   {
    "duration": 0,
    "start_time": "2023-09-27T11:56:31.723Z"
   },
   {
    "duration": 0,
    "start_time": "2023-09-27T11:56:31.724Z"
   },
   {
    "duration": 0,
    "start_time": "2023-09-27T11:56:31.725Z"
   },
   {
    "duration": 0,
    "start_time": "2023-09-27T11:56:31.727Z"
   },
   {
    "duration": 0,
    "start_time": "2023-09-27T11:56:31.728Z"
   },
   {
    "duration": 0,
    "start_time": "2023-09-27T11:56:31.729Z"
   },
   {
    "duration": 0,
    "start_time": "2023-09-27T11:56:31.730Z"
   },
   {
    "duration": 0,
    "start_time": "2023-09-27T11:56:31.732Z"
   },
   {
    "duration": 0,
    "start_time": "2023-09-27T11:56:31.744Z"
   },
   {
    "duration": 0,
    "start_time": "2023-09-27T11:56:31.746Z"
   },
   {
    "duration": 0,
    "start_time": "2023-09-27T11:56:31.747Z"
   },
   {
    "duration": 0,
    "start_time": "2023-09-27T11:56:31.748Z"
   },
   {
    "duration": 0,
    "start_time": "2023-09-27T11:56:31.749Z"
   },
   {
    "duration": 0,
    "start_time": "2023-09-27T11:56:31.750Z"
   },
   {
    "duration": 0,
    "start_time": "2023-09-27T11:56:31.751Z"
   },
   {
    "duration": 0,
    "start_time": "2023-09-27T11:56:31.752Z"
   },
   {
    "duration": 0,
    "start_time": "2023-09-27T11:56:31.753Z"
   },
   {
    "duration": 93,
    "start_time": "2023-09-27T11:58:27.146Z"
   },
   {
    "duration": 652,
    "start_time": "2023-09-27T11:58:37.091Z"
   },
   {
    "duration": 11,
    "start_time": "2023-09-27T11:58:37.745Z"
   },
   {
    "duration": 53,
    "start_time": "2023-09-27T11:58:37.757Z"
   },
   {
    "duration": 19,
    "start_time": "2023-09-27T11:58:37.812Z"
   },
   {
    "duration": 24,
    "start_time": "2023-09-27T11:58:37.833Z"
   },
   {
    "duration": 14,
    "start_time": "2023-09-27T11:58:37.858Z"
   },
   {
    "duration": 6,
    "start_time": "2023-09-27T11:58:37.873Z"
   },
   {
    "duration": 17,
    "start_time": "2023-09-27T11:58:37.881Z"
   },
   {
    "duration": 12,
    "start_time": "2023-09-27T11:58:37.900Z"
   },
   {
    "duration": 12,
    "start_time": "2023-09-27T11:58:37.913Z"
   },
   {
    "duration": 19,
    "start_time": "2023-09-27T11:58:37.926Z"
   },
   {
    "duration": 61,
    "start_time": "2023-09-27T11:58:37.947Z"
   },
   {
    "duration": 48,
    "start_time": "2023-09-27T11:58:38.009Z"
   },
   {
    "duration": 27,
    "start_time": "2023-09-27T11:58:38.059Z"
   },
   {
    "duration": 15,
    "start_time": "2023-09-27T11:58:38.088Z"
   },
   {
    "duration": 39,
    "start_time": "2023-09-27T11:58:38.104Z"
   },
   {
    "duration": 20,
    "start_time": "2023-09-27T11:58:38.144Z"
   },
   {
    "duration": 17,
    "start_time": "2023-09-27T11:58:38.165Z"
   },
   {
    "duration": 39,
    "start_time": "2023-09-27T11:58:38.183Z"
   },
   {
    "duration": 19,
    "start_time": "2023-09-27T11:58:38.223Z"
   },
   {
    "duration": 160,
    "start_time": "2023-09-27T11:58:38.244Z"
   },
   {
    "duration": 3,
    "start_time": "2023-09-27T11:58:38.406Z"
   },
   {
    "duration": 12,
    "start_time": "2023-09-27T11:58:38.411Z"
   },
   {
    "duration": 115,
    "start_time": "2023-09-27T11:58:38.425Z"
   },
   {
    "duration": 6,
    "start_time": "2023-09-27T11:58:38.543Z"
   },
   {
    "duration": 297,
    "start_time": "2023-09-27T11:58:38.551Z"
   },
   {
    "duration": 7,
    "start_time": "2023-09-27T11:58:38.850Z"
   },
   {
    "duration": 221,
    "start_time": "2023-09-27T11:58:38.858Z"
   },
   {
    "duration": 123,
    "start_time": "2023-09-27T11:58:39.081Z"
   },
   {
    "duration": 7,
    "start_time": "2023-09-27T11:58:39.206Z"
   },
   {
    "duration": 164,
    "start_time": "2023-09-27T11:58:39.214Z"
   },
   {
    "duration": 4,
    "start_time": "2023-09-27T11:58:39.380Z"
   },
   {
    "duration": 33,
    "start_time": "2023-09-27T11:58:39.386Z"
   },
   {
    "duration": 33,
    "start_time": "2023-09-27T11:58:39.421Z"
   },
   {
    "duration": 9,
    "start_time": "2023-09-27T11:58:39.456Z"
   },
   {
    "duration": 12,
    "start_time": "2023-09-27T11:58:39.467Z"
   },
   {
    "duration": 31,
    "start_time": "2023-09-27T11:58:39.480Z"
   },
   {
    "duration": 35,
    "start_time": "2023-09-27T11:58:39.512Z"
   },
   {
    "duration": 26,
    "start_time": "2023-09-27T11:58:39.549Z"
   },
   {
    "duration": 23,
    "start_time": "2023-09-27T11:58:39.577Z"
   },
   {
    "duration": 21,
    "start_time": "2023-09-27T11:58:39.603Z"
   },
   {
    "duration": 22,
    "start_time": "2023-09-27T11:58:39.626Z"
   },
   {
    "duration": 664,
    "start_time": "2023-09-27T12:03:36.983Z"
   },
   {
    "duration": 174,
    "start_time": "2023-09-27T12:03:45.815Z"
   },
   {
    "duration": 301,
    "start_time": "2023-09-27T12:04:51.531Z"
   },
   {
    "duration": 322,
    "start_time": "2023-09-27T12:05:12.332Z"
   },
   {
    "duration": 328,
    "start_time": "2023-09-27T12:05:52.429Z"
   },
   {
    "duration": 327,
    "start_time": "2023-09-27T12:06:56.229Z"
   },
   {
    "duration": 271,
    "start_time": "2023-09-27T12:07:39.984Z"
   },
   {
    "duration": 297,
    "start_time": "2023-09-27T12:07:55.189Z"
   },
   {
    "duration": 387,
    "start_time": "2023-09-27T12:10:25.232Z"
   },
   {
    "duration": 510,
    "start_time": "2023-09-27T12:10:30.477Z"
   },
   {
    "duration": 91,
    "start_time": "2023-09-27T12:11:05.294Z"
   },
   {
    "duration": 404,
    "start_time": "2023-09-27T12:11:31.595Z"
   },
   {
    "duration": 406,
    "start_time": "2023-09-27T12:11:53.466Z"
   },
   {
    "duration": 104,
    "start_time": "2023-09-27T12:12:20.328Z"
   },
   {
    "duration": 427,
    "start_time": "2023-09-27T12:12:33.476Z"
   },
   {
    "duration": 91,
    "start_time": "2023-09-27T12:12:46.431Z"
   },
   {
    "duration": 193,
    "start_time": "2023-09-27T12:13:09.081Z"
   },
   {
    "duration": 231,
    "start_time": "2023-09-27T12:13:30.870Z"
   },
   {
    "duration": 208,
    "start_time": "2023-09-27T12:13:43.270Z"
   },
   {
    "duration": 214,
    "start_time": "2023-09-27T12:14:06.056Z"
   },
   {
    "duration": 427,
    "start_time": "2023-09-27T12:14:20.680Z"
   },
   {
    "duration": 296,
    "start_time": "2023-09-27T12:16:17.124Z"
   },
   {
    "duration": 489,
    "start_time": "2023-09-27T12:16:26.665Z"
   },
   {
    "duration": 177,
    "start_time": "2023-09-27T12:16:48.387Z"
   },
   {
    "duration": 356,
    "start_time": "2023-09-27T12:16:58.788Z"
   },
   {
    "duration": 359,
    "start_time": "2023-09-27T12:18:49.790Z"
   },
   {
    "duration": 263,
    "start_time": "2023-09-27T12:24:14.225Z"
   },
   {
    "duration": 296,
    "start_time": "2023-09-27T12:24:25.479Z"
   },
   {
    "duration": 77,
    "start_time": "2023-09-27T12:26:49.944Z"
   },
   {
    "duration": 508,
    "start_time": "2023-09-27T12:26:58.804Z"
   },
   {
    "duration": 6,
    "start_time": "2023-09-27T12:29:08.264Z"
   },
   {
    "duration": 9,
    "start_time": "2023-09-27T12:29:14.102Z"
   },
   {
    "duration": 421,
    "start_time": "2023-09-27T12:30:39.787Z"
   },
   {
    "duration": 8,
    "start_time": "2023-09-27T12:31:17.719Z"
   },
   {
    "duration": 9,
    "start_time": "2023-09-27T12:31:28.271Z"
   },
   {
    "duration": 472,
    "start_time": "2023-09-27T12:41:50.367Z"
   },
   {
    "duration": 473,
    "start_time": "2023-09-27T12:42:06.133Z"
   },
   {
    "duration": 1228,
    "start_time": "2023-09-27T12:44:29.393Z"
   },
   {
    "duration": 12,
    "start_time": "2023-09-27T12:44:30.624Z"
   },
   {
    "duration": 76,
    "start_time": "2023-09-27T12:44:30.638Z"
   },
   {
    "duration": 101,
    "start_time": "2023-09-27T12:44:30.716Z"
   },
   {
    "duration": 67,
    "start_time": "2023-09-27T12:44:30.820Z"
   },
   {
    "duration": 394,
    "start_time": "2023-09-27T12:44:30.889Z"
   },
   {
    "duration": 148,
    "start_time": "2023-09-27T12:44:31.285Z"
   },
   {
    "duration": 28,
    "start_time": "2023-09-27T12:44:31.434Z"
   },
   {
    "duration": 33,
    "start_time": "2023-09-27T12:44:31.464Z"
   },
   {
    "duration": 20,
    "start_time": "2023-09-27T12:44:31.499Z"
   },
   {
    "duration": 30,
    "start_time": "2023-09-27T12:44:31.521Z"
   },
   {
    "duration": 21,
    "start_time": "2023-09-27T12:44:31.553Z"
   },
   {
    "duration": 19,
    "start_time": "2023-09-27T12:44:31.575Z"
   },
   {
    "duration": 19,
    "start_time": "2023-09-27T12:44:31.597Z"
   },
   {
    "duration": 26,
    "start_time": "2023-09-27T12:44:31.618Z"
   },
   {
    "duration": 25,
    "start_time": "2023-09-27T12:44:31.646Z"
   },
   {
    "duration": 26,
    "start_time": "2023-09-27T12:44:31.673Z"
   },
   {
    "duration": 15,
    "start_time": "2023-09-27T12:44:31.700Z"
   },
   {
    "duration": 37,
    "start_time": "2023-09-27T12:44:31.717Z"
   },
   {
    "duration": 34,
    "start_time": "2023-09-27T12:44:31.756Z"
   },
   {
    "duration": 165,
    "start_time": "2023-09-27T12:44:31.791Z"
   },
   {
    "duration": 4,
    "start_time": "2023-09-27T12:44:31.958Z"
   },
   {
    "duration": 31,
    "start_time": "2023-09-27T12:44:31.964Z"
   },
   {
    "duration": 111,
    "start_time": "2023-09-27T12:44:31.997Z"
   },
   {
    "duration": 7,
    "start_time": "2023-09-27T12:44:32.110Z"
   },
   {
    "duration": 316,
    "start_time": "2023-09-27T12:44:32.118Z"
   },
   {
    "duration": 13,
    "start_time": "2023-09-27T12:44:32.436Z"
   },
   {
    "duration": 241,
    "start_time": "2023-09-27T12:44:32.451Z"
   },
   {
    "duration": 131,
    "start_time": "2023-09-27T12:44:32.694Z"
   },
   {
    "duration": 20,
    "start_time": "2023-09-27T12:44:32.826Z"
   },
   {
    "duration": 155,
    "start_time": "2023-09-27T12:44:32.848Z"
   },
   {
    "duration": 5,
    "start_time": "2023-09-27T12:44:33.004Z"
   },
   {
    "duration": 29,
    "start_time": "2023-09-27T12:44:33.011Z"
   },
   {
    "duration": 19,
    "start_time": "2023-09-27T12:44:33.042Z"
   },
   {
    "duration": 14,
    "start_time": "2023-09-27T12:44:33.063Z"
   },
   {
    "duration": 23,
    "start_time": "2023-09-27T12:44:33.079Z"
   },
   {
    "duration": 18,
    "start_time": "2023-09-27T12:44:33.104Z"
   },
   {
    "duration": 20,
    "start_time": "2023-09-27T12:44:33.123Z"
   },
   {
    "duration": 15,
    "start_time": "2023-09-27T12:44:33.145Z"
   },
   {
    "duration": 23,
    "start_time": "2023-09-27T12:44:33.162Z"
   },
   {
    "duration": 8,
    "start_time": "2023-09-27T12:44:33.189Z"
   },
   {
    "duration": 13,
    "start_time": "2023-09-27T12:44:33.198Z"
   },
   {
    "duration": 11,
    "start_time": "2023-09-27T12:44:33.213Z"
   },
   {
    "duration": 15,
    "start_time": "2023-09-27T12:44:33.225Z"
   },
   {
    "duration": 536,
    "start_time": "2023-09-27T12:44:33.242Z"
   },
   {
    "duration": 7,
    "start_time": "2023-09-27T12:44:33.780Z"
   },
   {
    "duration": 22,
    "start_time": "2023-09-27T12:44:33.788Z"
   },
   {
    "duration": 483,
    "start_time": "2023-09-27T12:44:33.812Z"
   },
   {
    "duration": 14,
    "start_time": "2023-09-27T12:48:51.437Z"
   },
   {
    "duration": 10,
    "start_time": "2023-09-27T12:51:26.613Z"
   },
   {
    "duration": 10,
    "start_time": "2023-09-27T12:53:07.388Z"
   },
   {
    "duration": 10,
    "start_time": "2023-09-27T12:53:17.641Z"
   },
   {
    "duration": 11,
    "start_time": "2023-09-27T12:53:21.166Z"
   },
   {
    "duration": 78,
    "start_time": "2023-09-27T12:54:22.514Z"
   },
   {
    "duration": 9,
    "start_time": "2023-09-27T12:54:32.834Z"
   },
   {
    "duration": 8,
    "start_time": "2023-09-27T12:54:49.094Z"
   },
   {
    "duration": 9,
    "start_time": "2023-09-27T12:56:14.784Z"
   },
   {
    "duration": 80,
    "start_time": "2023-09-27T12:57:08.154Z"
   },
   {
    "duration": 10,
    "start_time": "2023-09-27T12:57:36.309Z"
   },
   {
    "duration": 106,
    "start_time": "2023-09-27T12:58:58.597Z"
   },
   {
    "duration": 936,
    "start_time": "2023-09-27T12:59:03.549Z"
   },
   {
    "duration": 877,
    "start_time": "2023-09-27T12:59:11.524Z"
   },
   {
    "duration": 82,
    "start_time": "2023-09-27T13:11:35.273Z"
   },
   {
    "duration": 10,
    "start_time": "2023-09-27T13:11:40.892Z"
   },
   {
    "duration": 10,
    "start_time": "2023-09-27T13:12:08.415Z"
   },
   {
    "duration": 10,
    "start_time": "2023-09-27T13:12:43.282Z"
   },
   {
    "duration": 24,
    "start_time": "2023-09-27T13:12:56.061Z"
   },
   {
    "duration": 17,
    "start_time": "2023-09-27T13:13:34.728Z"
   },
   {
    "duration": 36,
    "start_time": "2023-09-27T13:13:55.334Z"
   },
   {
    "duration": 14,
    "start_time": "2023-09-27T13:14:22.959Z"
   },
   {
    "duration": 9,
    "start_time": "2023-09-27T13:14:39.881Z"
   },
   {
    "duration": 23,
    "start_time": "2023-09-27T13:15:01.231Z"
   },
   {
    "duration": 10,
    "start_time": "2023-09-27T13:15:23.440Z"
   },
   {
    "duration": 69,
    "start_time": "2023-09-27T13:15:48.853Z"
   },
   {
    "duration": 33,
    "start_time": "2023-09-27T13:16:03.219Z"
   },
   {
    "duration": 16,
    "start_time": "2023-09-27T13:16:24.815Z"
   },
   {
    "duration": 9,
    "start_time": "2023-09-27T13:16:42.723Z"
   },
   {
    "duration": 10,
    "start_time": "2023-09-27T13:19:26.195Z"
   },
   {
    "duration": 28,
    "start_time": "2023-09-27T13:19:42.591Z"
   },
   {
    "duration": 100,
    "start_time": "2023-09-27T13:20:50.316Z"
   },
   {
    "duration": 123,
    "start_time": "2023-09-27T13:21:13.133Z"
   },
   {
    "duration": 74,
    "start_time": "2023-09-27T13:21:21.928Z"
   },
   {
    "duration": 104,
    "start_time": "2023-09-27T13:21:35.801Z"
   },
   {
    "duration": 1275,
    "start_time": "2023-09-27T13:22:17.345Z"
   },
   {
    "duration": 12,
    "start_time": "2023-09-27T13:22:18.623Z"
   },
   {
    "duration": 12,
    "start_time": "2023-09-27T13:22:18.636Z"
   },
   {
    "duration": 12,
    "start_time": "2023-09-27T13:22:18.650Z"
   },
   {
    "duration": 14,
    "start_time": "2023-09-27T13:22:18.664Z"
   },
   {
    "duration": 13,
    "start_time": "2023-09-27T13:22:18.680Z"
   },
   {
    "duration": 7,
    "start_time": "2023-09-27T13:22:18.695Z"
   },
   {
    "duration": 15,
    "start_time": "2023-09-27T13:22:18.703Z"
   },
   {
    "duration": 26,
    "start_time": "2023-09-27T13:22:18.720Z"
   },
   {
    "duration": 8,
    "start_time": "2023-09-27T13:22:18.748Z"
   },
   {
    "duration": 20,
    "start_time": "2023-09-27T13:22:18.758Z"
   },
   {
    "duration": 17,
    "start_time": "2023-09-27T13:22:18.780Z"
   },
   {
    "duration": 26,
    "start_time": "2023-09-27T13:22:18.798Z"
   },
   {
    "duration": 17,
    "start_time": "2023-09-27T13:22:18.826Z"
   },
   {
    "duration": 13,
    "start_time": "2023-09-27T13:22:18.845Z"
   },
   {
    "duration": 9,
    "start_time": "2023-09-27T13:22:18.859Z"
   },
   {
    "duration": 6,
    "start_time": "2023-09-27T13:22:18.870Z"
   },
   {
    "duration": 9,
    "start_time": "2023-09-27T13:22:18.878Z"
   },
   {
    "duration": 11,
    "start_time": "2023-09-27T13:22:18.889Z"
   },
   {
    "duration": 10,
    "start_time": "2023-09-27T13:22:18.901Z"
   },
   {
    "duration": 176,
    "start_time": "2023-09-27T13:22:18.912Z"
   },
   {
    "duration": 4,
    "start_time": "2023-09-27T13:22:19.090Z"
   },
   {
    "duration": 18,
    "start_time": "2023-09-27T13:22:19.095Z"
   },
   {
    "duration": 103,
    "start_time": "2023-09-27T13:22:19.115Z"
   },
   {
    "duration": 6,
    "start_time": "2023-09-27T13:22:19.219Z"
   },
   {
    "duration": 358,
    "start_time": "2023-09-27T13:22:19.227Z"
   },
   {
    "duration": 11,
    "start_time": "2023-09-27T13:22:19.586Z"
   },
   {
    "duration": 169,
    "start_time": "2023-09-27T13:22:19.598Z"
   },
   {
    "duration": 123,
    "start_time": "2023-09-27T13:22:19.768Z"
   },
   {
    "duration": 7,
    "start_time": "2023-09-27T13:22:19.892Z"
   },
   {
    "duration": 168,
    "start_time": "2023-09-27T13:22:19.901Z"
   },
   {
    "duration": 5,
    "start_time": "2023-09-27T13:22:20.071Z"
   },
   {
    "duration": 13,
    "start_time": "2023-09-27T13:22:20.078Z"
   },
   {
    "duration": 16,
    "start_time": "2023-09-27T13:22:20.093Z"
   },
   {
    "duration": 18,
    "start_time": "2023-09-27T13:22:20.110Z"
   },
   {
    "duration": 20,
    "start_time": "2023-09-27T13:22:20.129Z"
   },
   {
    "duration": 19,
    "start_time": "2023-09-27T13:22:20.150Z"
   },
   {
    "duration": 25,
    "start_time": "2023-09-27T13:22:20.171Z"
   },
   {
    "duration": 9,
    "start_time": "2023-09-27T13:22:20.198Z"
   },
   {
    "duration": 16,
    "start_time": "2023-09-27T13:22:20.209Z"
   },
   {
    "duration": 29,
    "start_time": "2023-09-27T13:22:20.230Z"
   },
   {
    "duration": 8,
    "start_time": "2023-09-27T13:22:20.260Z"
   },
   {
    "duration": 21,
    "start_time": "2023-09-27T13:22:20.270Z"
   },
   {
    "duration": 11,
    "start_time": "2023-09-27T13:22:20.292Z"
   },
   {
    "duration": 545,
    "start_time": "2023-09-27T13:22:20.304Z"
   },
   {
    "duration": 8,
    "start_time": "2023-09-27T13:22:20.851Z"
   },
   {
    "duration": 13,
    "start_time": "2023-09-27T13:22:20.862Z"
   },
   {
    "duration": 554,
    "start_time": "2023-09-27T13:22:20.877Z"
   },
   {
    "duration": 156,
    "start_time": "2023-09-27T13:22:21.433Z"
   },
   {
    "duration": 0,
    "start_time": "2023-09-27T13:22:21.590Z"
   },
   {
    "duration": 0,
    "start_time": "2023-09-27T13:22:21.592Z"
   },
   {
    "duration": 2972,
    "start_time": "2023-09-27T13:22:42.888Z"
   },
   {
    "duration": 175,
    "start_time": "2023-09-27T13:22:56.411Z"
   },
   {
    "duration": 93,
    "start_time": "2023-09-27T13:23:20.680Z"
   },
   {
    "duration": 31,
    "start_time": "2023-09-27T13:23:33.198Z"
   },
   {
    "duration": 33,
    "start_time": "2023-09-27T13:24:47.201Z"
   },
   {
    "duration": 26,
    "start_time": "2023-09-27T14:17:39.104Z"
   },
   {
    "duration": 31,
    "start_time": "2023-09-27T14:17:53.958Z"
   },
   {
    "duration": 1231,
    "start_time": "2023-09-27T14:18:06.842Z"
   },
   {
    "duration": 12,
    "start_time": "2023-09-27T14:18:08.074Z"
   },
   {
    "duration": 14,
    "start_time": "2023-09-27T14:18:08.088Z"
   },
   {
    "duration": 16,
    "start_time": "2023-09-27T14:18:08.103Z"
   },
   {
    "duration": 14,
    "start_time": "2023-09-27T14:18:08.121Z"
   },
   {
    "duration": 11,
    "start_time": "2023-09-27T14:18:08.137Z"
   },
   {
    "duration": 14,
    "start_time": "2023-09-27T14:18:08.150Z"
   },
   {
    "duration": 8,
    "start_time": "2023-09-27T14:18:08.166Z"
   },
   {
    "duration": 11,
    "start_time": "2023-09-27T14:18:08.175Z"
   },
   {
    "duration": 9,
    "start_time": "2023-09-27T14:18:08.187Z"
   },
   {
    "duration": 12,
    "start_time": "2023-09-27T14:18:08.197Z"
   },
   {
    "duration": 31,
    "start_time": "2023-09-27T14:18:08.211Z"
   },
   {
    "duration": 18,
    "start_time": "2023-09-27T14:18:08.243Z"
   },
   {
    "duration": 4,
    "start_time": "2023-09-27T14:18:08.264Z"
   },
   {
    "duration": 8,
    "start_time": "2023-09-27T14:18:08.269Z"
   },
   {
    "duration": 12,
    "start_time": "2023-09-27T14:18:08.278Z"
   },
   {
    "duration": 5,
    "start_time": "2023-09-27T14:18:08.291Z"
   },
   {
    "duration": 8,
    "start_time": "2023-09-27T14:18:08.297Z"
   },
   {
    "duration": 18,
    "start_time": "2023-09-27T14:18:08.306Z"
   },
   {
    "duration": 9,
    "start_time": "2023-09-27T14:18:08.325Z"
   },
   {
    "duration": 135,
    "start_time": "2023-09-27T14:18:08.335Z"
   },
   {
    "duration": 4,
    "start_time": "2023-09-27T14:18:08.471Z"
   },
   {
    "duration": 20,
    "start_time": "2023-09-27T14:18:08.476Z"
   },
   {
    "duration": 87,
    "start_time": "2023-09-27T14:18:08.498Z"
   },
   {
    "duration": 5,
    "start_time": "2023-09-27T14:18:08.586Z"
   },
   {
    "duration": 284,
    "start_time": "2023-09-27T14:18:08.592Z"
   },
   {
    "duration": 7,
    "start_time": "2023-09-27T14:18:08.878Z"
   },
   {
    "duration": 185,
    "start_time": "2023-09-27T14:18:08.887Z"
   },
   {
    "duration": 133,
    "start_time": "2023-09-27T14:18:09.073Z"
   },
   {
    "duration": 8,
    "start_time": "2023-09-27T14:18:09.207Z"
   },
   {
    "duration": 160,
    "start_time": "2023-09-27T14:18:09.216Z"
   },
   {
    "duration": 5,
    "start_time": "2023-09-27T14:18:09.377Z"
   },
   {
    "duration": 16,
    "start_time": "2023-09-27T14:18:09.383Z"
   },
   {
    "duration": 31,
    "start_time": "2023-09-27T14:18:09.401Z"
   },
   {
    "duration": 10,
    "start_time": "2023-09-27T14:18:09.433Z"
   },
   {
    "duration": 27,
    "start_time": "2023-09-27T14:18:09.445Z"
   },
   {
    "duration": 23,
    "start_time": "2023-09-27T14:18:09.474Z"
   },
   {
    "duration": 16,
    "start_time": "2023-09-27T14:18:09.499Z"
   },
   {
    "duration": 11,
    "start_time": "2023-09-27T14:18:09.517Z"
   },
   {
    "duration": 20,
    "start_time": "2023-09-27T14:18:09.530Z"
   },
   {
    "duration": 11,
    "start_time": "2023-09-27T14:18:09.553Z"
   },
   {
    "duration": 8,
    "start_time": "2023-09-27T14:18:09.565Z"
   },
   {
    "duration": 12,
    "start_time": "2023-09-27T14:18:09.574Z"
   },
   {
    "duration": 10,
    "start_time": "2023-09-27T14:18:09.587Z"
   },
   {
    "duration": 526,
    "start_time": "2023-09-27T14:18:09.598Z"
   },
   {
    "duration": 7,
    "start_time": "2023-09-27T14:18:10.125Z"
   },
   {
    "duration": 18,
    "start_time": "2023-09-27T14:18:10.133Z"
   },
   {
    "duration": 464,
    "start_time": "2023-09-27T14:18:10.153Z"
   },
   {
    "duration": 32,
    "start_time": "2023-09-27T14:18:10.619Z"
   },
   {
    "duration": 76,
    "start_time": "2023-09-27T14:18:10.653Z"
   },
   {
    "duration": 25,
    "start_time": "2023-09-27T14:19:26.205Z"
   },
   {
    "duration": 894,
    "start_time": "2023-09-27T14:20:19.241Z"
   },
   {
    "duration": 823,
    "start_time": "2023-09-27T14:20:26.663Z"
   },
   {
    "duration": 799,
    "start_time": "2023-09-27T14:21:02.833Z"
   },
   {
    "duration": 813,
    "start_time": "2023-09-27T14:21:10.483Z"
   },
   {
    "duration": 95,
    "start_time": "2023-09-27T14:22:23.269Z"
   },
   {
    "duration": 11,
    "start_time": "2023-09-27T14:34:30.321Z"
   },
   {
    "duration": 1151,
    "start_time": "2023-09-27T14:34:57.144Z"
   },
   {
    "duration": 14,
    "start_time": "2023-09-27T14:34:58.297Z"
   },
   {
    "duration": 17,
    "start_time": "2023-09-27T14:34:58.313Z"
   },
   {
    "duration": 11,
    "start_time": "2023-09-27T14:34:58.332Z"
   },
   {
    "duration": 16,
    "start_time": "2023-09-27T14:34:58.346Z"
   },
   {
    "duration": 13,
    "start_time": "2023-09-27T14:34:58.364Z"
   },
   {
    "duration": 8,
    "start_time": "2023-09-27T14:34:58.379Z"
   },
   {
    "duration": 13,
    "start_time": "2023-09-27T14:34:58.389Z"
   },
   {
    "duration": 13,
    "start_time": "2023-09-27T14:34:58.403Z"
   },
   {
    "duration": 8,
    "start_time": "2023-09-27T14:34:58.417Z"
   },
   {
    "duration": 13,
    "start_time": "2023-09-27T14:34:58.444Z"
   },
   {
    "duration": 11,
    "start_time": "2023-09-27T14:34:58.458Z"
   },
   {
    "duration": 9,
    "start_time": "2023-09-27T14:34:58.471Z"
   },
   {
    "duration": 5,
    "start_time": "2023-09-27T14:34:58.483Z"
   },
   {
    "duration": 9,
    "start_time": "2023-09-27T14:34:58.490Z"
   },
   {
    "duration": 8,
    "start_time": "2023-09-27T14:34:58.501Z"
   },
   {
    "duration": 9,
    "start_time": "2023-09-27T14:34:58.511Z"
   },
   {
    "duration": 7,
    "start_time": "2023-09-27T14:34:58.544Z"
   },
   {
    "duration": 15,
    "start_time": "2023-09-27T14:34:58.552Z"
   },
   {
    "duration": 19,
    "start_time": "2023-09-27T14:34:58.569Z"
   },
   {
    "duration": 166,
    "start_time": "2023-09-27T14:34:58.590Z"
   },
   {
    "duration": 4,
    "start_time": "2023-09-27T14:34:58.758Z"
   },
   {
    "duration": 100,
    "start_time": "2023-09-27T14:34:58.764Z"
   },
   {
    "duration": 113,
    "start_time": "2023-09-27T14:34:58.866Z"
   },
   {
    "duration": 6,
    "start_time": "2023-09-27T14:34:58.980Z"
   },
   {
    "duration": 285,
    "start_time": "2023-09-27T14:34:58.988Z"
   },
   {
    "duration": 9,
    "start_time": "2023-09-27T14:34:59.275Z"
   },
   {
    "duration": 162,
    "start_time": "2023-09-27T14:34:59.286Z"
   },
   {
    "duration": 121,
    "start_time": "2023-09-27T14:34:59.450Z"
   },
   {
    "duration": 7,
    "start_time": "2023-09-27T14:34:59.573Z"
   },
   {
    "duration": 191,
    "start_time": "2023-09-27T14:34:59.582Z"
   },
   {
    "duration": 5,
    "start_time": "2023-09-27T14:34:59.775Z"
   },
   {
    "duration": 16,
    "start_time": "2023-09-27T14:34:59.781Z"
   },
   {
    "duration": 21,
    "start_time": "2023-09-27T14:34:59.798Z"
   },
   {
    "duration": 43,
    "start_time": "2023-09-27T14:34:59.820Z"
   },
   {
    "duration": 18,
    "start_time": "2023-09-27T14:34:59.865Z"
   },
   {
    "duration": 11,
    "start_time": "2023-09-27T14:34:59.885Z"
   },
   {
    "duration": 13,
    "start_time": "2023-09-27T14:34:59.898Z"
   },
   {
    "duration": 22,
    "start_time": "2023-09-27T14:34:59.912Z"
   },
   {
    "duration": 19,
    "start_time": "2023-09-27T14:34:59.936Z"
   },
   {
    "duration": 7,
    "start_time": "2023-09-27T14:34:59.959Z"
   },
   {
    "duration": 9,
    "start_time": "2023-09-27T14:34:59.968Z"
   },
   {
    "duration": 13,
    "start_time": "2023-09-27T14:34:59.978Z"
   },
   {
    "duration": 7,
    "start_time": "2023-09-27T14:34:59.993Z"
   },
   {
    "duration": 532,
    "start_time": "2023-09-27T14:35:00.002Z"
   },
   {
    "duration": 13,
    "start_time": "2023-09-27T14:35:00.536Z"
   },
   {
    "duration": 49,
    "start_time": "2023-09-27T14:35:00.551Z"
   },
   {
    "duration": 528,
    "start_time": "2023-09-27T14:35:00.602Z"
   },
   {
    "duration": 869,
    "start_time": "2023-09-27T14:35:01.131Z"
   },
   {
    "duration": 109,
    "start_time": "2023-09-27T14:35:02.002Z"
   },
   {
    "duration": 11,
    "start_time": "2023-09-27T14:35:33.299Z"
   },
   {
    "duration": 9,
    "start_time": "2023-09-27T14:37:59.556Z"
   },
   {
    "duration": 10,
    "start_time": "2023-09-27T14:38:27.558Z"
   },
   {
    "duration": 1263,
    "start_time": "2023-09-27T14:38:34.863Z"
   },
   {
    "duration": 15,
    "start_time": "2023-09-27T14:38:36.128Z"
   },
   {
    "duration": 152,
    "start_time": "2023-09-27T14:38:36.145Z"
   },
   {
    "duration": 163,
    "start_time": "2023-09-27T14:38:36.299Z"
   },
   {
    "duration": 75,
    "start_time": "2023-09-27T14:38:36.465Z"
   },
   {
    "duration": 77,
    "start_time": "2023-09-27T14:38:36.542Z"
   },
   {
    "duration": 20,
    "start_time": "2023-09-27T14:38:36.621Z"
   },
   {
    "duration": 44,
    "start_time": "2023-09-27T14:38:36.643Z"
   },
   {
    "duration": 41,
    "start_time": "2023-09-27T14:38:36.689Z"
   },
   {
    "duration": 42,
    "start_time": "2023-09-27T14:38:36.731Z"
   },
   {
    "duration": 49,
    "start_time": "2023-09-27T14:38:36.775Z"
   },
   {
    "duration": 41,
    "start_time": "2023-09-27T14:38:36.826Z"
   },
   {
    "duration": 47,
    "start_time": "2023-09-27T14:38:36.869Z"
   },
   {
    "duration": 39,
    "start_time": "2023-09-27T14:38:36.920Z"
   },
   {
    "duration": 46,
    "start_time": "2023-09-27T14:38:36.962Z"
   },
   {
    "duration": 25,
    "start_time": "2023-09-27T14:38:37.010Z"
   },
   {
    "duration": 23,
    "start_time": "2023-09-27T14:38:37.037Z"
   },
   {
    "duration": 35,
    "start_time": "2023-09-27T14:38:37.061Z"
   },
   {
    "duration": 42,
    "start_time": "2023-09-27T14:38:37.098Z"
   },
   {
    "duration": 37,
    "start_time": "2023-09-27T14:38:37.142Z"
   },
   {
    "duration": 150,
    "start_time": "2023-09-27T14:38:37.181Z"
   },
   {
    "duration": 5,
    "start_time": "2023-09-27T14:38:37.332Z"
   },
   {
    "duration": 33,
    "start_time": "2023-09-27T14:38:37.344Z"
   },
   {
    "duration": 112,
    "start_time": "2023-09-27T14:38:37.379Z"
   },
   {
    "duration": 6,
    "start_time": "2023-09-27T14:38:37.492Z"
   },
   {
    "duration": 273,
    "start_time": "2023-09-27T14:38:37.499Z"
   },
   {
    "duration": 6,
    "start_time": "2023-09-27T14:38:37.774Z"
   },
   {
    "duration": 186,
    "start_time": "2023-09-27T14:38:37.782Z"
   },
   {
    "duration": 119,
    "start_time": "2023-09-27T14:38:37.970Z"
   },
   {
    "duration": 8,
    "start_time": "2023-09-27T14:38:38.091Z"
   },
   {
    "duration": 170,
    "start_time": "2023-09-27T14:38:38.100Z"
   },
   {
    "duration": 5,
    "start_time": "2023-09-27T14:38:38.272Z"
   },
   {
    "duration": 20,
    "start_time": "2023-09-27T14:38:38.278Z"
   },
   {
    "duration": 32,
    "start_time": "2023-09-27T14:38:38.300Z"
   },
   {
    "duration": 10,
    "start_time": "2023-09-27T14:38:38.333Z"
   },
   {
    "duration": 19,
    "start_time": "2023-09-27T14:38:38.344Z"
   },
   {
    "duration": 16,
    "start_time": "2023-09-27T14:38:38.364Z"
   },
   {
    "duration": 34,
    "start_time": "2023-09-27T14:38:38.381Z"
   },
   {
    "duration": 14,
    "start_time": "2023-09-27T14:38:38.416Z"
   },
   {
    "duration": 20,
    "start_time": "2023-09-27T14:38:38.432Z"
   },
   {
    "duration": 12,
    "start_time": "2023-09-27T14:38:38.456Z"
   },
   {
    "duration": 10,
    "start_time": "2023-09-27T14:38:38.470Z"
   },
   {
    "duration": 18,
    "start_time": "2023-09-27T14:38:38.481Z"
   },
   {
    "duration": 17,
    "start_time": "2023-09-27T14:38:38.500Z"
   },
   {
    "duration": 513,
    "start_time": "2023-09-27T14:38:38.518Z"
   },
   {
    "duration": 12,
    "start_time": "2023-09-27T14:38:39.033Z"
   },
   {
    "duration": 8,
    "start_time": "2023-09-27T14:38:39.046Z"
   },
   {
    "duration": 456,
    "start_time": "2023-09-27T14:38:39.056Z"
   },
   {
    "duration": 818,
    "start_time": "2023-09-27T14:38:39.513Z"
   },
   {
    "duration": 23,
    "start_time": "2023-09-27T14:38:40.362Z"
   },
   {
    "duration": 1169,
    "start_time": "2023-09-27T17:45:44.587Z"
   },
   {
    "duration": 11,
    "start_time": "2023-09-27T17:45:45.758Z"
   },
   {
    "duration": 13,
    "start_time": "2023-09-27T17:45:45.771Z"
   },
   {
    "duration": 23,
    "start_time": "2023-09-27T17:45:45.786Z"
   },
   {
    "duration": 14,
    "start_time": "2023-09-27T17:45:45.811Z"
   },
   {
    "duration": 26,
    "start_time": "2023-09-27T17:45:45.826Z"
   },
   {
    "duration": 16,
    "start_time": "2023-09-27T17:45:45.854Z"
   },
   {
    "duration": 21,
    "start_time": "2023-09-27T17:45:45.872Z"
   },
   {
    "duration": 29,
    "start_time": "2023-09-27T17:45:45.894Z"
   },
   {
    "duration": 9,
    "start_time": "2023-09-27T17:45:45.927Z"
   },
   {
    "duration": 17,
    "start_time": "2023-09-27T17:45:45.937Z"
   },
   {
    "duration": 30,
    "start_time": "2023-09-27T17:45:45.956Z"
   },
   {
    "duration": 26,
    "start_time": "2023-09-27T17:45:45.988Z"
   },
   {
    "duration": 6,
    "start_time": "2023-09-27T17:45:46.016Z"
   },
   {
    "duration": 7,
    "start_time": "2023-09-27T17:45:46.024Z"
   },
   {
    "duration": 10,
    "start_time": "2023-09-27T17:45:46.033Z"
   },
   {
    "duration": 6,
    "start_time": "2023-09-27T17:45:46.044Z"
   },
   {
    "duration": 9,
    "start_time": "2023-09-27T17:45:46.052Z"
   },
   {
    "duration": 16,
    "start_time": "2023-09-27T17:45:46.063Z"
   },
   {
    "duration": 19,
    "start_time": "2023-09-27T17:45:46.080Z"
   },
   {
    "duration": 148,
    "start_time": "2023-09-27T17:45:46.100Z"
   },
   {
    "duration": 4,
    "start_time": "2023-09-27T17:45:46.250Z"
   },
   {
    "duration": 12,
    "start_time": "2023-09-27T17:45:46.256Z"
   },
   {
    "duration": 102,
    "start_time": "2023-09-27T17:45:46.270Z"
   },
   {
    "duration": 5,
    "start_time": "2023-09-27T17:45:46.374Z"
   },
   {
    "duration": 286,
    "start_time": "2023-09-27T17:45:46.380Z"
   },
   {
    "duration": 7,
    "start_time": "2023-09-27T17:45:46.668Z"
   },
   {
    "duration": 163,
    "start_time": "2023-09-27T17:45:46.678Z"
   },
   {
    "duration": 126,
    "start_time": "2023-09-27T17:45:46.843Z"
   },
   {
    "duration": 8,
    "start_time": "2023-09-27T17:45:46.971Z"
   },
   {
    "duration": 179,
    "start_time": "2023-09-27T17:45:46.980Z"
   },
   {
    "duration": 5,
    "start_time": "2023-09-27T17:45:47.160Z"
   },
   {
    "duration": 19,
    "start_time": "2023-09-27T17:45:47.167Z"
   },
   {
    "duration": 36,
    "start_time": "2023-09-27T17:45:47.188Z"
   },
   {
    "duration": 11,
    "start_time": "2023-09-27T17:45:47.225Z"
   },
   {
    "duration": 15,
    "start_time": "2023-09-27T17:45:47.237Z"
   },
   {
    "duration": 24,
    "start_time": "2023-09-27T17:45:47.253Z"
   },
   {
    "duration": 20,
    "start_time": "2023-09-27T17:45:47.279Z"
   },
   {
    "duration": 14,
    "start_time": "2023-09-27T17:45:47.300Z"
   },
   {
    "duration": 24,
    "start_time": "2023-09-27T17:45:47.315Z"
   },
   {
    "duration": 6,
    "start_time": "2023-09-27T17:45:47.341Z"
   },
   {
    "duration": 15,
    "start_time": "2023-09-27T17:45:47.348Z"
   },
   {
    "duration": 11,
    "start_time": "2023-09-27T17:45:47.364Z"
   },
   {
    "duration": 27,
    "start_time": "2023-09-27T17:45:47.377Z"
   },
   {
    "duration": 531,
    "start_time": "2023-09-27T17:45:47.406Z"
   },
   {
    "duration": 10,
    "start_time": "2023-09-27T17:45:47.939Z"
   },
   {
    "duration": 18,
    "start_time": "2023-09-27T17:45:47.951Z"
   },
   {
    "duration": 449,
    "start_time": "2023-09-27T17:45:47.971Z"
   },
   {
    "duration": 866,
    "start_time": "2023-09-27T17:45:48.422Z"
   },
   {
    "duration": 14,
    "start_time": "2023-09-27T17:45:49.290Z"
   },
   {
    "duration": 4,
    "start_time": "2023-09-27T17:48:08.355Z"
   },
   {
    "duration": 305,
    "start_time": "2023-09-27T17:48:23.039Z"
   },
   {
    "duration": 4,
    "start_time": "2023-09-27T17:48:40.993Z"
   },
   {
    "duration": 4,
    "start_time": "2023-09-27T17:49:30.824Z"
   },
   {
    "duration": 475,
    "start_time": "2023-09-27T17:51:02.660Z"
   },
   {
    "duration": 854,
    "start_time": "2023-09-27T17:51:03.137Z"
   },
   {
    "duration": 12,
    "start_time": "2023-09-27T17:51:03.992Z"
   },
   {
    "duration": 44,
    "start_time": "2023-09-27T17:51:04.006Z"
   },
   {
    "duration": 43,
    "start_time": "2023-09-27T17:51:04.053Z"
   },
   {
    "duration": 30,
    "start_time": "2023-09-27T17:51:04.098Z"
   },
   {
    "duration": 31,
    "start_time": "2023-09-27T17:51:04.130Z"
   },
   {
    "duration": 32,
    "start_time": "2023-09-27T17:51:04.164Z"
   },
   {
    "duration": 26,
    "start_time": "2023-09-27T17:51:04.199Z"
   },
   {
    "duration": 14,
    "start_time": "2023-09-27T17:51:04.227Z"
   },
   {
    "duration": 21,
    "start_time": "2023-09-27T17:51:04.243Z"
   },
   {
    "duration": 14,
    "start_time": "2023-09-27T17:51:04.267Z"
   },
   {
    "duration": 11,
    "start_time": "2023-09-27T17:51:04.283Z"
   },
   {
    "duration": 8,
    "start_time": "2023-09-27T17:51:04.297Z"
   },
   {
    "duration": 14,
    "start_time": "2023-09-27T17:51:04.307Z"
   },
   {
    "duration": 22,
    "start_time": "2023-09-27T17:51:04.323Z"
   },
   {
    "duration": 14,
    "start_time": "2023-09-27T17:51:04.347Z"
   },
   {
    "duration": 30,
    "start_time": "2023-09-27T17:51:04.363Z"
   },
   {
    "duration": 17,
    "start_time": "2023-09-27T17:51:04.395Z"
   },
   {
    "duration": 14,
    "start_time": "2023-09-27T17:51:04.413Z"
   },
   {
    "duration": 6,
    "start_time": "2023-09-27T17:51:04.428Z"
   },
   {
    "duration": 170,
    "start_time": "2023-09-27T17:51:04.436Z"
   },
   {
    "duration": 4,
    "start_time": "2023-09-27T17:51:04.608Z"
   },
   {
    "duration": 17,
    "start_time": "2023-09-27T17:51:04.614Z"
   },
   {
    "duration": 113,
    "start_time": "2023-09-27T17:51:04.633Z"
   },
   {
    "duration": 6,
    "start_time": "2023-09-27T17:51:04.748Z"
   },
   {
    "duration": 295,
    "start_time": "2023-09-27T17:51:04.756Z"
   },
   {
    "duration": 9,
    "start_time": "2023-09-27T17:51:05.053Z"
   },
   {
    "duration": 205,
    "start_time": "2023-09-27T17:51:05.064Z"
   },
   {
    "duration": 143,
    "start_time": "2023-09-27T17:51:05.270Z"
   },
   {
    "duration": 7,
    "start_time": "2023-09-27T17:51:05.414Z"
   },
   {
    "duration": 183,
    "start_time": "2023-09-27T17:51:05.423Z"
   },
   {
    "duration": 6,
    "start_time": "2023-09-27T17:51:05.608Z"
   },
   {
    "duration": 41,
    "start_time": "2023-09-27T17:51:05.615Z"
   },
   {
    "duration": 16,
    "start_time": "2023-09-27T17:51:05.657Z"
   },
   {
    "duration": 27,
    "start_time": "2023-09-27T17:51:05.674Z"
   },
   {
    "duration": 14,
    "start_time": "2023-09-27T17:51:05.703Z"
   },
   {
    "duration": 13,
    "start_time": "2023-09-27T17:51:05.719Z"
   },
   {
    "duration": 15,
    "start_time": "2023-09-27T17:51:05.734Z"
   },
   {
    "duration": 16,
    "start_time": "2023-09-27T17:51:05.751Z"
   },
   {
    "duration": 19,
    "start_time": "2023-09-27T17:51:05.770Z"
   },
   {
    "duration": 15,
    "start_time": "2023-09-27T17:51:05.790Z"
   },
   {
    "duration": 15,
    "start_time": "2023-09-27T17:51:05.807Z"
   },
   {
    "duration": 24,
    "start_time": "2023-09-27T17:51:05.824Z"
   },
   {
    "duration": 13,
    "start_time": "2023-09-27T17:51:05.851Z"
   },
   {
    "duration": 572,
    "start_time": "2023-09-27T17:51:05.866Z"
   },
   {
    "duration": 9,
    "start_time": "2023-09-27T17:51:06.440Z"
   },
   {
    "duration": 9,
    "start_time": "2023-09-27T17:51:06.451Z"
   },
   {
    "duration": 469,
    "start_time": "2023-09-27T17:51:06.461Z"
   },
   {
    "duration": 814,
    "start_time": "2023-09-27T17:51:06.931Z"
   },
   {
    "duration": 15,
    "start_time": "2023-09-27T17:51:07.747Z"
   },
   {
    "duration": 155,
    "start_time": "2023-09-27T17:51:30.304Z"
   },
   {
    "duration": 119,
    "start_time": "2023-09-27T17:51:42.574Z"
   },
   {
    "duration": 155,
    "start_time": "2023-09-27T17:53:39.511Z"
   },
   {
    "duration": 422,
    "start_time": "2023-09-27T17:56:47.087Z"
   },
   {
    "duration": 8,
    "start_time": "2023-09-27T17:57:01.169Z"
   },
   {
    "duration": 9,
    "start_time": "2023-09-27T17:57:01.806Z"
   },
   {
    "duration": 456,
    "start_time": "2023-09-27T17:57:02.817Z"
   },
   {
    "duration": 751,
    "start_time": "2023-09-27T18:14:09.272Z"
   },
   {
    "duration": 547,
    "start_time": "2023-09-27T18:14:18.847Z"
   },
   {
    "duration": 5,
    "start_time": "2023-09-27T18:14:50.688Z"
   },
   {
    "duration": 371,
    "start_time": "2023-09-27T18:17:51.483Z"
   },
   {
    "duration": 470,
    "start_time": "2023-09-27T18:17:58.447Z"
   },
   {
    "duration": 446,
    "start_time": "2023-09-27T18:18:54.661Z"
   },
   {
    "duration": 566,
    "start_time": "2023-09-27T18:19:06.049Z"
   },
   {
    "duration": 482,
    "start_time": "2023-09-27T18:19:24.958Z"
   },
   {
    "duration": 439,
    "start_time": "2023-09-27T18:23:28.085Z"
   },
   {
    "duration": 430,
    "start_time": "2023-09-27T18:23:47.185Z"
   },
   {
    "duration": 261,
    "start_time": "2023-09-27T18:23:57.164Z"
   },
   {
    "duration": 387,
    "start_time": "2023-09-27T18:25:30.912Z"
   },
   {
    "duration": 433,
    "start_time": "2023-09-27T18:25:42.425Z"
   },
   {
    "duration": 414,
    "start_time": "2023-09-27T18:25:50.912Z"
   },
   {
    "duration": 445,
    "start_time": "2023-09-27T18:26:40.515Z"
   },
   {
    "duration": 323,
    "start_time": "2023-09-27T18:26:47.783Z"
   },
   {
    "duration": 423,
    "start_time": "2023-09-27T18:27:49.854Z"
   },
   {
    "duration": 320,
    "start_time": "2023-09-27T18:28:09.900Z"
   },
   {
    "duration": 390,
    "start_time": "2023-09-27T18:29:02.014Z"
   },
   {
    "duration": 437,
    "start_time": "2023-09-27T18:30:03.555Z"
   },
   {
    "duration": 591,
    "start_time": "2023-09-27T18:30:22.330Z"
   },
   {
    "duration": 411,
    "start_time": "2023-09-27T18:30:30.395Z"
   },
   {
    "duration": 450,
    "start_time": "2023-09-27T18:30:36.753Z"
   },
   {
    "duration": 500,
    "start_time": "2023-09-27T18:30:51.822Z"
   },
   {
    "duration": 322,
    "start_time": "2023-09-27T18:32:52.627Z"
   },
   {
    "duration": 623,
    "start_time": "2023-09-27T18:32:59.796Z"
   },
   {
    "duration": 137,
    "start_time": "2023-09-27T18:48:21.959Z"
   },
   {
    "duration": 19,
    "start_time": "2023-09-27T18:48:53.369Z"
   },
   {
    "duration": 5,
    "start_time": "2023-09-27T18:50:48.809Z"
   },
   {
    "duration": 7,
    "start_time": "2023-09-27T18:51:03.337Z"
   },
   {
    "duration": 1258,
    "start_time": "2023-09-27T18:51:18.539Z"
   },
   {
    "duration": 4,
    "start_time": "2023-09-27T18:52:30.194Z"
   },
   {
    "duration": 141,
    "start_time": "2023-09-27T18:52:33.413Z"
   },
   {
    "duration": 27,
    "start_time": "2023-09-27T18:52:44.574Z"
   },
   {
    "duration": 9,
    "start_time": "2023-09-27T18:53:31.647Z"
   },
   {
    "duration": 13,
    "start_time": "2023-09-27T18:54:22.255Z"
   },
   {
    "duration": 14,
    "start_time": "2023-09-27T18:54:34.776Z"
   },
   {
    "duration": 16,
    "start_time": "2023-09-27T18:56:58.837Z"
   },
   {
    "duration": 9,
    "start_time": "2023-09-27T18:57:21.533Z"
   },
   {
    "duration": 97,
    "start_time": "2023-09-27T18:58:52.206Z"
   },
   {
    "duration": 81,
    "start_time": "2023-09-27T18:58:59.394Z"
   },
   {
    "duration": 14,
    "start_time": "2023-09-27T18:59:10.861Z"
   },
   {
    "duration": 13,
    "start_time": "2023-09-27T18:59:29.010Z"
   },
   {
    "duration": 12,
    "start_time": "2023-09-27T18:59:53.852Z"
   },
   {
    "duration": 809,
    "start_time": "2023-09-28T10:32:51.922Z"
   },
   {
    "duration": 673,
    "start_time": "2023-09-28T10:32:59.489Z"
   },
   {
    "duration": 1026,
    "start_time": "2023-09-28T10:33:00.165Z"
   },
   {
    "duration": 17,
    "start_time": "2023-09-28T10:33:01.193Z"
   },
   {
    "duration": 356,
    "start_time": "2023-09-28T10:33:01.212Z"
   },
   {
    "duration": 159,
    "start_time": "2023-09-28T10:33:01.571Z"
   },
   {
    "duration": 99,
    "start_time": "2023-09-28T10:33:01.732Z"
   },
   {
    "duration": 112,
    "start_time": "2023-09-28T10:33:01.834Z"
   },
   {
    "duration": 160,
    "start_time": "2023-09-28T10:33:01.948Z"
   },
   {
    "duration": 83,
    "start_time": "2023-09-28T10:33:02.110Z"
   },
   {
    "duration": 93,
    "start_time": "2023-09-28T10:33:02.195Z"
   },
   {
    "duration": 96,
    "start_time": "2023-09-28T10:33:02.291Z"
   },
   {
    "duration": 83,
    "start_time": "2023-09-28T10:33:02.390Z"
   },
   {
    "duration": 237,
    "start_time": "2023-09-28T10:33:02.476Z"
   },
   {
    "duration": 53,
    "start_time": "2023-09-28T10:33:02.716Z"
   },
   {
    "duration": 45,
    "start_time": "2023-09-28T10:33:02.771Z"
   },
   {
    "duration": 20,
    "start_time": "2023-09-28T10:33:02.818Z"
   },
   {
    "duration": 80,
    "start_time": "2023-09-28T10:33:02.839Z"
   },
   {
    "duration": 36,
    "start_time": "2023-09-28T10:33:02.921Z"
   },
   {
    "duration": 75,
    "start_time": "2023-09-28T10:33:02.959Z"
   },
   {
    "duration": 111,
    "start_time": "2023-09-28T10:33:03.036Z"
   },
   {
    "duration": 114,
    "start_time": "2023-09-28T10:33:03.148Z"
   },
   {
    "duration": 213,
    "start_time": "2023-09-28T10:33:03.263Z"
   },
   {
    "duration": 4,
    "start_time": "2023-09-28T10:33:03.478Z"
   },
   {
    "duration": 35,
    "start_time": "2023-09-28T10:33:03.484Z"
   },
   {
    "duration": 123,
    "start_time": "2023-09-28T10:33:03.521Z"
   },
   {
    "duration": 21,
    "start_time": "2023-09-28T10:33:03.646Z"
   },
   {
    "duration": 373,
    "start_time": "2023-09-28T10:33:03.669Z"
   },
   {
    "duration": 10,
    "start_time": "2023-09-28T10:33:04.045Z"
   },
   {
    "duration": 196,
    "start_time": "2023-09-28T10:33:04.057Z"
   },
   {
    "duration": 137,
    "start_time": "2023-09-28T10:33:04.255Z"
   },
   {
    "duration": 10,
    "start_time": "2023-09-28T10:33:04.393Z"
   },
   {
    "duration": 196,
    "start_time": "2023-09-28T10:33:04.405Z"
   },
   {
    "duration": 5,
    "start_time": "2023-09-28T10:33:04.603Z"
   },
   {
    "duration": 96,
    "start_time": "2023-09-28T10:33:04.610Z"
   },
   {
    "duration": 154,
    "start_time": "2023-09-28T10:33:04.708Z"
   },
   {
    "duration": 91,
    "start_time": "2023-09-28T10:33:04.865Z"
   },
   {
    "duration": 67,
    "start_time": "2023-09-28T10:33:04.958Z"
   },
   {
    "duration": 37,
    "start_time": "2023-09-28T10:33:05.027Z"
   },
   {
    "duration": 40,
    "start_time": "2023-09-28T10:33:05.066Z"
   },
   {
    "duration": 47,
    "start_time": "2023-09-28T10:33:05.108Z"
   },
   {
    "duration": 31,
    "start_time": "2023-09-28T10:33:05.159Z"
   },
   {
    "duration": 62,
    "start_time": "2023-09-28T10:33:05.192Z"
   },
   {
    "duration": 32,
    "start_time": "2023-09-28T10:33:05.256Z"
   },
   {
    "duration": 26,
    "start_time": "2023-09-28T10:33:05.291Z"
   },
   {
    "duration": 23,
    "start_time": "2023-09-28T10:33:05.319Z"
   },
   {
    "duration": 737,
    "start_time": "2023-09-28T10:33:05.344Z"
   },
   {
    "duration": 10,
    "start_time": "2023-09-28T10:33:06.083Z"
   },
   {
    "duration": 168,
    "start_time": "2023-09-28T10:33:06.096Z"
   },
   {
    "duration": 662,
    "start_time": "2023-09-28T10:33:06.266Z"
   },
   {
    "duration": 838,
    "start_time": "2023-09-28T10:33:06.940Z"
   },
   {
    "duration": 5,
    "start_time": "2023-09-28T10:33:07.780Z"
   },
   {
    "duration": 84,
    "start_time": "2023-09-28T10:33:07.786Z"
   },
   {
    "duration": 217,
    "start_time": "2023-09-28T10:33:07.872Z"
   },
   {
    "duration": 42,
    "start_time": "2023-09-28T10:33:08.091Z"
   },
   {
    "duration": 26,
    "start_time": "2023-09-28T10:33:08.135Z"
   },
   {
    "duration": 43,
    "start_time": "2023-09-28T10:33:08.163Z"
   },
   {
    "duration": 43,
    "start_time": "2023-09-28T10:33:08.208Z"
   },
   {
    "duration": 107,
    "start_time": "2023-09-28T10:33:08.253Z"
   },
   {
    "duration": 7,
    "start_time": "2023-09-28T10:33:47.241Z"
   },
   {
    "duration": 14,
    "start_time": "2023-09-28T10:37:12.006Z"
   },
   {
    "duration": 12,
    "start_time": "2023-09-28T10:37:29.096Z"
   },
   {
    "duration": 7,
    "start_time": "2023-09-28T10:38:25.375Z"
   },
   {
    "duration": 17,
    "start_time": "2023-09-28T10:38:33.079Z"
   },
   {
    "duration": 7,
    "start_time": "2023-09-28T10:38:46.839Z"
   },
   {
    "duration": 13,
    "start_time": "2023-09-28T10:39:52.078Z"
   },
   {
    "duration": 12,
    "start_time": "2023-09-28T10:39:54.111Z"
   },
   {
    "duration": 14,
    "start_time": "2023-09-28T10:45:23.622Z"
   },
   {
    "duration": 8,
    "start_time": "2023-09-28T10:45:34.253Z"
   },
   {
    "duration": 11,
    "start_time": "2023-09-28T10:45:48.516Z"
   },
   {
    "duration": 6,
    "start_time": "2023-09-28T10:47:09.204Z"
   },
   {
    "duration": 7,
    "start_time": "2023-09-28T10:47:33.660Z"
   },
   {
    "duration": 7,
    "start_time": "2023-09-28T10:47:49.590Z"
   },
   {
    "duration": 12,
    "start_time": "2023-09-28T10:50:21.978Z"
   },
   {
    "duration": 490,
    "start_time": "2023-09-28T10:50:52.453Z"
   },
   {
    "duration": 845,
    "start_time": "2023-09-28T10:50:52.947Z"
   },
   {
    "duration": 15,
    "start_time": "2023-09-28T10:50:53.793Z"
   },
   {
    "duration": 81,
    "start_time": "2023-09-28T10:50:53.810Z"
   },
   {
    "duration": 86,
    "start_time": "2023-09-28T10:50:53.894Z"
   },
   {
    "duration": 66,
    "start_time": "2023-09-28T10:50:53.982Z"
   },
   {
    "duration": 119,
    "start_time": "2023-09-28T10:50:54.050Z"
   },
   {
    "duration": 150,
    "start_time": "2023-09-28T10:50:54.171Z"
   },
   {
    "duration": 116,
    "start_time": "2023-09-28T10:50:54.324Z"
   },
   {
    "duration": 80,
    "start_time": "2023-09-28T10:50:54.442Z"
   },
   {
    "duration": 118,
    "start_time": "2023-09-28T10:50:54.526Z"
   },
   {
    "duration": 73,
    "start_time": "2023-09-28T10:50:54.647Z"
   },
   {
    "duration": 302,
    "start_time": "2023-09-28T10:50:54.722Z"
   },
   {
    "duration": 119,
    "start_time": "2023-09-28T10:50:55.033Z"
   },
   {
    "duration": 142,
    "start_time": "2023-09-28T10:50:55.154Z"
   },
   {
    "duration": 31,
    "start_time": "2023-09-28T10:50:55.298Z"
   },
   {
    "duration": 51,
    "start_time": "2023-09-28T10:50:55.332Z"
   },
   {
    "duration": 54,
    "start_time": "2023-09-28T10:50:55.385Z"
   },
   {
    "duration": 41,
    "start_time": "2023-09-28T10:50:55.441Z"
   },
   {
    "duration": 28,
    "start_time": "2023-09-28T10:50:55.484Z"
   },
   {
    "duration": 32,
    "start_time": "2023-09-28T10:50:55.514Z"
   },
   {
    "duration": 203,
    "start_time": "2023-09-28T10:50:55.548Z"
   },
   {
    "duration": 5,
    "start_time": "2023-09-28T10:50:55.754Z"
   },
   {
    "duration": 40,
    "start_time": "2023-09-28T10:50:55.761Z"
   },
   {
    "duration": 168,
    "start_time": "2023-09-28T10:50:55.803Z"
   },
   {
    "duration": 8,
    "start_time": "2023-09-28T10:50:55.974Z"
   },
   {
    "duration": 547,
    "start_time": "2023-09-28T10:50:55.983Z"
   },
   {
    "duration": 19,
    "start_time": "2023-09-28T10:50:56.532Z"
   },
   {
    "duration": 276,
    "start_time": "2023-09-28T10:50:56.553Z"
   },
   {
    "duration": 215,
    "start_time": "2023-09-28T10:50:56.831Z"
   },
   {
    "duration": 10,
    "start_time": "2023-09-28T10:50:57.049Z"
   },
   {
    "duration": 299,
    "start_time": "2023-09-28T10:50:57.061Z"
   },
   {
    "duration": 10,
    "start_time": "2023-09-28T10:50:57.362Z"
   },
   {
    "duration": 88,
    "start_time": "2023-09-28T10:50:57.375Z"
   },
   {
    "duration": 290,
    "start_time": "2023-09-28T10:50:57.465Z"
   },
   {
    "duration": 83,
    "start_time": "2023-09-28T10:50:57.757Z"
   },
   {
    "duration": 61,
    "start_time": "2023-09-28T10:50:57.843Z"
   },
   {
    "duration": 65,
    "start_time": "2023-09-28T10:50:57.906Z"
   },
   {
    "duration": 80,
    "start_time": "2023-09-28T10:50:57.973Z"
   },
   {
    "duration": 16,
    "start_time": "2023-09-28T10:50:58.055Z"
   },
   {
    "duration": 47,
    "start_time": "2023-09-28T10:50:58.075Z"
   },
   {
    "duration": 103,
    "start_time": "2023-09-28T10:50:58.124Z"
   },
   {
    "duration": 26,
    "start_time": "2023-09-28T10:50:58.229Z"
   },
   {
    "duration": 53,
    "start_time": "2023-09-28T10:50:58.257Z"
   },
   {
    "duration": 137,
    "start_time": "2023-09-28T10:50:58.312Z"
   },
   {
    "duration": 701,
    "start_time": "2023-09-28T10:50:58.451Z"
   },
   {
    "duration": 10,
    "start_time": "2023-09-28T10:50:59.154Z"
   },
   {
    "duration": 70,
    "start_time": "2023-09-28T10:50:59.166Z"
   },
   {
    "duration": 514,
    "start_time": "2023-09-28T10:50:59.238Z"
   },
   {
    "duration": 988,
    "start_time": "2023-09-28T10:50:59.754Z"
   },
   {
    "duration": 5,
    "start_time": "2023-09-28T10:51:00.747Z"
   },
   {
    "duration": 50,
    "start_time": "2023-09-28T10:51:00.754Z"
   },
   {
    "duration": 236,
    "start_time": "2023-09-28T10:51:00.807Z"
   },
   {
    "duration": 26,
    "start_time": "2023-09-28T10:51:01.047Z"
   },
   {
    "duration": 67,
    "start_time": "2023-09-28T10:51:01.075Z"
   },
   {
    "duration": 100,
    "start_time": "2023-09-28T10:51:01.144Z"
   },
   {
    "duration": 45,
    "start_time": "2023-09-28T10:51:01.247Z"
   },
   {
    "duration": 57,
    "start_time": "2023-09-28T10:51:01.295Z"
   },
   {
    "duration": 134,
    "start_time": "2023-09-28T10:51:01.354Z"
   },
   {
    "duration": 128,
    "start_time": "2023-09-28T10:51:01.490Z"
   },
   {
    "duration": 86,
    "start_time": "2023-09-28T10:51:01.620Z"
   },
   {
    "duration": 109,
    "start_time": "2023-09-28T10:54:21.498Z"
   },
   {
    "duration": 8,
    "start_time": "2023-09-28T10:55:50.659Z"
   },
   {
    "duration": 6,
    "start_time": "2023-09-28T11:34:21.912Z"
   },
   {
    "duration": 990,
    "start_time": "2023-09-28T11:35:03.669Z"
   },
   {
    "duration": 114,
    "start_time": "2023-09-28T11:35:31.431Z"
   },
   {
    "duration": 22,
    "start_time": "2023-09-28T11:36:28.976Z"
   },
   {
    "duration": 15,
    "start_time": "2023-09-28T11:41:37.868Z"
   },
   {
    "duration": 12,
    "start_time": "2023-09-28T11:44:00.858Z"
   },
   {
    "duration": 1061,
    "start_time": "2023-09-28T11:44:50.952Z"
   },
   {
    "duration": 847,
    "start_time": "2023-09-28T11:47:06.097Z"
   },
   {
    "duration": 15,
    "start_time": "2023-09-28T11:48:24.818Z"
   },
   {
    "duration": 11,
    "start_time": "2023-09-28T11:49:10.242Z"
   },
   {
    "duration": 7,
    "start_time": "2023-09-28T12:06:10.477Z"
   },
   {
    "duration": 8,
    "start_time": "2023-09-28T12:07:24.032Z"
   },
   {
    "duration": 5,
    "start_time": "2023-09-28T12:07:52.692Z"
   },
   {
    "duration": 5,
    "start_time": "2023-09-28T12:09:37.662Z"
   },
   {
    "duration": 552,
    "start_time": "2023-09-28T12:11:25.082Z"
   },
   {
    "duration": 933,
    "start_time": "2023-09-28T12:11:25.640Z"
   },
   {
    "duration": 12,
    "start_time": "2023-09-28T12:11:26.575Z"
   },
   {
    "duration": 162,
    "start_time": "2023-09-28T12:11:26.589Z"
   },
   {
    "duration": 236,
    "start_time": "2023-09-28T12:11:26.755Z"
   },
   {
    "duration": 95,
    "start_time": "2023-09-28T12:11:26.993Z"
   },
   {
    "duration": 64,
    "start_time": "2023-09-28T12:11:27.090Z"
   },
   {
    "duration": 16,
    "start_time": "2023-09-28T12:11:27.157Z"
   },
   {
    "duration": 100,
    "start_time": "2023-09-28T12:11:27.175Z"
   },
   {
    "duration": 127,
    "start_time": "2023-09-28T12:11:27.277Z"
   },
   {
    "duration": 50,
    "start_time": "2023-09-28T12:11:27.406Z"
   },
   {
    "duration": 36,
    "start_time": "2023-09-28T12:11:27.458Z"
   },
   {
    "duration": 87,
    "start_time": "2023-09-28T12:11:27.496Z"
   },
   {
    "duration": 25,
    "start_time": "2023-09-28T12:11:27.587Z"
   },
   {
    "duration": 39,
    "start_time": "2023-09-28T12:11:27.614Z"
   },
   {
    "duration": 31,
    "start_time": "2023-09-28T12:11:27.655Z"
   },
   {
    "duration": 48,
    "start_time": "2023-09-28T12:11:27.688Z"
   },
   {
    "duration": 40,
    "start_time": "2023-09-28T12:11:27.738Z"
   },
   {
    "duration": 77,
    "start_time": "2023-09-28T12:11:27.780Z"
   },
   {
    "duration": 89,
    "start_time": "2023-09-28T12:11:27.859Z"
   },
   {
    "duration": 25,
    "start_time": "2023-09-28T12:11:27.950Z"
   },
   {
    "duration": 174,
    "start_time": "2023-09-28T12:11:27.977Z"
   },
   {
    "duration": 3,
    "start_time": "2023-09-28T12:11:28.153Z"
   },
   {
    "duration": 112,
    "start_time": "2023-09-28T12:11:28.157Z"
   },
   {
    "duration": 173,
    "start_time": "2023-09-28T12:11:28.270Z"
   },
   {
    "duration": 6,
    "start_time": "2023-09-28T12:11:28.445Z"
   },
   {
    "duration": 425,
    "start_time": "2023-09-28T12:11:28.453Z"
   },
   {
    "duration": 8,
    "start_time": "2023-09-28T12:11:28.879Z"
   },
   {
    "duration": 184,
    "start_time": "2023-09-28T12:11:28.890Z"
   },
   {
    "duration": 127,
    "start_time": "2023-09-28T12:11:29.076Z"
   },
   {
    "duration": 7,
    "start_time": "2023-09-28T12:11:29.205Z"
   },
   {
    "duration": 165,
    "start_time": "2023-09-28T12:11:29.224Z"
   },
   {
    "duration": 5,
    "start_time": "2023-09-28T12:11:29.390Z"
   },
   {
    "duration": 43,
    "start_time": "2023-09-28T12:11:29.396Z"
   },
   {
    "duration": 93,
    "start_time": "2023-09-28T12:11:29.441Z"
   },
   {
    "duration": 10,
    "start_time": "2023-09-28T12:11:29.537Z"
   },
   {
    "duration": 43,
    "start_time": "2023-09-28T12:11:29.549Z"
   },
   {
    "duration": 92,
    "start_time": "2023-09-28T12:11:29.594Z"
   },
   {
    "duration": 12,
    "start_time": "2023-09-28T12:11:29.688Z"
   },
   {
    "duration": 25,
    "start_time": "2023-09-28T12:11:29.702Z"
   },
   {
    "duration": 21,
    "start_time": "2023-09-28T12:11:29.733Z"
   },
   {
    "duration": 6,
    "start_time": "2023-09-28T12:11:29.756Z"
   },
   {
    "duration": 11,
    "start_time": "2023-09-28T12:11:29.763Z"
   },
   {
    "duration": 17,
    "start_time": "2023-09-28T12:11:29.776Z"
   },
   {
    "duration": 25,
    "start_time": "2023-09-28T12:11:29.794Z"
   },
   {
    "duration": 655,
    "start_time": "2023-09-28T12:11:29.821Z"
   },
   {
    "duration": 9,
    "start_time": "2023-09-28T12:11:30.478Z"
   },
   {
    "duration": 39,
    "start_time": "2023-09-28T12:11:30.489Z"
   },
   {
    "duration": 521,
    "start_time": "2023-09-28T12:11:30.530Z"
   },
   {
    "duration": 929,
    "start_time": "2023-09-28T12:11:31.053Z"
   },
   {
    "duration": 4,
    "start_time": "2023-09-28T12:11:31.984Z"
   },
   {
    "duration": 90,
    "start_time": "2023-09-28T12:11:31.990Z"
   },
   {
    "duration": 500,
    "start_time": "2023-09-28T12:11:32.082Z"
   },
   {
    "duration": 252,
    "start_time": "2023-09-28T12:11:32.584Z"
   },
   {
    "duration": 19,
    "start_time": "2023-09-28T12:11:32.838Z"
   },
   {
    "duration": 29,
    "start_time": "2023-09-28T12:11:32.858Z"
   },
   {
    "duration": 12,
    "start_time": "2023-09-28T12:11:32.889Z"
   },
   {
    "duration": 17,
    "start_time": "2023-09-28T12:11:32.903Z"
   },
   {
    "duration": 59,
    "start_time": "2023-09-28T12:11:32.922Z"
   },
   {
    "duration": 52,
    "start_time": "2023-09-28T12:11:32.983Z"
   },
   {
    "duration": 44,
    "start_time": "2023-09-28T12:11:33.039Z"
   },
   {
    "duration": 33,
    "start_time": "2023-09-28T12:11:33.085Z"
   },
   {
    "duration": 90,
    "start_time": "2023-09-28T12:54:23.713Z"
   },
   {
    "duration": 527,
    "start_time": "2023-09-28T12:57:13.350Z"
   },
   {
    "duration": 814,
    "start_time": "2023-09-28T12:57:13.879Z"
   },
   {
    "duration": 13,
    "start_time": "2023-09-28T12:57:14.695Z"
   },
   {
    "duration": 55,
    "start_time": "2023-09-28T12:57:14.709Z"
   },
   {
    "duration": 51,
    "start_time": "2023-09-28T12:57:14.767Z"
   },
   {
    "duration": 64,
    "start_time": "2023-09-28T12:57:14.820Z"
   },
   {
    "duration": 77,
    "start_time": "2023-09-28T12:57:14.886Z"
   },
   {
    "duration": 123,
    "start_time": "2023-09-28T12:57:14.966Z"
   },
   {
    "duration": 225,
    "start_time": "2023-09-28T12:57:15.091Z"
   },
   {
    "duration": 128,
    "start_time": "2023-09-28T12:57:15.318Z"
   },
   {
    "duration": 23,
    "start_time": "2023-09-28T12:57:15.448Z"
   },
   {
    "duration": 47,
    "start_time": "2023-09-28T12:57:15.473Z"
   },
   {
    "duration": 170,
    "start_time": "2023-09-28T12:57:15.522Z"
   },
   {
    "duration": 75,
    "start_time": "2023-09-28T12:57:15.694Z"
   },
   {
    "duration": 31,
    "start_time": "2023-09-28T12:57:15.771Z"
   },
   {
    "duration": 27,
    "start_time": "2023-09-28T12:57:15.804Z"
   },
   {
    "duration": 30,
    "start_time": "2023-09-28T12:57:15.833Z"
   },
   {
    "duration": 13,
    "start_time": "2023-09-28T12:57:15.865Z"
   },
   {
    "duration": 27,
    "start_time": "2023-09-28T12:57:15.879Z"
   },
   {
    "duration": 58,
    "start_time": "2023-09-28T12:57:15.907Z"
   },
   {
    "duration": 18,
    "start_time": "2023-09-28T12:57:15.966Z"
   },
   {
    "duration": 286,
    "start_time": "2023-09-28T12:57:15.986Z"
   },
   {
    "duration": 60,
    "start_time": "2023-09-28T12:57:16.275Z"
   },
   {
    "duration": 176,
    "start_time": "2023-09-28T12:57:16.338Z"
   },
   {
    "duration": 125,
    "start_time": "2023-09-28T12:57:16.516Z"
   },
   {
    "duration": 6,
    "start_time": "2023-09-28T12:57:16.642Z"
   },
   {
    "duration": 347,
    "start_time": "2023-09-28T12:57:16.650Z"
   },
   {
    "duration": 10,
    "start_time": "2023-09-28T12:57:16.999Z"
   },
   {
    "duration": 281,
    "start_time": "2023-09-28T12:57:17.011Z"
   },
   {
    "duration": 125,
    "start_time": "2023-09-28T12:57:17.294Z"
   },
   {
    "duration": 14,
    "start_time": "2023-09-28T12:57:17.423Z"
   },
   {
    "duration": 168,
    "start_time": "2023-09-28T12:57:17.438Z"
   },
   {
    "duration": 4,
    "start_time": "2023-09-28T12:57:17.608Z"
   },
   {
    "duration": 34,
    "start_time": "2023-09-28T12:57:17.613Z"
   },
   {
    "duration": 19,
    "start_time": "2023-09-28T12:57:17.648Z"
   },
   {
    "duration": 9,
    "start_time": "2023-09-28T12:57:17.669Z"
   },
   {
    "duration": 26,
    "start_time": "2023-09-28T12:57:17.680Z"
   },
   {
    "duration": 38,
    "start_time": "2023-09-28T12:57:17.708Z"
   },
   {
    "duration": 46,
    "start_time": "2023-09-28T12:57:17.748Z"
   },
   {
    "duration": 42,
    "start_time": "2023-09-28T12:57:17.796Z"
   },
   {
    "duration": 27,
    "start_time": "2023-09-28T12:57:17.842Z"
   },
   {
    "duration": 30,
    "start_time": "2023-09-28T12:57:17.871Z"
   },
   {
    "duration": 32,
    "start_time": "2023-09-28T12:57:17.903Z"
   },
   {
    "duration": 15,
    "start_time": "2023-09-28T12:57:17.938Z"
   },
   {
    "duration": 36,
    "start_time": "2023-09-28T12:57:17.954Z"
   },
   {
    "duration": 618,
    "start_time": "2023-09-28T12:57:17.992Z"
   },
   {
    "duration": 20,
    "start_time": "2023-09-28T12:57:18.612Z"
   },
   {
    "duration": 123,
    "start_time": "2023-09-28T12:57:18.633Z"
   },
   {
    "duration": 669,
    "start_time": "2023-09-28T12:57:18.758Z"
   },
   {
    "duration": 880,
    "start_time": "2023-09-28T12:57:19.429Z"
   },
   {
    "duration": 4,
    "start_time": "2023-09-28T12:57:20.311Z"
   },
   {
    "duration": 494,
    "start_time": "2023-09-28T12:57:20.316Z"
   },
   {
    "duration": 508,
    "start_time": "2023-09-28T12:57:20.812Z"
   },
   {
    "duration": 53,
    "start_time": "2023-09-28T12:57:21.322Z"
   },
   {
    "duration": 53,
    "start_time": "2023-09-28T12:57:21.377Z"
   },
   {
    "duration": 82,
    "start_time": "2023-09-28T12:57:21.432Z"
   },
   {
    "duration": 35,
    "start_time": "2023-09-28T12:57:21.516Z"
   },
   {
    "duration": 58,
    "start_time": "2023-09-28T12:57:21.553Z"
   },
   {
    "duration": 73,
    "start_time": "2023-09-28T12:57:21.613Z"
   },
   {
    "duration": 55,
    "start_time": "2023-09-28T12:57:21.688Z"
   },
   {
    "duration": 73,
    "start_time": "2023-09-28T12:57:21.745Z"
   },
   {
    "duration": 32,
    "start_time": "2023-09-28T12:57:21.819Z"
   },
   {
    "duration": 526,
    "start_time": "2023-09-28T12:57:44.325Z"
   },
   {
    "duration": 797,
    "start_time": "2023-09-28T12:57:44.853Z"
   },
   {
    "duration": 13,
    "start_time": "2023-09-28T12:57:45.652Z"
   },
   {
    "duration": 20,
    "start_time": "2023-09-28T12:57:45.666Z"
   },
   {
    "duration": 26,
    "start_time": "2023-09-28T12:57:45.689Z"
   },
   {
    "duration": 40,
    "start_time": "2023-09-28T12:57:45.717Z"
   },
   {
    "duration": 42,
    "start_time": "2023-09-28T12:57:45.758Z"
   },
   {
    "duration": 41,
    "start_time": "2023-09-28T12:57:45.802Z"
   },
   {
    "duration": 15,
    "start_time": "2023-09-28T12:57:45.846Z"
   },
   {
    "duration": 34,
    "start_time": "2023-09-28T12:57:45.865Z"
   },
   {
    "duration": 29,
    "start_time": "2023-09-28T12:57:45.902Z"
   },
   {
    "duration": 23,
    "start_time": "2023-09-28T12:57:45.938Z"
   },
   {
    "duration": 36,
    "start_time": "2023-09-28T12:57:45.963Z"
   },
   {
    "duration": 29,
    "start_time": "2023-09-28T12:57:46.005Z"
   },
   {
    "duration": 29,
    "start_time": "2023-09-28T12:57:46.040Z"
   },
   {
    "duration": 27,
    "start_time": "2023-09-28T12:57:46.072Z"
   },
   {
    "duration": 44,
    "start_time": "2023-09-28T12:57:46.101Z"
   },
   {
    "duration": 22,
    "start_time": "2023-09-28T12:57:46.147Z"
   },
   {
    "duration": 27,
    "start_time": "2023-09-28T12:57:46.171Z"
   },
   {
    "duration": 17,
    "start_time": "2023-09-28T12:57:46.199Z"
   },
   {
    "duration": 25,
    "start_time": "2023-09-28T12:57:46.218Z"
   },
   {
    "duration": 162,
    "start_time": "2023-09-28T12:57:46.245Z"
   },
   {
    "duration": 5,
    "start_time": "2023-09-28T12:57:46.409Z"
   },
   {
    "duration": 39,
    "start_time": "2023-09-28T12:57:46.416Z"
   },
   {
    "duration": 107,
    "start_time": "2023-09-28T12:57:46.457Z"
   },
   {
    "duration": 6,
    "start_time": "2023-09-28T12:57:46.566Z"
   },
   {
    "duration": 330,
    "start_time": "2023-09-28T12:57:46.574Z"
   },
   {
    "duration": 27,
    "start_time": "2023-09-28T12:57:46.906Z"
   },
   {
    "duration": 149,
    "start_time": "2023-09-28T12:57:46.941Z"
   },
   {
    "duration": 148,
    "start_time": "2023-09-28T12:57:47.092Z"
   },
   {
    "duration": 9,
    "start_time": "2023-09-28T12:57:47.242Z"
   },
   {
    "duration": 259,
    "start_time": "2023-09-28T12:57:47.253Z"
   },
   {
    "duration": 14,
    "start_time": "2023-09-28T12:57:47.513Z"
   },
   {
    "duration": 133,
    "start_time": "2023-09-28T12:57:47.529Z"
   },
   {
    "duration": 105,
    "start_time": "2023-09-28T12:57:47.664Z"
   },
   {
    "duration": 63,
    "start_time": "2023-09-28T12:57:47.770Z"
   },
   {
    "duration": 106,
    "start_time": "2023-09-28T12:57:47.837Z"
   },
   {
    "duration": 96,
    "start_time": "2023-09-28T12:57:47.945Z"
   },
   {
    "duration": 62,
    "start_time": "2023-09-28T12:57:48.043Z"
   },
   {
    "duration": 96,
    "start_time": "2023-09-28T12:57:48.107Z"
   },
   {
    "duration": 237,
    "start_time": "2023-09-28T12:57:48.207Z"
   },
   {
    "duration": 115,
    "start_time": "2023-09-28T12:57:48.446Z"
   },
   {
    "duration": 32,
    "start_time": "2023-09-28T12:57:48.563Z"
   },
   {
    "duration": 52,
    "start_time": "2023-09-28T12:57:48.596Z"
   },
   {
    "duration": 15,
    "start_time": "2023-09-28T12:57:48.649Z"
   },
   {
    "duration": 646,
    "start_time": "2023-09-28T12:57:48.666Z"
   },
   {
    "duration": 19,
    "start_time": "2023-09-28T12:57:49.314Z"
   },
   {
    "duration": 16,
    "start_time": "2023-09-28T12:57:49.341Z"
   },
   {
    "duration": 603,
    "start_time": "2023-09-28T12:57:49.359Z"
   },
   {
    "duration": 878,
    "start_time": "2023-09-28T12:57:49.964Z"
   },
   {
    "duration": 4,
    "start_time": "2023-09-28T12:57:50.844Z"
   },
   {
    "duration": 69,
    "start_time": "2023-09-28T12:57:50.849Z"
   },
   {
    "duration": 282,
    "start_time": "2023-09-28T12:57:50.919Z"
   },
   {
    "duration": 35,
    "start_time": "2023-09-28T12:57:51.203Z"
   },
   {
    "duration": 45,
    "start_time": "2023-09-28T12:57:51.240Z"
   },
   {
    "duration": 44,
    "start_time": "2023-09-28T12:57:51.287Z"
   },
   {
    "duration": 42,
    "start_time": "2023-09-28T12:57:51.332Z"
   },
   {
    "duration": 66,
    "start_time": "2023-09-28T12:57:51.376Z"
   },
   {
    "duration": 23,
    "start_time": "2023-09-28T12:57:51.445Z"
   },
   {
    "duration": 16,
    "start_time": "2023-09-28T12:57:51.470Z"
   },
   {
    "duration": 15,
    "start_time": "2023-09-28T12:57:51.488Z"
   },
   {
    "duration": 36,
    "start_time": "2023-09-28T12:57:51.505Z"
   },
   {
    "duration": 596,
    "start_time": "2023-09-28T14:02:57.102Z"
   },
   {
    "duration": 1008,
    "start_time": "2023-09-28T14:02:57.700Z"
   },
   {
    "duration": 12,
    "start_time": "2023-09-28T14:02:58.710Z"
   },
   {
    "duration": 10,
    "start_time": "2023-09-28T14:02:58.723Z"
   },
   {
    "duration": 22,
    "start_time": "2023-09-28T14:02:58.734Z"
   },
   {
    "duration": 37,
    "start_time": "2023-09-28T14:02:58.757Z"
   },
   {
    "duration": 20,
    "start_time": "2023-09-28T14:02:58.796Z"
   },
   {
    "duration": 28,
    "start_time": "2023-09-28T14:02:58.817Z"
   },
   {
    "duration": 29,
    "start_time": "2023-09-28T14:02:58.847Z"
   },
   {
    "duration": 15,
    "start_time": "2023-09-28T14:02:58.880Z"
   },
   {
    "duration": 19,
    "start_time": "2023-09-28T14:02:58.897Z"
   },
   {
    "duration": 30,
    "start_time": "2023-09-28T14:02:58.918Z"
   },
   {
    "duration": 45,
    "start_time": "2023-09-28T14:02:58.950Z"
   },
   {
    "duration": 28,
    "start_time": "2023-09-28T14:02:58.997Z"
   },
   {
    "duration": 13,
    "start_time": "2023-09-28T14:02:59.027Z"
   },
   {
    "duration": 29,
    "start_time": "2023-09-28T14:02:59.042Z"
   },
   {
    "duration": 26,
    "start_time": "2023-09-28T14:02:59.073Z"
   },
   {
    "duration": 39,
    "start_time": "2023-09-28T14:02:59.101Z"
   },
   {
    "duration": 26,
    "start_time": "2023-09-28T14:02:59.142Z"
   },
   {
    "duration": 12,
    "start_time": "2023-09-28T14:02:59.170Z"
   },
   {
    "duration": 44,
    "start_time": "2023-09-28T14:02:59.183Z"
   },
   {
    "duration": 149,
    "start_time": "2023-09-28T14:02:59.229Z"
   },
   {
    "duration": 4,
    "start_time": "2023-09-28T14:02:59.381Z"
   },
   {
    "duration": 20,
    "start_time": "2023-09-28T14:02:59.386Z"
   },
   {
    "duration": 101,
    "start_time": "2023-09-28T14:02:59.407Z"
   },
   {
    "duration": 5,
    "start_time": "2023-09-28T14:02:59.510Z"
   },
   {
    "duration": 276,
    "start_time": "2023-09-28T14:02:59.517Z"
   },
   {
    "duration": 7,
    "start_time": "2023-09-28T14:02:59.797Z"
   },
   {
    "duration": 150,
    "start_time": "2023-09-28T14:02:59.806Z"
   },
   {
    "duration": 114,
    "start_time": "2023-09-28T14:02:59.958Z"
   },
   {
    "duration": 8,
    "start_time": "2023-09-28T14:03:00.074Z"
   },
   {
    "duration": 179,
    "start_time": "2023-09-28T14:03:00.084Z"
   },
   {
    "duration": 5,
    "start_time": "2023-09-28T14:03:00.264Z"
   },
   {
    "duration": 58,
    "start_time": "2023-09-28T14:03:00.271Z"
   },
   {
    "duration": 48,
    "start_time": "2023-09-28T14:03:00.330Z"
   },
   {
    "duration": 54,
    "start_time": "2023-09-28T14:03:00.380Z"
   },
   {
    "duration": 35,
    "start_time": "2023-09-28T14:03:00.436Z"
   },
   {
    "duration": 35,
    "start_time": "2023-09-28T14:03:00.473Z"
   },
   {
    "duration": 29,
    "start_time": "2023-09-28T14:03:00.510Z"
   },
   {
    "duration": 60,
    "start_time": "2023-09-28T14:03:00.541Z"
   },
   {
    "duration": 68,
    "start_time": "2023-09-28T14:03:00.603Z"
   },
   {
    "duration": 36,
    "start_time": "2023-09-28T14:03:00.673Z"
   },
   {
    "duration": 59,
    "start_time": "2023-09-28T14:03:00.710Z"
   },
   {
    "duration": 37,
    "start_time": "2023-09-28T14:03:00.771Z"
   },
   {
    "duration": 28,
    "start_time": "2023-09-28T14:03:00.810Z"
   },
   {
    "duration": 610,
    "start_time": "2023-09-28T14:03:00.841Z"
   },
   {
    "duration": 6,
    "start_time": "2023-09-28T14:03:01.453Z"
   },
   {
    "duration": 51,
    "start_time": "2023-09-28T14:03:01.461Z"
   },
   {
    "duration": 498,
    "start_time": "2023-09-28T14:03:01.514Z"
   },
   {
    "duration": 839,
    "start_time": "2023-09-28T14:03:02.014Z"
   },
   {
    "duration": 3,
    "start_time": "2023-09-28T14:03:02.854Z"
   },
   {
    "duration": 22,
    "start_time": "2023-09-28T14:03:02.859Z"
   },
   {
    "duration": 142,
    "start_time": "2023-09-28T14:03:02.883Z"
   },
   {
    "duration": 28,
    "start_time": "2023-09-28T14:03:03.026Z"
   },
   {
    "duration": 7,
    "start_time": "2023-09-28T14:03:03.055Z"
   },
   {
    "duration": 15,
    "start_time": "2023-09-28T14:03:03.063Z"
   },
   {
    "duration": 18,
    "start_time": "2023-09-28T14:03:03.080Z"
   },
   {
    "duration": 6,
    "start_time": "2023-09-28T14:03:03.100Z"
   },
   {
    "duration": 17,
    "start_time": "2023-09-28T14:03:03.107Z"
   },
   {
    "duration": 27,
    "start_time": "2023-09-28T14:03:03.126Z"
   },
   {
    "duration": 5,
    "start_time": "2023-09-28T14:03:03.155Z"
   },
   {
    "duration": 24,
    "start_time": "2023-09-28T14:03:03.162Z"
   },
   {
    "duration": 458,
    "start_time": "2023-09-28T15:12:12.113Z"
   },
   {
    "duration": 811,
    "start_time": "2023-09-28T15:12:12.573Z"
   },
   {
    "duration": 11,
    "start_time": "2023-09-28T15:12:13.385Z"
   },
   {
    "duration": 14,
    "start_time": "2023-09-28T15:12:13.398Z"
   },
   {
    "duration": 15,
    "start_time": "2023-09-28T15:12:13.414Z"
   },
   {
    "duration": 12,
    "start_time": "2023-09-28T15:12:13.431Z"
   },
   {
    "duration": 27,
    "start_time": "2023-09-28T15:12:13.448Z"
   },
   {
    "duration": 19,
    "start_time": "2023-09-28T15:12:13.477Z"
   },
   {
    "duration": 5,
    "start_time": "2023-09-28T15:12:13.498Z"
   },
   {
    "duration": 12,
    "start_time": "2023-09-28T15:12:13.506Z"
   },
   {
    "duration": 10,
    "start_time": "2023-09-28T15:12:13.519Z"
   },
   {
    "duration": 24,
    "start_time": "2023-09-28T15:12:13.531Z"
   },
   {
    "duration": 13,
    "start_time": "2023-09-28T15:12:13.556Z"
   },
   {
    "duration": 10,
    "start_time": "2023-09-28T15:12:13.570Z"
   },
   {
    "duration": 17,
    "start_time": "2023-09-28T15:12:13.582Z"
   },
   {
    "duration": 11,
    "start_time": "2023-09-28T15:12:13.600Z"
   },
   {
    "duration": 7,
    "start_time": "2023-09-28T15:12:13.613Z"
   },
   {
    "duration": 14,
    "start_time": "2023-09-28T15:12:13.622Z"
   },
   {
    "duration": 11,
    "start_time": "2023-09-28T15:12:13.638Z"
   },
   {
    "duration": 17,
    "start_time": "2023-09-28T15:12:13.651Z"
   },
   {
    "duration": 7,
    "start_time": "2023-09-28T15:12:13.670Z"
   },
   {
    "duration": 154,
    "start_time": "2023-09-28T15:12:13.679Z"
   },
   {
    "duration": 12,
    "start_time": "2023-09-28T15:12:13.834Z"
   },
   {
    "duration": 18,
    "start_time": "2023-09-28T15:12:13.848Z"
   },
   {
    "duration": 107,
    "start_time": "2023-09-28T15:12:13.868Z"
   },
   {
    "duration": 7,
    "start_time": "2023-09-28T15:12:13.976Z"
   },
   {
    "duration": 366,
    "start_time": "2023-09-28T15:12:13.984Z"
   },
   {
    "duration": 16,
    "start_time": "2023-09-28T15:12:14.356Z"
   },
   {
    "duration": 178,
    "start_time": "2023-09-28T15:12:14.374Z"
   },
   {
    "duration": 133,
    "start_time": "2023-09-28T15:12:14.554Z"
   },
   {
    "duration": 8,
    "start_time": "2023-09-28T15:12:14.689Z"
   },
   {
    "duration": 178,
    "start_time": "2023-09-28T15:12:14.698Z"
   },
   {
    "duration": 4,
    "start_time": "2023-09-28T15:12:14.878Z"
   },
   {
    "duration": 23,
    "start_time": "2023-09-28T15:12:14.884Z"
   },
   {
    "duration": 33,
    "start_time": "2023-09-28T15:12:14.909Z"
   },
   {
    "duration": 28,
    "start_time": "2023-09-28T15:12:14.943Z"
   },
   {
    "duration": 80,
    "start_time": "2023-09-28T15:12:14.972Z"
   },
   {
    "duration": 64,
    "start_time": "2023-09-28T15:12:15.054Z"
   },
   {
    "duration": 61,
    "start_time": "2023-09-28T15:12:15.120Z"
   },
   {
    "duration": 86,
    "start_time": "2023-09-28T15:12:15.182Z"
   },
   {
    "duration": 24,
    "start_time": "2023-09-28T15:12:15.270Z"
   },
   {
    "duration": 15,
    "start_time": "2023-09-28T15:12:15.296Z"
   },
   {
    "duration": 11,
    "start_time": "2023-09-28T15:12:15.313Z"
   },
   {
    "duration": 27,
    "start_time": "2023-09-28T15:12:15.325Z"
   },
   {
    "duration": 20,
    "start_time": "2023-09-28T15:12:15.355Z"
   },
   {
    "duration": 562,
    "start_time": "2023-09-28T15:12:15.378Z"
   },
   {
    "duration": 12,
    "start_time": "2023-09-28T15:12:15.947Z"
   },
   {
    "duration": 20,
    "start_time": "2023-09-28T15:12:15.960Z"
   },
   {
    "duration": 475,
    "start_time": "2023-09-28T15:12:15.982Z"
   },
   {
    "duration": 929,
    "start_time": "2023-09-28T15:12:16.461Z"
   },
   {
    "duration": 3,
    "start_time": "2023-09-28T15:12:17.392Z"
   },
   {
    "duration": 15,
    "start_time": "2023-09-28T15:12:17.397Z"
   },
   {
    "duration": 174,
    "start_time": "2023-09-28T15:12:17.414Z"
   },
   {
    "duration": 18,
    "start_time": "2023-09-28T15:12:17.589Z"
   },
   {
    "duration": 7,
    "start_time": "2023-09-28T15:12:17.609Z"
   },
   {
    "duration": 43,
    "start_time": "2023-09-28T15:12:17.617Z"
   },
   {
    "duration": 36,
    "start_time": "2023-09-28T15:12:17.662Z"
   },
   {
    "duration": 7,
    "start_time": "2023-09-28T15:12:17.700Z"
   },
   {
    "duration": 27,
    "start_time": "2023-09-28T15:12:17.708Z"
   },
   {
    "duration": 20,
    "start_time": "2023-09-28T15:12:17.737Z"
   },
   {
    "duration": 5,
    "start_time": "2023-09-28T15:12:17.760Z"
   },
   {
    "duration": 24,
    "start_time": "2023-09-28T15:12:17.767Z"
   },
   {
    "duration": 109,
    "start_time": "2023-09-28T15:23:23.453Z"
   },
   {
    "duration": 22,
    "start_time": "2023-09-28T15:23:33.704Z"
   },
   {
    "duration": 14,
    "start_time": "2023-09-28T15:23:47.759Z"
   },
   {
    "duration": 19,
    "start_time": "2023-09-28T15:25:32.844Z"
   },
   {
    "duration": 137,
    "start_time": "2023-09-28T20:09:00.449Z"
   },
   {
    "duration": 98,
    "start_time": "2023-09-28T20:25:43.716Z"
   },
   {
    "duration": 65,
    "start_time": "2023-09-28T20:31:22.816Z"
   },
   {
    "duration": 1645,
    "start_time": "2023-09-28T20:31:32.936Z"
   },
   {
    "duration": 201,
    "start_time": "2023-09-28T20:31:34.583Z"
   },
   {
    "duration": 15,
    "start_time": "2023-09-28T20:31:34.785Z"
   },
   {
    "duration": 8,
    "start_time": "2023-09-28T20:31:34.801Z"
   },
   {
    "duration": 13,
    "start_time": "2023-09-28T20:31:34.811Z"
   },
   {
    "duration": 17,
    "start_time": "2023-09-28T20:31:34.827Z"
   },
   {
    "duration": 24,
    "start_time": "2023-09-28T20:31:34.846Z"
   },
   {
    "duration": 7,
    "start_time": "2023-09-28T20:31:34.872Z"
   },
   {
    "duration": 25,
    "start_time": "2023-09-28T20:31:34.880Z"
   },
   {
    "duration": 19,
    "start_time": "2023-09-28T20:31:34.907Z"
   },
   {
    "duration": 18,
    "start_time": "2023-09-28T20:31:34.930Z"
   },
   {
    "duration": 20,
    "start_time": "2023-09-28T20:31:34.950Z"
   },
   {
    "duration": 14,
    "start_time": "2023-09-28T20:31:34.971Z"
   },
   {
    "duration": 25,
    "start_time": "2023-09-28T20:31:34.989Z"
   },
   {
    "duration": 17,
    "start_time": "2023-09-28T20:31:35.015Z"
   },
   {
    "duration": 17,
    "start_time": "2023-09-28T20:31:35.035Z"
   },
   {
    "duration": 39,
    "start_time": "2023-09-28T20:31:35.053Z"
   },
   {
    "duration": 33,
    "start_time": "2023-09-28T20:31:35.094Z"
   },
   {
    "duration": 12,
    "start_time": "2023-09-28T20:31:35.129Z"
   },
   {
    "duration": 26,
    "start_time": "2023-09-28T20:31:35.143Z"
   },
   {
    "duration": 38,
    "start_time": "2023-09-28T20:31:35.171Z"
   },
   {
    "duration": 163,
    "start_time": "2023-09-28T20:31:35.211Z"
   },
   {
    "duration": 4,
    "start_time": "2023-09-28T20:31:35.375Z"
   },
   {
    "duration": 12,
    "start_time": "2023-09-28T20:31:35.380Z"
   },
   {
    "duration": 115,
    "start_time": "2023-09-28T20:31:35.394Z"
   },
   {
    "duration": 19,
    "start_time": "2023-09-28T20:31:35.511Z"
   },
   {
    "duration": 355,
    "start_time": "2023-09-28T20:31:35.533Z"
   },
   {
    "duration": 10,
    "start_time": "2023-09-28T20:31:35.890Z"
   },
   {
    "duration": 209,
    "start_time": "2023-09-28T20:31:35.902Z"
   },
   {
    "duration": 144,
    "start_time": "2023-09-28T20:31:36.112Z"
   },
   {
    "duration": 7,
    "start_time": "2023-09-28T20:31:36.258Z"
   },
   {
    "duration": 190,
    "start_time": "2023-09-28T20:31:36.266Z"
   },
   {
    "duration": 5,
    "start_time": "2023-09-28T20:31:36.457Z"
   },
   {
    "duration": 10,
    "start_time": "2023-09-28T20:31:36.463Z"
   },
   {
    "duration": 28,
    "start_time": "2023-09-28T20:31:36.475Z"
   },
   {
    "duration": 17,
    "start_time": "2023-09-28T20:31:36.504Z"
   },
   {
    "duration": 29,
    "start_time": "2023-09-28T20:31:36.522Z"
   },
   {
    "duration": 10,
    "start_time": "2023-09-28T20:31:36.552Z"
   },
   {
    "duration": 11,
    "start_time": "2023-09-28T20:31:36.563Z"
   },
   {
    "duration": 22,
    "start_time": "2023-09-28T20:31:36.576Z"
   },
   {
    "duration": 13,
    "start_time": "2023-09-28T20:31:36.602Z"
   },
   {
    "duration": 8,
    "start_time": "2023-09-28T20:31:36.617Z"
   },
   {
    "duration": 7,
    "start_time": "2023-09-28T20:31:36.627Z"
   },
   {
    "duration": 12,
    "start_time": "2023-09-28T20:31:36.637Z"
   },
   {
    "duration": 13,
    "start_time": "2023-09-28T20:31:36.651Z"
   },
   {
    "duration": 702,
    "start_time": "2023-09-28T20:31:36.666Z"
   },
   {
    "duration": 6,
    "start_time": "2023-09-28T20:31:37.370Z"
   },
   {
    "duration": 23,
    "start_time": "2023-09-28T20:31:37.378Z"
   },
   {
    "duration": 521,
    "start_time": "2023-09-28T20:31:37.402Z"
   },
   {
    "duration": 117,
    "start_time": "2023-09-28T20:31:37.926Z"
   },
   {
    "duration": 0,
    "start_time": "2023-09-28T20:31:38.046Z"
   },
   {
    "duration": 0,
    "start_time": "2023-09-28T20:31:38.048Z"
   },
   {
    "duration": 0,
    "start_time": "2023-09-28T20:31:38.050Z"
   },
   {
    "duration": 0,
    "start_time": "2023-09-28T20:31:38.051Z"
   },
   {
    "duration": 0,
    "start_time": "2023-09-28T20:31:38.052Z"
   },
   {
    "duration": 0,
    "start_time": "2023-09-28T20:31:38.053Z"
   },
   {
    "duration": 0,
    "start_time": "2023-09-28T20:31:38.054Z"
   },
   {
    "duration": 0,
    "start_time": "2023-09-28T20:31:38.055Z"
   },
   {
    "duration": 0,
    "start_time": "2023-09-28T20:31:38.056Z"
   },
   {
    "duration": 0,
    "start_time": "2023-09-28T20:31:38.057Z"
   },
   {
    "duration": 0,
    "start_time": "2023-09-28T20:31:38.058Z"
   },
   {
    "duration": 0,
    "start_time": "2023-09-28T20:31:38.059Z"
   },
   {
    "duration": 110,
    "start_time": "2023-09-28T20:32:25.429Z"
   },
   {
    "duration": 10,
    "start_time": "2023-09-28T20:34:51.731Z"
   },
   {
    "duration": 4,
    "start_time": "2023-09-28T20:35:09.745Z"
   },
   {
    "duration": 942,
    "start_time": "2023-09-28T20:35:12.167Z"
   },
   {
    "duration": 6,
    "start_time": "2023-09-28T20:35:53.140Z"
   },
   {
    "duration": 180,
    "start_time": "2023-09-28T20:35:55.904Z"
   },
   {
    "duration": 33,
    "start_time": "2023-09-28T20:35:56.220Z"
   },
   {
    "duration": 11,
    "start_time": "2023-09-28T20:35:56.541Z"
   },
   {
    "duration": 11,
    "start_time": "2023-09-28T20:35:57.196Z"
   },
   {
    "duration": 14,
    "start_time": "2023-09-28T20:35:57.617Z"
   },
   {
    "duration": 9,
    "start_time": "2023-09-28T20:35:58.922Z"
   },
   {
    "duration": 14,
    "start_time": "2023-09-28T20:35:59.113Z"
   },
   {
    "duration": 13,
    "start_time": "2023-09-28T20:35:59.318Z"
   },
   {
    "duration": 5,
    "start_time": "2023-09-28T20:36:00.013Z"
   },
   {
    "duration": 6,
    "start_time": "2023-09-28T20:36:15.051Z"
   },
   {
    "duration": 189,
    "start_time": "2023-09-28T20:54:49.194Z"
   },
   {
    "duration": 82,
    "start_time": "2023-09-28T20:56:57.202Z"
   },
   {
    "duration": 108,
    "start_time": "2023-09-28T20:57:11.035Z"
   },
   {
    "duration": 130,
    "start_time": "2023-09-28T20:58:52.729Z"
   },
   {
    "duration": 207,
    "start_time": "2023-09-28T21:00:23.717Z"
   },
   {
    "duration": 212,
    "start_time": "2023-09-28T21:01:06.093Z"
   },
   {
    "duration": 154,
    "start_time": "2023-09-28T21:02:09.912Z"
   },
   {
    "duration": 213,
    "start_time": "2023-09-28T21:04:03.216Z"
   },
   {
    "duration": 239,
    "start_time": "2023-09-28T21:05:52.917Z"
   },
   {
    "duration": 284,
    "start_time": "2023-09-28T21:06:36.515Z"
   },
   {
    "duration": 638,
    "start_time": "2023-09-28T21:09:17.970Z"
   },
   {
    "duration": 177,
    "start_time": "2023-09-28T21:10:15.608Z"
   },
   {
    "duration": 658,
    "start_time": "2023-09-28T21:11:55.344Z"
   },
   {
    "duration": 643,
    "start_time": "2023-09-28T21:12:35.675Z"
   },
   {
    "duration": 1285,
    "start_time": "2023-09-28T21:13:10.349Z"
   },
   {
    "duration": 68,
    "start_time": "2023-09-28T21:13:11.638Z"
   },
   {
    "duration": 13,
    "start_time": "2023-09-28T21:13:11.707Z"
   },
   {
    "duration": 21,
    "start_time": "2023-09-28T21:13:11.721Z"
   },
   {
    "duration": 33,
    "start_time": "2023-09-28T21:13:11.746Z"
   },
   {
    "duration": 33,
    "start_time": "2023-09-28T21:13:11.781Z"
   },
   {
    "duration": 63,
    "start_time": "2023-09-28T21:13:11.817Z"
   },
   {
    "duration": 30,
    "start_time": "2023-09-28T21:13:11.883Z"
   },
   {
    "duration": 7,
    "start_time": "2023-09-28T21:13:11.916Z"
   },
   {
    "duration": 22,
    "start_time": "2023-09-28T21:13:11.926Z"
   },
   {
    "duration": 22,
    "start_time": "2023-09-28T21:13:11.951Z"
   },
   {
    "duration": 33,
    "start_time": "2023-09-28T21:13:11.975Z"
   },
   {
    "duration": 25,
    "start_time": "2023-09-28T21:13:12.011Z"
   },
   {
    "duration": 10,
    "start_time": "2023-09-28T21:13:12.042Z"
   },
   {
    "duration": 15,
    "start_time": "2023-09-28T21:13:12.054Z"
   },
   {
    "duration": 27,
    "start_time": "2023-09-28T21:13:12.070Z"
   },
   {
    "duration": 22,
    "start_time": "2023-09-28T21:13:12.099Z"
   },
   {
    "duration": 11,
    "start_time": "2023-09-28T21:13:12.122Z"
   },
   {
    "duration": 21,
    "start_time": "2023-09-28T21:13:12.136Z"
   },
   {
    "duration": 19,
    "start_time": "2023-09-28T21:13:12.158Z"
   },
   {
    "duration": 27,
    "start_time": "2023-09-28T21:13:12.179Z"
   },
   {
    "duration": 186,
    "start_time": "2023-09-28T21:13:12.208Z"
   },
   {
    "duration": 5,
    "start_time": "2023-09-28T21:13:12.396Z"
   },
   {
    "duration": 21,
    "start_time": "2023-09-28T21:13:12.403Z"
   },
   {
    "duration": 124,
    "start_time": "2023-09-28T21:13:12.429Z"
   },
   {
    "duration": 7,
    "start_time": "2023-09-28T21:13:12.555Z"
   },
   {
    "duration": 342,
    "start_time": "2023-09-28T21:13:12.563Z"
   },
   {
    "duration": 23,
    "start_time": "2023-09-28T21:13:12.907Z"
   },
   {
    "duration": 183,
    "start_time": "2023-09-28T21:13:12.933Z"
   },
   {
    "duration": 148,
    "start_time": "2023-09-28T21:13:13.118Z"
   },
   {
    "duration": 8,
    "start_time": "2023-09-28T21:13:13.267Z"
   },
   {
    "duration": 180,
    "start_time": "2023-09-28T21:13:13.276Z"
   },
   {
    "duration": 4,
    "start_time": "2023-09-28T21:13:13.458Z"
   },
   {
    "duration": 27,
    "start_time": "2023-09-28T21:13:13.464Z"
   },
   {
    "duration": 46,
    "start_time": "2023-09-28T21:13:13.493Z"
   },
   {
    "duration": 35,
    "start_time": "2023-09-28T21:13:13.542Z"
   },
   {
    "duration": 36,
    "start_time": "2023-09-28T21:13:13.579Z"
   },
   {
    "duration": 34,
    "start_time": "2023-09-28T21:13:13.617Z"
   },
   {
    "duration": 31,
    "start_time": "2023-09-28T21:13:13.653Z"
   },
   {
    "duration": 112,
    "start_time": "2023-09-28T21:13:13.686Z"
   },
   {
    "duration": 34,
    "start_time": "2023-09-28T21:13:13.803Z"
   },
   {
    "duration": 32,
    "start_time": "2023-09-28T21:13:13.840Z"
   },
   {
    "duration": 41,
    "start_time": "2023-09-28T21:13:13.873Z"
   },
   {
    "duration": 12,
    "start_time": "2023-09-28T21:13:13.916Z"
   },
   {
    "duration": 14,
    "start_time": "2023-09-28T21:13:13.930Z"
   },
   {
    "duration": 680,
    "start_time": "2023-09-28T21:13:13.948Z"
   },
   {
    "duration": 12,
    "start_time": "2023-09-28T21:13:14.630Z"
   },
   {
    "duration": 40,
    "start_time": "2023-09-28T21:13:14.644Z"
   },
   {
    "duration": 635,
    "start_time": "2023-09-28T21:13:14.685Z"
   },
   {
    "duration": 5,
    "start_time": "2023-09-28T21:13:15.321Z"
   },
   {
    "duration": 1032,
    "start_time": "2023-09-28T21:13:15.331Z"
   },
   {
    "duration": 5,
    "start_time": "2023-09-28T21:13:16.365Z"
   },
   {
    "duration": 193,
    "start_time": "2023-09-28T21:13:16.372Z"
   },
   {
    "duration": 29,
    "start_time": "2023-09-28T21:13:16.567Z"
   },
   {
    "duration": 26,
    "start_time": "2023-09-28T21:13:16.598Z"
   },
   {
    "duration": 15,
    "start_time": "2023-09-28T21:13:16.626Z"
   },
   {
    "duration": 25,
    "start_time": "2023-09-28T21:13:16.643Z"
   },
   {
    "duration": 12,
    "start_time": "2023-09-28T21:13:16.670Z"
   },
   {
    "duration": 23,
    "start_time": "2023-09-28T21:13:16.684Z"
   },
   {
    "duration": 40,
    "start_time": "2023-09-28T21:13:16.709Z"
   },
   {
    "duration": 19,
    "start_time": "2023-09-28T21:13:16.751Z"
   },
   {
    "duration": 21,
    "start_time": "2023-09-28T21:13:16.771Z"
   },
   {
    "duration": 1275,
    "start_time": "2023-09-28T21:13:53.874Z"
   },
   {
    "duration": 70,
    "start_time": "2023-09-28T21:13:55.152Z"
   },
   {
    "duration": 23,
    "start_time": "2023-09-28T21:13:55.224Z"
   },
   {
    "duration": 8,
    "start_time": "2023-09-28T21:13:55.251Z"
   },
   {
    "duration": 8,
    "start_time": "2023-09-28T21:13:55.261Z"
   },
   {
    "duration": 20,
    "start_time": "2023-09-28T21:13:55.270Z"
   },
   {
    "duration": 41,
    "start_time": "2023-09-28T21:13:55.291Z"
   },
   {
    "duration": 11,
    "start_time": "2023-09-28T21:13:55.335Z"
   },
   {
    "duration": 6,
    "start_time": "2023-09-28T21:13:55.352Z"
   },
   {
    "duration": 14,
    "start_time": "2023-09-28T21:13:55.361Z"
   },
   {
    "duration": 9,
    "start_time": "2023-09-28T21:13:55.377Z"
   },
   {
    "duration": 55,
    "start_time": "2023-09-28T21:13:55.387Z"
   },
   {
    "duration": 12,
    "start_time": "2023-09-28T21:13:55.444Z"
   },
   {
    "duration": 9,
    "start_time": "2023-09-28T21:13:55.458Z"
   },
   {
    "duration": 5,
    "start_time": "2023-09-28T21:13:55.469Z"
   },
   {
    "duration": 7,
    "start_time": "2023-09-28T21:13:55.476Z"
   },
   {
    "duration": 13,
    "start_time": "2023-09-28T21:13:55.485Z"
   },
   {
    "duration": 26,
    "start_time": "2023-09-28T21:13:55.500Z"
   },
   {
    "duration": 14,
    "start_time": "2023-09-28T21:13:55.529Z"
   },
   {
    "duration": 6,
    "start_time": "2023-09-28T21:13:55.547Z"
   },
   {
    "duration": 11,
    "start_time": "2023-09-28T21:13:55.554Z"
   },
   {
    "duration": 209,
    "start_time": "2023-09-28T21:13:55.566Z"
   },
   {
    "duration": 6,
    "start_time": "2023-09-28T21:13:55.777Z"
   },
   {
    "duration": 305,
    "start_time": "2023-09-28T21:13:55.785Z"
   },
   {
    "duration": 260,
    "start_time": "2023-09-28T21:13:56.092Z"
   },
   {
    "duration": 6,
    "start_time": "2023-09-28T21:13:56.354Z"
   },
   {
    "duration": 414,
    "start_time": "2023-09-28T21:13:56.361Z"
   },
   {
    "duration": 8,
    "start_time": "2023-09-28T21:13:56.779Z"
   },
   {
    "duration": 443,
    "start_time": "2023-09-28T21:13:56.789Z"
   },
   {
    "duration": 151,
    "start_time": "2023-09-28T21:13:57.235Z"
   },
   {
    "duration": 8,
    "start_time": "2023-09-28T21:13:57.388Z"
   },
   {
    "duration": 283,
    "start_time": "2023-09-28T21:13:57.398Z"
   },
   {
    "duration": 6,
    "start_time": "2023-09-28T21:13:57.683Z"
   },
   {
    "duration": 28,
    "start_time": "2023-09-28T21:13:57.690Z"
   },
   {
    "duration": 90,
    "start_time": "2023-09-28T21:13:57.720Z"
   },
   {
    "duration": 27,
    "start_time": "2023-09-28T21:13:57.811Z"
   },
   {
    "duration": 35,
    "start_time": "2023-09-28T21:13:57.841Z"
   },
   {
    "duration": 56,
    "start_time": "2023-09-28T21:13:57.878Z"
   },
   {
    "duration": 62,
    "start_time": "2023-09-28T21:13:57.937Z"
   },
   {
    "duration": 34,
    "start_time": "2023-09-28T21:13:58.001Z"
   },
   {
    "duration": 27,
    "start_time": "2023-09-28T21:13:58.038Z"
   },
   {
    "duration": 22,
    "start_time": "2023-09-28T21:13:58.067Z"
   },
   {
    "duration": 29,
    "start_time": "2023-09-28T21:13:58.091Z"
   },
   {
    "duration": 33,
    "start_time": "2023-09-28T21:13:58.121Z"
   },
   {
    "duration": 80,
    "start_time": "2023-09-28T21:13:58.156Z"
   },
   {
    "duration": 724,
    "start_time": "2023-09-28T21:13:58.239Z"
   },
   {
    "duration": 7,
    "start_time": "2023-09-28T21:13:58.964Z"
   },
   {
    "duration": 45,
    "start_time": "2023-09-28T21:13:58.973Z"
   },
   {
    "duration": 616,
    "start_time": "2023-09-28T21:13:59.020Z"
   },
   {
    "duration": 8,
    "start_time": "2023-09-28T21:13:59.638Z"
   },
   {
    "duration": 948,
    "start_time": "2023-09-28T21:13:59.650Z"
   },
   {
    "duration": 4,
    "start_time": "2023-09-28T21:14:00.599Z"
   },
   {
    "duration": 205,
    "start_time": "2023-09-28T21:14:00.604Z"
   },
   {
    "duration": 33,
    "start_time": "2023-09-28T21:14:00.810Z"
   },
   {
    "duration": 59,
    "start_time": "2023-09-28T21:14:00.847Z"
   },
   {
    "duration": 74,
    "start_time": "2023-09-28T21:14:00.907Z"
   },
   {
    "duration": 66,
    "start_time": "2023-09-28T21:14:00.983Z"
   },
   {
    "duration": 51,
    "start_time": "2023-09-28T21:14:01.052Z"
   },
   {
    "duration": 135,
    "start_time": "2023-09-28T21:14:01.105Z"
   },
   {
    "duration": 60,
    "start_time": "2023-09-28T21:14:01.242Z"
   },
   {
    "duration": 43,
    "start_time": "2023-09-28T21:14:01.304Z"
   },
   {
    "duration": 84,
    "start_time": "2023-09-28T21:14:01.348Z"
   },
   {
    "duration": 79,
    "start_time": "2023-09-28T21:15:53.496Z"
   },
   {
    "duration": 1125,
    "start_time": "2023-09-29T07:33:15.706Z"
   },
   {
    "duration": 67,
    "start_time": "2023-09-29T07:33:16.832Z"
   },
   {
    "duration": 14,
    "start_time": "2023-09-29T07:33:16.901Z"
   },
   {
    "duration": 17,
    "start_time": "2023-09-29T07:33:16.916Z"
   },
   {
    "duration": 9,
    "start_time": "2023-09-29T07:33:16.936Z"
   },
   {
    "duration": 19,
    "start_time": "2023-09-29T07:33:16.946Z"
   },
   {
    "duration": 17,
    "start_time": "2023-09-29T07:33:16.967Z"
   },
   {
    "duration": 9,
    "start_time": "2023-09-29T07:33:16.986Z"
   },
   {
    "duration": 13,
    "start_time": "2023-09-29T07:33:16.996Z"
   },
   {
    "duration": 16,
    "start_time": "2023-09-29T07:33:17.010Z"
   },
   {
    "duration": 8,
    "start_time": "2023-09-29T07:33:17.027Z"
   },
   {
    "duration": 9,
    "start_time": "2023-09-29T07:33:17.044Z"
   },
   {
    "duration": 7,
    "start_time": "2023-09-29T07:33:17.055Z"
   },
   {
    "duration": 13,
    "start_time": "2023-09-29T07:33:17.065Z"
   },
   {
    "duration": 12,
    "start_time": "2023-09-29T07:33:17.080Z"
   },
   {
    "duration": 14,
    "start_time": "2023-09-29T07:33:17.094Z"
   },
   {
    "duration": 25,
    "start_time": "2023-09-29T07:33:17.109Z"
   },
   {
    "duration": 6,
    "start_time": "2023-09-29T07:33:17.135Z"
   },
   {
    "duration": 13,
    "start_time": "2023-09-29T07:33:17.142Z"
   },
   {
    "duration": 11,
    "start_time": "2023-09-29T07:33:17.157Z"
   },
   {
    "duration": 31,
    "start_time": "2023-09-29T07:33:17.170Z"
   },
   {
    "duration": 188,
    "start_time": "2023-09-29T07:33:17.203Z"
   },
   {
    "duration": 4,
    "start_time": "2023-09-29T07:33:17.444Z"
   },
   {
    "duration": 17,
    "start_time": "2023-09-29T07:33:17.449Z"
   },
   {
    "duration": 184,
    "start_time": "2023-09-29T07:33:17.468Z"
   },
   {
    "duration": 7,
    "start_time": "2023-09-29T07:33:17.654Z"
   },
   {
    "duration": 601,
    "start_time": "2023-09-29T07:33:17.662Z"
   },
   {
    "duration": 6,
    "start_time": "2023-09-29T07:33:18.265Z"
   },
   {
    "duration": 179,
    "start_time": "2023-09-29T07:33:18.273Z"
   },
   {
    "duration": 218,
    "start_time": "2023-09-29T07:33:18.454Z"
   },
   {
    "duration": 7,
    "start_time": "2023-09-29T07:33:18.673Z"
   },
   {
    "duration": 198,
    "start_time": "2023-09-29T07:33:18.681Z"
   },
   {
    "duration": 5,
    "start_time": "2023-09-29T07:33:18.880Z"
   },
   {
    "duration": 7,
    "start_time": "2023-09-29T07:33:18.886Z"
   },
   {
    "duration": 14,
    "start_time": "2023-09-29T07:33:18.895Z"
   },
   {
    "duration": 9,
    "start_time": "2023-09-29T07:33:18.910Z"
   },
   {
    "duration": 30,
    "start_time": "2023-09-29T07:33:18.920Z"
   },
   {
    "duration": 38,
    "start_time": "2023-09-29T07:33:18.951Z"
   },
   {
    "duration": 21,
    "start_time": "2023-09-29T07:33:18.990Z"
   },
   {
    "duration": 8,
    "start_time": "2023-09-29T07:33:19.012Z"
   },
   {
    "duration": 15,
    "start_time": "2023-09-29T07:33:19.024Z"
   },
   {
    "duration": 8,
    "start_time": "2023-09-29T07:33:19.041Z"
   },
   {
    "duration": 5,
    "start_time": "2023-09-29T07:33:19.050Z"
   },
   {
    "duration": 13,
    "start_time": "2023-09-29T07:33:19.056Z"
   },
   {
    "duration": 11,
    "start_time": "2023-09-29T07:33:19.070Z"
   },
   {
    "duration": 988,
    "start_time": "2023-09-29T07:33:19.082Z"
   },
   {
    "duration": 8,
    "start_time": "2023-09-29T07:33:20.072Z"
   },
   {
    "duration": 167,
    "start_time": "2023-09-29T07:33:20.082Z"
   },
   {
    "duration": 1038,
    "start_time": "2023-09-29T07:33:20.251Z"
   },
   {
    "duration": 55,
    "start_time": "2023-09-29T07:33:21.291Z"
   },
   {
    "duration": 1614,
    "start_time": "2023-09-29T07:33:21.348Z"
   },
   {
    "duration": 3,
    "start_time": "2023-09-29T07:33:22.964Z"
   },
   {
    "duration": 285,
    "start_time": "2023-09-29T07:33:22.969Z"
   },
   {
    "duration": 16,
    "start_time": "2023-09-29T07:33:23.256Z"
   },
   {
    "duration": 6,
    "start_time": "2023-09-29T07:33:23.274Z"
   },
   {
    "duration": 70,
    "start_time": "2023-09-29T07:33:23.281Z"
   },
   {
    "duration": 10,
    "start_time": "2023-09-29T07:33:23.352Z"
   },
   {
    "duration": 6,
    "start_time": "2023-09-29T07:33:23.363Z"
   },
   {
    "duration": 79,
    "start_time": "2023-09-29T07:33:23.371Z"
   },
   {
    "duration": 11,
    "start_time": "2023-09-29T07:33:23.452Z"
   },
   {
    "duration": 5,
    "start_time": "2023-09-29T07:33:23.465Z"
   },
   {
    "duration": 76,
    "start_time": "2023-09-29T07:33:23.472Z"
   },
   {
    "duration": 1742,
    "start_time": "2023-09-29T07:33:29.940Z"
   },
   {
    "duration": 113,
    "start_time": "2023-09-29T07:33:31.684Z"
   },
   {
    "duration": 52,
    "start_time": "2023-09-29T07:33:31.798Z"
   },
   {
    "duration": 41,
    "start_time": "2023-09-29T07:33:31.852Z"
   },
   {
    "duration": 53,
    "start_time": "2023-09-29T07:33:31.896Z"
   },
   {
    "duration": 50,
    "start_time": "2023-09-29T07:33:31.951Z"
   },
   {
    "duration": 65,
    "start_time": "2023-09-29T07:33:32.002Z"
   },
   {
    "duration": 14,
    "start_time": "2023-09-29T07:33:32.069Z"
   },
   {
    "duration": 62,
    "start_time": "2023-09-29T07:33:32.084Z"
   },
   {
    "duration": 9,
    "start_time": "2023-09-29T07:33:32.148Z"
   },
   {
    "duration": 9,
    "start_time": "2023-09-29T07:33:32.159Z"
   },
   {
    "duration": 36,
    "start_time": "2023-09-29T07:33:32.170Z"
   },
   {
    "duration": 13,
    "start_time": "2023-09-29T07:33:32.208Z"
   },
   {
    "duration": 14,
    "start_time": "2023-09-29T07:33:32.224Z"
   },
   {
    "duration": 13,
    "start_time": "2023-09-29T07:33:32.239Z"
   },
   {
    "duration": 21,
    "start_time": "2023-09-29T07:33:32.254Z"
   },
   {
    "duration": 15,
    "start_time": "2023-09-29T07:33:32.276Z"
   },
   {
    "duration": 20,
    "start_time": "2023-09-29T07:33:32.293Z"
   },
   {
    "duration": 16,
    "start_time": "2023-09-29T07:33:32.314Z"
   },
   {
    "duration": 39,
    "start_time": "2023-09-29T07:33:32.332Z"
   },
   {
    "duration": 26,
    "start_time": "2023-09-29T07:33:32.373Z"
   },
   {
    "duration": 182,
    "start_time": "2023-09-29T07:33:32.401Z"
   },
   {
    "duration": 3,
    "start_time": "2023-09-29T07:33:32.585Z"
   },
   {
    "duration": 58,
    "start_time": "2023-09-29T07:33:32.589Z"
   },
   {
    "duration": 138,
    "start_time": "2023-09-29T07:33:32.649Z"
   },
   {
    "duration": 7,
    "start_time": "2023-09-29T07:33:32.845Z"
   },
   {
    "duration": 500,
    "start_time": "2023-09-29T07:33:32.853Z"
   },
   {
    "duration": 7,
    "start_time": "2023-09-29T07:33:33.354Z"
   },
   {
    "duration": 298,
    "start_time": "2023-09-29T07:33:33.362Z"
   },
   {
    "duration": 212,
    "start_time": "2023-09-29T07:33:33.662Z"
   },
   {
    "duration": 8,
    "start_time": "2023-09-29T07:33:33.876Z"
   },
   {
    "duration": 462,
    "start_time": "2023-09-29T07:33:33.885Z"
   },
   {
    "duration": 5,
    "start_time": "2023-09-29T07:33:34.348Z"
   },
   {
    "duration": 16,
    "start_time": "2023-09-29T07:33:34.354Z"
   },
   {
    "duration": 73,
    "start_time": "2023-09-29T07:33:34.371Z"
   },
   {
    "duration": 9,
    "start_time": "2023-09-29T07:33:34.446Z"
   },
   {
    "duration": 16,
    "start_time": "2023-09-29T07:33:34.457Z"
   },
   {
    "duration": 71,
    "start_time": "2023-09-29T07:33:34.475Z"
   },
   {
    "duration": 12,
    "start_time": "2023-09-29T07:33:34.548Z"
   },
   {
    "duration": 14,
    "start_time": "2023-09-29T07:33:34.561Z"
   },
   {
    "duration": 73,
    "start_time": "2023-09-29T07:33:34.579Z"
   },
   {
    "duration": 14,
    "start_time": "2023-09-29T07:33:34.654Z"
   },
   {
    "duration": 5,
    "start_time": "2023-09-29T07:33:34.669Z"
   },
   {
    "duration": 13,
    "start_time": "2023-09-29T07:33:34.676Z"
   },
   {
    "duration": 62,
    "start_time": "2023-09-29T07:33:34.690Z"
   },
   {
    "duration": 1096,
    "start_time": "2023-09-29T07:33:34.753Z"
   },
   {
    "duration": 7,
    "start_time": "2023-09-29T07:33:35.850Z"
   },
   {
    "duration": 8,
    "start_time": "2023-09-29T07:33:35.858Z"
   },
   {
    "duration": 897,
    "start_time": "2023-09-29T07:33:35.867Z"
   },
   {
    "duration": 3,
    "start_time": "2023-09-29T07:33:36.766Z"
   },
   {
    "duration": 1612,
    "start_time": "2023-09-29T07:33:36.771Z"
   },
   {
    "duration": 3,
    "start_time": "2023-09-29T07:33:38.385Z"
   },
   {
    "duration": 282,
    "start_time": "2023-09-29T07:33:38.390Z"
   },
   {
    "duration": 76,
    "start_time": "2023-09-29T07:33:38.674Z"
   },
   {
    "duration": 6,
    "start_time": "2023-09-29T07:33:38.753Z"
   },
   {
    "duration": 22,
    "start_time": "2023-09-29T07:33:38.760Z"
   },
   {
    "duration": 69,
    "start_time": "2023-09-29T07:33:38.784Z"
   },
   {
    "duration": 10,
    "start_time": "2023-09-29T07:33:38.855Z"
   },
   {
    "duration": 78,
    "start_time": "2023-09-29T07:33:38.867Z"
   },
   {
    "duration": 10,
    "start_time": "2023-09-29T07:33:38.946Z"
   },
   {
    "duration": 10,
    "start_time": "2023-09-29T07:33:38.957Z"
   },
   {
    "duration": 11,
    "start_time": "2023-09-29T07:33:38.968Z"
   }
  ],
  "kernelspec": {
   "display_name": "Python 3 (ipykernel)",
   "language": "python",
   "name": "python3"
  },
  "language_info": {
   "codemirror_mode": {
    "name": "ipython",
    "version": 3
   },
   "file_extension": ".py",
   "mimetype": "text/x-python",
   "name": "python",
   "nbconvert_exporter": "python",
   "pygments_lexer": "ipython3",
   "version": "3.9.18"
  },
  "toc": {
   "base_numbering": 1,
   "nav_menu": {},
   "number_sections": true,
   "sideBar": true,
   "skip_h1_title": true,
   "title_cell": "Table of Contents",
   "title_sidebar": "Contents",
   "toc_cell": false,
   "toc_position": {},
   "toc_section_display": true,
   "toc_window_display": false
  }
 },
 "nbformat": 4,
 "nbformat_minor": 5
}
