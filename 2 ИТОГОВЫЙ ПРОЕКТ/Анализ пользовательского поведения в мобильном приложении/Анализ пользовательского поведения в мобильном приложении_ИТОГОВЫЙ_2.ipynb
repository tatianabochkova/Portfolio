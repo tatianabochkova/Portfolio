{
 "cells": [
  {
   "cell_type": "markdown",
   "metadata": {},
   "source": [
    "# Анализ пользовательского поведения в мобильном приложении"
   ]
  },
  {
   "cell_type": "markdown",
   "metadata": {},
   "source": [
    "**Цель** : oценить влияние изменения шрифтов в мобильном приложении на поведение пользователей и эффективность воронки продаж.\n",
    "\n",
    "**Задачи:**\n",
    "\n",
    "1) Изучение воронки продаж для понимания того, как пользователи доходят до покупки. Определение количества пользователей, достигающих этапа покупки, и выявление этапов, на которых пользователи чаще всего \"застревают\".\n",
    "\n",
    "2) Анализ результатов A/A/B-эксперимента, проведенного для оценки влияния изменения шрифтов в приложении на поведение пользователей. Сравнение эффективности новых шрифтов с контрольными группами, использующими старые шрифты.\n",
    "\n",
    "\n",
    "**Исследование будет состоять из следующих этапов:**\n",
    "\n",
    "Подготовка данных: Открытие и изучение файла с данными, корректировка названий столбцов, проверка и исправление пропусков и типов данных, добавление столбцов с датой и временем.\n",
    "\n",
    "Анализ данных: Оценка общего количества событий и пользователей в логе, анализ среднего количества событий на пользователя, определение актуального периода данных для исследования.\n",
    "\n",
    "Исследование воронки событий: Определение последовательности и частоты встречаемости событий, расчет доли пользователей на каждом шаге воронки, выявление этапов с наибольшим оттоком пользователей.\n",
    "\n",
    "Анализ результатов A/A/B-эксперимента: Проверка корректности разбиения на группы, сравнение показателей между контрольными и экспериментальными группами, оценка эффекта от изменения шрифтов.\n",
    "\n",
    "Статистический анализ: Определение уровня значимости для статистических тестов, проверка гипотез о различиях между группами.\n",
    "\n",
    "\n",
    "**В распоряжении имеется лог действий пользователей, где каждая запись включает:**\n",
    "\n",
    "EventName – название события.\n",
    "\n",
    "DeviceIDHash – уникальный идентификатор пользователя.\n",
    "\n",
    "EventTimestamp – время события.\n",
    "\n",
    "ExpId – номер эксперимента (246 и 247 – контрольные группы, 248 – экспериментальная).\n"
   ]
  },
  {
   "cell_type": "code",
   "execution_count": 1,
   "metadata": {},
   "outputs": [],
   "source": [
    "import pandas as pd\n",
    "import datetime as dt\n",
    "import numpy as np\n",
    "import matplotlib.pyplot as plt\n",
    "import matplotlib.ticker as ticker\n",
    "import matplotlib.dates as mdates\n",
    "import scipy.stats as stats\n",
    "import seaborn as sns\n",
    "import math as mth\n",
    "\n",
    "pd.set_option('display.max_colwidth', None)# для расширения столбцов"
   ]
  },
  {
   "cell_type": "markdown",
   "metadata": {},
   "source": [
    "## Загрузка данных"
   ]
  },
  {
   "cell_type": "markdown",
   "metadata": {},
   "source": [
    "Импортируем файл с данными и изучим общую информацию"
   ]
  },
  {
   "cell_type": "code",
   "execution_count": 2,
   "metadata": {},
   "outputs": [],
   "source": [
    "df = pd.read_csv('/datasets/logs_exp.csv', sep = '\\t')"
   ]
  },
  {
   "cell_type": "code",
   "execution_count": 3,
   "metadata": {},
   "outputs": [
    {
     "data": {
      "text/html": [
       "<div>\n",
       "<style scoped>\n",
       "    .dataframe tbody tr th:only-of-type {\n",
       "        vertical-align: middle;\n",
       "    }\n",
       "\n",
       "    .dataframe tbody tr th {\n",
       "        vertical-align: top;\n",
       "    }\n",
       "\n",
       "    .dataframe thead th {\n",
       "        text-align: right;\n",
       "    }\n",
       "</style>\n",
       "<table border=\"1\" class=\"dataframe\">\n",
       "  <thead>\n",
       "    <tr style=\"text-align: right;\">\n",
       "      <th></th>\n",
       "      <th>EventName</th>\n",
       "      <th>DeviceIDHash</th>\n",
       "      <th>EventTimestamp</th>\n",
       "      <th>ExpId</th>\n",
       "    </tr>\n",
       "  </thead>\n",
       "  <tbody>\n",
       "    <tr>\n",
       "      <th>0</th>\n",
       "      <td>MainScreenAppear</td>\n",
       "      <td>4575588528974610257</td>\n",
       "      <td>1564029816</td>\n",
       "      <td>246</td>\n",
       "    </tr>\n",
       "    <tr>\n",
       "      <th>1</th>\n",
       "      <td>MainScreenAppear</td>\n",
       "      <td>7416695313311560658</td>\n",
       "      <td>1564053102</td>\n",
       "      <td>246</td>\n",
       "    </tr>\n",
       "    <tr>\n",
       "      <th>2</th>\n",
       "      <td>PaymentScreenSuccessful</td>\n",
       "      <td>3518123091307005509</td>\n",
       "      <td>1564054127</td>\n",
       "      <td>248</td>\n",
       "    </tr>\n",
       "    <tr>\n",
       "      <th>3</th>\n",
       "      <td>CartScreenAppear</td>\n",
       "      <td>3518123091307005509</td>\n",
       "      <td>1564054127</td>\n",
       "      <td>248</td>\n",
       "    </tr>\n",
       "    <tr>\n",
       "      <th>4</th>\n",
       "      <td>PaymentScreenSuccessful</td>\n",
       "      <td>6217807653094995999</td>\n",
       "      <td>1564055322</td>\n",
       "      <td>248</td>\n",
       "    </tr>\n",
       "  </tbody>\n",
       "</table>\n",
       "</div>"
      ],
      "text/plain": [
       "                 EventName         DeviceIDHash  EventTimestamp  ExpId\n",
       "0         MainScreenAppear  4575588528974610257      1564029816    246\n",
       "1         MainScreenAppear  7416695313311560658      1564053102    246\n",
       "2  PaymentScreenSuccessful  3518123091307005509      1564054127    248\n",
       "3         CartScreenAppear  3518123091307005509      1564054127    248\n",
       "4  PaymentScreenSuccessful  6217807653094995999      1564055322    248"
      ]
     },
     "execution_count": 3,
     "metadata": {},
     "output_type": "execute_result"
    }
   ],
   "source": [
    "df.head()"
   ]
  },
  {
   "cell_type": "markdown",
   "metadata": {},
   "source": [
    "## Предобработка данных"
   ]
  },
  {
   "cell_type": "markdown",
   "metadata": {},
   "source": [
    "Заменим названия столбцов"
   ]
  },
  {
   "cell_type": "code",
   "execution_count": 4,
   "metadata": {},
   "outputs": [],
   "source": [
    "df = df.rename(\n",
    "columns={\n",
    "'EventName': 'event_name',\n",
    "'DeviceIDHash': 'user_id',\n",
    "'EventTimestamp': 'eventime',\n",
    "'ExpId': 'group'}\n",
    ")"
   ]
  },
  {
   "cell_type": "code",
   "execution_count": 5,
   "metadata": {},
   "outputs": [
    {
     "data": {
      "text/html": [
       "<div>\n",
       "<style scoped>\n",
       "    .dataframe tbody tr th:only-of-type {\n",
       "        vertical-align: middle;\n",
       "    }\n",
       "\n",
       "    .dataframe tbody tr th {\n",
       "        vertical-align: top;\n",
       "    }\n",
       "\n",
       "    .dataframe thead th {\n",
       "        text-align: right;\n",
       "    }\n",
       "</style>\n",
       "<table border=\"1\" class=\"dataframe\">\n",
       "  <thead>\n",
       "    <tr style=\"text-align: right;\">\n",
       "      <th></th>\n",
       "      <th>event_name</th>\n",
       "      <th>user_id</th>\n",
       "      <th>eventime</th>\n",
       "      <th>group</th>\n",
       "    </tr>\n",
       "  </thead>\n",
       "  <tbody>\n",
       "    <tr>\n",
       "      <th>0</th>\n",
       "      <td>MainScreenAppear</td>\n",
       "      <td>4575588528974610257</td>\n",
       "      <td>1564029816</td>\n",
       "      <td>246</td>\n",
       "    </tr>\n",
       "    <tr>\n",
       "      <th>1</th>\n",
       "      <td>MainScreenAppear</td>\n",
       "      <td>7416695313311560658</td>\n",
       "      <td>1564053102</td>\n",
       "      <td>246</td>\n",
       "    </tr>\n",
       "    <tr>\n",
       "      <th>2</th>\n",
       "      <td>PaymentScreenSuccessful</td>\n",
       "      <td>3518123091307005509</td>\n",
       "      <td>1564054127</td>\n",
       "      <td>248</td>\n",
       "    </tr>\n",
       "    <tr>\n",
       "      <th>3</th>\n",
       "      <td>CartScreenAppear</td>\n",
       "      <td>3518123091307005509</td>\n",
       "      <td>1564054127</td>\n",
       "      <td>248</td>\n",
       "    </tr>\n",
       "    <tr>\n",
       "      <th>4</th>\n",
       "      <td>PaymentScreenSuccessful</td>\n",
       "      <td>6217807653094995999</td>\n",
       "      <td>1564055322</td>\n",
       "      <td>248</td>\n",
       "    </tr>\n",
       "  </tbody>\n",
       "</table>\n",
       "</div>"
      ],
      "text/plain": [
       "                event_name              user_id    eventime  group\n",
       "0         MainScreenAppear  4575588528974610257  1564029816    246\n",
       "1         MainScreenAppear  7416695313311560658  1564053102    246\n",
       "2  PaymentScreenSuccessful  3518123091307005509  1564054127    248\n",
       "3         CartScreenAppear  3518123091307005509  1564054127    248\n",
       "4  PaymentScreenSuccessful  6217807653094995999  1564055322    248"
      ]
     },
     "execution_count": 5,
     "metadata": {},
     "output_type": "execute_result"
    }
   ],
   "source": [
    "df.head()"
   ]
  },
  {
   "cell_type": "markdown",
   "metadata": {},
   "source": [
    "Проверим пропуски"
   ]
  },
  {
   "cell_type": "code",
   "execution_count": 6,
   "metadata": {},
   "outputs": [
    {
     "data": {
      "text/plain": [
       "event_name    0\n",
       "user_id       0\n",
       "eventime      0\n",
       "group         0\n",
       "dtype: int64"
      ]
     },
     "execution_count": 6,
     "metadata": {},
     "output_type": "execute_result"
    }
   ],
   "source": [
    "df.isna().sum()"
   ]
  },
  {
   "cell_type": "markdown",
   "metadata": {},
   "source": [
    "Пропуски отсутствуют "
   ]
  },
  {
   "cell_type": "markdown",
   "metadata": {},
   "source": [
    "Проверим данные на дубликаты"
   ]
  },
  {
   "cell_type": "code",
   "execution_count": 7,
   "metadata": {},
   "outputs": [
    {
     "name": "stdout",
     "output_type": "stream",
     "text": [
      "413\n"
     ]
    }
   ],
   "source": [
    "print(df .duplicated().sum())"
   ]
  },
  {
   "cell_type": "code",
   "execution_count": 8,
   "metadata": {},
   "outputs": [
    {
     "data": {
      "text/plain": [
       "(244126, 4)"
      ]
     },
     "execution_count": 8,
     "metadata": {},
     "output_type": "execute_result"
    }
   ],
   "source": [
    "df.shape"
   ]
  },
  {
   "cell_type": "markdown",
   "metadata": {},
   "source": [
    "Удалим 413 дубликатов, они составляют малую часть от объема данных"
   ]
  },
  {
   "cell_type": "code",
   "execution_count": 9,
   "metadata": {},
   "outputs": [
    {
     "data": {
      "text/plain": [
       "(243713, 4)"
      ]
     },
     "execution_count": 9,
     "metadata": {},
     "output_type": "execute_result"
    }
   ],
   "source": [
    "df = df.drop_duplicates()\n",
    "df.shape"
   ]
  },
  {
   "cell_type": "markdown",
   "metadata": {},
   "source": [
    "Проверим попадание одних и тех же пользователей в несколько групп"
   ]
  },
  {
   "cell_type": "code",
   "execution_count": 10,
   "metadata": {},
   "outputs": [
    {
     "name": "stdout",
     "output_type": "stream",
     "text": [
      "Попадание одних и тех же пользователей в несколько групп отсутствует\n"
     ]
    }
   ],
   "source": [
    "users_in_multiple_groups = df.groupby('user_id')['group'].nunique()\n",
    "if users_in_multiple_groups[users_in_multiple_groups > 1].any():\n",
    "    print('Попадание одних и тех же пользователей в несколько групп присутствует')\n",
    "else:\n",
    "    print('Попадание одних и тех же пользователей в несколько групп отсутствует')"
   ]
  },
  {
   "cell_type": "markdown",
   "metadata": {},
   "source": [
    "Проверим типы данных"
   ]
  },
  {
   "cell_type": "code",
   "execution_count": 11,
   "metadata": {},
   "outputs": [
    {
     "data": {
      "text/plain": [
       "event_name    object\n",
       "user_id        int64\n",
       "eventime       int64\n",
       "group          int64\n",
       "dtype: object"
      ]
     },
     "execution_count": 11,
     "metadata": {},
     "output_type": "execute_result"
    }
   ],
   "source": [
    "df.dtypes"
   ]
  },
  {
   "cell_type": "markdown",
   "metadata": {},
   "source": [
    "Добавим столбец даты и времени, а также отдельный столбец дат"
   ]
  },
  {
   "cell_type": "code",
   "execution_count": 12,
   "metadata": {},
   "outputs": [],
   "source": [
    "df['date_time'] = pd.to_datetime(df['eventime'], unit='s')"
   ]
  },
  {
   "cell_type": "code",
   "execution_count": 13,
   "metadata": {},
   "outputs": [],
   "source": [
    "df['day'] = pd.DatetimeIndex(df['date_time']).date"
   ]
  },
  {
   "cell_type": "code",
   "execution_count": 14,
   "metadata": {
    "scrolled": true
   },
   "outputs": [
    {
     "data": {
      "text/html": [
       "<div>\n",
       "<style scoped>\n",
       "    .dataframe tbody tr th:only-of-type {\n",
       "        vertical-align: middle;\n",
       "    }\n",
       "\n",
       "    .dataframe tbody tr th {\n",
       "        vertical-align: top;\n",
       "    }\n",
       "\n",
       "    .dataframe thead th {\n",
       "        text-align: right;\n",
       "    }\n",
       "</style>\n",
       "<table border=\"1\" class=\"dataframe\">\n",
       "  <thead>\n",
       "    <tr style=\"text-align: right;\">\n",
       "      <th></th>\n",
       "      <th>event_name</th>\n",
       "      <th>user_id</th>\n",
       "      <th>eventime</th>\n",
       "      <th>group</th>\n",
       "      <th>date_time</th>\n",
       "      <th>day</th>\n",
       "    </tr>\n",
       "  </thead>\n",
       "  <tbody>\n",
       "    <tr>\n",
       "      <th>0</th>\n",
       "      <td>MainScreenAppear</td>\n",
       "      <td>4575588528974610257</td>\n",
       "      <td>1564029816</td>\n",
       "      <td>246</td>\n",
       "      <td>2019-07-25 04:43:36</td>\n",
       "      <td>2019-07-25</td>\n",
       "    </tr>\n",
       "    <tr>\n",
       "      <th>1</th>\n",
       "      <td>MainScreenAppear</td>\n",
       "      <td>7416695313311560658</td>\n",
       "      <td>1564053102</td>\n",
       "      <td>246</td>\n",
       "      <td>2019-07-25 11:11:42</td>\n",
       "      <td>2019-07-25</td>\n",
       "    </tr>\n",
       "    <tr>\n",
       "      <th>2</th>\n",
       "      <td>PaymentScreenSuccessful</td>\n",
       "      <td>3518123091307005509</td>\n",
       "      <td>1564054127</td>\n",
       "      <td>248</td>\n",
       "      <td>2019-07-25 11:28:47</td>\n",
       "      <td>2019-07-25</td>\n",
       "    </tr>\n",
       "    <tr>\n",
       "      <th>3</th>\n",
       "      <td>CartScreenAppear</td>\n",
       "      <td>3518123091307005509</td>\n",
       "      <td>1564054127</td>\n",
       "      <td>248</td>\n",
       "      <td>2019-07-25 11:28:47</td>\n",
       "      <td>2019-07-25</td>\n",
       "    </tr>\n",
       "    <tr>\n",
       "      <th>4</th>\n",
       "      <td>PaymentScreenSuccessful</td>\n",
       "      <td>6217807653094995999</td>\n",
       "      <td>1564055322</td>\n",
       "      <td>248</td>\n",
       "      <td>2019-07-25 11:48:42</td>\n",
       "      <td>2019-07-25</td>\n",
       "    </tr>\n",
       "  </tbody>\n",
       "</table>\n",
       "</div>"
      ],
      "text/plain": [
       "                event_name              user_id    eventime  group  \\\n",
       "0         MainScreenAppear  4575588528974610257  1564029816    246   \n",
       "1         MainScreenAppear  7416695313311560658  1564053102    246   \n",
       "2  PaymentScreenSuccessful  3518123091307005509  1564054127    248   \n",
       "3         CartScreenAppear  3518123091307005509  1564054127    248   \n",
       "4  PaymentScreenSuccessful  6217807653094995999  1564055322    248   \n",
       "\n",
       "            date_time         day  \n",
       "0 2019-07-25 04:43:36  2019-07-25  \n",
       "1 2019-07-25 11:11:42  2019-07-25  \n",
       "2 2019-07-25 11:28:47  2019-07-25  \n",
       "3 2019-07-25 11:28:47  2019-07-25  \n",
       "4 2019-07-25 11:48:42  2019-07-25  "
      ]
     },
     "execution_count": 14,
     "metadata": {},
     "output_type": "execute_result"
    }
   ],
   "source": [
    "df.head()"
   ]
  },
  {
   "cell_type": "markdown",
   "metadata": {},
   "source": [
    "На данном шаге:\n",
    "\n",
    "1) Загрузила данные \n",
    "\n",
    "2) Заменила названия столбцов в таблице\n",
    "\n",
    "3) Удалила дубликаты (413 записей)\n",
    "\n",
    "4) Проверила пропуски (они отсутствуют)\n",
    "\n",
    "5) Проверила попадание одних и тех же пользователей в несколько групп (Попадание одних и тех же пользователей в несколько групп отсутствует)\n",
    "\n",
    "6) Проверила тип данных в таблице (добавила столбец даты и времени, а также отдельный столбец дат в типе данных даты)"
   ]
  },
  {
   "cell_type": "markdown",
   "metadata": {},
   "source": [
    "## Исследовательский анализ данных"
   ]
  },
  {
   "cell_type": "markdown",
   "metadata": {},
   "source": [
    "### Изучение и проверка данных"
   ]
  },
  {
   "cell_type": "markdown",
   "metadata": {},
   "source": [
    "Определим сколько всего событий в лог"
   ]
  },
  {
   "cell_type": "code",
   "execution_count": 15,
   "metadata": {},
   "outputs": [
    {
     "name": "stdout",
     "output_type": "stream",
     "text": [
      "Всего 243713 событий\n"
     ]
    }
   ],
   "source": [
    "a = df['event_name'].count()\n",
    "print(f\"Всего {a} событий\")"
   ]
  },
  {
   "cell_type": "markdown",
   "metadata": {},
   "source": [
    "Определим сколько всего пользователей в логе"
   ]
  },
  {
   "cell_type": "code",
   "execution_count": 16,
   "metadata": {},
   "outputs": [
    {
     "name": "stdout",
     "output_type": "stream",
     "text": [
      "Всего 7551 уникальных пользователей\n"
     ]
    }
   ],
   "source": [
    "b = df['user_id'].nunique()\n",
    "print(f\"Всего {b} уникальных пользователей\")"
   ]
  },
  {
   "cell_type": "markdown",
   "metadata": {},
   "source": [
    "Определим сколько в среднем событий приходится на пользователя"
   ]
  },
  {
   "cell_type": "code",
   "execution_count": 17,
   "metadata": {},
   "outputs": [
    {
     "data": {
      "text/plain": [
       "32"
      ]
     },
     "execution_count": 17,
     "metadata": {},
     "output_type": "execute_result"
    }
   ],
   "source": [
    "round(a/b)"
   ]
  },
  {
   "cell_type": "code",
   "execution_count": 18,
   "metadata": {},
   "outputs": [
    {
     "data": {
      "text/plain": [
       "20.0"
      ]
     },
     "execution_count": 18,
     "metadata": {},
     "output_type": "execute_result"
    }
   ],
   "source": [
    "mean = df.groupby('user_id')['event_name'].count().median()\n",
    "mean"
   ]
  },
  {
   "cell_type": "markdown",
   "metadata": {},
   "source": [
    "В среднем на пользователя 32 события если использовать среднее и 20 если использовать медиану. \n",
    "\n",
    "В таких ситуациях медиана представляет собой более надежную меру центральной тенденции, поскольку она менее чувствительна к выбросам. Медиана дает нам представление о \"типичном\" пользователе, тогда как среднее значение искажается из-за нескольких пользователей с очень высоким количеством событий.\n",
    "\n",
    "Поэтому в среднем на пользователя приходилось 20 событий"
   ]
  },
  {
   "cell_type": "markdown",
   "metadata": {},
   "source": [
    "Определим данными за какой период располагаем(найдем максимальную и минимальную дату)"
   ]
  },
  {
   "cell_type": "code",
   "execution_count": 19,
   "metadata": {},
   "outputs": [
    {
     "data": {
      "text/html": [
       "<div>\n",
       "<style scoped>\n",
       "    .dataframe tbody tr th:only-of-type {\n",
       "        vertical-align: middle;\n",
       "    }\n",
       "\n",
       "    .dataframe tbody tr th {\n",
       "        vertical-align: top;\n",
       "    }\n",
       "\n",
       "    .dataframe thead th {\n",
       "        text-align: right;\n",
       "    }\n",
       "</style>\n",
       "<table border=\"1\" class=\"dataframe\">\n",
       "  <thead>\n",
       "    <tr style=\"text-align: right;\">\n",
       "      <th></th>\n",
       "      <th>day</th>\n",
       "    </tr>\n",
       "  </thead>\n",
       "  <tbody>\n",
       "    <tr>\n",
       "      <th>min</th>\n",
       "      <td>2019-07-25</td>\n",
       "    </tr>\n",
       "    <tr>\n",
       "      <th>max</th>\n",
       "      <td>2019-08-07</td>\n",
       "    </tr>\n",
       "  </tbody>\n",
       "</table>\n",
       "</div>"
      ],
      "text/plain": [
       "            day\n",
       "min  2019-07-25\n",
       "max  2019-08-07"
      ]
     },
     "execution_count": 19,
     "metadata": {},
     "output_type": "execute_result"
    }
   ],
   "source": [
    "df.agg({'day':['min','max']})"
   ]
  },
  {
   "cell_type": "markdown",
   "metadata": {},
   "source": [
    "Минимальная дата - 25 июля 2019\n",
    "\n",
    "Максимальная 7 августа 2019"
   ]
  },
  {
   "cell_type": "markdown",
   "metadata": {},
   "source": [
    "Изучим, как меняется количество данных. Для этого построим столбчатую диаграмму, которая отобразит количество событий в зависимости от времени в разрезе групп"
   ]
  },
  {
   "cell_type": "code",
   "execution_count": 20,
   "metadata": {},
   "outputs": [
    {
     "data": {
      "image/png": "[encoded data removed]",
      "text/plain": [
       "<Figure size 720x432 with 1 Axes>"
      ]
     },
     "metadata": {
      "needs_background": "light"
     },
     "output_type": "display_data"
    }
   ],
   "source": [
    "# Группировка и подсчет событий\n",
    "grouped_data = df.groupby(['day', 'group'])['group'].count().reset_index(name='event_count')\n",
    "\n",
    "\n",
    "# Построение диаграммы\n",
    "plt.figure(figsize=(10, 6))\n",
    "sns.barplot(x='day', y='event_count', hue='group', data=grouped_data)\n",
    "plt.title('Количество событий по датам и группам')\n",
    "plt.xlabel('Дата')\n",
    "plt.ylabel('Количество событий')\n",
    "plt.xticks(rotation=45)\n",
    "plt.legend(title='Группа')\n",
    "plt.show()"
   ]
  },
  {
   "cell_type": "markdown",
   "metadata": {},
   "source": [
    "Мы не можем быть уверенным, что у вас одинаково полные данные за весь период. \n",
    "\n",
    "Из диаграммы мы видим, что данные становятся полными только с 1 августа 2019. Соответственно данные за период с 25 июля 2019 по 31 июля 2019 не полные. \n",
    "\n",
    "Стооит использовать данные только с 1 августа 2019"
   ]
  },
  {
   "cell_type": "code",
   "execution_count": 21,
   "metadata": {},
   "outputs": [
    {
     "data": {
      "text/html": [
       "<div>\n",
       "<style scoped>\n",
       "    .dataframe tbody tr th:only-of-type {\n",
       "        vertical-align: middle;\n",
       "    }\n",
       "\n",
       "    .dataframe tbody tr th {\n",
       "        vertical-align: top;\n",
       "    }\n",
       "\n",
       "    .dataframe thead th {\n",
       "        text-align: right;\n",
       "    }\n",
       "</style>\n",
       "<table border=\"1\" class=\"dataframe\">\n",
       "  <thead>\n",
       "    <tr style=\"text-align: right;\">\n",
       "      <th></th>\n",
       "      <th>event_name</th>\n",
       "      <th>user_id</th>\n",
       "      <th>eventime</th>\n",
       "      <th>group</th>\n",
       "      <th>date_time</th>\n",
       "      <th>day</th>\n",
       "    </tr>\n",
       "  </thead>\n",
       "  <tbody>\n",
       "    <tr>\n",
       "      <th>2828</th>\n",
       "      <td>Tutorial</td>\n",
       "      <td>3737462046622621720</td>\n",
       "      <td>1564618048</td>\n",
       "      <td>246</td>\n",
       "      <td>2019-08-01 00:07:28</td>\n",
       "      <td>2019-08-01</td>\n",
       "    </tr>\n",
       "    <tr>\n",
       "      <th>2829</th>\n",
       "      <td>MainScreenAppear</td>\n",
       "      <td>3737462046622621720</td>\n",
       "      <td>1564618080</td>\n",
       "      <td>246</td>\n",
       "      <td>2019-08-01 00:08:00</td>\n",
       "      <td>2019-08-01</td>\n",
       "    </tr>\n",
       "    <tr>\n",
       "      <th>2830</th>\n",
       "      <td>MainScreenAppear</td>\n",
       "      <td>3737462046622621720</td>\n",
       "      <td>1564618135</td>\n",
       "      <td>246</td>\n",
       "      <td>2019-08-01 00:08:55</td>\n",
       "      <td>2019-08-01</td>\n",
       "    </tr>\n",
       "    <tr>\n",
       "      <th>2831</th>\n",
       "      <td>OffersScreenAppear</td>\n",
       "      <td>3737462046622621720</td>\n",
       "      <td>1564618138</td>\n",
       "      <td>246</td>\n",
       "      <td>2019-08-01 00:08:58</td>\n",
       "      <td>2019-08-01</td>\n",
       "    </tr>\n",
       "    <tr>\n",
       "      <th>2832</th>\n",
       "      <td>MainScreenAppear</td>\n",
       "      <td>1433840883824088890</td>\n",
       "      <td>1564618139</td>\n",
       "      <td>247</td>\n",
       "      <td>2019-08-01 00:08:59</td>\n",
       "      <td>2019-08-01</td>\n",
       "    </tr>\n",
       "  </tbody>\n",
       "</table>\n",
       "</div>"
      ],
      "text/plain": [
       "              event_name              user_id    eventime  group  \\\n",
       "2828            Tutorial  3737462046622621720  1564618048    246   \n",
       "2829    MainScreenAppear  3737462046622621720  1564618080    246   \n",
       "2830    MainScreenAppear  3737462046622621720  1564618135    246   \n",
       "2831  OffersScreenAppear  3737462046622621720  1564618138    246   \n",
       "2832    MainScreenAppear  1433840883824088890  1564618139    247   \n",
       "\n",
       "               date_time         day  \n",
       "2828 2019-08-01 00:07:28  2019-08-01  \n",
       "2829 2019-08-01 00:08:00  2019-08-01  \n",
       "2830 2019-08-01 00:08:55  2019-08-01  \n",
       "2831 2019-08-01 00:08:58  2019-08-01  \n",
       "2832 2019-08-01 00:08:59  2019-08-01  "
      ]
     },
     "execution_count": 21,
     "metadata": {},
     "output_type": "execute_result"
    }
   ],
   "source": [
    "date_string = \"2019-08-01\"\n",
    "date_datetime = pd.to_datetime(date_string)\n",
    "\n",
    "# Используем преобразованный объект datetime в методе query\n",
    "filtered_data_with_datetime = df.query('day >= @date_datetime')\n",
    "\n",
    "filtered_data_with_datetime.head()"
   ]
  },
  {
   "cell_type": "markdown",
   "metadata": {},
   "source": [
    "Определим много ли событий и пользователей  потеряли, отбросив старые данные"
   ]
  },
  {
   "cell_type": "code",
   "execution_count": 22,
   "metadata": {},
   "outputs": [
    {
     "name": "stdout",
     "output_type": "stream",
     "text": [
      "17\n",
      "Процент потерь пользователей: 0.23 %\n"
     ]
    }
   ],
   "source": [
    "df_drop = df.groupby('user_id',as_index=False )['day'].max().query('day <  @date_datetime')\n",
    "print(df_drop['user_id'].count())\n",
    "print('Процент потерь пользователей:', round(df_drop['user_id'].count()/df['user_id'].nunique()*100, 2), '%')"
   ]
  },
  {
   "cell_type": "code",
   "execution_count": 23,
   "metadata": {},
   "outputs": [
    {
     "name": "stdout",
     "output_type": "stream",
     "text": [
      "2826\n",
      "Процент потерь cобытий: 1.16 %\n"
     ]
    }
   ],
   "source": [
    "df_drop_event = df.query('day < @date_datetime')['event_name'].count()\n",
    "print(df_drop_event)\n",
    "print('Процент потерь cобытий:', round(df_drop_event /df['event_name'].count()*100, 2), '%')"
   ]
  },
  {
   "cell_type": "markdown",
   "metadata": {},
   "source": [
    "После удаления данных мы потеряли 17 пользователей и 2 826 событий"
   ]
  },
  {
   "cell_type": "markdown",
   "metadata": {},
   "source": [
    "Проверим, что у нас есть пользователи из всех трёх экспериментальных групп"
   ]
  },
  {
   "cell_type": "code",
   "execution_count": 24,
   "metadata": {},
   "outputs": [
    {
     "data": {
      "text/plain": [
       "group\n",
       "246    2484\n",
       "247    2513\n",
       "248    2537\n",
       "Name: user_id, dtype: int64"
      ]
     },
     "execution_count": 24,
     "metadata": {},
     "output_type": "execute_result"
    }
   ],
   "source": [
    "filtered_data_with_datetime.groupby('group')['user_id'].nunique()"
   ]
  },
  {
   "cell_type": "markdown",
   "metadata": {},
   "source": [
    "Мы провели тщательный анализ и верификацию данных. Было установлено, что в нашей таблице содержится 243713 событий, связанных с 7551 уникальным пользователем. \n",
    "\n",
    "В среднем на каждого пользователя приходится около 20 событий. \n",
    "\n",
    "Мы удалили данные до 1 августа для устранения возможного искажения результатов. В результате этого процесса были исключены 17 пользователей и 2826 событий. Однако это исключение вряд ли окажет значительное влияние на общие выводы нашего исследования. Наша таблица включает в себя представителей всех групп пользователей в достаточном и сбалансированном количестве."
   ]
  },
  {
   "cell_type": "markdown",
   "metadata": {},
   "source": [
    "### Изучение воронки событий"
   ]
  },
  {
   "cell_type": "markdown",
   "metadata": {},
   "source": [
    "Определим какие события есть в логах, как часто они встречаются, и отсортируем события по частоте"
   ]
  },
  {
   "cell_type": "code",
   "execution_count": 25,
   "metadata": {},
   "outputs": [
    {
     "name": "stdout",
     "output_type": "stream",
     "text": [
      "События и их частота встречаемости:\n",
      "                event_name  frequency\n",
      "0         MainScreenAppear     117328\n",
      "1       OffersScreenAppear      46333\n",
      "2         CartScreenAppear      42303\n",
      "3  PaymentScreenSuccessful      33918\n",
      "4                 Tutorial       1005\n"
     ]
    }
   ],
   "source": [
    "# Подсчитаем частоту встречаемости каждого события\n",
    "event_counts = filtered_data_with_datetime[\"event_name\"].value_counts().reset_index()\n",
    "event_counts.columns = [\"event_name\", \"frequency\"]\n",
    "\n",
    "# Отсортируем события по частоте встречаемости\n",
    "sorted_events = event_counts.sort_values(by=\"frequency\", ascending=False)\n",
    "\n",
    "# Выведем результаты\n",
    "print(\"События и их частота встречаемости:\")\n",
    "print(sorted_events)"
   ]
  },
  {
   "cell_type": "markdown",
   "metadata": {},
   "source": [
    "Всего 5 событий:\n",
    "    \n",
    "Главный экран\n",
    "\n",
    "Экран предложений\n",
    "\n",
    "Экран корзины \n",
    "\n",
    "Экран оплаты \n",
    "\n",
    "Руководство"
   ]
  },
  {
   "cell_type": "markdown",
   "metadata": {},
   "source": [
    "Посчитаем сколько пользователей совершали каждое из этих событий, и отсортируйте события по числу пользователей"
   ]
  },
  {
   "cell_type": "code",
   "execution_count": 26,
   "metadata": {},
   "outputs": [
    {
     "name": "stdout",
     "output_type": "stream",
     "text": [
      "События и и количество пользователей:\n",
      "                event_name  frequency_users\n",
      "1         MainScreenAppear             7419\n",
      "2       OffersScreenAppear             4593\n",
      "0         CartScreenAppear             3734\n",
      "3  PaymentScreenSuccessful             3539\n",
      "4                 Tutorial              840\n"
     ]
    }
   ],
   "source": [
    "event_users = filtered_data_with_datetime.groupby('event_name')['user_id'].nunique().reset_index()\n",
    "event_users.columns = [\"event_name\", \"frequency_users\"]\n",
    "\n",
    "# Отсортируем события по частоте встречаемости\n",
    "sorted_events_users = event_users.sort_values(by=\"frequency_users\", ascending=False)\n",
    "\n",
    "# Выведем результаты\n",
    "print(\"События и и количество пользователей:\")\n",
    "print(sorted_events_users)"
   ]
  },
  {
   "cell_type": "markdown",
   "metadata": {},
   "source": [
    "Больше всего пользователей заходят на главный экран,  а меньше всего проходят обучение "
   ]
  },
  {
   "cell_type": "markdown",
   "metadata": {},
   "source": [
    "Посчитаем долю пользователей, которые хоть раз совершали событие"
   ]
  },
  {
   "cell_type": "code",
   "execution_count": 27,
   "metadata": {},
   "outputs": [],
   "source": [
    "#Объединим количество событий и количество человек\n",
    "df_1 = sorted_events.merge(sorted_events_users, on = 'event_name')"
   ]
  },
  {
   "cell_type": "code",
   "execution_count": 28,
   "metadata": {},
   "outputs": [
    {
     "name": "stdout",
     "output_type": "stream",
     "text": [
      "Общее количество уникальных пользователей, совершивших события: 7534\n"
     ]
    }
   ],
   "source": [
    "#Посчитаем общее количество уникальных человек\n",
    "total_users = filtered_data_with_datetime['user_id'].nunique()\n",
    "print('Общее количество уникальных пользователей, совершивших события:', total_users)"
   ]
  },
  {
   "cell_type": "code",
   "execution_count": 29,
   "metadata": {},
   "outputs": [
    {
     "data": {
      "text/html": [
       "<div>\n",
       "<style scoped>\n",
       "    .dataframe tbody tr th:only-of-type {\n",
       "        vertical-align: middle;\n",
       "    }\n",
       "\n",
       "    .dataframe tbody tr th {\n",
       "        vertical-align: top;\n",
       "    }\n",
       "\n",
       "    .dataframe thead th {\n",
       "        text-align: right;\n",
       "    }\n",
       "</style>\n",
       "<table border=\"1\" class=\"dataframe\">\n",
       "  <thead>\n",
       "    <tr style=\"text-align: right;\">\n",
       "      <th></th>\n",
       "      <th>event_name</th>\n",
       "      <th>frequency</th>\n",
       "      <th>frequency_users</th>\n",
       "      <th>percent</th>\n",
       "    </tr>\n",
       "  </thead>\n",
       "  <tbody>\n",
       "    <tr>\n",
       "      <th>0</th>\n",
       "      <td>MainScreenAppear</td>\n",
       "      <td>117328</td>\n",
       "      <td>7419</td>\n",
       "      <td>98.47</td>\n",
       "    </tr>\n",
       "    <tr>\n",
       "      <th>1</th>\n",
       "      <td>OffersScreenAppear</td>\n",
       "      <td>46333</td>\n",
       "      <td>4593</td>\n",
       "      <td>60.96</td>\n",
       "    </tr>\n",
       "    <tr>\n",
       "      <th>2</th>\n",
       "      <td>CartScreenAppear</td>\n",
       "      <td>42303</td>\n",
       "      <td>3734</td>\n",
       "      <td>49.56</td>\n",
       "    </tr>\n",
       "    <tr>\n",
       "      <th>3</th>\n",
       "      <td>PaymentScreenSuccessful</td>\n",
       "      <td>33918</td>\n",
       "      <td>3539</td>\n",
       "      <td>46.97</td>\n",
       "    </tr>\n",
       "    <tr>\n",
       "      <th>4</th>\n",
       "      <td>Tutorial</td>\n",
       "      <td>1005</td>\n",
       "      <td>840</td>\n",
       "      <td>11.15</td>\n",
       "    </tr>\n",
       "  </tbody>\n",
       "</table>\n",
       "</div>"
      ],
      "text/plain": [
       "                event_name  frequency  frequency_users  percent\n",
       "0         MainScreenAppear     117328             7419    98.47\n",
       "1       OffersScreenAppear      46333             4593    60.96\n",
       "2         CartScreenAppear      42303             3734    49.56\n",
       "3  PaymentScreenSuccessful      33918             3539    46.97\n",
       "4                 Tutorial       1005              840    11.15"
      ]
     },
     "execution_count": 29,
     "metadata": {},
     "output_type": "execute_result"
    }
   ],
   "source": [
    "#Посчитаем долю пользователей которые выполнили событие\n",
    "df_1['percent'] = round(df_1['frequency_users'] / total_users * 100 ,2)\n",
    "df_1"
   ]
  },
  {
   "cell_type": "markdown",
   "metadata": {},
   "source": [
    "около 1,5% пользователей миновали главный экран, так как возможно у них уже была ссылка на товар "
   ]
  },
  {
   "cell_type": "markdown",
   "metadata": {},
   "source": [
    "Всего уникальных пользователей получилось 7 534.\n",
    "\n",
    "На главный экран попадало 98 процентов пользователей, что является нормальным значением\n",
    "\n",
    "47 % пользователей прошли до оплаты \n",
    "\n",
    "Обучение оказалось интересным только 11 процентам пользователям"
   ]
  },
  {
   "cell_type": "markdown",
   "metadata": {},
   "source": [
    "Вероятно, путь пользователя в приложении начинается с основного экрана (MainScreenAppear), после чего он переходит к просмотру предложений (OffersScreenAppear). Если пользователь находит интересный товар, он добавляет его в корзину (CartScreenAppear), а затем производит оплату (PaymentScreenSuccessful), если товар его полностью удовлетворяет. Существует также обучающий элемент (Tutorial), но, по всей видимости, пользователи часто его пропускают, возможно из-за простоты и интуитивной понятности приложения, так что его можно не включать в анализ воронки."
   ]
  },
  {
   "cell_type": "markdown",
   "metadata": {},
   "source": [
    "Определим в каком порядке происходят события(есть ли последовательная цепочка)"
   ]
  },
  {
   "cell_type": "code",
   "execution_count": 30,
   "metadata": {},
   "outputs": [
    {
     "data": {
      "image/png": "[encoded data removed]",
      "text/plain": [
       "<Figure size 720x144 with 1 Axes>"
      ]
     },
     "metadata": {
      "needs_background": "light"
     },
     "output_type": "display_data"
    }
   ],
   "source": [
    "# Задаем последовательность действий пользователя\n",
    "actions = [\"MainScreenAppear\", \"OffersScreenAppear\", \"CartScreenAppear\", \"PaymentScreenSuccessful\"]\n",
    "\n",
    "# Создаем список индексов для действий\n",
    "indices = list(range(len(actions)))\n",
    "\n",
    "# Создаем фигуру и оси\n",
    "fig, ax = plt.subplots(figsize=(10, 2))\n",
    "plt.xticks(indices, actions, fontsize=10, rotation=45)\n",
    "\n",
    "# Рисуем горизонтальные линии для представления последовательности\n",
    "for i in range(len(actions) - 1):\n",
    "    ax.plot([indices[i], indices[i + 1]], [0, 0], marker='o', linestyle='-', markersize=10, color='skyblue')\n",
    "\n",
    "# Устанавливаем заголовок\n",
    "plt.title(\"Последовательность действий пользователя\")\n",
    "\n",
    "# Убираем оси\n",
    "ax.get_yaxis().set_visible(False)\n",
    "\n",
    "# Отображаем диаграмму\n",
    "plt.show()\n"
   ]
  },
  {
   "cell_type": "markdown",
   "metadata": {},
   "source": [
    "Посчитаем, какая доля пользователей проходит на следующий шаг воронки (от числа пользователей на предыдущем)( То есть для последовательности событий A → B → C посчитайте отношение числа пользователей с событием B к количеству пользователей с событием A, а также отношение числа пользователей с событием C к количеству пользователей с событием B)"
   ]
  },
  {
   "cell_type": "code",
   "execution_count": 31,
   "metadata": {},
   "outputs": [
    {
     "data": {
      "text/html": [
       "<div>\n",
       "<style scoped>\n",
       "    .dataframe tbody tr th:only-of-type {\n",
       "        vertical-align: middle;\n",
       "    }\n",
       "\n",
       "    .dataframe tbody tr th {\n",
       "        vertical-align: top;\n",
       "    }\n",
       "\n",
       "    .dataframe thead th {\n",
       "        text-align: right;\n",
       "    }\n",
       "</style>\n",
       "<table border=\"1\" class=\"dataframe\">\n",
       "  <thead>\n",
       "    <tr style=\"text-align: right;\">\n",
       "      <th></th>\n",
       "      <th>event_name</th>\n",
       "      <th>frequency</th>\n",
       "      <th>frequency_users</th>\n",
       "      <th>percent</th>\n",
       "    </tr>\n",
       "  </thead>\n",
       "  <tbody>\n",
       "    <tr>\n",
       "      <th>0</th>\n",
       "      <td>MainScreenAppear</td>\n",
       "      <td>117328</td>\n",
       "      <td>7419</td>\n",
       "      <td>98.47</td>\n",
       "    </tr>\n",
       "    <tr>\n",
       "      <th>1</th>\n",
       "      <td>OffersScreenAppear</td>\n",
       "      <td>46333</td>\n",
       "      <td>4593</td>\n",
       "      <td>60.96</td>\n",
       "    </tr>\n",
       "    <tr>\n",
       "      <th>2</th>\n",
       "      <td>CartScreenAppear</td>\n",
       "      <td>42303</td>\n",
       "      <td>3734</td>\n",
       "      <td>49.56</td>\n",
       "    </tr>\n",
       "    <tr>\n",
       "      <th>3</th>\n",
       "      <td>PaymentScreenSuccessful</td>\n",
       "      <td>33918</td>\n",
       "      <td>3539</td>\n",
       "      <td>46.97</td>\n",
       "    </tr>\n",
       "  </tbody>\n",
       "</table>\n",
       "</div>"
      ],
      "text/plain": [
       "                event_name  frequency  frequency_users  percent\n",
       "0         MainScreenAppear     117328             7419    98.47\n",
       "1       OffersScreenAppear      46333             4593    60.96\n",
       "2         CartScreenAppear      42303             3734    49.56\n",
       "3  PaymentScreenSuccessful      33918             3539    46.97"
      ]
     },
     "execution_count": 31,
     "metadata": {},
     "output_type": "execute_result"
    }
   ],
   "source": [
    "df_2 = df_1[:4]\n",
    "df_2"
   ]
  },
  {
   "cell_type": "code",
   "execution_count": 32,
   "metadata": {},
   "outputs": [
    {
     "data": {
      "text/html": [
       "<div>\n",
       "<style scoped>\n",
       "    .dataframe tbody tr th:only-of-type {\n",
       "        vertical-align: middle;\n",
       "    }\n",
       "\n",
       "    .dataframe tbody tr th {\n",
       "        vertical-align: top;\n",
       "    }\n",
       "\n",
       "    .dataframe thead th {\n",
       "        text-align: right;\n",
       "    }\n",
       "</style>\n",
       "<table border=\"1\" class=\"dataframe\">\n",
       "  <thead>\n",
       "    <tr style=\"text-align: right;\">\n",
       "      <th></th>\n",
       "      <th>event_name</th>\n",
       "      <th>frequency</th>\n",
       "      <th>frequency_users</th>\n",
       "      <th>percent</th>\n",
       "      <th>conversion</th>\n",
       "    </tr>\n",
       "  </thead>\n",
       "  <tbody>\n",
       "    <tr>\n",
       "      <th>0</th>\n",
       "      <td>MainScreenAppear</td>\n",
       "      <td>117328</td>\n",
       "      <td>7419</td>\n",
       "      <td>98.47</td>\n",
       "      <td>1.00</td>\n",
       "    </tr>\n",
       "    <tr>\n",
       "      <th>1</th>\n",
       "      <td>OffersScreenAppear</td>\n",
       "      <td>46333</td>\n",
       "      <td>4593</td>\n",
       "      <td>60.96</td>\n",
       "      <td>0.62</td>\n",
       "    </tr>\n",
       "    <tr>\n",
       "      <th>2</th>\n",
       "      <td>CartScreenAppear</td>\n",
       "      <td>42303</td>\n",
       "      <td>3734</td>\n",
       "      <td>49.56</td>\n",
       "      <td>0.81</td>\n",
       "    </tr>\n",
       "    <tr>\n",
       "      <th>3</th>\n",
       "      <td>PaymentScreenSuccessful</td>\n",
       "      <td>33918</td>\n",
       "      <td>3539</td>\n",
       "      <td>46.97</td>\n",
       "      <td>0.95</td>\n",
       "    </tr>\n",
       "  </tbody>\n",
       "</table>\n",
       "</div>"
      ],
      "text/plain": [
       "                event_name  frequency  frequency_users  percent  conversion\n",
       "0         MainScreenAppear     117328             7419    98.47        1.00\n",
       "1       OffersScreenAppear      46333             4593    60.96        0.62\n",
       "2         CartScreenAppear      42303             3734    49.56        0.81\n",
       "3  PaymentScreenSuccessful      33918             3539    46.97        0.95"
      ]
     },
     "execution_count": 32,
     "metadata": {},
     "output_type": "execute_result"
    }
   ],
   "source": [
    "# Создание копии подмножества для безопасного изменения\n",
    "df_2 = df_2.copy()\n",
    "\n",
    "# Теперь можно безопасно изменять df_2\n",
    "df_2['conversion'] = round(df_2['frequency_users'] / df_2['frequency_users'].shift(1),2)\n",
    "df_2 = df_2.fillna(1)\n",
    "df_2"
   ]
  },
  {
   "cell_type": "markdown",
   "metadata": {},
   "source": [
    "Большая часть пользователей (98.47%) начинает свой путь с главного экрана, но только 62% из них переходят к экрану предложений. Это указывает на потенциальную проблему на начальном этапе взаимодействия пользователя с приложением.\n",
    "\n",
    "Затем 81% пользователей, просмотревших предложения, переходят в корзину, что является достаточно высоким показателем.\n",
    "Почти все пользователи (95%), которые добавили товары в корзину, производят оплату, что свидетельствует об эффективности последнего этапа воронки.\n",
    "\n",
    "Общий вывод: Следует уделить внимание первому шагу воронки (переходу с главного экрана к экрану предложений) для увеличения общей конверсии. Этапы корзины и оплаты работают эффективно."
   ]
  },
  {
   "cell_type": "markdown",
   "metadata": {},
   "source": [
    "Посчитаем какая доля пользователей доходит от первого события до оплаты"
   ]
  },
  {
   "cell_type": "markdown",
   "metadata": {},
   "source": [
    "Доля пользователей, которая доходит от первого события до оплаты, можно рассчитать как произведение конверсий между каждым последующим шагом воронки. В данном случае:"
   ]
  },
  {
   "cell_type": "code",
   "execution_count": 33,
   "metadata": {},
   "outputs": [
    {
     "name": "stdout",
     "output_type": "stream",
     "text": [
      "Доля пользователей, дошедших от главного экрана до оплаты: 47.71%\n"
     ]
    }
   ],
   "source": [
    "total_conversion = df_2['conversion'].prod()\n",
    "\n",
    "# Выводим результат\n",
    "print(f\"Доля пользователей, дошедших от главного экрана до оплаты: {round(total_conversion*100,2)}%\")\n"
   ]
  },
  {
   "cell_type": "markdown",
   "metadata": {},
   "source": [
    "**Вывод**\n",
    "\n",
    "1) Всего в приложении 5 событий: переход на главный экран, переход на экран предложения товара; добавление товара в корзину; его оплата(так же некоторые пользователи не пропускают на начальном этапе шаг обучения, но их доля слишком мала)\n",
    "\n",
    "2) Больше всего пользователей заходят на главный экран,  а меньше всего проходят обучение \n",
    "\n",
    "3) Всего уникальных пользователей получилось 7 534. На главный экран попадало 98 процентов пользователей, что является нормальным значением. 47 % пользователей прошли до оплаты \n",
    "\n",
    "4) Большая часть пользователей (98.47%) начинает свой путь с главного экрана, но только 62% из них переходят к экрану предложений. Это указывает на потенциальную проблему на начальном этапе взаимодействия пользователя с приложением.\n",
    "\n",
    "Затем 81% пользователей, просмотревших предложения, переходят в корзину, что является достаточно высоким показателем.\n",
    "Почти все пользователи (95%), которые добавили товары в корзину, производят оплату, что свидетельствует об эффективности последнего этапа воронки.\n",
    "\n",
    "5) Доля пользователей, дошедших от главного экрана до оплаты: 47.71%\n",
    "\n",
    "Общий вывод: Следует уделить внимание первому шагу воронки (переходу с главного экрана к экрану предложений) для увеличения общей конверсии. Этапы корзины и оплаты работают эффективно."
   ]
  },
  {
   "cell_type": "markdown",
   "metadata": {},
   "source": [
    "### Изучение результата эксперимента"
   ]
  },
  {
   "cell_type": "markdown",
   "metadata": {},
   "source": [
    "Определим сколько пользователей в каждой экспериментальной группе"
   ]
  },
  {
   "cell_type": "code",
   "execution_count": 34,
   "metadata": {},
   "outputs": [
    {
     "data": {
      "text/html": [
       "<div>\n",
       "<style scoped>\n",
       "    .dataframe tbody tr th:only-of-type {\n",
       "        vertical-align: middle;\n",
       "    }\n",
       "\n",
       "    .dataframe tbody tr th {\n",
       "        vertical-align: top;\n",
       "    }\n",
       "\n",
       "    .dataframe thead th {\n",
       "        text-align: right;\n",
       "    }\n",
       "</style>\n",
       "<table border=\"1\" class=\"dataframe\">\n",
       "  <thead>\n",
       "    <tr style=\"text-align: right;\">\n",
       "      <th></th>\n",
       "      <th>group</th>\n",
       "      <th>total_users</th>\n",
       "    </tr>\n",
       "  </thead>\n",
       "  <tbody>\n",
       "    <tr>\n",
       "      <th>0</th>\n",
       "      <td>246</td>\n",
       "      <td>2484</td>\n",
       "    </tr>\n",
       "    <tr>\n",
       "      <th>1</th>\n",
       "      <td>247</td>\n",
       "      <td>2513</td>\n",
       "    </tr>\n",
       "    <tr>\n",
       "      <th>2</th>\n",
       "      <td>248</td>\n",
       "      <td>2537</td>\n",
       "    </tr>\n",
       "  </tbody>\n",
       "</table>\n",
       "</div>"
      ],
      "text/plain": [
       "   group  total_users\n",
       "0    246         2484\n",
       "1    247         2513\n",
       "2    248         2537"
      ]
     },
     "execution_count": 34,
     "metadata": {},
     "output_type": "execute_result"
    }
   ],
   "source": [
    "total_group_users = filtered_data_with_datetime.groupby('group')['user_id'].nunique().reset_index()\n",
    "total_group_users.columns = [\"group\", \"total_users\"]\n",
    "\n",
    "total_group_users"
   ]
  },
  {
   "cell_type": "markdown",
   "metadata": {},
   "source": [
    "Выберем самое популярное событие и посчитаем число пользователей, совершивших это событие в каждой из контрольных групп."
   ]
  },
  {
   "cell_type": "code",
   "execution_count": 35,
   "metadata": {},
   "outputs": [],
   "source": [
    "group_246 = filtered_data_with_datetime.query('group == 246').groupby('event_name')['user_id'].nunique().\\\n",
    "reset_index().sort_values(by = 'user_id',ascending = False)"
   ]
  },
  {
   "cell_type": "code",
   "execution_count": 36,
   "metadata": {},
   "outputs": [],
   "source": [
    "group_247 = filtered_data_with_datetime.query('group == 247').groupby('event_name')['user_id'].nunique().\\\n",
    "reset_index().sort_values(by = 'user_id',ascending = False)"
   ]
  },
  {
   "cell_type": "code",
   "execution_count": 37,
   "metadata": {},
   "outputs": [],
   "source": [
    "group_248 = filtered_data_with_datetime.query('group == 248').groupby('event_name')['user_id'].nunique().\\\n",
    "reset_index().sort_values(by = 'user_id',ascending = False)"
   ]
  },
  {
   "cell_type": "code",
   "execution_count": 38,
   "metadata": {},
   "outputs": [
    {
     "data": {
      "text/html": [
       "<div>\n",
       "<style scoped>\n",
       "    .dataframe tbody tr th:only-of-type {\n",
       "        vertical-align: middle;\n",
       "    }\n",
       "\n",
       "    .dataframe tbody tr th {\n",
       "        vertical-align: top;\n",
       "    }\n",
       "\n",
       "    .dataframe thead th {\n",
       "        text-align: right;\n",
       "    }\n",
       "</style>\n",
       "<table border=\"1\" class=\"dataframe\">\n",
       "  <thead>\n",
       "    <tr style=\"text-align: right;\">\n",
       "      <th></th>\n",
       "      <th>event_name</th>\n",
       "      <th>number_users_246</th>\n",
       "      <th>number_users_247</th>\n",
       "      <th>number_users_248</th>\n",
       "    </tr>\n",
       "  </thead>\n",
       "  <tbody>\n",
       "    <tr>\n",
       "      <th>0</th>\n",
       "      <td>MainScreenAppear</td>\n",
       "      <td>2450</td>\n",
       "      <td>2476</td>\n",
       "      <td>2493</td>\n",
       "    </tr>\n",
       "    <tr>\n",
       "      <th>1</th>\n",
       "      <td>OffersScreenAppear</td>\n",
       "      <td>1542</td>\n",
       "      <td>1520</td>\n",
       "      <td>1531</td>\n",
       "    </tr>\n",
       "    <tr>\n",
       "      <th>2</th>\n",
       "      <td>CartScreenAppear</td>\n",
       "      <td>1266</td>\n",
       "      <td>1238</td>\n",
       "      <td>1230</td>\n",
       "    </tr>\n",
       "    <tr>\n",
       "      <th>3</th>\n",
       "      <td>PaymentScreenSuccessful</td>\n",
       "      <td>1200</td>\n",
       "      <td>1158</td>\n",
       "      <td>1181</td>\n",
       "    </tr>\n",
       "    <tr>\n",
       "      <th>4</th>\n",
       "      <td>Tutorial</td>\n",
       "      <td>278</td>\n",
       "      <td>283</td>\n",
       "      <td>279</td>\n",
       "    </tr>\n",
       "  </tbody>\n",
       "</table>\n",
       "</div>"
      ],
      "text/plain": [
       "                event_name  number_users_246  number_users_247  \\\n",
       "0         MainScreenAppear              2450              2476   \n",
       "1       OffersScreenAppear              1542              1520   \n",
       "2         CartScreenAppear              1266              1238   \n",
       "3  PaymentScreenSuccessful              1200              1158   \n",
       "4                 Tutorial               278               283   \n",
       "\n",
       "   number_users_248  \n",
       "0              2493  \n",
       "1              1531  \n",
       "2              1230  \n",
       "3              1181  \n",
       "4               279  "
      ]
     },
     "execution_count": 38,
     "metadata": {},
     "output_type": "execute_result"
    }
   ],
   "source": [
    "merged_246_247 = group_246.merge(\n",
    "    group_247,\n",
    "    on='event_name', # название столбца, по которому объединять, передают в параметре on\n",
    ")\n",
    "\n",
    "merged_246_247.rename(\n",
    "    columns={\n",
    "        'user_id_x': 'number_users_246',\n",
    "        'user_id_y': 'number_users_247'\n",
    "    },\n",
    "    inplace=True\n",
    ")\n",
    "merged_246_247_258= merged_246_247.merge(\n",
    "    group_248,\n",
    "    on='event_name', # название столбца, по которому объединять, передают в параметре on\n",
    ")\n",
    "merged_246_247_258.rename(\n",
    "    columns={\n",
    "        'user_id': 'number_users_248',\n",
    "       },\n",
    "    inplace=True\n",
    ")\n",
    "merged_246_247_258"
   ]
  },
  {
   "cell_type": "code",
   "execution_count": 39,
   "metadata": {},
   "outputs": [
    {
     "data": {
      "text/html": [
       "<div>\n",
       "<style scoped>\n",
       "    .dataframe tbody tr th:only-of-type {\n",
       "        vertical-align: middle;\n",
       "    }\n",
       "\n",
       "    .dataframe tbody tr th {\n",
       "        vertical-align: top;\n",
       "    }\n",
       "\n",
       "    .dataframe thead th {\n",
       "        text-align: right;\n",
       "    }\n",
       "</style>\n",
       "<table border=\"1\" class=\"dataframe\">\n",
       "  <thead>\n",
       "    <tr style=\"text-align: right;\">\n",
       "      <th></th>\n",
       "      <th>event_name</th>\n",
       "      <th>number_users_246</th>\n",
       "      <th>number_users_247</th>\n",
       "      <th>number_users_248</th>\n",
       "      <th>number_users_246_247</th>\n",
       "    </tr>\n",
       "  </thead>\n",
       "  <tbody>\n",
       "    <tr>\n",
       "      <th>0</th>\n",
       "      <td>MainScreenAppear</td>\n",
       "      <td>2450</td>\n",
       "      <td>2476</td>\n",
       "      <td>2493</td>\n",
       "      <td>4926</td>\n",
       "    </tr>\n",
       "    <tr>\n",
       "      <th>1</th>\n",
       "      <td>OffersScreenAppear</td>\n",
       "      <td>1542</td>\n",
       "      <td>1520</td>\n",
       "      <td>1531</td>\n",
       "      <td>3062</td>\n",
       "    </tr>\n",
       "  </tbody>\n",
       "</table>\n",
       "</div>"
      ],
      "text/plain": [
       "           event_name  number_users_246  number_users_247  number_users_248  \\\n",
       "0    MainScreenAppear              2450              2476              2493   \n",
       "1  OffersScreenAppear              1542              1520              1531   \n",
       "\n",
       "   number_users_246_247  \n",
       "0                  4926  \n",
       "1                  3062  "
      ]
     },
     "execution_count": 39,
     "metadata": {},
     "output_type": "execute_result"
    }
   ],
   "source": [
    "merged_246_247_258['number_users_246_247'] = merged_246_247_258['number_users_246'] + merged_246_247_258['number_users_247']\n",
    "merged_246_247_258.head(2)"
   ]
  },
  {
   "cell_type": "markdown",
   "metadata": {},
   "source": [
    "Самое популярное событие это MainScreenAppear и в группе 246 и в 247"
   ]
  },
  {
   "cell_type": "markdown",
   "metadata": {},
   "source": [
    "Посчитаем долю пользователей, совершивших это событие."
   ]
  },
  {
   "cell_type": "code",
   "execution_count": 40,
   "metadata": {},
   "outputs": [
    {
     "name": "stdout",
     "output_type": "stream",
     "text": [
      "Доля пользователей, совершивших популярное событие в группе 246: 0.986\n"
     ]
    }
   ],
   "source": [
    "print(\"Доля пользователей, совершивших популярное событие в группе 246:\",\\\n",
    "      round(merged_246_247_258.loc[0, 'number_users_246'] / \n",
    "      total_group_users['total_users'].iloc[0],3))\n"
   ]
  },
  {
   "cell_type": "code",
   "execution_count": 41,
   "metadata": {},
   "outputs": [
    {
     "name": "stdout",
     "output_type": "stream",
     "text": [
      "Доля пользователей, совершивших популярное событие в группе 247: 0.985\n"
     ]
    }
   ],
   "source": [
    "print(\"Доля пользователей, совершивших популярное событие в группе 247:\",\\\n",
    "      round(merged_246_247_258.loc[0, 'number_users_247'] / \n",
    "      total_group_users['total_users'].iloc[1],3))"
   ]
  },
  {
   "cell_type": "markdown",
   "metadata": {},
   "source": [
    "Проверим, будет ли отличие между контрольными группами статистически достоверным"
   ]
  },
  {
   "cell_type": "markdown",
   "metadata": {},
   "source": [
    "**Сформулируем гипотезы**\n",
    "\n",
    "Н0 - доли уникальных посетителей, побывавших на этапе воронки, одинаковы\n",
    "\n",
    "Н1 - между долями уникальных посетителей, побывавших на этапе воронки, есть значимая разница\n",
    "\n",
    "Пороговое значение alpha примем за 5%.\n",
    "\n",
    "**Проверять гипотезу о равенстве долей будем при помощи Z-критерия**"
   ]
  },
  {
   "cell_type": "code",
   "execution_count": 42,
   "metadata": {},
   "outputs": [
    {
     "name": "stdout",
     "output_type": "stream",
     "text": [
      "MainScreenAppear p-значение:  0.7570597232046099\n",
      "Не получилось отвергнуть нулевую гипотезу, нет оснований считать доли контрольных групп разными\n",
      "OffersScreenAppear p-значение:  0.2480954578522181\n",
      "Не получилось отвергнуть нулевую гипотезу, нет оснований считать доли контрольных групп разными\n",
      "CartScreenAppear p-значение:  0.22883372237997213\n",
      "Не получилось отвергнуть нулевую гипотезу, нет оснований считать доли контрольных групп разными\n",
      "PaymentScreenSuccessful p-значение:  0.11456679313141849\n",
      "Не получилось отвергнуть нулевую гипотезу, нет оснований считать доли контрольных групп разными\n",
      "Tutorial p-значение:  0.9376996189257114\n",
      "Не получилось отвергнуть нулевую гипотезу, нет оснований считать доли контрольных групп разными\n"
     ]
    }
   ],
   "source": [
    "def x (a,b):\n",
    "    for event in a['event_name'].unique():\n",
    "        alpha = .05 # критический уровень статистической значимости\n",
    "# Получаем количество успехов для каждой группы для конкретного события\n",
    "        event_data = a[a['event_name'] == event]\n",
    "        successes = np.array([event_data['number_users_246'].values[0], event_data['number_users_247'].values[0]])\n",
    "        trials = np.array([b[b['group'] == 246]['total_users'].values[0], b[b['group'] == 247]['total_users'].values[0]])\n",
    "        p1 = successes[0]/trials[0]\n",
    "\n",
    "        # пропорция успехов во второй группе:\n",
    "        p2 = successes[1]/trials[1]\n",
    "\n",
    "        # пропорция успехов в комбинированном датасете:\n",
    "        p_combined = (successes[0] + successes[1]) / (trials[0] + trials[1])\n",
    "\n",
    "        # разница пропорций в датасетах\n",
    "        difference = p1 - p2 \n",
    "        # считаем статистику в ст.отклонениях стандартного нормального распределения\n",
    "        z_value = difference / mth.sqrt(p_combined * (1 - p_combined) * (1/trials[0] + 1/trials[1]))\n",
    "\n",
    "        # задаем стандартное нормальное распределение (среднее 0, ст.отклонение 1)\n",
    "        distr = stats.norm(0, 1) \n",
    "\n",
    "        p_value = (1 - distr.cdf(abs(z_value))) * 2\n",
    "        \n",
    "        print(event, 'p-значение: ', p_value)\n",
    "\n",
    "        if p_value < alpha:\n",
    "            print('Отвергаем нулевую гипотезу: между долями контрольных групп есть значимая разница')\n",
    "        else:\n",
    "            print(\n",
    "            'Не получилось отвергнуть нулевую гипотезу, нет оснований считать доли контрольных групп разными') \n",
    "\n",
    "users = x(merged_246_247_258,total_group_users)"
   ]
  },
  {
   "cell_type": "markdown",
   "metadata": {},
   "source": [
    "Между группами контрольными группами отсутствует отличие \n",
    "\n",
    "Если A/A-тест показывает, что различий между группами нет, это значит, что система тестирования работает правильно. Это важно, чтобы быть уверены, что любые различия, найденные в последующем A/B-тесте (где тестируется нововведение), действительно вызваны этим нововведением, а не случайностью или ошибкой в системе."
   ]
  },
  {
   "cell_type": "markdown",
   "metadata": {},
   "source": [
    "Сравним результаты с каждой из контрольных групп в отдельности с экспериментальной группой по каждому событию"
   ]
  },
  {
   "cell_type": "markdown",
   "metadata": {},
   "source": [
    "**Сформулируем гипотезы**\n",
    "\n",
    "Н0 - доли уникальных посетителей, побывавших на этапе воронки, одинаковы\n",
    "\n",
    "Н1 - между долями уникальных посетителей, побывавших на этапе воронки, есть значимая разница\n",
    "\n",
    "Пороговое значение alpha примем за 5%.\n",
    "\n",
    "**Проверять гипотезу о равенстве долей будем при помощи Z-критерия**"
   ]
  },
  {
   "cell_type": "code",
   "execution_count": 43,
   "metadata": {},
   "outputs": [
    {
     "name": "stdout",
     "output_type": "stream",
     "text": [
      "MainScreenAppear p-значение:  0.29\n",
      "Не получилось отвергнуть нулевую гипотезу, нет оснований считать доли групп 246 и 248 разными\n",
      "OffersScreenAppear p-значение:  0.21\n",
      "Не получилось отвергнуть нулевую гипотезу, нет оснований считать доли групп 246 и 248 разными\n",
      "CartScreenAppear p-значение:  0.08\n",
      "Не получилось отвергнуть нулевую гипотезу, нет оснований считать доли групп 246 и 248 разными\n",
      "PaymentScreenSuccessful p-значение:  0.21\n",
      "Не получилось отвергнуть нулевую гипотезу, нет оснований считать доли групп 246 и 248 разными\n",
      "Tutorial p-значение:  0.83\n",
      "Не получилось отвергнуть нулевую гипотезу, нет оснований считать доли групп 246 и 248 разными\n"
     ]
    }
   ],
   "source": [
    "def y (a,b):\n",
    "    for event in a['event_name'].unique():\n",
    "        alpha = .05 # критический уровень статистической значимости\n",
    "# Получаем количество успехов для каждой группы для конкретного события\n",
    "        event_data = a[a['event_name'] == event]\n",
    "        successes = np.array([event_data['number_users_246'].values[0], event_data['number_users_248'].values[0]])\n",
    "        trials = np.array([b[b['group'] == 246]['total_users'].values[0], b[b['group'] == 248]['total_users'].values[0]])\n",
    "        p1 = successes[0]/trials[0]\n",
    "\n",
    "        # пропорция успехов во второй группе:\n",
    "        p2 = successes[1]/trials[1]\n",
    "\n",
    "        # пропорция успехов в комбинированном датасете:\n",
    "        p_combined = (successes[0] + successes[1]) / (trials[0] + trials[1])\n",
    "\n",
    "        # разница пропорций в датасетах\n",
    "        difference = p1 - p2 \n",
    "        # считаем статистику в ст.отклонениях стандартного нормального распределения\n",
    "        z_value = difference / mth.sqrt(p_combined * (1 - p_combined) * (1/trials[0] + 1/trials[1]))\n",
    "\n",
    "        # задаем стандартное нормальное распределение (среднее 0, ст.отклонение 1)\n",
    "        distr = stats.norm(0, 1) \n",
    "\n",
    "        p_value = (1 - distr.cdf(abs(z_value))) * 2\n",
    "        \n",
    "        print(event, 'p-значение: ', round(p_value,2))\n",
    "\n",
    "        if p_value < alpha:\n",
    "            print('Отвергаем нулевую гипотезу: между долями групп 246 и 248 есть значимая разница')\n",
    "        else:\n",
    "            print(\n",
    "            'Не получилось отвергнуть нулевую гипотезу, нет оснований считать доли групп 246 и 248 разными') \n",
    "\n",
    "users = y(merged_246_247_258,total_group_users)"
   ]
  },
  {
   "cell_type": "markdown",
   "metadata": {},
   "source": [
    "Различия между группами 246 и 248 статистически не значимы"
   ]
  },
  {
   "cell_type": "markdown",
   "metadata": {},
   "source": [
    "**Сформулируем гипотезы**\n",
    "\n",
    "Н0 - доли уникальных посетителей, побывавших на этапе воронки, одинаковы\n",
    "\n",
    "Н1 - между долями уникальных посетителей, побывавших на этапе воронки, есть значимая разница\n",
    "\n",
    "Пороговое значение alpha примем за 5%.\n",
    "\n",
    "**Проверять гипотезу о равенстве долей будем при помощи Z-критерия**"
   ]
  },
  {
   "cell_type": "code",
   "execution_count": 44,
   "metadata": {},
   "outputs": [
    {
     "name": "stdout",
     "output_type": "stream",
     "text": [
      "MainScreenAppear p-значение:  0.46\n",
      "Не получилось отвергнуть нулевую гипотезу, нет оснований считать доли групп 247 и 248 разными\n",
      "OffersScreenAppear p-значение:  0.92\n",
      "Не получилось отвергнуть нулевую гипотезу, нет оснований считать доли групп 247 и 248 разными\n",
      "CartScreenAppear p-значение:  0.58\n",
      "Не получилось отвергнуть нулевую гипотезу, нет оснований считать доли групп 247 и 248 разными\n",
      "PaymentScreenSuccessful p-значение:  0.74\n",
      "Не получилось отвергнуть нулевую гипотезу, нет оснований считать доли групп 247 и 248 разными\n",
      "Tutorial p-значение:  0.77\n",
      "Не получилось отвергнуть нулевую гипотезу, нет оснований считать доли групп 247 и 248 разными\n"
     ]
    }
   ],
   "source": [
    "def z (a,b):\n",
    "    for event in a['event_name'].unique():\n",
    "        alpha = .05 # критический уровень статистической значимости\n",
    "# Получаем количество успехов для каждой группы для конкретного события\n",
    "        event_data = a[a['event_name'] == event]\n",
    "        successes = np.array([event_data['number_users_247'].values[0], event_data['number_users_248'].values[0]])\n",
    "        trials = np.array([b[b['group'] == 247]['total_users'].values[0], b[b['group'] == 248]['total_users'].values[0]])\n",
    "        p1 = successes[0]/trials[0]\n",
    "\n",
    "        # пропорция успехов во второй группе:\n",
    "        p2 = successes[1]/trials[1]\n",
    "\n",
    "        # пропорция успехов в комбинированном датасете:\n",
    "        p_combined = (successes[0] + successes[1]) / (trials[0] + trials[1])\n",
    "\n",
    "        # разница пропорций в датасетах\n",
    "        difference = p1 - p2 \n",
    "        # считаем статистику в ст.отклонениях стандартного нормального распределения\n",
    "        z_value = difference / mth.sqrt(p_combined * (1 - p_combined) * (1/trials[0] + 1/trials[1]))\n",
    "\n",
    "        # задаем стандартное нормальное распределение (среднее 0, ст.отклонение 1)\n",
    "        distr = stats.norm(0, 1) \n",
    "\n",
    "        p_value = (1 - distr.cdf(abs(z_value))) * 2\n",
    "        \n",
    "        print(event, 'p-значение: ', round(p_value,2))\n",
    "\n",
    "        if p_value < alpha:\n",
    "            print('Отвергаем нулевую гипотезу: между долями групп 247 и 248 есть значимая разница')\n",
    "        else:\n",
    "            print(\n",
    "            'Не получилось отвергнуть нулевую гипотезу, нет оснований считать доли групп 247 и 248 разными') \n",
    "\n",
    "users = z(merged_246_247_258,total_group_users)"
   ]
  },
  {
   "cell_type": "markdown",
   "metadata": {},
   "source": [
    "Различия между группами 247 и 248 статистически не значимы"
   ]
  },
  {
   "cell_type": "markdown",
   "metadata": {},
   "source": [
    "Сравним результаты  тестовой группы с объединённой контрольной группой"
   ]
  },
  {
   "cell_type": "markdown",
   "metadata": {},
   "source": [
    "**Сформулируем гипотезы**\n",
    "\n",
    "Н0 - доли уникальных посетителей, побывавших на этапе воронки, одинаковы\n",
    "\n",
    "Н1 - между долями уникальных посетителей, побывавших на этапе воронки, есть значимая разница\n",
    "\n",
    "Пороговое значение alpha примем за 5%.\n",
    "\n",
    "**Проверять гипотезу о равенстве долей будем при помощи Z-критерия**"
   ]
  },
  {
   "cell_type": "code",
   "execution_count": 45,
   "metadata": {},
   "outputs": [],
   "source": [
    "# Отфильтровываем строки для групп 246 и 247\n",
    "total_users_246 = total_group_users[total_group_users['group'] == 246]['total_users'].values[0]\n",
    "total_users_247 = total_group_users[total_group_users['group'] == 247]['total_users'].values[0]\n",
    "\n",
    "# Складываем значения для групп 246 и 247\n",
    "total_users_246_247 = total_users_246 + total_users_247"
   ]
  },
  {
   "cell_type": "code",
   "execution_count": 46,
   "metadata": {},
   "outputs": [
    {
     "name": "stdout",
     "output_type": "stream",
     "text": [
      "MainScreenAppear p-значение:  0.29\n",
      "Не получилось отвергнуть нулевую гипотезу, нет оснований считать доли групп 247 и 248 разными\n",
      "OffersScreenAppear p-значение:  0.43\n",
      "Не получилось отвергнуть нулевую гипотезу, нет оснований считать доли групп 247 и 248 разными\n",
      "CartScreenAppear p-значение:  0.18\n",
      "Не получилось отвергнуть нулевую гипотезу, нет оснований считать доли групп 247 и 248 разными\n",
      "PaymentScreenSuccessful p-значение:  0.6\n",
      "Не получилось отвергнуть нулевую гипотезу, нет оснований считать доли групп 247 и 248 разными\n",
      "Tutorial p-значение:  0.76\n",
      "Не получилось отвергнуть нулевую гипотезу, нет оснований считать доли групп 247 и 248 разными\n"
     ]
    }
   ],
   "source": [
    "def z (a,b,c):\n",
    "    for event in a['event_name'].unique():\n",
    "        alpha = .05 # критический уровень статистической значимости\n",
    "# Получаем количество успехов для каждой группы для конкретного события\n",
    "        event_data = a[a['event_name'] == event]\n",
    "        successes = np.array([event_data['number_users_246_247'].values[0], event_data['number_users_248'].values[0]])\n",
    "        trials = np.array([c, b[b['group'] == 248]['total_users'].values[0]])\n",
    "        p1 = successes[0]/trials[0]\n",
    "\n",
    "        # пропорция успехов во второй группе:\n",
    "        p2 = successes[1]/trials[1]\n",
    "\n",
    "        # пропорция успехов в комбинированном датасете:\n",
    "        p_combined = (successes[0] + successes[1]) / (trials[0] + trials[1])\n",
    "\n",
    "        # разница пропорций в датасетах\n",
    "        difference = p1 - p2 \n",
    "        # считаем статистику в ст.отклонениях стандартного нормального распределения\n",
    "        z_value = difference / mth.sqrt(p_combined * (1 - p_combined) * (1/trials[0] + 1/trials[1]))\n",
    "\n",
    "        # задаем стандартное нормальное распределение (среднее 0, ст.отклонение 1)\n",
    "        distr = stats.norm(0, 1) \n",
    "\n",
    "        p_value = (1 - distr.cdf(abs(z_value))) * 2\n",
    "        \n",
    "        print(event, 'p-значение: ', round(p_value,2))\n",
    "\n",
    "        if p_value < alpha:\n",
    "            print('Отвергаем нулевую гипотезу: между долями групп 247 и 248 есть значимая разница')\n",
    "        else:\n",
    "            print(\n",
    "            'Не получилось отвергнуть нулевую гипотезу, нет оснований считать доли групп 247 и 248 разными') \n",
    "\n",
    "users = z(merged_246_247_258,total_group_users,total_users_246_247)"
   ]
  },
  {
   "cell_type": "markdown",
   "metadata": {},
   "source": [
    "Различия тестовой группы с объединённой контрольной группой статистически не значимы"
   ]
  },
  {
   "cell_type": "markdown",
   "metadata": {},
   "source": [
    "Уровень статистической значимости выбран 0,05. \n",
    "\n",
    "Он является оптимальным, так как по формуле 1-(1-a)^k получается, что при уровне значимости 5%, вероятность ошибиться хотя бы один раз за два сравнения составляет 9.75% (так как 1-(1-0.05)^2 ≈ 0.0975 или 9.75%). \n",
    "\n",
    "Если выбрать уровень значимости 10%, вероятность ошибиться хотя бы один раз за два сравнения увеличивается до примерно 19% (1-(1-0.1)^2 ≈ 0.19). Это слишком высоко, так как вероятность отклонить нулевую гипотезу (H0), когда она верна, возрастает — это ошибка первого рода. \n",
    "\n",
    "В то же время, если установить уровень значимости в 1%, вероятность ошибиться хотя бы один раз за два сравнения снижается до примерно 2% (1-(1-0.01)^2 ≈ 0.0199). Однако такой жесткий критерий увеличивает риск совершения ошибки второго рода, то есть принятия нулевой гипотезы (H0), хотя она неверна\n",
    "\n",
    "Было выполнено 20 проверок статистических гипотез"
   ]
  },
  {
   "cell_type": "markdown",
   "metadata": {},
   "source": [
    "В результате выполненных анализов стало ясно, что между исследуемыми группами не наблюдается статистически значимых отличий во всех проведенных тестах. Это означает, что изменение шрифта не оказало заметного влияния на поведение пользователей."
   ]
  },
  {
   "cell_type": "markdown",
   "metadata": {},
   "source": [
    "### Общий вывод"
   ]
  },
  {
   "cell_type": "markdown",
   "metadata": {},
   "source": [
    "На этапах: \n",
    "\n",
    "**1) Изучение и проверка данных:**\n",
    "\n",
    "Мы провели тщательный анализ и верификацию данных. Было установлено, что в нашей таблице содержится 243713 событий, связанных с 7551 уникальным пользователем. \n",
    "\n",
    "В среднем на каждого пользователя приходится около 20 событий. \n",
    "\n",
    "Мы удалили данные до 1 августа для устранения возможного искажения результатов. В результате этого процесса были исключены 17 пользователей и 2826 событий. Однако это исключение вряд ли окажет значительное влияние на общие выводы нашего исследования. Наша таблица включает в себя представителей всех групп пользователей в достаточном и сбалансированном количестве.\n",
    "\n",
    "**2) Изучение воронки событий:**\n",
    "\n",
    "1) Всего в приложении 5 событий: переход на главный экран, переход на экран предложения товара; добавление товара в корзину; его оплата(так же некоторые пользователи не пропускают на начальном этапе шаг обучения, но их доля слишком мала)\n",
    "\n",
    "2) Больше всего пользователей заходят на главный экран,  а меньше всего проходят обучение \n",
    "\n",
    "3) Всего уникальных пользователей получилось 7 534. На главный экран попадало 98 процентов пользователей, что является нормальным значением. 47 % пользователей прошли до оплаты \n",
    "\n",
    "4) Большая часть пользователей (98.47%) начинает свой путь с главного экрана, но только 62% из них переходят к экрану предложений. Это указывает на потенциальную проблему на начальном этапе взаимодействия пользователя с приложением.\n",
    "\n",
    "Затем 81% пользователей, просмотревших предложения, переходят в корзину, что является достаточно высоким показателем.\n",
    "Почти все пользователи (95%), которые добавили товары в корзину, производят оплату, что свидетельствует об эффективности последнего этапа воронки.\n",
    "\n",
    "5) Доля пользователей, дошедших от главного экрана до оплаты: 47.71%\n",
    "\n",
    "Общий вывод: Следует уделить внимание первому шагу воронки (переходу с главного экрана к экрану предложений) для увеличения общей конверсии. Этапы корзины и оплаты работают эффективно.\n",
    "\n",
    "\n",
    "**3) Изучение результатов эксперимента:**\n",
    "\n",
    "Было выполнено 20 проверок статистических гипотез\n",
    "\n",
    "Уровень статистической значимости выбран 0,05\n",
    "\n",
    "В результате выполненных анализов стало ясно, что между исследуемыми группами не наблюдается статистически значимых отличий во всех проведенных тестах. Это означает, что изменение шрифта не оказало заметного влияния на поведение пользователей."
   ]
  }
 ],
 "metadata": {
  "ExecuteTimeLog": [
   {
    "duration": 1290,
    "start_time": "2024-01-15T11:30:58.593Z"
   },
   {
    "duration": 824,
    "start_time": "2024-01-15T11:31:56.640Z"
   },
   {
    "duration": 11,
    "start_time": "2024-01-15T11:32:06.368Z"
   },
   {
    "duration": 90,
    "start_time": "2024-01-15T11:33:14.847Z"
   },
   {
    "duration": 98,
    "start_time": "2024-01-15T11:33:28.307Z"
   },
   {
    "duration": 189,
    "start_time": "2024-01-15T11:34:47.204Z"
   },
   {
    "duration": 8,
    "start_time": "2024-01-15T11:34:50.174Z"
   },
   {
    "duration": 4,
    "start_time": "2024-01-15T11:36:57.023Z"
   },
   {
    "duration": 179,
    "start_time": "2024-01-15T11:36:58.821Z"
   },
   {
    "duration": 8,
    "start_time": "2024-01-15T11:36:59.421Z"
   },
   {
    "duration": 7,
    "start_time": "2024-01-15T11:38:11.206Z"
   },
   {
    "duration": 8,
    "start_time": "2024-01-15T11:38:21.977Z"
   },
   {
    "duration": 17,
    "start_time": "2024-01-15T11:38:39.626Z"
   },
   {
    "duration": 97,
    "start_time": "2024-01-15T11:40:38.312Z"
   },
   {
    "duration": 7,
    "start_time": "2024-01-15T11:40:42.843Z"
   },
   {
    "duration": 9,
    "start_time": "2024-01-15T11:40:49.303Z"
   },
   {
    "duration": 8,
    "start_time": "2024-01-15T11:41:33.240Z"
   },
   {
    "duration": 7,
    "start_time": "2024-01-15T11:41:36.397Z"
   },
   {
    "duration": 4,
    "start_time": "2024-01-15T11:41:51.393Z"
   },
   {
    "duration": 107,
    "start_time": "2024-01-15T11:42:26.246Z"
   },
   {
    "duration": 7,
    "start_time": "2024-01-15T11:42:54.327Z"
   },
   {
    "duration": 5,
    "start_time": "2024-01-15T11:42:59.248Z"
   },
   {
    "duration": 184,
    "start_time": "2024-01-15T11:43:03.629Z"
   },
   {
    "duration": 7,
    "start_time": "2024-01-15T11:43:03.982Z"
   },
   {
    "duration": 6,
    "start_time": "2024-01-15T11:43:06.938Z"
   },
   {
    "duration": 8,
    "start_time": "2024-01-15T11:43:08.457Z"
   },
   {
    "duration": 18,
    "start_time": "2024-01-15T11:43:12.216Z"
   },
   {
    "duration": 4,
    "start_time": "2024-01-15T11:43:16.492Z"
   },
   {
    "duration": 42,
    "start_time": "2024-01-15T11:47:38.100Z"
   },
   {
    "duration": 5,
    "start_time": "2024-01-15T11:47:53.115Z"
   },
   {
    "duration": 7,
    "start_time": "2024-01-15T11:48:01.688Z"
   },
   {
    "duration": 13,
    "start_time": "2024-01-15T11:49:47.104Z"
   },
   {
    "duration": 8,
    "start_time": "2024-01-15T11:49:48.464Z"
   },
   {
    "duration": 1156,
    "start_time": "2024-01-15T11:50:01.890Z"
   },
   {
    "duration": 187,
    "start_time": "2024-01-15T11:50:03.048Z"
   },
   {
    "duration": 12,
    "start_time": "2024-01-15T11:50:03.237Z"
   },
   {
    "duration": 22,
    "start_time": "2024-01-15T11:50:03.251Z"
   },
   {
    "duration": 25,
    "start_time": "2024-01-15T11:50:03.274Z"
   },
   {
    "duration": 30,
    "start_time": "2024-01-15T11:50:03.301Z"
   },
   {
    "duration": 6,
    "start_time": "2024-01-15T11:50:03.333Z"
   },
   {
    "duration": 17,
    "start_time": "2024-01-15T11:50:03.341Z"
   },
   {
    "duration": 18,
    "start_time": "2024-01-15T11:50:03.360Z"
   },
   {
    "duration": 101,
    "start_time": "2024-01-15T11:50:03.381Z"
   },
   {
    "duration": 1437,
    "start_time": "2024-01-15T11:52:00.632Z"
   },
   {
    "duration": 1103,
    "start_time": "2024-01-15T11:52:09.239Z"
   },
   {
    "duration": 189,
    "start_time": "2024-01-15T11:52:10.343Z"
   },
   {
    "duration": 12,
    "start_time": "2024-01-15T11:52:10.533Z"
   },
   {
    "duration": 60,
    "start_time": "2024-01-15T11:52:10.547Z"
   },
   {
    "duration": 16,
    "start_time": "2024-01-15T11:52:10.609Z"
   },
   {
    "duration": 49,
    "start_time": "2024-01-15T11:52:10.626Z"
   },
   {
    "duration": 4,
    "start_time": "2024-01-15T11:52:10.676Z"
   },
   {
    "duration": 18,
    "start_time": "2024-01-15T11:52:10.682Z"
   },
   {
    "duration": 12,
    "start_time": "2024-01-15T11:52:10.701Z"
   },
   {
    "duration": 86,
    "start_time": "2024-01-15T11:52:10.715Z"
   },
   {
    "duration": 95,
    "start_time": "2024-01-15T11:54:34.542Z"
   },
   {
    "duration": 25,
    "start_time": "2024-01-15T11:54:45.146Z"
   },
   {
    "duration": 10,
    "start_time": "2024-01-15T11:55:01.917Z"
   },
   {
    "duration": 24,
    "start_time": "2024-01-15T11:55:02.774Z"
   },
   {
    "duration": 16,
    "start_time": "2024-01-15T11:55:03.664Z"
   },
   {
    "duration": 14,
    "start_time": "2024-01-15T11:55:10.427Z"
   },
   {
    "duration": 1125,
    "start_time": "2024-01-15T11:55:30.811Z"
   },
   {
    "duration": 194,
    "start_time": "2024-01-15T11:55:31.938Z"
   },
   {
    "duration": 12,
    "start_time": "2024-01-15T11:55:32.134Z"
   },
   {
    "duration": 20,
    "start_time": "2024-01-15T11:55:32.148Z"
   },
   {
    "duration": 9,
    "start_time": "2024-01-15T11:55:32.169Z"
   },
   {
    "duration": 28,
    "start_time": "2024-01-15T11:55:32.180Z"
   },
   {
    "duration": 5,
    "start_time": "2024-01-15T11:55:32.210Z"
   },
   {
    "duration": 26,
    "start_time": "2024-01-15T11:55:32.216Z"
   },
   {
    "duration": 1501,
    "start_time": "2024-01-15T11:55:32.244Z"
   },
   {
    "duration": 0,
    "start_time": "2024-01-15T11:55:33.746Z"
   },
   {
    "duration": 0,
    "start_time": "2024-01-15T11:55:33.747Z"
   },
   {
    "duration": 24,
    "start_time": "2024-01-15T11:55:52.377Z"
   },
   {
    "duration": 9,
    "start_time": "2024-01-15T11:55:54.322Z"
   },
   {
    "duration": 74,
    "start_time": "2024-01-15T11:57:10.436Z"
   },
   {
    "duration": 9,
    "start_time": "2024-01-15T11:57:11.364Z"
   },
   {
    "duration": 15,
    "start_time": "2024-01-15T11:58:28.636Z"
   },
   {
    "duration": 7,
    "start_time": "2024-01-15T11:58:59.231Z"
   },
   {
    "duration": 13,
    "start_time": "2024-01-15T11:59:07.022Z"
   },
   {
    "duration": 4,
    "start_time": "2024-01-15T12:00:15.864Z"
   },
   {
    "duration": 9,
    "start_time": "2024-01-15T12:00:20.080Z"
   },
   {
    "duration": 8,
    "start_time": "2024-01-15T12:01:02.154Z"
   },
   {
    "duration": 12,
    "start_time": "2024-01-15T12:01:05.135Z"
   },
   {
    "duration": 8,
    "start_time": "2024-01-15T12:01:06.661Z"
   },
   {
    "duration": 4,
    "start_time": "2024-01-15T12:01:07.949Z"
   },
   {
    "duration": 4,
    "start_time": "2024-01-15T12:01:18.073Z"
   },
   {
    "duration": 84,
    "start_time": "2024-01-15T12:04:32.376Z"
   },
   {
    "duration": 42,
    "start_time": "2024-01-15T12:04:38.387Z"
   },
   {
    "duration": 23,
    "start_time": "2024-01-15T12:08:32.103Z"
   },
   {
    "duration": 26,
    "start_time": "2024-01-15T12:08:42.064Z"
   },
   {
    "duration": 26,
    "start_time": "2024-01-15T12:08:58.088Z"
   },
   {
    "duration": 84,
    "start_time": "2024-01-15T12:15:05.867Z"
   },
   {
    "duration": 8,
    "start_time": "2024-01-15T12:15:10.853Z"
   },
   {
    "duration": 1467,
    "start_time": "2024-01-15T12:15:17.284Z"
   },
   {
    "duration": 48,
    "start_time": "2024-01-15T12:20:20.937Z"
   },
   {
    "duration": 58,
    "start_time": "2024-01-15T12:20:40.436Z"
   },
   {
    "duration": 446,
    "start_time": "2024-01-15T12:20:43.453Z"
   },
   {
    "duration": 36,
    "start_time": "2024-01-15T12:37:55.334Z"
   },
   {
    "duration": 44,
    "start_time": "2024-01-15T12:37:59.483Z"
   },
   {
    "duration": 0,
    "start_time": "2024-01-15T12:38:38.456Z"
   },
   {
    "duration": 45,
    "start_time": "2024-01-15T12:39:55.063Z"
   },
   {
    "duration": 43,
    "start_time": "2024-01-15T12:39:55.111Z"
   },
   {
    "duration": 59,
    "start_time": "2024-01-15T12:40:15.741Z"
   },
   {
    "duration": 9,
    "start_time": "2024-01-15T12:40:31.572Z"
   },
   {
    "duration": 37,
    "start_time": "2024-01-15T12:40:37.122Z"
   },
   {
    "duration": 44,
    "start_time": "2024-01-15T12:40:48.509Z"
   },
   {
    "duration": 40,
    "start_time": "2024-01-15T12:41:08.340Z"
   },
   {
    "duration": 43,
    "start_time": "2024-01-15T12:43:28.181Z"
   },
   {
    "duration": 1131,
    "start_time": "2024-01-15T12:43:44.398Z"
   },
   {
    "duration": 181,
    "start_time": "2024-01-15T12:43:45.530Z"
   },
   {
    "duration": 10,
    "start_time": "2024-01-15T12:43:45.713Z"
   },
   {
    "duration": 9,
    "start_time": "2024-01-15T12:43:45.725Z"
   },
   {
    "duration": 7,
    "start_time": "2024-01-15T12:43:45.736Z"
   },
   {
    "duration": 42,
    "start_time": "2024-01-15T12:43:45.744Z"
   },
   {
    "duration": 4,
    "start_time": "2024-01-15T12:43:45.788Z"
   },
   {
    "duration": 14,
    "start_time": "2024-01-15T12:43:45.794Z"
   },
   {
    "duration": 90,
    "start_time": "2024-01-15T12:43:45.809Z"
   },
   {
    "duration": 9,
    "start_time": "2024-01-15T12:43:45.900Z"
   },
   {
    "duration": 17,
    "start_time": "2024-01-15T12:43:45.910Z"
   },
   {
    "duration": 12,
    "start_time": "2024-01-15T12:43:45.929Z"
   },
   {
    "duration": 4,
    "start_time": "2024-01-15T12:43:45.942Z"
   },
   {
    "duration": 23,
    "start_time": "2024-01-15T12:43:45.973Z"
   },
   {
    "duration": 38,
    "start_time": "2024-01-15T12:43:45.998Z"
   },
   {
    "duration": 457,
    "start_time": "2024-01-15T12:43:46.038Z"
   },
   {
    "duration": 42,
    "start_time": "2024-01-15T12:43:46.497Z"
   },
   {
    "duration": 159,
    "start_time": "2024-01-15T12:43:46.541Z"
   },
   {
    "duration": 0,
    "start_time": "2024-01-15T12:43:46.702Z"
   },
   {
    "duration": 0,
    "start_time": "2024-01-15T12:43:46.703Z"
   },
   {
    "duration": 41,
    "start_time": "2024-01-15T12:44:21.415Z"
   },
   {
    "duration": 422,
    "start_time": "2024-01-15T12:45:12.626Z"
   },
   {
    "duration": 10,
    "start_time": "2024-01-15T12:49:38.302Z"
   },
   {
    "duration": 159,
    "start_time": "2024-01-15T12:49:55.333Z"
   },
   {
    "duration": 6519,
    "start_time": "2024-01-15T12:50:23.873Z"
   },
   {
    "duration": 441,
    "start_time": "2024-01-15T15:35:42.937Z"
   },
   {
    "duration": 451,
    "start_time": "2024-01-15T15:36:19.618Z"
   },
   {
    "duration": 3,
    "start_time": "2024-01-15T15:42:48.548Z"
   },
   {
    "duration": 32,
    "start_time": "2024-01-15T15:43:24.082Z"
   },
   {
    "duration": 1178,
    "start_time": "2024-01-15T15:43:56.722Z"
   },
   {
    "duration": 187,
    "start_time": "2024-01-15T15:43:57.902Z"
   },
   {
    "duration": 14,
    "start_time": "2024-01-15T15:43:58.091Z"
   },
   {
    "duration": 10,
    "start_time": "2024-01-15T15:43:58.107Z"
   },
   {
    "duration": 9,
    "start_time": "2024-01-15T15:43:58.119Z"
   },
   {
    "duration": 45,
    "start_time": "2024-01-15T15:43:58.129Z"
   },
   {
    "duration": 5,
    "start_time": "2024-01-15T15:43:58.175Z"
   },
   {
    "duration": 13,
    "start_time": "2024-01-15T15:43:58.181Z"
   },
   {
    "duration": 93,
    "start_time": "2024-01-15T15:43:58.195Z"
   },
   {
    "duration": 8,
    "start_time": "2024-01-15T15:43:58.290Z"
   },
   {
    "duration": 14,
    "start_time": "2024-01-15T15:43:58.300Z"
   },
   {
    "duration": 34,
    "start_time": "2024-01-15T15:43:58.316Z"
   },
   {
    "duration": 3,
    "start_time": "2024-01-15T15:43:58.352Z"
   },
   {
    "duration": 24,
    "start_time": "2024-01-15T15:43:58.374Z"
   },
   {
    "duration": 37,
    "start_time": "2024-01-15T15:43:58.399Z"
   },
   {
    "duration": 470,
    "start_time": "2024-01-15T15:43:58.438Z"
   },
   {
    "duration": 137,
    "start_time": "2024-01-15T15:43:58.909Z"
   },
   {
    "duration": 0,
    "start_time": "2024-01-15T15:43:59.048Z"
   },
   {
    "duration": 0,
    "start_time": "2024-01-15T15:43:59.049Z"
   },
   {
    "duration": 3,
    "start_time": "2024-01-15T15:44:22.056Z"
   },
   {
    "duration": 30,
    "start_time": "2024-01-15T15:44:25.178Z"
   },
   {
    "duration": 63,
    "start_time": "2024-01-15T15:44:51.509Z"
   },
   {
    "duration": 41,
    "start_time": "2024-01-15T15:45:02.240Z"
   },
   {
    "duration": 43,
    "start_time": "2024-01-15T15:54:24.993Z"
   },
   {
    "duration": 27,
    "start_time": "2024-01-15T15:55:38.360Z"
   },
   {
    "duration": 4,
    "start_time": "2024-01-15T15:56:08.185Z"
   },
   {
    "duration": 33,
    "start_time": "2024-01-15T15:56:29.508Z"
   },
   {
    "duration": 27,
    "start_time": "2024-01-15T15:56:52.509Z"
   },
   {
    "duration": 24,
    "start_time": "2024-01-15T15:57:04.373Z"
   },
   {
    "duration": 1149,
    "start_time": "2024-01-15T16:15:35.415Z"
   },
   {
    "duration": 201,
    "start_time": "2024-01-15T16:15:36.566Z"
   },
   {
    "duration": 11,
    "start_time": "2024-01-15T16:15:36.769Z"
   },
   {
    "duration": 24,
    "start_time": "2024-01-15T16:15:36.781Z"
   },
   {
    "duration": 14,
    "start_time": "2024-01-15T16:15:36.807Z"
   },
   {
    "duration": 44,
    "start_time": "2024-01-15T16:15:36.822Z"
   },
   {
    "duration": 4,
    "start_time": "2024-01-15T16:15:36.868Z"
   },
   {
    "duration": 14,
    "start_time": "2024-01-15T16:15:36.873Z"
   },
   {
    "duration": 85,
    "start_time": "2024-01-15T16:15:36.888Z"
   },
   {
    "duration": 18,
    "start_time": "2024-01-15T16:15:36.975Z"
   },
   {
    "duration": 21,
    "start_time": "2024-01-15T16:15:36.994Z"
   },
   {
    "duration": 14,
    "start_time": "2024-01-15T16:15:37.017Z"
   },
   {
    "duration": 5,
    "start_time": "2024-01-15T16:15:37.032Z"
   },
   {
    "duration": 38,
    "start_time": "2024-01-15T16:15:37.040Z"
   },
   {
    "duration": 39,
    "start_time": "2024-01-15T16:15:37.079Z"
   },
   {
    "duration": 427,
    "start_time": "2024-01-15T16:15:37.120Z"
   },
   {
    "duration": 68,
    "start_time": "2024-01-15T16:15:37.549Z"
   },
   {
    "duration": 27,
    "start_time": "2024-01-15T16:15:37.619Z"
   },
   {
    "duration": 4,
    "start_time": "2024-01-15T16:15:37.648Z"
   },
   {
    "duration": 103,
    "start_time": "2024-01-15T16:15:37.673Z"
   },
   {
    "duration": 0,
    "start_time": "2024-01-15T16:15:37.777Z"
   },
   {
    "duration": 4,
    "start_time": "2024-01-15T16:15:59.341Z"
   },
   {
    "duration": 131,
    "start_time": "2024-01-15T16:22:44.454Z"
   },
   {
    "duration": 138,
    "start_time": "2024-01-15T16:22:47.757Z"
   },
   {
    "duration": 131,
    "start_time": "2024-01-15T16:22:56.791Z"
   },
   {
    "duration": 36,
    "start_time": "2024-01-15T16:23:48.078Z"
   },
   {
    "duration": 29,
    "start_time": "2024-01-15T16:23:54.833Z"
   },
   {
    "duration": 10,
    "start_time": "2024-01-15T16:24:05.733Z"
   },
   {
    "duration": 27,
    "start_time": "2024-01-15T16:24:28.014Z"
   },
   {
    "duration": 14,
    "start_time": "2024-01-15T16:29:27.413Z"
   },
   {
    "duration": 2077,
    "start_time": "2024-01-15T16:29:33.937Z"
   },
   {
    "duration": 652,
    "start_time": "2024-01-15T16:29:38.791Z"
   },
   {
    "duration": 1447,
    "start_time": "2024-01-15T16:32:33.480Z"
   },
   {
    "duration": 27,
    "start_time": "2024-01-15T16:34:35.996Z"
   },
   {
    "duration": 28,
    "start_time": "2024-01-15T16:34:41.241Z"
   },
   {
    "duration": 24,
    "start_time": "2024-01-15T16:34:54.777Z"
   },
   {
    "duration": 8,
    "start_time": "2024-01-15T16:36:01.766Z"
   },
   {
    "duration": 34,
    "start_time": "2024-01-15T16:36:21.150Z"
   },
   {
    "duration": 42,
    "start_time": "2024-01-16T07:02:55.001Z"
   },
   {
    "duration": 1267,
    "start_time": "2024-01-16T07:03:00.130Z"
   },
   {
    "duration": 698,
    "start_time": "2024-01-16T07:03:01.399Z"
   },
   {
    "duration": 10,
    "start_time": "2024-01-16T07:03:02.099Z"
   },
   {
    "duration": 44,
    "start_time": "2024-01-16T07:03:02.110Z"
   },
   {
    "duration": 17,
    "start_time": "2024-01-16T07:03:02.156Z"
   },
   {
    "duration": 53,
    "start_time": "2024-01-16T07:03:02.174Z"
   },
   {
    "duration": 50,
    "start_time": "2024-01-16T07:03:02.228Z"
   },
   {
    "duration": 26,
    "start_time": "2024-01-16T07:03:02.280Z"
   },
   {
    "duration": 93,
    "start_time": "2024-01-16T07:03:02.307Z"
   },
   {
    "duration": 8,
    "start_time": "2024-01-16T07:03:02.401Z"
   },
   {
    "duration": 48,
    "start_time": "2024-01-16T07:03:02.410Z"
   },
   {
    "duration": 27,
    "start_time": "2024-01-16T07:03:02.460Z"
   },
   {
    "duration": 27,
    "start_time": "2024-01-16T07:03:02.488Z"
   },
   {
    "duration": 69,
    "start_time": "2024-01-16T07:03:02.517Z"
   },
   {
    "duration": 65,
    "start_time": "2024-01-16T07:03:02.588Z"
   },
   {
    "duration": 375,
    "start_time": "2024-01-16T07:03:02.655Z"
   },
   {
    "duration": 61,
    "start_time": "2024-01-16T07:03:03.032Z"
   },
   {
    "duration": 612,
    "start_time": "2024-01-16T07:03:03.094Z"
   },
   {
    "duration": 21,
    "start_time": "2024-01-16T07:03:03.708Z"
   },
   {
    "duration": 28,
    "start_time": "2024-01-16T07:03:03.731Z"
   },
   {
    "duration": 8,
    "start_time": "2024-01-16T07:03:03.760Z"
   },
   {
    "duration": 8,
    "start_time": "2024-01-16T07:03:21.352Z"
   },
   {
    "duration": 2,
    "start_time": "2024-01-16T07:03:57.724Z"
   },
   {
    "duration": 1139,
    "start_time": "2024-01-16T07:08:11.406Z"
   },
   {
    "duration": 1034,
    "start_time": "2024-01-16T07:08:37.377Z"
   },
   {
    "duration": 12,
    "start_time": "2024-01-16T07:09:00.564Z"
   },
   {
    "duration": 10,
    "start_time": "2024-01-16T07:09:12.243Z"
   },
   {
    "duration": 10,
    "start_time": "2024-01-16T07:09:46.836Z"
   },
   {
    "duration": 10,
    "start_time": "2024-01-16T07:17:15.884Z"
   },
   {
    "duration": 1260,
    "start_time": "2024-01-16T07:17:29.659Z"
   },
   {
    "duration": 1061,
    "start_time": "2024-01-16T07:17:45.533Z"
   },
   {
    "duration": 168,
    "start_time": "2024-01-16T07:17:46.596Z"
   },
   {
    "duration": 11,
    "start_time": "2024-01-16T07:17:46.766Z"
   },
   {
    "duration": 13,
    "start_time": "2024-01-16T07:17:46.779Z"
   },
   {
    "duration": 6,
    "start_time": "2024-01-16T07:17:46.794Z"
   },
   {
    "duration": 19,
    "start_time": "2024-01-16T07:17:46.802Z"
   },
   {
    "duration": 5,
    "start_time": "2024-01-16T07:17:46.822Z"
   },
   {
    "duration": 12,
    "start_time": "2024-01-16T07:17:46.828Z"
   },
   {
    "duration": 90,
    "start_time": "2024-01-16T07:17:46.841Z"
   },
   {
    "duration": 9,
    "start_time": "2024-01-16T07:17:46.932Z"
   },
   {
    "duration": 23,
    "start_time": "2024-01-16T07:17:46.942Z"
   },
   {
    "duration": 12,
    "start_time": "2024-01-16T07:17:46.967Z"
   },
   {
    "duration": 4,
    "start_time": "2024-01-16T07:17:46.980Z"
   },
   {
    "duration": 26,
    "start_time": "2024-01-16T07:17:46.986Z"
   },
   {
    "duration": 36,
    "start_time": "2024-01-16T07:17:47.013Z"
   },
   {
    "duration": 427,
    "start_time": "2024-01-16T07:17:47.050Z"
   },
   {
    "duration": 59,
    "start_time": "2024-01-16T07:17:47.478Z"
   },
   {
    "duration": 567,
    "start_time": "2024-01-16T07:17:47.538Z"
   },
   {
    "duration": 23,
    "start_time": "2024-01-16T07:17:48.107Z"
   },
   {
    "duration": 30,
    "start_time": "2024-01-16T07:17:48.132Z"
   },
   {
    "duration": 30,
    "start_time": "2024-01-16T07:17:48.163Z"
   },
   {
    "duration": 26,
    "start_time": "2024-01-16T07:17:48.195Z"
   },
   {
    "duration": 25,
    "start_time": "2024-01-16T07:18:56.445Z"
   },
   {
    "duration": 27,
    "start_time": "2024-01-16T07:19:01.114Z"
   },
   {
    "duration": 21,
    "start_time": "2024-01-16T07:21:07.963Z"
   },
   {
    "duration": 22,
    "start_time": "2024-01-16T07:21:15.737Z"
   },
   {
    "duration": 27,
    "start_time": "2024-01-16T07:21:20.323Z"
   },
   {
    "duration": 119,
    "start_time": "2024-01-16T07:22:12.727Z"
   },
   {
    "duration": 24,
    "start_time": "2024-01-16T07:22:41.643Z"
   },
   {
    "duration": 55,
    "start_time": "2024-01-16T07:23:00.006Z"
   },
   {
    "duration": 11,
    "start_time": "2024-01-16T07:24:57.969Z"
   },
   {
    "duration": 9,
    "start_time": "2024-01-16T07:25:30.815Z"
   },
   {
    "duration": 99,
    "start_time": "2024-01-16T07:37:55.642Z"
   },
   {
    "duration": 14,
    "start_time": "2024-01-16T07:50:22.088Z"
   },
   {
    "duration": 11,
    "start_time": "2024-01-16T07:52:06.011Z"
   },
   {
    "duration": 1262,
    "start_time": "2024-01-16T07:52:30.267Z"
   },
   {
    "duration": 182,
    "start_time": "2024-01-16T07:52:31.531Z"
   },
   {
    "duration": 10,
    "start_time": "2024-01-16T07:52:31.715Z"
   },
   {
    "duration": 21,
    "start_time": "2024-01-16T07:52:31.727Z"
   },
   {
    "duration": 7,
    "start_time": "2024-01-16T07:52:31.750Z"
   },
   {
    "duration": 25,
    "start_time": "2024-01-16T07:52:31.758Z"
   },
   {
    "duration": 10,
    "start_time": "2024-01-16T07:52:31.784Z"
   },
   {
    "duration": 21,
    "start_time": "2024-01-16T07:52:31.795Z"
   },
   {
    "duration": 88,
    "start_time": "2024-01-16T07:52:31.817Z"
   },
   {
    "duration": 13,
    "start_time": "2024-01-16T07:52:31.907Z"
   },
   {
    "duration": 23,
    "start_time": "2024-01-16T07:52:31.921Z"
   },
   {
    "duration": 18,
    "start_time": "2024-01-16T07:52:31.945Z"
   },
   {
    "duration": 4,
    "start_time": "2024-01-16T07:52:31.964Z"
   },
   {
    "duration": 28,
    "start_time": "2024-01-16T07:52:31.969Z"
   },
   {
    "duration": 37,
    "start_time": "2024-01-16T07:52:31.998Z"
   },
   {
    "duration": 455,
    "start_time": "2024-01-16T07:52:32.037Z"
   },
   {
    "duration": 76,
    "start_time": "2024-01-16T07:52:32.494Z"
   },
   {
    "duration": 698,
    "start_time": "2024-01-16T07:52:32.571Z"
   },
   {
    "duration": 33,
    "start_time": "2024-01-16T07:52:33.270Z"
   },
   {
    "duration": 34,
    "start_time": "2024-01-16T07:52:33.305Z"
   },
   {
    "duration": 9,
    "start_time": "2024-01-16T07:52:33.340Z"
   },
   {
    "duration": 50,
    "start_time": "2024-01-16T07:52:33.351Z"
   },
   {
    "duration": 62,
    "start_time": "2024-01-16T07:52:33.402Z"
   },
   {
    "duration": 27,
    "start_time": "2024-01-16T07:52:33.466Z"
   },
   {
    "duration": 104,
    "start_time": "2024-01-16T07:52:33.494Z"
   },
   {
    "duration": 5,
    "start_time": "2024-01-16T07:57:23.081Z"
   },
   {
    "duration": 7,
    "start_time": "2024-01-16T07:57:25.304Z"
   },
   {
    "duration": 10,
    "start_time": "2024-01-16T07:57:33.094Z"
   },
   {
    "duration": 5,
    "start_time": "2024-01-16T07:58:35.272Z"
   },
   {
    "duration": 7,
    "start_time": "2024-01-16T07:59:05.325Z"
   },
   {
    "duration": 12,
    "start_time": "2024-01-16T07:59:44.313Z"
   },
   {
    "duration": 300,
    "start_time": "2024-01-16T08:06:41.162Z"
   },
   {
    "duration": 35,
    "start_time": "2024-01-16T08:07:18.826Z"
   },
   {
    "duration": 255,
    "start_time": "2024-01-16T08:07:44.521Z"
   },
   {
    "duration": 106,
    "start_time": "2024-01-16T08:08:12.310Z"
   },
   {
    "duration": 120,
    "start_time": "2024-01-16T08:08:40.465Z"
   },
   {
    "duration": 12,
    "start_time": "2024-01-16T08:19:32.640Z"
   },
   {
    "duration": 7,
    "start_time": "2024-01-16T08:20:03.133Z"
   },
   {
    "duration": 4,
    "start_time": "2024-01-16T08:24:55.063Z"
   },
   {
    "duration": 149,
    "start_time": "2024-01-16T08:38:26.686Z"
   },
   {
    "duration": 103,
    "start_time": "2024-01-16T08:38:30.554Z"
   },
   {
    "duration": 7,
    "start_time": "2024-01-16T08:40:31.871Z"
   },
   {
    "duration": 1440,
    "start_time": "2024-01-16T08:42:46.388Z"
   },
   {
    "duration": 1447,
    "start_time": "2024-01-16T08:42:57.324Z"
   },
   {
    "duration": 1416,
    "start_time": "2024-01-16T08:43:16.132Z"
   },
   {
    "duration": 10,
    "start_time": "2024-01-16T08:43:19.183Z"
   },
   {
    "duration": 7,
    "start_time": "2024-01-16T08:43:32.918Z"
   },
   {
    "duration": 8,
    "start_time": "2024-01-16T08:43:36.314Z"
   },
   {
    "duration": 91,
    "start_time": "2024-01-16T08:45:41.473Z"
   },
   {
    "duration": 3,
    "start_time": "2024-01-16T08:45:52.242Z"
   },
   {
    "duration": 3,
    "start_time": "2024-01-16T08:46:03.573Z"
   },
   {
    "duration": 16,
    "start_time": "2024-01-16T08:53:50.625Z"
   },
   {
    "duration": 40,
    "start_time": "2024-01-16T08:54:06.597Z"
   },
   {
    "duration": 12,
    "start_time": "2024-01-16T08:54:12.270Z"
   },
   {
    "duration": 1238,
    "start_time": "2024-01-16T08:54:18.838Z"
   },
   {
    "duration": 245,
    "start_time": "2024-01-16T08:54:20.078Z"
   },
   {
    "duration": 21,
    "start_time": "2024-01-16T08:54:20.326Z"
   },
   {
    "duration": 10,
    "start_time": "2024-01-16T08:54:20.349Z"
   },
   {
    "duration": 9,
    "start_time": "2024-01-16T08:54:20.360Z"
   },
   {
    "duration": 43,
    "start_time": "2024-01-16T08:54:20.371Z"
   },
   {
    "duration": 10,
    "start_time": "2024-01-16T08:54:20.416Z"
   },
   {
    "duration": 19,
    "start_time": "2024-01-16T08:54:20.429Z"
   },
   {
    "duration": 111,
    "start_time": "2024-01-16T08:54:20.450Z"
   },
   {
    "duration": 10,
    "start_time": "2024-01-16T08:54:20.565Z"
   },
   {
    "duration": 54,
    "start_time": "2024-01-16T08:54:20.577Z"
   },
   {
    "duration": 22,
    "start_time": "2024-01-16T08:54:20.633Z"
   },
   {
    "duration": 4,
    "start_time": "2024-01-16T08:54:20.657Z"
   },
   {
    "duration": 61,
    "start_time": "2024-01-16T08:54:20.662Z"
   },
   {
    "duration": 51,
    "start_time": "2024-01-16T08:54:20.726Z"
   },
   {
    "duration": 497,
    "start_time": "2024-01-16T08:54:20.779Z"
   },
   {
    "duration": 86,
    "start_time": "2024-01-16T08:54:21.278Z"
   },
   {
    "duration": 750,
    "start_time": "2024-01-16T08:54:21.365Z"
   },
   {
    "duration": 33,
    "start_time": "2024-01-16T08:54:22.117Z"
   },
   {
    "duration": 50,
    "start_time": "2024-01-16T08:54:22.152Z"
   },
   {
    "duration": 21,
    "start_time": "2024-01-16T08:54:22.203Z"
   },
   {
    "duration": 30,
    "start_time": "2024-01-16T08:54:22.229Z"
   },
   {
    "duration": 81,
    "start_time": "2024-01-16T08:54:22.261Z"
   },
   {
    "duration": 6,
    "start_time": "2024-01-16T08:54:22.343Z"
   },
   {
    "duration": 15,
    "start_time": "2024-01-16T08:54:22.350Z"
   },
   {
    "duration": 139,
    "start_time": "2024-01-16T08:54:22.366Z"
   },
   {
    "duration": 0,
    "start_time": "2024-01-16T08:54:22.510Z"
   },
   {
    "duration": 0,
    "start_time": "2024-01-16T08:54:22.511Z"
   },
   {
    "duration": 0,
    "start_time": "2024-01-16T08:54:22.518Z"
   },
   {
    "duration": 24,
    "start_time": "2024-01-16T08:54:44.188Z"
   },
   {
    "duration": 9,
    "start_time": "2024-01-16T08:54:53.156Z"
   },
   {
    "duration": 1254,
    "start_time": "2024-01-16T08:55:35.950Z"
   },
   {
    "duration": 224,
    "start_time": "2024-01-16T08:55:37.208Z"
   },
   {
    "duration": 11,
    "start_time": "2024-01-16T08:55:37.434Z"
   },
   {
    "duration": 11,
    "start_time": "2024-01-16T08:55:37.447Z"
   },
   {
    "duration": 9,
    "start_time": "2024-01-16T08:55:37.459Z"
   },
   {
    "duration": 26,
    "start_time": "2024-01-16T08:55:37.494Z"
   },
   {
    "duration": 7,
    "start_time": "2024-01-16T08:55:37.521Z"
   },
   {
    "duration": 15,
    "start_time": "2024-01-16T08:55:37.530Z"
   },
   {
    "duration": 113,
    "start_time": "2024-01-16T08:55:37.546Z"
   },
   {
    "duration": 10,
    "start_time": "2024-01-16T08:55:37.661Z"
   },
   {
    "duration": 37,
    "start_time": "2024-01-16T08:55:37.673Z"
   },
   {
    "duration": 20,
    "start_time": "2024-01-16T08:55:37.712Z"
   },
   {
    "duration": 5,
    "start_time": "2024-01-16T08:55:37.734Z"
   },
   {
    "duration": 32,
    "start_time": "2024-01-16T08:55:37.741Z"
   },
   {
    "duration": 73,
    "start_time": "2024-01-16T08:55:37.775Z"
   },
   {
    "duration": 495,
    "start_time": "2024-01-16T08:55:37.849Z"
   },
   {
    "duration": 87,
    "start_time": "2024-01-16T08:55:38.345Z"
   },
   {
    "duration": 777,
    "start_time": "2024-01-16T08:55:38.434Z"
   },
   {
    "duration": 31,
    "start_time": "2024-01-16T08:55:39.213Z"
   },
   {
    "duration": 36,
    "start_time": "2024-01-16T08:55:39.245Z"
   },
   {
    "duration": 28,
    "start_time": "2024-01-16T08:55:39.282Z"
   },
   {
    "duration": 38,
    "start_time": "2024-01-16T08:55:39.311Z"
   },
   {
    "duration": 78,
    "start_time": "2024-01-16T08:55:39.351Z"
   },
   {
    "duration": 7,
    "start_time": "2024-01-16T08:55:39.431Z"
   },
   {
    "duration": 12,
    "start_time": "2024-01-16T08:55:39.440Z"
   },
   {
    "duration": 26,
    "start_time": "2024-01-16T08:55:39.453Z"
   },
   {
    "duration": 126,
    "start_time": "2024-01-16T08:55:39.481Z"
   },
   {
    "duration": 10,
    "start_time": "2024-01-16T08:55:39.611Z"
   },
   {
    "duration": 38,
    "start_time": "2024-01-16T08:55:39.622Z"
   },
   {
    "duration": 16,
    "start_time": "2024-01-16T08:56:42.502Z"
   },
   {
    "duration": 33,
    "start_time": "2024-01-16T08:57:03.045Z"
   },
   {
    "duration": 53,
    "start_time": "2024-01-16T08:57:14.607Z"
   },
   {
    "duration": 43,
    "start_time": "2024-01-16T08:58:20.209Z"
   },
   {
    "duration": 52,
    "start_time": "2024-01-16T09:01:33.310Z"
   },
   {
    "duration": 163,
    "start_time": "2024-01-16T09:08:26.034Z"
   },
   {
    "duration": 64,
    "start_time": "2024-01-16T09:08:32.127Z"
   },
   {
    "duration": 73,
    "start_time": "2024-01-16T09:08:41.589Z"
   },
   {
    "duration": 6,
    "start_time": "2024-01-16T09:12:03.372Z"
   },
   {
    "duration": 9,
    "start_time": "2024-01-16T09:12:33.808Z"
   },
   {
    "duration": 45,
    "start_time": "2024-01-16T09:14:30.917Z"
   },
   {
    "duration": 57,
    "start_time": "2024-01-16T09:14:35.785Z"
   },
   {
    "duration": 49,
    "start_time": "2024-01-16T09:22:56.403Z"
   },
   {
    "duration": 10,
    "start_time": "2024-01-16T09:23:04.825Z"
   },
   {
    "duration": 39,
    "start_time": "2024-01-16T09:23:30.487Z"
   },
   {
    "duration": 36,
    "start_time": "2024-01-16T09:23:34.722Z"
   },
   {
    "duration": 55,
    "start_time": "2024-01-17T12:40:55.128Z"
   },
   {
    "duration": 1536,
    "start_time": "2024-01-17T12:41:01.274Z"
   },
   {
    "duration": 566,
    "start_time": "2024-01-17T12:41:02.813Z"
   },
   {
    "duration": 15,
    "start_time": "2024-01-17T12:41:03.381Z"
   },
   {
    "duration": 9,
    "start_time": "2024-01-17T12:41:03.398Z"
   },
   {
    "duration": 8,
    "start_time": "2024-01-17T12:41:03.409Z"
   },
   {
    "duration": 33,
    "start_time": "2024-01-17T12:41:03.419Z"
   },
   {
    "duration": 51,
    "start_time": "2024-01-17T12:41:03.454Z"
   },
   {
    "duration": 47,
    "start_time": "2024-01-17T12:41:03.507Z"
   },
   {
    "duration": 94,
    "start_time": "2024-01-17T12:41:03.556Z"
   },
   {
    "duration": 11,
    "start_time": "2024-01-17T12:41:03.651Z"
   },
   {
    "duration": 16,
    "start_time": "2024-01-17T12:41:03.664Z"
   },
   {
    "duration": 14,
    "start_time": "2024-01-17T12:41:03.682Z"
   },
   {
    "duration": 6,
    "start_time": "2024-01-17T12:41:03.697Z"
   },
   {
    "duration": 50,
    "start_time": "2024-01-17T12:41:03.706Z"
   },
   {
    "duration": 72,
    "start_time": "2024-01-17T12:41:03.758Z"
   },
   {
    "duration": 465,
    "start_time": "2024-01-17T12:41:03.832Z"
   },
   {
    "duration": 79,
    "start_time": "2024-01-17T12:41:04.299Z"
   },
   {
    "duration": 721,
    "start_time": "2024-01-17T12:41:04.380Z"
   },
   {
    "duration": 40,
    "start_time": "2024-01-17T12:41:05.103Z"
   },
   {
    "duration": 39,
    "start_time": "2024-01-17T12:41:05.145Z"
   },
   {
    "duration": 116,
    "start_time": "2024-01-17T12:41:05.185Z"
   },
   {
    "duration": 112,
    "start_time": "2024-01-17T12:41:05.303Z"
   },
   {
    "duration": 20,
    "start_time": "2024-01-17T12:41:05.417Z"
   },
   {
    "duration": 44,
    "start_time": "2024-01-17T12:41:05.439Z"
   },
   {
    "duration": 12,
    "start_time": "2024-01-17T12:41:05.485Z"
   },
   {
    "duration": 147,
    "start_time": "2024-01-17T12:41:05.500Z"
   },
   {
    "duration": 5,
    "start_time": "2024-01-17T12:41:05.649Z"
   },
   {
    "duration": 72,
    "start_time": "2024-01-17T12:41:05.656Z"
   },
   {
    "duration": 48,
    "start_time": "2024-01-17T12:41:05.736Z"
   },
   {
    "duration": 316,
    "start_time": "2024-01-17T12:41:05.785Z"
   },
   {
    "duration": 72,
    "start_time": "2024-01-17T12:41:06.102Z"
   },
   {
    "duration": 31,
    "start_time": "2024-01-17T12:41:06.177Z"
   },
   {
    "duration": 17,
    "start_time": "2024-01-17T12:41:06.213Z"
   },
   {
    "duration": 20,
    "start_time": "2024-01-17T12:41:06.232Z"
   },
   {
    "duration": 30,
    "start_time": "2024-01-17T12:42:19.942Z"
   },
   {
    "duration": 26,
    "start_time": "2024-01-17T12:42:36.413Z"
   },
   {
    "duration": 20,
    "start_time": "2024-01-17T12:42:46.279Z"
   },
   {
    "duration": 20,
    "start_time": "2024-01-17T12:44:34.374Z"
   },
   {
    "duration": 18,
    "start_time": "2024-01-17T12:44:55.939Z"
   },
   {
    "duration": 18,
    "start_time": "2024-01-17T12:45:12.199Z"
   },
   {
    "duration": 19,
    "start_time": "2024-01-17T12:45:18.689Z"
   },
   {
    "duration": 17,
    "start_time": "2024-01-17T12:45:24.099Z"
   },
   {
    "duration": 26,
    "start_time": "2024-01-17T12:45:36.216Z"
   },
   {
    "duration": 22,
    "start_time": "2024-01-17T12:45:43.631Z"
   },
   {
    "duration": 6,
    "start_time": "2024-01-17T12:47:25.303Z"
   },
   {
    "duration": 6,
    "start_time": "2024-01-17T12:47:39.036Z"
   },
   {
    "duration": 6,
    "start_time": "2024-01-17T12:47:42.459Z"
   },
   {
    "duration": 6,
    "start_time": "2024-01-17T12:47:52.768Z"
   },
   {
    "duration": 12,
    "start_time": "2024-01-17T12:49:31.289Z"
   },
   {
    "duration": 37,
    "start_time": "2024-01-17T12:49:34.577Z"
   },
   {
    "duration": 33,
    "start_time": "2024-01-17T12:50:59.348Z"
   },
   {
    "duration": 114,
    "start_time": "2024-01-17T12:51:59.261Z"
   },
   {
    "duration": 21,
    "start_time": "2024-01-17T12:52:07.448Z"
   },
   {
    "duration": 41,
    "start_time": "2024-01-17T12:52:14.235Z"
   },
   {
    "duration": 1192,
    "start_time": "2024-01-17T12:59:20.449Z"
   },
   {
    "duration": 219,
    "start_time": "2024-01-17T12:59:21.643Z"
   },
   {
    "duration": 11,
    "start_time": "2024-01-17T12:59:21.864Z"
   },
   {
    "duration": 19,
    "start_time": "2024-01-17T12:59:21.877Z"
   },
   {
    "duration": 9,
    "start_time": "2024-01-17T12:59:21.897Z"
   },
   {
    "duration": 28,
    "start_time": "2024-01-17T12:59:21.908Z"
   },
   {
    "duration": 5,
    "start_time": "2024-01-17T12:59:21.938Z"
   },
   {
    "duration": 31,
    "start_time": "2024-01-17T12:59:21.945Z"
   },
   {
    "duration": 87,
    "start_time": "2024-01-17T12:59:21.978Z"
   },
   {
    "duration": 11,
    "start_time": "2024-01-17T12:59:22.068Z"
   },
   {
    "duration": 26,
    "start_time": "2024-01-17T12:59:22.080Z"
   },
   {
    "duration": 14,
    "start_time": "2024-01-17T12:59:22.108Z"
   },
   {
    "duration": 4,
    "start_time": "2024-01-17T12:59:22.123Z"
   },
   {
    "duration": 26,
    "start_time": "2024-01-17T12:59:22.128Z"
   },
   {
    "duration": 37,
    "start_time": "2024-01-17T12:59:22.155Z"
   },
   {
    "duration": 439,
    "start_time": "2024-01-17T12:59:22.194Z"
   },
   {
    "duration": 59,
    "start_time": "2024-01-17T12:59:22.635Z"
   },
   {
    "duration": 693,
    "start_time": "2024-01-17T12:59:22.695Z"
   },
   {
    "duration": 34,
    "start_time": "2024-01-17T12:59:23.390Z"
   },
   {
    "duration": 33,
    "start_time": "2024-01-17T12:59:23.426Z"
   },
   {
    "duration": 31,
    "start_time": "2024-01-17T12:59:23.461Z"
   },
   {
    "duration": 94,
    "start_time": "2024-01-17T12:59:23.493Z"
   },
   {
    "duration": 10,
    "start_time": "2024-01-17T12:59:23.588Z"
   },
   {
    "duration": 38,
    "start_time": "2024-01-17T12:59:23.600Z"
   },
   {
    "duration": 10,
    "start_time": "2024-01-17T12:59:23.640Z"
   },
   {
    "duration": 113,
    "start_time": "2024-01-17T12:59:23.651Z"
   },
   {
    "duration": 6,
    "start_time": "2024-01-17T12:59:23.765Z"
   },
   {
    "duration": 16,
    "start_time": "2024-01-17T12:59:23.774Z"
   },
   {
    "duration": 48,
    "start_time": "2024-01-17T12:59:23.792Z"
   },
   {
    "duration": 8,
    "start_time": "2024-01-17T12:59:23.841Z"
   },
   {
    "duration": 111,
    "start_time": "2024-01-17T12:59:23.850Z"
   },
   {
    "duration": 0,
    "start_time": "2024-01-17T12:59:23.963Z"
   },
   {
    "duration": 0,
    "start_time": "2024-01-17T12:59:23.963Z"
   },
   {
    "duration": 0,
    "start_time": "2024-01-17T12:59:23.964Z"
   },
   {
    "duration": 9,
    "start_time": "2024-01-17T12:59:31.657Z"
   },
   {
    "duration": 36,
    "start_time": "2024-01-17T12:59:36.222Z"
   },
   {
    "duration": 29,
    "start_time": "2024-01-17T12:59:47.454Z"
   },
   {
    "duration": 33,
    "start_time": "2024-01-17T13:00:07.342Z"
   },
   {
    "duration": 29,
    "start_time": "2024-01-17T13:00:20.292Z"
   },
   {
    "duration": 29,
    "start_time": "2024-01-17T13:00:31.208Z"
   },
   {
    "duration": 29,
    "start_time": "2024-01-17T13:00:44.296Z"
   },
   {
    "duration": 33,
    "start_time": "2024-01-17T13:00:52.766Z"
   },
   {
    "duration": 37,
    "start_time": "2024-01-17T13:01:17.348Z"
   },
   {
    "duration": 6,
    "start_time": "2024-01-17T13:05:17.294Z"
   },
   {
    "duration": 10,
    "start_time": "2024-01-17T13:05:22.092Z"
   },
   {
    "duration": 22,
    "start_time": "2024-01-17T13:05:41.680Z"
   },
   {
    "duration": 15,
    "start_time": "2024-01-17T13:06:35.253Z"
   },
   {
    "duration": 7,
    "start_time": "2024-01-17T13:06:49.383Z"
   },
   {
    "duration": 7,
    "start_time": "2024-01-17T13:07:23.321Z"
   },
   {
    "duration": 4,
    "start_time": "2024-01-17T13:07:48.444Z"
   },
   {
    "duration": 7,
    "start_time": "2024-01-17T13:07:59.909Z"
   },
   {
    "duration": 11,
    "start_time": "2024-01-17T13:08:08.571Z"
   },
   {
    "duration": 14,
    "start_time": "2024-01-17T13:08:14.236Z"
   },
   {
    "duration": 4,
    "start_time": "2024-01-17T13:11:44.748Z"
   },
   {
    "duration": 5,
    "start_time": "2024-01-17T13:17:48.715Z"
   },
   {
    "duration": 5,
    "start_time": "2024-01-17T13:18:06.566Z"
   },
   {
    "duration": 1346,
    "start_time": "2024-01-18T06:45:33.526Z"
   },
   {
    "duration": 523,
    "start_time": "2024-01-18T06:45:34.874Z"
   },
   {
    "duration": 17,
    "start_time": "2024-01-18T06:45:35.399Z"
   },
   {
    "duration": 39,
    "start_time": "2024-01-18T06:45:35.418Z"
   },
   {
    "duration": 36,
    "start_time": "2024-01-18T06:45:35.460Z"
   },
   {
    "duration": 57,
    "start_time": "2024-01-18T06:45:35.498Z"
   },
   {
    "duration": 22,
    "start_time": "2024-01-18T06:45:35.557Z"
   },
   {
    "duration": 45,
    "start_time": "2024-01-18T06:45:35.581Z"
   },
   {
    "duration": 78,
    "start_time": "2024-01-18T06:45:35.628Z"
   },
   {
    "duration": 18,
    "start_time": "2024-01-18T06:45:35.707Z"
   },
   {
    "duration": 16,
    "start_time": "2024-01-18T06:45:35.726Z"
   },
   {
    "duration": 39,
    "start_time": "2024-01-18T06:45:35.743Z"
   },
   {
    "duration": 17,
    "start_time": "2024-01-18T06:45:35.784Z"
   },
   {
    "duration": 50,
    "start_time": "2024-01-18T06:45:35.803Z"
   },
   {
    "duration": 67,
    "start_time": "2024-01-18T06:45:35.856Z"
   },
   {
    "duration": 444,
    "start_time": "2024-01-18T06:45:35.924Z"
   },
   {
    "duration": 53,
    "start_time": "2024-01-18T06:45:36.369Z"
   },
   {
    "duration": 665,
    "start_time": "2024-01-18T06:45:36.423Z"
   },
   {
    "duration": 24,
    "start_time": "2024-01-18T06:45:37.089Z"
   },
   {
    "duration": 50,
    "start_time": "2024-01-18T06:45:37.115Z"
   },
   {
    "duration": 28,
    "start_time": "2024-01-18T06:45:37.167Z"
   },
   {
    "duration": 73,
    "start_time": "2024-01-18T06:45:37.197Z"
   },
   {
    "duration": 5,
    "start_time": "2024-01-18T06:45:37.271Z"
   },
   {
    "duration": 20,
    "start_time": "2024-01-18T06:45:37.277Z"
   },
   {
    "duration": 10,
    "start_time": "2024-01-18T06:45:37.298Z"
   },
   {
    "duration": 107,
    "start_time": "2024-01-18T06:45:37.310Z"
   },
   {
    "duration": 6,
    "start_time": "2024-01-18T06:45:37.419Z"
   },
   {
    "duration": 19,
    "start_time": "2024-01-18T06:45:37.427Z"
   },
   {
    "duration": 47,
    "start_time": "2024-01-18T06:45:37.448Z"
   },
   {
    "duration": 33,
    "start_time": "2024-01-18T06:45:37.497Z"
   },
   {
    "duration": 45,
    "start_time": "2024-01-18T06:45:37.532Z"
   },
   {
    "duration": 5,
    "start_time": "2024-01-18T06:45:37.578Z"
   },
   {
    "duration": 24,
    "start_time": "2024-01-18T06:45:37.584Z"
   },
   {
    "duration": 77,
    "start_time": "2024-01-18T06:45:37.610Z"
   },
   {
    "duration": 14,
    "start_time": "2024-01-18T06:52:33.679Z"
   },
   {
    "duration": 29,
    "start_time": "2024-01-18T06:54:31.387Z"
   },
   {
    "duration": 25,
    "start_time": "2024-01-18T06:55:37.139Z"
   },
   {
    "duration": 25,
    "start_time": "2024-01-18T06:55:50.458Z"
   },
   {
    "duration": 9,
    "start_time": "2024-01-18T06:57:17.751Z"
   },
   {
    "duration": 100,
    "start_time": "2024-01-18T07:15:02.554Z"
   },
   {
    "duration": 14,
    "start_time": "2024-01-18T07:16:27.352Z"
   },
   {
    "duration": 6,
    "start_time": "2024-01-18T07:17:16.660Z"
   },
   {
    "duration": 10,
    "start_time": "2024-01-18T07:17:21.737Z"
   },
   {
    "duration": 10,
    "start_time": "2024-01-18T07:17:49.275Z"
   },
   {
    "duration": 5,
    "start_time": "2024-01-18T07:21:03.327Z"
   },
   {
    "duration": 4,
    "start_time": "2024-01-18T07:21:13.963Z"
   },
   {
    "duration": 1275,
    "start_time": "2024-01-18T07:21:19.846Z"
   },
   {
    "duration": 8,
    "start_time": "2024-01-18T07:22:34.315Z"
   },
   {
    "duration": 8,
    "start_time": "2024-01-18T07:23:26.387Z"
   },
   {
    "duration": 6,
    "start_time": "2024-01-18T07:24:58.070Z"
   },
   {
    "duration": 78,
    "start_time": "2024-01-18T07:25:24.384Z"
   },
   {
    "duration": 5,
    "start_time": "2024-01-18T07:25:46.749Z"
   },
   {
    "duration": 5,
    "start_time": "2024-01-18T07:25:57.344Z"
   },
   {
    "duration": 7,
    "start_time": "2024-01-18T07:26:21.275Z"
   },
   {
    "duration": 5,
    "start_time": "2024-01-18T07:26:32.762Z"
   },
   {
    "duration": 6,
    "start_time": "2024-01-18T07:27:08.984Z"
   },
   {
    "duration": 4,
    "start_time": "2024-01-18T07:41:00.008Z"
   },
   {
    "duration": 6,
    "start_time": "2024-01-18T07:41:09.193Z"
   },
   {
    "duration": 6,
    "start_time": "2024-01-18T07:41:51.700Z"
   },
   {
    "duration": 1220,
    "start_time": "2024-01-18T07:42:09.026Z"
   },
   {
    "duration": 5,
    "start_time": "2024-01-18T07:42:19.011Z"
   },
   {
    "duration": 6,
    "start_time": "2024-01-18T07:42:30.527Z"
   },
   {
    "duration": 5,
    "start_time": "2024-01-18T07:42:44.864Z"
   },
   {
    "duration": 1240,
    "start_time": "2024-01-18T07:42:50.435Z"
   },
   {
    "duration": 5,
    "start_time": "2024-01-18T07:43:24.429Z"
   },
   {
    "duration": 4,
    "start_time": "2024-01-18T07:43:32.431Z"
   },
   {
    "duration": 1197,
    "start_time": "2024-01-18T07:43:39.664Z"
   },
   {
    "duration": 6,
    "start_time": "2024-01-18T07:43:44.442Z"
   },
   {
    "duration": 7,
    "start_time": "2024-01-18T07:44:00.916Z"
   },
   {
    "duration": 7,
    "start_time": "2024-01-18T07:44:11.758Z"
   },
   {
    "duration": 5,
    "start_time": "2024-01-18T07:48:19.666Z"
   },
   {
    "duration": 5,
    "start_time": "2024-01-18T07:48:22.128Z"
   },
   {
    "duration": 35,
    "start_time": "2024-01-18T07:51:40.377Z"
   },
   {
    "duration": 5,
    "start_time": "2024-01-18T07:52:08.991Z"
   },
   {
    "duration": 4,
    "start_time": "2024-01-18T07:52:31.739Z"
   },
   {
    "duration": 37,
    "start_time": "2024-01-18T07:54:07.151Z"
   },
   {
    "duration": 4,
    "start_time": "2024-01-18T07:54:19.588Z"
   },
   {
    "duration": 38,
    "start_time": "2024-01-18T07:54:31.920Z"
   },
   {
    "duration": 4,
    "start_time": "2024-01-18T07:54:46.331Z"
   },
   {
    "duration": 5,
    "start_time": "2024-01-18T07:54:58.234Z"
   },
   {
    "duration": 3,
    "start_time": "2024-01-18T07:55:07.584Z"
   },
   {
    "duration": 3,
    "start_time": "2024-01-18T07:55:10.977Z"
   },
   {
    "duration": 4,
    "start_time": "2024-01-18T07:55:15.682Z"
   },
   {
    "duration": 4,
    "start_time": "2024-01-18T07:55:26.493Z"
   },
   {
    "duration": 90,
    "start_time": "2024-01-18T08:05:15.502Z"
   },
   {
    "duration": 4,
    "start_time": "2024-01-18T08:05:19.564Z"
   },
   {
    "duration": 79,
    "start_time": "2024-01-18T08:16:44.684Z"
   },
   {
    "duration": 4,
    "start_time": "2024-01-18T08:17:34.212Z"
   },
   {
    "duration": 4,
    "start_time": "2024-01-18T08:18:29.267Z"
   },
   {
    "duration": 6,
    "start_time": "2024-01-18T08:24:39.831Z"
   },
   {
    "duration": 124,
    "start_time": "2024-01-18T08:25:33.242Z"
   },
   {
    "duration": 134,
    "start_time": "2024-01-18T08:25:37.788Z"
   },
   {
    "duration": 112,
    "start_time": "2024-01-18T08:25:47.357Z"
   },
   {
    "duration": 89,
    "start_time": "2024-01-18T08:26:13.981Z"
   },
   {
    "duration": 97,
    "start_time": "2024-01-18T08:27:10.847Z"
   },
   {
    "duration": 19,
    "start_time": "2024-01-18T08:28:44.246Z"
   },
   {
    "duration": 3,
    "start_time": "2024-01-18T08:29:40.472Z"
   },
   {
    "duration": 78,
    "start_time": "2024-01-18T08:29:45.919Z"
   },
   {
    "duration": 14,
    "start_time": "2024-01-18T08:30:05.522Z"
   },
   {
    "duration": 14,
    "start_time": "2024-01-18T08:30:31.883Z"
   },
   {
    "duration": 13,
    "start_time": "2024-01-18T08:30:52.930Z"
   },
   {
    "duration": 14,
    "start_time": "2024-01-18T08:31:25.258Z"
   },
   {
    "duration": 14,
    "start_time": "2024-01-18T08:32:24.627Z"
   },
   {
    "duration": 24,
    "start_time": "2024-01-18T08:33:40.714Z"
   },
   {
    "duration": 18,
    "start_time": "2024-01-18T08:34:52.385Z"
   },
   {
    "duration": 16,
    "start_time": "2024-01-18T08:35:14.396Z"
   },
   {
    "duration": 4,
    "start_time": "2024-01-18T08:36:21.382Z"
   },
   {
    "duration": 14,
    "start_time": "2024-01-18T08:41:40.180Z"
   },
   {
    "duration": 113,
    "start_time": "2024-01-18T08:44:40.222Z"
   },
   {
    "duration": 76,
    "start_time": "2024-01-18T08:45:25.883Z"
   },
   {
    "duration": 23,
    "start_time": "2024-01-18T08:45:38.437Z"
   },
   {
    "duration": 22,
    "start_time": "2024-01-18T08:45:43.142Z"
   },
   {
    "duration": 91,
    "start_time": "2024-01-18T08:51:53.396Z"
   },
   {
    "duration": 80,
    "start_time": "2024-01-18T08:52:11.554Z"
   },
   {
    "duration": 82,
    "start_time": "2024-01-18T08:52:18.195Z"
   },
   {
    "duration": 7,
    "start_time": "2024-01-18T08:52:22.427Z"
   },
   {
    "duration": 7,
    "start_time": "2024-01-18T08:52:33.007Z"
   },
   {
    "duration": 29,
    "start_time": "2024-01-18T08:52:48.659Z"
   },
   {
    "duration": 7,
    "start_time": "2024-01-18T08:55:50.375Z"
   },
   {
    "duration": 137,
    "start_time": "2024-01-18T08:56:01.542Z"
   },
   {
    "duration": 6,
    "start_time": "2024-01-18T08:56:09.779Z"
   },
   {
    "duration": 6,
    "start_time": "2024-01-18T08:56:20.050Z"
   },
   {
    "duration": 12,
    "start_time": "2024-01-18T08:56:57.485Z"
   },
   {
    "duration": 17,
    "start_time": "2024-01-18T08:57:04.200Z"
   },
   {
    "duration": 21,
    "start_time": "2024-01-18T09:27:19.511Z"
   },
   {
    "duration": 83,
    "start_time": "2024-01-18T09:28:24.770Z"
   },
   {
    "duration": 68,
    "start_time": "2024-01-18T09:28:34.439Z"
   },
   {
    "duration": 4,
    "start_time": "2024-01-18T09:28:38.239Z"
   },
   {
    "duration": 11,
    "start_time": "2024-01-18T09:28:58.789Z"
   },
   {
    "duration": 25,
    "start_time": "2024-01-18T09:29:28.241Z"
   },
   {
    "duration": 23,
    "start_time": "2024-01-18T09:29:58.434Z"
   },
   {
    "duration": 20,
    "start_time": "2024-01-18T09:34:51.495Z"
   },
   {
    "duration": 25,
    "start_time": "2024-01-18T09:35:20.485Z"
   },
   {
    "duration": 6,
    "start_time": "2024-01-18T09:36:07.727Z"
   },
   {
    "duration": 22,
    "start_time": "2024-01-18T09:36:17.761Z"
   },
   {
    "duration": 23,
    "start_time": "2024-01-18T09:37:01.450Z"
   },
   {
    "duration": 21,
    "start_time": "2024-01-18T09:37:15.846Z"
   },
   {
    "duration": 1325,
    "start_time": "2024-01-18T09:41:41.798Z"
   },
   {
    "duration": 4,
    "start_time": "2024-01-18T09:42:23.205Z"
   },
   {
    "duration": 4,
    "start_time": "2024-01-18T09:42:51.896Z"
   },
   {
    "duration": 19,
    "start_time": "2024-01-18T09:46:23.381Z"
   },
   {
    "duration": 1380,
    "start_time": "2024-01-18T09:47:17.476Z"
   },
   {
    "duration": 13,
    "start_time": "2024-01-18T09:50:53.341Z"
   },
   {
    "duration": 1331,
    "start_time": "2024-01-18T09:51:19.636Z"
   },
   {
    "duration": 5,
    "start_time": "2024-01-18T09:51:49.598Z"
   },
   {
    "duration": 6,
    "start_time": "2024-01-18T09:52:02.370Z"
   },
   {
    "duration": 9,
    "start_time": "2024-01-18T09:52:19.877Z"
   },
   {
    "duration": 8,
    "start_time": "2024-01-18T09:52:37.324Z"
   },
   {
    "duration": 6,
    "start_time": "2024-01-18T09:59:38.248Z"
   },
   {
    "duration": 9,
    "start_time": "2024-01-18T09:59:44.566Z"
   },
   {
    "duration": 33,
    "start_time": "2024-01-18T10:01:38.431Z"
   },
   {
    "duration": 30,
    "start_time": "2024-01-18T10:01:43.056Z"
   },
   {
    "duration": 25,
    "start_time": "2024-01-18T10:01:46.349Z"
   },
   {
    "duration": 17,
    "start_time": "2024-01-18T10:02:31.084Z"
   },
   {
    "duration": 15,
    "start_time": "2024-01-18T10:02:52.809Z"
   },
   {
    "duration": 9,
    "start_time": "2024-01-18T10:03:02.190Z"
   },
   {
    "duration": 13,
    "start_time": "2024-01-18T10:03:07.134Z"
   },
   {
    "duration": 14,
    "start_time": "2024-01-18T10:03:16.206Z"
   },
   {
    "duration": 22,
    "start_time": "2024-01-18T10:03:37.258Z"
   },
   {
    "duration": 16,
    "start_time": "2024-01-18T10:03:49.771Z"
   },
   {
    "duration": 9,
    "start_time": "2024-01-18T10:04:28.473Z"
   },
   {
    "duration": 3,
    "start_time": "2024-01-18T10:04:31.032Z"
   },
   {
    "duration": 23,
    "start_time": "2024-01-18T10:04:56.284Z"
   },
   {
    "duration": 20,
    "start_time": "2024-01-18T10:09:16.221Z"
   },
   {
    "duration": 1529,
    "start_time": "2024-01-18T10:09:31.789Z"
   },
   {
    "duration": 18,
    "start_time": "2024-01-18T10:10:08.345Z"
   },
   {
    "duration": 2241,
    "start_time": "2024-01-18T10:11:04.994Z"
   },
   {
    "duration": 1182,
    "start_time": "2024-01-18T10:11:28.724Z"
   },
   {
    "duration": 196,
    "start_time": "2024-01-18T10:11:29.908Z"
   },
   {
    "duration": 10,
    "start_time": "2024-01-18T10:11:30.106Z"
   },
   {
    "duration": 38,
    "start_time": "2024-01-18T10:11:30.118Z"
   },
   {
    "duration": 37,
    "start_time": "2024-01-18T10:11:30.158Z"
   },
   {
    "duration": 88,
    "start_time": "2024-01-18T10:11:30.197Z"
   },
   {
    "duration": 67,
    "start_time": "2024-01-18T10:11:30.287Z"
   },
   {
    "duration": 71,
    "start_time": "2024-01-18T10:11:30.356Z"
   },
   {
    "duration": 114,
    "start_time": "2024-01-18T10:11:30.429Z"
   },
   {
    "duration": 8,
    "start_time": "2024-01-18T10:11:30.546Z"
   },
   {
    "duration": 59,
    "start_time": "2024-01-18T10:11:30.556Z"
   },
   {
    "duration": 71,
    "start_time": "2024-01-18T10:11:30.617Z"
   },
   {
    "duration": 58,
    "start_time": "2024-01-18T10:11:30.690Z"
   },
   {
    "duration": 80,
    "start_time": "2024-01-18T10:11:30.750Z"
   },
   {
    "duration": 78,
    "start_time": "2024-01-18T10:11:30.831Z"
   },
   {
    "duration": 434,
    "start_time": "2024-01-18T10:11:30.910Z"
   },
   {
    "duration": 75,
    "start_time": "2024-01-18T10:11:31.346Z"
   },
   {
    "duration": 700,
    "start_time": "2024-01-18T10:11:31.423Z"
   },
   {
    "duration": 24,
    "start_time": "2024-01-18T10:11:32.124Z"
   },
   {
    "duration": 55,
    "start_time": "2024-01-18T10:11:32.150Z"
   },
   {
    "duration": 29,
    "start_time": "2024-01-18T10:11:32.207Z"
   },
   {
    "duration": 83,
    "start_time": "2024-01-18T10:11:32.238Z"
   },
   {
    "duration": 5,
    "start_time": "2024-01-18T10:11:32.323Z"
   },
   {
    "duration": 23,
    "start_time": "2024-01-18T10:11:32.329Z"
   },
   {
    "duration": 37,
    "start_time": "2024-01-18T10:11:32.354Z"
   },
   {
    "duration": 125,
    "start_time": "2024-01-18T10:11:32.393Z"
   },
   {
    "duration": 5,
    "start_time": "2024-01-18T10:11:32.519Z"
   },
   {
    "duration": 8,
    "start_time": "2024-01-18T10:11:32.527Z"
   },
   {
    "duration": 56,
    "start_time": "2024-01-18T10:11:32.536Z"
   },
   {
    "duration": 29,
    "start_time": "2024-01-18T10:11:32.593Z"
   },
   {
    "duration": 26,
    "start_time": "2024-01-18T10:11:32.624Z"
   },
   {
    "duration": 34,
    "start_time": "2024-01-18T10:11:32.665Z"
   },
   {
    "duration": 15,
    "start_time": "2024-01-18T10:11:32.701Z"
   },
   {
    "duration": 14,
    "start_time": "2024-01-18T10:11:32.717Z"
   },
   {
    "duration": 19,
    "start_time": "2024-01-18T10:11:32.733Z"
   },
   {
    "duration": 34,
    "start_time": "2024-01-18T10:11:32.754Z"
   },
   {
    "duration": 1339,
    "start_time": "2024-01-18T10:11:32.789Z"
   },
   {
    "duration": 17,
    "start_time": "2024-01-18T10:11:53.962Z"
   },
   {
    "duration": 1328,
    "start_time": "2024-01-18T10:12:18.802Z"
   },
   {
    "duration": 22,
    "start_time": "2024-01-18T10:14:49.918Z"
   },
   {
    "duration": 22,
    "start_time": "2024-01-18T10:15:48.892Z"
   },
   {
    "duration": 101,
    "start_time": "2024-01-18T10:16:37.903Z"
   },
   {
    "duration": 5,
    "start_time": "2024-01-18T10:25:57.744Z"
   },
   {
    "duration": 34,
    "start_time": "2024-01-18T10:27:14.400Z"
   },
   {
    "duration": 6,
    "start_time": "2024-01-18T10:27:37.233Z"
   },
   {
    "duration": 1287,
    "start_time": "2024-01-18T10:27:39.583Z"
   },
   {
    "duration": 6,
    "start_time": "2024-01-18T10:28:38.987Z"
   },
   {
    "duration": 17,
    "start_time": "2024-01-18T10:28:43.760Z"
   },
   {
    "duration": 1143,
    "start_time": "2024-01-18T10:34:08.332Z"
   },
   {
    "duration": 198,
    "start_time": "2024-01-18T10:34:09.478Z"
   },
   {
    "duration": 10,
    "start_time": "2024-01-18T10:34:09.678Z"
   },
   {
    "duration": 25,
    "start_time": "2024-01-18T10:34:09.689Z"
   },
   {
    "duration": 18,
    "start_time": "2024-01-18T10:34:09.716Z"
   },
   {
    "duration": 32,
    "start_time": "2024-01-18T10:34:09.736Z"
   },
   {
    "duration": 10,
    "start_time": "2024-01-18T10:34:09.770Z"
   },
   {
    "duration": 20,
    "start_time": "2024-01-18T10:34:09.781Z"
   },
   {
    "duration": 75,
    "start_time": "2024-01-18T10:34:09.803Z"
   },
   {
    "duration": 13,
    "start_time": "2024-01-18T10:34:09.879Z"
   },
   {
    "duration": 14,
    "start_time": "2024-01-18T10:34:09.893Z"
   },
   {
    "duration": 25,
    "start_time": "2024-01-18T10:34:09.909Z"
   },
   {
    "duration": 3,
    "start_time": "2024-01-18T10:34:09.936Z"
   },
   {
    "duration": 33,
    "start_time": "2024-01-18T10:34:09.942Z"
   },
   {
    "duration": 38,
    "start_time": "2024-01-18T10:34:09.977Z"
   },
   {
    "duration": 412,
    "start_time": "2024-01-18T10:34:10.017Z"
   },
   {
    "duration": 63,
    "start_time": "2024-01-18T10:34:10.431Z"
   },
   {
    "duration": 686,
    "start_time": "2024-01-18T10:34:10.495Z"
   },
   {
    "duration": 23,
    "start_time": "2024-01-18T10:34:11.182Z"
   },
   {
    "duration": 31,
    "start_time": "2024-01-18T10:34:11.207Z"
   },
   {
    "duration": 47,
    "start_time": "2024-01-18T10:34:11.240Z"
   },
   {
    "duration": 66,
    "start_time": "2024-01-18T10:34:11.288Z"
   },
   {
    "duration": 11,
    "start_time": "2024-01-18T10:34:11.356Z"
   },
   {
    "duration": 19,
    "start_time": "2024-01-18T10:34:11.369Z"
   },
   {
    "duration": 10,
    "start_time": "2024-01-18T10:34:11.390Z"
   },
   {
    "duration": 96,
    "start_time": "2024-01-18T10:34:11.401Z"
   },
   {
    "duration": 5,
    "start_time": "2024-01-18T10:34:11.498Z"
   },
   {
    "duration": 4,
    "start_time": "2024-01-18T10:34:11.505Z"
   },
   {
    "duration": 56,
    "start_time": "2024-01-18T10:34:11.510Z"
   },
   {
    "duration": 29,
    "start_time": "2024-01-18T10:34:11.568Z"
   },
   {
    "duration": 24,
    "start_time": "2024-01-18T10:34:11.599Z"
   },
   {
    "duration": 47,
    "start_time": "2024-01-18T10:34:11.625Z"
   },
   {
    "duration": 14,
    "start_time": "2024-01-18T10:34:11.674Z"
   },
   {
    "duration": 29,
    "start_time": "2024-01-18T10:34:11.689Z"
   },
   {
    "duration": 31,
    "start_time": "2024-01-18T10:34:11.720Z"
   },
   {
    "duration": 30,
    "start_time": "2024-01-18T10:34:11.752Z"
   },
   {
    "duration": 39,
    "start_time": "2024-01-18T10:34:11.783Z"
   },
   {
    "duration": 26,
    "start_time": "2024-01-18T10:34:11.824Z"
   },
   {
    "duration": 431,
    "start_time": "2024-01-18T10:35:11.088Z"
   },
   {
    "duration": 23,
    "start_time": "2024-01-18T10:36:04.366Z"
   },
   {
    "duration": 29,
    "start_time": "2024-01-18T10:37:06.479Z"
   },
   {
    "duration": 22,
    "start_time": "2024-01-18T10:37:46.735Z"
   },
   {
    "duration": 1139,
    "start_time": "2024-01-18T11:05:45.226Z"
   },
   {
    "duration": 177,
    "start_time": "2024-01-18T11:05:46.367Z"
   },
   {
    "duration": 10,
    "start_time": "2024-01-18T11:05:46.546Z"
   },
   {
    "duration": 9,
    "start_time": "2024-01-18T11:05:46.566Z"
   },
   {
    "duration": 7,
    "start_time": "2024-01-18T11:05:46.576Z"
   },
   {
    "duration": 18,
    "start_time": "2024-01-18T11:05:46.585Z"
   },
   {
    "duration": 7,
    "start_time": "2024-01-18T11:05:46.604Z"
   },
   {
    "duration": 27,
    "start_time": "2024-01-18T11:05:46.613Z"
   },
   {
    "duration": 79,
    "start_time": "2024-01-18T11:05:46.642Z"
   },
   {
    "duration": 13,
    "start_time": "2024-01-18T11:05:46.724Z"
   },
   {
    "duration": 27,
    "start_time": "2024-01-18T11:05:46.739Z"
   },
   {
    "duration": 17,
    "start_time": "2024-01-18T11:05:46.767Z"
   },
   {
    "duration": 4,
    "start_time": "2024-01-18T11:05:46.785Z"
   },
   {
    "duration": 39,
    "start_time": "2024-01-18T11:05:46.791Z"
   },
   {
    "duration": 35,
    "start_time": "2024-01-18T11:05:46.832Z"
   },
   {
    "duration": 418,
    "start_time": "2024-01-18T11:05:46.868Z"
   },
   {
    "duration": 65,
    "start_time": "2024-01-18T11:05:47.288Z"
   },
   {
    "duration": 631,
    "start_time": "2024-01-18T11:05:47.354Z"
   },
   {
    "duration": 28,
    "start_time": "2024-01-18T11:05:47.987Z"
   },
   {
    "duration": 32,
    "start_time": "2024-01-18T11:05:48.017Z"
   },
   {
    "duration": 39,
    "start_time": "2024-01-18T11:05:48.051Z"
   },
   {
    "duration": 95,
    "start_time": "2024-01-18T11:05:48.092Z"
   },
   {
    "duration": 5,
    "start_time": "2024-01-18T11:05:48.189Z"
   },
   {
    "duration": 33,
    "start_time": "2024-01-18T11:05:48.196Z"
   },
   {
    "duration": 41,
    "start_time": "2024-01-18T11:05:48.231Z"
   },
   {
    "duration": 105,
    "start_time": "2024-01-18T11:05:48.274Z"
   },
   {
    "duration": 5,
    "start_time": "2024-01-18T11:05:48.381Z"
   },
   {
    "duration": 37,
    "start_time": "2024-01-18T11:05:48.389Z"
   },
   {
    "duration": 93,
    "start_time": "2024-01-18T11:05:48.427Z"
   },
   {
    "duration": 35,
    "start_time": "2024-01-18T11:05:48.522Z"
   },
   {
    "duration": 27,
    "start_time": "2024-01-18T11:05:48.558Z"
   },
   {
    "duration": 44,
    "start_time": "2024-01-18T11:05:48.586Z"
   },
   {
    "duration": 14,
    "start_time": "2024-01-18T11:05:48.632Z"
   },
   {
    "duration": 7,
    "start_time": "2024-01-18T11:05:48.647Z"
   },
   {
    "duration": 13,
    "start_time": "2024-01-18T11:05:48.656Z"
   },
   {
    "duration": 23,
    "start_time": "2024-01-18T11:05:48.671Z"
   },
   {
    "duration": 23,
    "start_time": "2024-01-18T11:05:48.695Z"
   },
   {
    "duration": 46,
    "start_time": "2024-01-18T11:05:48.720Z"
   },
   {
    "duration": 9,
    "start_time": "2024-01-18T11:11:20.861Z"
   },
   {
    "duration": 5,
    "start_time": "2024-01-18T11:14:42.778Z"
   },
   {
    "duration": 6,
    "start_time": "2024-01-18T11:15:09.300Z"
   },
   {
    "duration": 19,
    "start_time": "2024-01-18T11:16:26.250Z"
   },
   {
    "duration": 5,
    "start_time": "2024-01-18T11:16:49.657Z"
   },
   {
    "duration": 1119,
    "start_time": "2024-01-18T11:17:42.743Z"
   },
   {
    "duration": 187,
    "start_time": "2024-01-18T11:17:43.866Z"
   },
   {
    "duration": 14,
    "start_time": "2024-01-18T11:17:44.055Z"
   },
   {
    "duration": 34,
    "start_time": "2024-01-18T11:17:44.071Z"
   },
   {
    "duration": 20,
    "start_time": "2024-01-18T11:17:44.108Z"
   },
   {
    "duration": 52,
    "start_time": "2024-01-18T11:17:44.129Z"
   },
   {
    "duration": 4,
    "start_time": "2024-01-18T11:17:44.183Z"
   },
   {
    "duration": 45,
    "start_time": "2024-01-18T11:17:44.189Z"
   },
   {
    "duration": 86,
    "start_time": "2024-01-18T11:17:44.236Z"
   },
   {
    "duration": 9,
    "start_time": "2024-01-18T11:17:44.324Z"
   },
   {
    "duration": 32,
    "start_time": "2024-01-18T11:17:44.334Z"
   },
   {
    "duration": 20,
    "start_time": "2024-01-18T11:17:44.368Z"
   },
   {
    "duration": 25,
    "start_time": "2024-01-18T11:17:44.390Z"
   },
   {
    "duration": 45,
    "start_time": "2024-01-18T11:17:44.418Z"
   },
   {
    "duration": 44,
    "start_time": "2024-01-18T11:17:44.465Z"
   },
   {
    "duration": 404,
    "start_time": "2024-01-18T11:17:44.510Z"
   },
   {
    "duration": 61,
    "start_time": "2024-01-18T11:17:44.915Z"
   },
   {
    "duration": 650,
    "start_time": "2024-01-18T11:17:44.978Z"
   },
   {
    "duration": 23,
    "start_time": "2024-01-18T11:17:45.630Z"
   },
   {
    "duration": 39,
    "start_time": "2024-01-18T11:17:45.655Z"
   },
   {
    "duration": 28,
    "start_time": "2024-01-18T11:17:45.696Z"
   },
   {
    "duration": 80,
    "start_time": "2024-01-18T11:17:45.726Z"
   },
   {
    "duration": 5,
    "start_time": "2024-01-18T11:17:45.808Z"
   },
   {
    "duration": 49,
    "start_time": "2024-01-18T11:17:45.815Z"
   },
   {
    "duration": 34,
    "start_time": "2024-01-18T11:17:45.865Z"
   },
   {
    "duration": 130,
    "start_time": "2024-01-18T11:17:45.901Z"
   },
   {
    "duration": 5,
    "start_time": "2024-01-18T11:17:46.033Z"
   },
   {
    "duration": 24,
    "start_time": "2024-01-18T11:17:46.039Z"
   },
   {
    "duration": 58,
    "start_time": "2024-01-18T11:17:46.064Z"
   },
   {
    "duration": 29,
    "start_time": "2024-01-18T11:17:46.123Z"
   },
   {
    "duration": 24,
    "start_time": "2024-01-18T11:17:46.154Z"
   },
   {
    "duration": 26,
    "start_time": "2024-01-18T11:17:46.180Z"
   },
   {
    "duration": 14,
    "start_time": "2024-01-18T11:17:46.207Z"
   },
   {
    "duration": 27,
    "start_time": "2024-01-18T11:17:46.222Z"
   },
   {
    "duration": 35,
    "start_time": "2024-01-18T11:17:46.251Z"
   },
   {
    "duration": 41,
    "start_time": "2024-01-18T11:17:46.288Z"
   },
   {
    "duration": 36,
    "start_time": "2024-01-18T11:17:46.330Z"
   },
   {
    "duration": 37,
    "start_time": "2024-01-18T11:17:46.367Z"
   },
   {
    "duration": 54,
    "start_time": "2024-01-18T11:17:46.405Z"
   },
   {
    "duration": 17,
    "start_time": "2024-01-18T11:17:46.461Z"
   },
   {
    "duration": 46,
    "start_time": "2024-01-18T11:17:46.482Z"
   },
   {
    "duration": 1181,
    "start_time": "2024-01-18T11:31:14.518Z"
   },
   {
    "duration": 189,
    "start_time": "2024-01-18T11:31:15.701Z"
   },
   {
    "duration": 11,
    "start_time": "2024-01-18T11:31:15.891Z"
   },
   {
    "duration": 20,
    "start_time": "2024-01-18T11:31:15.904Z"
   },
   {
    "duration": 7,
    "start_time": "2024-01-18T11:31:15.925Z"
   },
   {
    "duration": 33,
    "start_time": "2024-01-18T11:31:15.934Z"
   },
   {
    "duration": 5,
    "start_time": "2024-01-18T11:31:15.968Z"
   },
   {
    "duration": 13,
    "start_time": "2024-01-18T11:31:15.980Z"
   },
   {
    "duration": 92,
    "start_time": "2024-01-18T11:31:15.994Z"
   },
   {
    "duration": 11,
    "start_time": "2024-01-18T11:31:16.089Z"
   },
   {
    "duration": 18,
    "start_time": "2024-01-18T11:31:16.101Z"
   },
   {
    "duration": 26,
    "start_time": "2024-01-18T11:31:16.120Z"
   },
   {
    "duration": 3,
    "start_time": "2024-01-18T11:31:16.148Z"
   },
   {
    "duration": 38,
    "start_time": "2024-01-18T11:31:16.153Z"
   },
   {
    "duration": 37,
    "start_time": "2024-01-18T11:31:16.192Z"
   },
   {
    "duration": 457,
    "start_time": "2024-01-18T11:31:16.231Z"
   },
   {
    "duration": 57,
    "start_time": "2024-01-18T11:31:16.689Z"
   },
   {
    "duration": 683,
    "start_time": "2024-01-18T11:31:16.747Z"
   },
   {
    "duration": 25,
    "start_time": "2024-01-18T11:31:17.431Z"
   },
   {
    "duration": 53,
    "start_time": "2024-01-18T11:31:17.457Z"
   },
   {
    "duration": 33,
    "start_time": "2024-01-18T11:31:17.512Z"
   },
   {
    "duration": 92,
    "start_time": "2024-01-18T11:31:17.547Z"
   },
   {
    "duration": 5,
    "start_time": "2024-01-18T11:31:17.640Z"
   },
   {
    "duration": 10,
    "start_time": "2024-01-18T11:31:17.647Z"
   },
   {
    "duration": 27,
    "start_time": "2024-01-18T11:31:17.659Z"
   },
   {
    "duration": 142,
    "start_time": "2024-01-18T11:31:17.688Z"
   },
   {
    "duration": 5,
    "start_time": "2024-01-18T11:31:17.832Z"
   },
   {
    "duration": 4,
    "start_time": "2024-01-18T11:31:17.841Z"
   },
   {
    "duration": 62,
    "start_time": "2024-01-18T11:31:17.846Z"
   },
   {
    "duration": 29,
    "start_time": "2024-01-18T11:31:17.909Z"
   },
   {
    "duration": 41,
    "start_time": "2024-01-18T11:31:17.939Z"
   },
   {
    "duration": 28,
    "start_time": "2024-01-18T11:31:17.982Z"
   },
   {
    "duration": 15,
    "start_time": "2024-01-18T11:31:18.011Z"
   },
   {
    "duration": 12,
    "start_time": "2024-01-18T11:31:18.027Z"
   },
   {
    "duration": 12,
    "start_time": "2024-01-18T11:31:18.041Z"
   },
   {
    "duration": 4,
    "start_time": "2024-01-18T11:31:18.080Z"
   },
   {
    "duration": 24,
    "start_time": "2024-01-18T11:31:18.086Z"
   },
   {
    "duration": 23,
    "start_time": "2024-01-18T11:31:18.111Z"
   },
   {
    "duration": 58,
    "start_time": "2024-01-18T11:31:18.136Z"
   },
   {
    "duration": 5,
    "start_time": "2024-01-18T11:31:18.195Z"
   },
   {
    "duration": 20,
    "start_time": "2024-01-18T11:31:18.201Z"
   },
   {
    "duration": 1202,
    "start_time": "2024-01-18T11:55:07.821Z"
   },
   {
    "duration": 186,
    "start_time": "2024-01-18T11:55:09.025Z"
   },
   {
    "duration": 12,
    "start_time": "2024-01-18T11:55:09.213Z"
   },
   {
    "duration": 9,
    "start_time": "2024-01-18T11:55:09.227Z"
   },
   {
    "duration": 12,
    "start_time": "2024-01-18T11:55:09.238Z"
   },
   {
    "duration": 41,
    "start_time": "2024-01-18T11:55:09.252Z"
   },
   {
    "duration": 6,
    "start_time": "2024-01-18T11:55:09.295Z"
   },
   {
    "duration": 16,
    "start_time": "2024-01-18T11:55:09.303Z"
   },
   {
    "duration": 110,
    "start_time": "2024-01-18T11:55:09.321Z"
   },
   {
    "duration": 9,
    "start_time": "2024-01-18T11:55:09.434Z"
   },
   {
    "duration": 42,
    "start_time": "2024-01-18T11:55:09.445Z"
   },
   {
    "duration": 18,
    "start_time": "2024-01-18T11:55:09.489Z"
   },
   {
    "duration": 5,
    "start_time": "2024-01-18T11:55:09.508Z"
   },
   {
    "duration": 27,
    "start_time": "2024-01-18T11:55:09.515Z"
   },
   {
    "duration": 65,
    "start_time": "2024-01-18T11:55:09.544Z"
   },
   {
    "duration": 451,
    "start_time": "2024-01-18T11:55:09.610Z"
   },
   {
    "duration": 66,
    "start_time": "2024-01-18T11:55:10.062Z"
   },
   {
    "duration": 685,
    "start_time": "2024-01-18T11:55:10.130Z"
   },
   {
    "duration": 37,
    "start_time": "2024-01-18T11:55:10.817Z"
   },
   {
    "duration": 53,
    "start_time": "2024-01-18T11:55:10.856Z"
   },
   {
    "duration": 30,
    "start_time": "2024-01-18T11:55:10.911Z"
   },
   {
    "duration": 82,
    "start_time": "2024-01-18T11:55:10.943Z"
   },
   {
    "duration": 6,
    "start_time": "2024-01-18T11:55:11.026Z"
   },
   {
    "duration": 21,
    "start_time": "2024-01-18T11:55:11.033Z"
   },
   {
    "duration": 26,
    "start_time": "2024-01-18T11:55:11.056Z"
   },
   {
    "duration": 131,
    "start_time": "2024-01-18T11:55:11.084Z"
   },
   {
    "duration": 6,
    "start_time": "2024-01-18T11:55:11.216Z"
   },
   {
    "duration": 11,
    "start_time": "2024-01-18T11:55:11.225Z"
   },
   {
    "duration": 57,
    "start_time": "2024-01-18T11:55:11.238Z"
   },
   {
    "duration": 29,
    "start_time": "2024-01-18T11:55:11.297Z"
   },
   {
    "duration": 52,
    "start_time": "2024-01-18T11:55:11.328Z"
   },
   {
    "duration": 29,
    "start_time": "2024-01-18T11:55:11.381Z"
   },
   {
    "duration": 16,
    "start_time": "2024-01-18T11:55:11.412Z"
   },
   {
    "duration": 14,
    "start_time": "2024-01-18T11:55:11.430Z"
   },
   {
    "duration": 15,
    "start_time": "2024-01-18T11:55:11.445Z"
   },
   {
    "duration": 20,
    "start_time": "2024-01-18T11:55:11.462Z"
   },
   {
    "duration": 30,
    "start_time": "2024-01-18T11:55:11.484Z"
   },
   {
    "duration": 38,
    "start_time": "2024-01-18T11:55:11.516Z"
   },
   {
    "duration": 42,
    "start_time": "2024-01-18T11:55:11.556Z"
   },
   {
    "duration": 5,
    "start_time": "2024-01-18T11:55:11.600Z"
   },
   {
    "duration": 27,
    "start_time": "2024-01-18T11:55:11.606Z"
   },
   {
    "duration": 50,
    "start_time": "2024-01-19T14:55:20.758Z"
   },
   {
    "duration": 1340,
    "start_time": "2024-01-19T14:55:27.695Z"
   },
   {
    "duration": 488,
    "start_time": "2024-01-19T14:55:29.036Z"
   },
   {
    "duration": 10,
    "start_time": "2024-01-19T14:55:29.525Z"
   },
   {
    "duration": 8,
    "start_time": "2024-01-19T14:55:29.537Z"
   },
   {
    "duration": 11,
    "start_time": "2024-01-19T14:55:29.546Z"
   },
   {
    "duration": 17,
    "start_time": "2024-01-19T14:55:29.558Z"
   },
   {
    "duration": 74,
    "start_time": "2024-01-19T14:55:29.576Z"
   },
   {
    "duration": 5,
    "start_time": "2024-01-19T14:55:29.651Z"
   },
   {
    "duration": 18,
    "start_time": "2024-01-19T14:55:29.657Z"
   },
   {
    "duration": 68,
    "start_time": "2024-01-19T14:55:29.678Z"
   },
   {
    "duration": 12,
    "start_time": "2024-01-19T14:55:29.748Z"
   },
   {
    "duration": 12,
    "start_time": "2024-01-19T14:55:29.762Z"
   },
   {
    "duration": 13,
    "start_time": "2024-01-19T14:55:29.775Z"
   },
   {
    "duration": 3,
    "start_time": "2024-01-19T14:55:29.790Z"
   },
   {
    "duration": 19,
    "start_time": "2024-01-19T14:55:29.815Z"
   },
   {
    "duration": 35,
    "start_time": "2024-01-19T14:55:29.836Z"
   },
   {
    "duration": 421,
    "start_time": "2024-01-19T14:55:29.872Z"
   },
   {
    "duration": 65,
    "start_time": "2024-01-19T14:55:30.295Z"
   },
   {
    "duration": 621,
    "start_time": "2024-01-19T14:55:30.362Z"
   },
   {
    "duration": 23,
    "start_time": "2024-01-19T14:55:30.985Z"
   },
   {
    "duration": 69,
    "start_time": "2024-01-19T14:55:31.015Z"
   },
   {
    "duration": 69,
    "start_time": "2024-01-19T14:55:31.086Z"
   },
   {
    "duration": 86,
    "start_time": "2024-01-19T14:55:31.157Z"
   },
   {
    "duration": 22,
    "start_time": "2024-01-19T14:55:31.245Z"
   },
   {
    "duration": 30,
    "start_time": "2024-01-19T14:55:31.269Z"
   },
   {
    "duration": 50,
    "start_time": "2024-01-19T14:55:31.300Z"
   },
   {
    "duration": 111,
    "start_time": "2024-01-19T14:55:31.351Z"
   },
   {
    "duration": 11,
    "start_time": "2024-01-19T14:55:31.466Z"
   },
   {
    "duration": 23,
    "start_time": "2024-01-19T14:55:31.484Z"
   },
   {
    "duration": 67,
    "start_time": "2024-01-19T14:55:31.508Z"
   },
   {
    "duration": 34,
    "start_time": "2024-01-19T14:55:31.577Z"
   },
   {
    "duration": 67,
    "start_time": "2024-01-19T14:55:31.613Z"
   },
   {
    "duration": 103,
    "start_time": "2024-01-19T14:55:31.681Z"
   },
   {
    "duration": 15,
    "start_time": "2024-01-19T14:55:31.785Z"
   },
   {
    "duration": 40,
    "start_time": "2024-01-19T14:55:31.801Z"
   },
   {
    "duration": 13,
    "start_time": "2024-01-19T14:55:31.842Z"
   },
   {
    "duration": 14,
    "start_time": "2024-01-19T14:55:31.856Z"
   },
   {
    "duration": 29,
    "start_time": "2024-01-19T14:55:31.871Z"
   },
   {
    "duration": 77,
    "start_time": "2024-01-19T14:55:31.902Z"
   },
   {
    "duration": 29,
    "start_time": "2024-01-19T14:55:31.980Z"
   },
   {
    "duration": 10,
    "start_time": "2024-01-19T14:55:32.011Z"
   },
   {
    "duration": 28,
    "start_time": "2024-01-19T14:55:32.023Z"
   },
   {
    "duration": 26,
    "start_time": "2024-01-19T14:56:26.240Z"
   },
   {
    "duration": 100,
    "start_time": "2024-01-19T14:57:52.838Z"
   },
   {
    "duration": 4,
    "start_time": "2024-01-19T14:57:55.552Z"
   },
   {
    "duration": 95,
    "start_time": "2024-01-19T14:58:00.570Z"
   },
   {
    "duration": 91,
    "start_time": "2024-01-19T14:58:06.606Z"
   },
   {
    "duration": 43,
    "start_time": "2024-01-19T15:02:02.527Z"
   },
   {
    "duration": 38,
    "start_time": "2024-01-19T15:03:00.408Z"
   },
   {
    "duration": 42,
    "start_time": "2024-01-19T15:05:31.976Z"
   },
   {
    "duration": 34,
    "start_time": "2024-01-19T15:07:21.257Z"
   },
   {
    "duration": 84,
    "start_time": "2024-01-19T15:19:56.809Z"
   },
   {
    "duration": 79,
    "start_time": "2024-01-19T15:20:02.908Z"
   },
   {
    "duration": 106,
    "start_time": "2024-01-19T15:20:06.897Z"
   },
   {
    "duration": 73,
    "start_time": "2024-01-19T15:20:16.065Z"
   },
   {
    "duration": 81,
    "start_time": "2024-01-19T15:20:26.582Z"
   },
   {
    "duration": 10,
    "start_time": "2024-01-19T15:20:59.078Z"
   },
   {
    "duration": 17,
    "start_time": "2024-01-19T15:21:29.296Z"
   },
   {
    "duration": 14,
    "start_time": "2024-01-19T15:21:34.830Z"
   },
   {
    "duration": 1094,
    "start_time": "2024-01-19T15:21:52.438Z"
   },
   {
    "duration": 175,
    "start_time": "2024-01-19T15:21:53.533Z"
   },
   {
    "duration": 12,
    "start_time": "2024-01-19T15:21:53.709Z"
   },
   {
    "duration": 8,
    "start_time": "2024-01-19T15:21:53.723Z"
   },
   {
    "duration": 6,
    "start_time": "2024-01-19T15:21:53.733Z"
   },
   {
    "duration": 19,
    "start_time": "2024-01-19T15:21:53.741Z"
   },
   {
    "duration": 83,
    "start_time": "2024-01-19T15:21:53.761Z"
   },
   {
    "duration": 4,
    "start_time": "2024-01-19T15:21:53.845Z"
   },
   {
    "duration": 77,
    "start_time": "2024-01-19T15:21:53.850Z"
   },
   {
    "duration": 40,
    "start_time": "2024-01-19T15:21:53.929Z"
   },
   {
    "duration": 4,
    "start_time": "2024-01-19T15:21:53.971Z"
   },
   {
    "duration": 8,
    "start_time": "2024-01-19T15:21:53.977Z"
   },
   {
    "duration": 92,
    "start_time": "2024-01-19T15:21:53.987Z"
   },
   {
    "duration": 9,
    "start_time": "2024-01-19T15:21:54.083Z"
   },
   {
    "duration": 25,
    "start_time": "2024-01-19T15:21:54.094Z"
   },
   {
    "duration": 7,
    "start_time": "2024-01-19T15:21:54.121Z"
   },
   {
    "duration": 3,
    "start_time": "2024-01-19T15:21:54.130Z"
   },
   {
    "duration": 19,
    "start_time": "2024-01-19T15:21:54.135Z"
   },
   {
    "duration": 61,
    "start_time": "2024-01-19T15:21:54.156Z"
   },
   {
    "duration": 418,
    "start_time": "2024-01-19T15:21:54.219Z"
   },
   {
    "duration": 50,
    "start_time": "2024-01-19T15:21:54.638Z"
   },
   {
    "duration": 643,
    "start_time": "2024-01-19T15:21:54.689Z"
   },
   {
    "duration": 22,
    "start_time": "2024-01-19T15:21:55.334Z"
   },
   {
    "duration": 30,
    "start_time": "2024-01-19T15:21:55.357Z"
   },
   {
    "duration": 44,
    "start_time": "2024-01-19T15:21:55.389Z"
   },
   {
    "duration": 57,
    "start_time": "2024-01-19T15:21:55.434Z"
   },
   {
    "duration": 5,
    "start_time": "2024-01-19T15:21:55.493Z"
   },
   {
    "duration": 7,
    "start_time": "2024-01-19T15:21:55.514Z"
   },
   {
    "duration": 9,
    "start_time": "2024-01-19T15:21:55.522Z"
   },
   {
    "duration": 105,
    "start_time": "2024-01-19T15:21:55.533Z"
   },
   {
    "duration": 5,
    "start_time": "2024-01-19T15:21:55.640Z"
   },
   {
    "duration": 5,
    "start_time": "2024-01-19T15:21:55.646Z"
   },
   {
    "duration": 33,
    "start_time": "2024-01-19T15:21:55.653Z"
   },
   {
    "duration": 50,
    "start_time": "2024-01-19T15:21:55.687Z"
   },
   {
    "duration": 25,
    "start_time": "2024-01-19T15:21:55.738Z"
   },
   {
    "duration": 27,
    "start_time": "2024-01-19T15:21:55.765Z"
   },
   {
    "duration": 32,
    "start_time": "2024-01-19T15:21:55.794Z"
   },
   {
    "duration": 10,
    "start_time": "2024-01-19T15:21:55.828Z"
   },
   {
    "duration": 6,
    "start_time": "2024-01-19T15:21:55.840Z"
   },
   {
    "duration": 4,
    "start_time": "2024-01-19T15:21:55.848Z"
   },
   {
    "duration": 22,
    "start_time": "2024-01-19T15:21:55.856Z"
   },
   {
    "duration": 55,
    "start_time": "2024-01-19T15:21:55.880Z"
   },
   {
    "duration": 21,
    "start_time": "2024-01-19T15:21:55.936Z"
   },
   {
    "duration": 5,
    "start_time": "2024-01-19T15:21:55.959Z"
   },
   {
    "duration": 51,
    "start_time": "2024-01-19T15:21:55.966Z"
   },
   {
    "duration": 81,
    "start_time": "2024-01-19T15:22:28.528Z"
   },
   {
    "duration": 1148,
    "start_time": "2024-01-19T15:45:55.677Z"
   },
   {
    "duration": 198,
    "start_time": "2024-01-19T15:45:56.828Z"
   },
   {
    "duration": 10,
    "start_time": "2024-01-19T15:45:57.028Z"
   },
   {
    "duration": 8,
    "start_time": "2024-01-19T15:45:57.040Z"
   },
   {
    "duration": 9,
    "start_time": "2024-01-19T15:45:57.049Z"
   },
   {
    "duration": 16,
    "start_time": "2024-01-19T15:45:57.059Z"
   },
   {
    "duration": 81,
    "start_time": "2024-01-19T15:45:57.076Z"
   },
   {
    "duration": 4,
    "start_time": "2024-01-19T15:45:57.159Z"
   },
   {
    "duration": 83,
    "start_time": "2024-01-19T15:45:57.164Z"
   },
   {
    "duration": 38,
    "start_time": "2024-01-19T15:45:57.248Z"
   },
   {
    "duration": 4,
    "start_time": "2024-01-19T15:45:57.288Z"
   },
   {
    "duration": 23,
    "start_time": "2024-01-19T15:45:57.294Z"
   },
   {
    "duration": 69,
    "start_time": "2024-01-19T15:45:57.318Z"
   },
   {
    "duration": 25,
    "start_time": "2024-01-19T15:45:57.390Z"
   },
   {
    "duration": 15,
    "start_time": "2024-01-19T15:45:57.417Z"
   },
   {
    "duration": 8,
    "start_time": "2024-01-19T15:45:57.433Z"
   },
   {
    "duration": 3,
    "start_time": "2024-01-19T15:45:57.443Z"
   },
   {
    "duration": 19,
    "start_time": "2024-01-19T15:45:57.447Z"
   },
   {
    "duration": 57,
    "start_time": "2024-01-19T15:45:57.467Z"
   },
   {
    "duration": 394,
    "start_time": "2024-01-19T15:45:57.525Z"
   },
   {
    "duration": 49,
    "start_time": "2024-01-19T15:45:57.920Z"
   },
   {
    "duration": 666,
    "start_time": "2024-01-19T15:45:57.971Z"
   },
   {
    "duration": 24,
    "start_time": "2024-01-19T15:45:58.639Z"
   },
   {
    "duration": 30,
    "start_time": "2024-01-19T15:45:58.664Z"
   },
   {
    "duration": 44,
    "start_time": "2024-01-19T15:45:58.696Z"
   },
   {
    "duration": 51,
    "start_time": "2024-01-19T15:45:58.741Z"
   },
   {
    "duration": 21,
    "start_time": "2024-01-19T15:45:58.794Z"
   },
   {
    "duration": 10,
    "start_time": "2024-01-19T15:45:58.816Z"
   },
   {
    "duration": 12,
    "start_time": "2024-01-19T15:45:58.828Z"
   },
   {
    "duration": 106,
    "start_time": "2024-01-19T15:45:58.842Z"
   },
   {
    "duration": 4,
    "start_time": "2024-01-19T15:45:58.950Z"
   },
   {
    "duration": 16,
    "start_time": "2024-01-19T15:45:58.956Z"
   },
   {
    "duration": 46,
    "start_time": "2024-01-19T15:45:58.974Z"
   },
   {
    "duration": 24,
    "start_time": "2024-01-19T15:45:59.022Z"
   },
   {
    "duration": 23,
    "start_time": "2024-01-19T15:45:59.047Z"
   },
   {
    "duration": 24,
    "start_time": "2024-01-19T15:45:59.072Z"
   },
   {
    "duration": 13,
    "start_time": "2024-01-19T15:45:59.114Z"
   },
   {
    "duration": 7,
    "start_time": "2024-01-19T15:45:59.129Z"
   },
   {
    "duration": 13,
    "start_time": "2024-01-19T15:45:59.138Z"
   },
   {
    "duration": 8,
    "start_time": "2024-01-19T15:45:59.152Z"
   },
   {
    "duration": 21,
    "start_time": "2024-01-19T15:45:59.163Z"
   },
   {
    "duration": 49,
    "start_time": "2024-01-19T15:45:59.186Z"
   },
   {
    "duration": 26,
    "start_time": "2024-01-19T15:45:59.238Z"
   },
   {
    "duration": 25,
    "start_time": "2024-01-19T15:45:59.265Z"
   },
   {
    "duration": 35,
    "start_time": "2024-01-19T15:45:59.292Z"
   },
   {
    "duration": 620,
    "start_time": "2024-01-19T15:55:58.541Z"
   },
   {
    "duration": 710,
    "start_time": "2024-01-19T15:56:39.706Z"
   },
   {
    "duration": 613,
    "start_time": "2024-01-19T15:56:48.737Z"
   },
   {
    "duration": 32,
    "start_time": "2024-01-19T15:58:13.947Z"
   },
   {
    "duration": 106,
    "start_time": "2024-01-19T16:21:42.725Z"
   },
   {
    "duration": 93,
    "start_time": "2024-01-19T16:30:31.737Z"
   },
   {
    "duration": 77,
    "start_time": "2024-01-19T16:30:51.432Z"
   },
   {
    "duration": 32,
    "start_time": "2024-01-19T16:37:19.100Z"
   },
   {
    "duration": 26,
    "start_time": "2024-01-19T16:37:33.750Z"
   },
   {
    "duration": 8,
    "start_time": "2024-01-19T16:38:32.167Z"
   },
   {
    "duration": 7,
    "start_time": "2024-01-19T17:26:18.804Z"
   },
   {
    "duration": 8,
    "start_time": "2024-01-19T17:32:27.835Z"
   },
   {
    "duration": 15,
    "start_time": "2024-01-19T17:34:00.761Z"
   },
   {
    "duration": 4,
    "start_time": "2024-01-19T17:34:10.135Z"
   },
   {
    "duration": 4,
    "start_time": "2024-01-19T17:34:15.932Z"
   },
   {
    "duration": 1208,
    "start_time": "2024-01-19T17:34:34.312Z"
   },
   {
    "duration": 179,
    "start_time": "2024-01-19T17:34:35.522Z"
   },
   {
    "duration": 11,
    "start_time": "2024-01-19T17:34:35.703Z"
   },
   {
    "duration": 12,
    "start_time": "2024-01-19T17:34:35.716Z"
   },
   {
    "duration": 8,
    "start_time": "2024-01-19T17:34:35.729Z"
   },
   {
    "duration": 19,
    "start_time": "2024-01-19T17:34:35.739Z"
   },
   {
    "duration": 88,
    "start_time": "2024-01-19T17:34:35.760Z"
   },
   {
    "duration": 5,
    "start_time": "2024-01-19T17:34:35.849Z"
   },
   {
    "duration": 87,
    "start_time": "2024-01-19T17:34:35.855Z"
   },
   {
    "duration": 40,
    "start_time": "2024-01-19T17:34:35.946Z"
   },
   {
    "duration": 5,
    "start_time": "2024-01-19T17:34:35.988Z"
   },
   {
    "duration": 7,
    "start_time": "2024-01-19T17:34:36.014Z"
   },
   {
    "duration": 68,
    "start_time": "2024-01-19T17:34:36.023Z"
   },
   {
    "duration": 28,
    "start_time": "2024-01-19T17:34:36.093Z"
   },
   {
    "duration": 17,
    "start_time": "2024-01-19T17:34:36.122Z"
   },
   {
    "duration": 17,
    "start_time": "2024-01-19T17:34:36.140Z"
   },
   {
    "duration": 7,
    "start_time": "2024-01-19T17:34:36.158Z"
   },
   {
    "duration": 31,
    "start_time": "2024-01-19T17:34:36.166Z"
   },
   {
    "duration": 36,
    "start_time": "2024-01-19T17:34:36.198Z"
   },
   {
    "duration": 397,
    "start_time": "2024-01-19T17:34:36.236Z"
   },
   {
    "duration": 51,
    "start_time": "2024-01-19T17:34:36.635Z"
   },
   {
    "duration": 649,
    "start_time": "2024-01-19T17:34:36.687Z"
   },
   {
    "duration": 31,
    "start_time": "2024-01-19T17:34:37.337Z"
   },
   {
    "duration": 30,
    "start_time": "2024-01-19T17:34:37.369Z"
   },
   {
    "duration": 27,
    "start_time": "2024-01-19T17:34:37.415Z"
   },
   {
    "duration": 50,
    "start_time": "2024-01-19T17:34:37.444Z"
   },
   {
    "duration": 20,
    "start_time": "2024-01-19T17:34:37.495Z"
   },
   {
    "duration": 26,
    "start_time": "2024-01-19T17:34:37.518Z"
   },
   {
    "duration": 14,
    "start_time": "2024-01-19T17:34:37.545Z"
   },
   {
    "duration": 84,
    "start_time": "2024-01-19T17:34:37.560Z"
   },
   {
    "duration": 7,
    "start_time": "2024-01-19T17:34:37.645Z"
   },
   {
    "duration": 8,
    "start_time": "2024-01-19T17:34:37.653Z"
   },
   {
    "duration": 16,
    "start_time": "2024-01-19T17:34:37.662Z"
   },
   {
    "duration": 35,
    "start_time": "2024-01-19T17:34:37.680Z"
   },
   {
    "duration": 24,
    "start_time": "2024-01-19T17:34:37.717Z"
   },
   {
    "duration": 23,
    "start_time": "2024-01-19T17:34:37.742Z"
   },
   {
    "duration": 25,
    "start_time": "2024-01-19T17:34:37.767Z"
   },
   {
    "duration": 32,
    "start_time": "2024-01-19T17:34:37.794Z"
   },
   {
    "duration": 9,
    "start_time": "2024-01-19T17:34:37.828Z"
   },
   {
    "duration": 10,
    "start_time": "2024-01-19T17:34:37.838Z"
   },
   {
    "duration": 5,
    "start_time": "2024-01-19T17:34:37.849Z"
   },
   {
    "duration": 22,
    "start_time": "2024-01-19T17:34:37.855Z"
   },
   {
    "duration": 51,
    "start_time": "2024-01-19T17:34:37.879Z"
   },
   {
    "duration": 21,
    "start_time": "2024-01-19T17:34:37.932Z"
   },
   {
    "duration": 3,
    "start_time": "2024-01-19T17:34:37.955Z"
   },
   {
    "duration": 40,
    "start_time": "2024-01-19T17:34:37.960Z"
   },
   {
    "duration": 4,
    "start_time": "2024-01-19T17:37:14.990Z"
   },
   {
    "duration": 10,
    "start_time": "2024-01-19T17:37:26.091Z"
   },
   {
    "duration": 32,
    "start_time": "2024-01-19T17:37:59.946Z"
   },
   {
    "duration": 1279,
    "start_time": "2024-01-19T17:38:09.540Z"
   },
   {
    "duration": 1138,
    "start_time": "2024-01-19T17:38:12.346Z"
   },
   {
    "duration": 1307,
    "start_time": "2024-01-19T17:38:15.456Z"
   },
   {
    "duration": 1169,
    "start_time": "2024-01-19T17:38:26.082Z"
   },
   {
    "duration": 1245,
    "start_time": "2024-01-19T17:38:31.075Z"
   },
   {
    "duration": 1096,
    "start_time": "2024-01-19T17:38:47.027Z"
   },
   {
    "duration": 200,
    "start_time": "2024-01-19T17:38:48.125Z"
   },
   {
    "duration": 12,
    "start_time": "2024-01-19T17:38:48.327Z"
   },
   {
    "duration": 10,
    "start_time": "2024-01-19T17:38:48.341Z"
   },
   {
    "duration": 8,
    "start_time": "2024-01-19T17:38:48.352Z"
   },
   {
    "duration": 19,
    "start_time": "2024-01-19T17:38:48.361Z"
   },
   {
    "duration": 95,
    "start_time": "2024-01-19T17:38:48.382Z"
   },
   {
    "duration": 4,
    "start_time": "2024-01-19T17:38:48.478Z"
   },
   {
    "duration": 88,
    "start_time": "2024-01-19T17:38:48.483Z"
   },
   {
    "duration": 49,
    "start_time": "2024-01-19T17:38:48.573Z"
   },
   {
    "duration": 4,
    "start_time": "2024-01-19T17:38:48.624Z"
   },
   {
    "duration": 8,
    "start_time": "2024-01-19T17:38:48.630Z"
   },
   {
    "duration": 82,
    "start_time": "2024-01-19T17:38:48.639Z"
   },
   {
    "duration": 9,
    "start_time": "2024-01-19T17:38:48.722Z"
   },
   {
    "duration": 16,
    "start_time": "2024-01-19T17:38:48.732Z"
   },
   {
    "duration": 11,
    "start_time": "2024-01-19T17:38:48.749Z"
   },
   {
    "duration": 3,
    "start_time": "2024-01-19T17:38:48.762Z"
   },
   {
    "duration": 21,
    "start_time": "2024-01-19T17:38:48.766Z"
   },
   {
    "duration": 63,
    "start_time": "2024-01-19T17:38:48.788Z"
   },
   {
    "duration": 398,
    "start_time": "2024-01-19T17:38:48.853Z"
   },
   {
    "duration": 52,
    "start_time": "2024-01-19T17:38:49.252Z"
   },
   {
    "duration": 657,
    "start_time": "2024-01-19T17:38:49.305Z"
   },
   {
    "duration": 32,
    "start_time": "2024-01-19T17:38:49.964Z"
   },
   {
    "duration": 43,
    "start_time": "2024-01-19T17:38:49.997Z"
   },
   {
    "duration": 27,
    "start_time": "2024-01-19T17:38:50.041Z"
   },
   {
    "duration": 66,
    "start_time": "2024-01-19T17:38:50.069Z"
   },
   {
    "duration": 6,
    "start_time": "2024-01-19T17:38:50.136Z"
   },
   {
    "duration": 7,
    "start_time": "2024-01-19T17:38:50.145Z"
   },
   {
    "duration": 9,
    "start_time": "2024-01-19T17:38:50.154Z"
   },
   {
    "duration": 105,
    "start_time": "2024-01-19T17:38:50.164Z"
   },
   {
    "duration": 8,
    "start_time": "2024-01-19T17:38:50.271Z"
   },
   {
    "duration": 11,
    "start_time": "2024-01-19T17:38:50.280Z"
   },
   {
    "duration": 4,
    "start_time": "2024-01-19T17:38:50.293Z"
   },
   {
    "duration": 33,
    "start_time": "2024-01-19T17:38:50.315Z"
   },
   {
    "duration": 24,
    "start_time": "2024-01-19T17:38:50.349Z"
   },
   {
    "duration": 40,
    "start_time": "2024-01-19T17:38:50.375Z"
   },
   {
    "duration": 25,
    "start_time": "2024-01-19T17:38:50.416Z"
   },
   {
    "duration": 13,
    "start_time": "2024-01-19T17:38:50.442Z"
   },
   {
    "duration": 8,
    "start_time": "2024-01-19T17:38:50.457Z"
   },
   {
    "duration": 21,
    "start_time": "2024-01-19T17:38:50.466Z"
   },
   {
    "duration": 7,
    "start_time": "2024-01-19T17:38:50.489Z"
   },
   {
    "duration": 34,
    "start_time": "2024-01-19T17:38:50.498Z"
   },
   {
    "duration": 21,
    "start_time": "2024-01-19T17:38:50.534Z"
   },
   {
    "duration": 21,
    "start_time": "2024-01-19T17:38:50.557Z"
   },
   {
    "duration": 36,
    "start_time": "2024-01-19T17:38:50.579Z"
   },
   {
    "duration": 25,
    "start_time": "2024-01-19T17:38:50.617Z"
   },
   {
    "duration": 7,
    "start_time": "2024-01-19T17:39:24.412Z"
   },
   {
    "duration": 11,
    "start_time": "2024-01-19T17:39:44.527Z"
   },
   {
    "duration": 95,
    "start_time": "2024-01-19T17:51:57.830Z"
   },
   {
    "duration": 1297,
    "start_time": "2024-01-19T17:56:20.946Z"
   },
   {
    "duration": 2177,
    "start_time": "2024-01-19T17:56:32.167Z"
   },
   {
    "duration": 3,
    "start_time": "2024-01-19T17:56:41.774Z"
   },
   {
    "duration": 4,
    "start_time": "2024-01-19T17:56:57.312Z"
   },
   {
    "duration": 4,
    "start_time": "2024-01-19T17:57:34.295Z"
   },
   {
    "duration": 4,
    "start_time": "2024-01-19T17:57:42.525Z"
   },
   {
    "duration": 4,
    "start_time": "2024-01-19T17:57:47.801Z"
   },
   {
    "duration": 4,
    "start_time": "2024-01-19T17:58:10.799Z"
   },
   {
    "duration": 4,
    "start_time": "2024-01-19T17:58:19.936Z"
   },
   {
    "duration": 3,
    "start_time": "2024-01-19T17:58:38.446Z"
   },
   {
    "duration": 22,
    "start_time": "2024-01-19T18:09:50.779Z"
   },
   {
    "duration": 86,
    "start_time": "2024-01-20T10:05:37.240Z"
   },
   {
    "duration": 1329,
    "start_time": "2024-01-20T10:06:09.032Z"
   },
   {
    "duration": 493,
    "start_time": "2024-01-20T10:06:10.363Z"
   },
   {
    "duration": 11,
    "start_time": "2024-01-20T10:06:10.857Z"
   },
   {
    "duration": 14,
    "start_time": "2024-01-20T10:06:10.869Z"
   },
   {
    "duration": 6,
    "start_time": "2024-01-20T10:06:10.884Z"
   },
   {
    "duration": 19,
    "start_time": "2024-01-20T10:06:10.892Z"
   },
   {
    "duration": 70,
    "start_time": "2024-01-20T10:06:10.912Z"
   },
   {
    "duration": 3,
    "start_time": "2024-01-20T10:06:10.984Z"
   },
   {
    "duration": 77,
    "start_time": "2024-01-20T10:06:10.989Z"
   },
   {
    "duration": 38,
    "start_time": "2024-01-20T10:06:11.068Z"
   },
   {
    "duration": 5,
    "start_time": "2024-01-20T10:06:11.108Z"
   },
   {
    "duration": 12,
    "start_time": "2024-01-20T10:06:11.115Z"
   },
   {
    "duration": 77,
    "start_time": "2024-01-20T10:06:11.129Z"
   },
   {
    "duration": 8,
    "start_time": "2024-01-20T10:06:11.209Z"
   },
   {
    "duration": 15,
    "start_time": "2024-01-20T10:06:11.218Z"
   },
   {
    "duration": 6,
    "start_time": "2024-01-20T10:06:11.251Z"
   },
   {
    "duration": 4,
    "start_time": "2024-01-20T10:06:11.259Z"
   },
   {
    "duration": 21,
    "start_time": "2024-01-20T10:06:11.264Z"
   },
   {
    "duration": 38,
    "start_time": "2024-01-20T10:06:11.286Z"
   },
   {
    "duration": 405,
    "start_time": "2024-01-20T10:06:11.325Z"
   },
   {
    "duration": 50,
    "start_time": "2024-01-20T10:06:11.732Z"
   },
   {
    "duration": 573,
    "start_time": "2024-01-20T10:06:11.783Z"
   },
   {
    "duration": 31,
    "start_time": "2024-01-20T10:06:12.358Z"
   },
   {
    "duration": 28,
    "start_time": "2024-01-20T10:06:12.391Z"
   },
   {
    "duration": 42,
    "start_time": "2024-01-20T10:06:12.420Z"
   },
   {
    "duration": 52,
    "start_time": "2024-01-20T10:06:12.464Z"
   },
   {
    "duration": 5,
    "start_time": "2024-01-20T10:06:12.517Z"
   },
   {
    "duration": 9,
    "start_time": "2024-01-20T10:06:12.523Z"
   },
   {
    "duration": 12,
    "start_time": "2024-01-20T10:06:12.552Z"
   },
   {
    "duration": 98,
    "start_time": "2024-01-20T10:06:12.566Z"
   },
   {
    "duration": 7,
    "start_time": "2024-01-20T10:06:12.666Z"
   },
   {
    "duration": 15,
    "start_time": "2024-01-20T10:06:12.674Z"
   },
   {
    "duration": 5,
    "start_time": "2024-01-20T10:06:12.691Z"
   },
   {
    "duration": 33,
    "start_time": "2024-01-20T10:06:12.697Z"
   },
   {
    "duration": 24,
    "start_time": "2024-01-20T10:06:12.753Z"
   },
   {
    "duration": 23,
    "start_time": "2024-01-20T10:06:12.778Z"
   },
   {
    "duration": 24,
    "start_time": "2024-01-20T10:06:12.803Z"
   },
   {
    "duration": 34,
    "start_time": "2024-01-20T10:06:12.828Z"
   },
   {
    "duration": 10,
    "start_time": "2024-01-20T10:06:12.863Z"
   },
   {
    "duration": 6,
    "start_time": "2024-01-20T10:06:12.874Z"
   },
   {
    "duration": 3,
    "start_time": "2024-01-20T10:06:12.884Z"
   },
   {
    "duration": 31,
    "start_time": "2024-01-20T10:06:12.888Z"
   },
   {
    "duration": 35,
    "start_time": "2024-01-20T10:06:12.921Z"
   },
   {
    "duration": 19,
    "start_time": "2024-01-20T10:06:12.957Z"
   },
   {
    "duration": 4,
    "start_time": "2024-01-20T10:06:12.978Z"
   },
   {
    "duration": 17,
    "start_time": "2024-01-20T10:06:12.983Z"
   },
   {
    "duration": 1096,
    "start_time": "2024-01-20T10:13:46.476Z"
   },
   {
    "duration": 166,
    "start_time": "2024-01-20T10:13:47.574Z"
   },
   {
    "duration": 12,
    "start_time": "2024-01-20T10:13:47.742Z"
   },
   {
    "duration": 8,
    "start_time": "2024-01-20T10:13:47.756Z"
   },
   {
    "duration": 6,
    "start_time": "2024-01-20T10:13:47.765Z"
   },
   {
    "duration": 24,
    "start_time": "2024-01-20T10:13:47.773Z"
   },
   {
    "duration": 75,
    "start_time": "2024-01-20T10:13:47.798Z"
   },
   {
    "duration": 3,
    "start_time": "2024-01-20T10:13:47.875Z"
   },
   {
    "duration": 79,
    "start_time": "2024-01-20T10:13:47.880Z"
   },
   {
    "duration": 36,
    "start_time": "2024-01-20T10:13:47.962Z"
   },
   {
    "duration": 4,
    "start_time": "2024-01-20T10:13:48.000Z"
   },
   {
    "duration": 8,
    "start_time": "2024-01-20T10:13:48.005Z"
   },
   {
    "duration": 86,
    "start_time": "2024-01-20T10:13:48.014Z"
   },
   {
    "duration": 19,
    "start_time": "2024-01-20T10:13:48.102Z"
   },
   {
    "duration": 19,
    "start_time": "2024-01-20T10:13:48.123Z"
   },
   {
    "duration": 10,
    "start_time": "2024-01-20T10:13:48.143Z"
   },
   {
    "duration": 4,
    "start_time": "2024-01-20T10:13:48.154Z"
   },
   {
    "duration": 21,
    "start_time": "2024-01-20T10:13:48.159Z"
   },
   {
    "duration": 34,
    "start_time": "2024-01-20T10:13:48.181Z"
   },
   {
    "duration": 424,
    "start_time": "2024-01-20T10:13:48.217Z"
   },
   {
    "duration": 57,
    "start_time": "2024-01-20T10:13:48.643Z"
   },
   {
    "duration": 686,
    "start_time": "2024-01-20T10:13:48.702Z"
   },
   {
    "duration": 33,
    "start_time": "2024-01-20T10:13:49.389Z"
   },
   {
    "duration": 41,
    "start_time": "2024-01-20T10:13:49.423Z"
   },
   {
    "duration": 31,
    "start_time": "2024-01-20T10:13:49.465Z"
   },
   {
    "duration": 69,
    "start_time": "2024-01-20T10:13:49.497Z"
   },
   {
    "duration": 5,
    "start_time": "2024-01-20T10:13:49.567Z"
   },
   {
    "duration": 20,
    "start_time": "2024-01-20T10:13:49.575Z"
   },
   {
    "duration": 13,
    "start_time": "2024-01-20T10:13:49.597Z"
   },
   {
    "duration": 107,
    "start_time": "2024-01-20T10:13:49.611Z"
   },
   {
    "duration": 8,
    "start_time": "2024-01-20T10:13:49.719Z"
   },
   {
    "duration": 30,
    "start_time": "2024-01-20T10:13:49.728Z"
   },
   {
    "duration": 6,
    "start_time": "2024-01-20T10:13:49.760Z"
   },
   {
    "duration": 36,
    "start_time": "2024-01-20T10:13:49.767Z"
   },
   {
    "duration": 23,
    "start_time": "2024-01-20T10:13:49.805Z"
   },
   {
    "duration": 38,
    "start_time": "2024-01-20T10:13:49.829Z"
   },
   {
    "duration": 26,
    "start_time": "2024-01-20T10:13:49.869Z"
   },
   {
    "duration": 13,
    "start_time": "2024-01-20T10:13:49.896Z"
   },
   {
    "duration": 20,
    "start_time": "2024-01-20T10:13:49.911Z"
   },
   {
    "duration": 41,
    "start_time": "2024-01-20T10:13:49.933Z"
   },
   {
    "duration": 6,
    "start_time": "2024-01-20T10:13:49.975Z"
   },
   {
    "duration": 22,
    "start_time": "2024-01-20T10:13:49.983Z"
   },
   {
    "duration": 17,
    "start_time": "2024-01-20T10:13:50.007Z"
   },
   {
    "duration": 32,
    "start_time": "2024-01-20T10:13:50.026Z"
   },
   {
    "duration": 19,
    "start_time": "2024-01-20T10:13:50.060Z"
   },
   {
    "duration": 26,
    "start_time": "2024-01-20T10:13:50.080Z"
   },
   {
    "duration": 1263,
    "start_time": "2024-01-20T10:57:43.284Z"
   },
   {
    "duration": 525,
    "start_time": "2024-01-20T10:57:44.549Z"
   },
   {
    "duration": 11,
    "start_time": "2024-01-20T10:57:45.076Z"
   },
   {
    "duration": 27,
    "start_time": "2024-01-20T10:57:45.090Z"
   },
   {
    "duration": 54,
    "start_time": "2024-01-20T10:57:45.119Z"
   },
   {
    "duration": 108,
    "start_time": "2024-01-20T10:57:45.175Z"
   },
   {
    "duration": 167,
    "start_time": "2024-01-20T10:57:45.285Z"
   },
   {
    "duration": 4,
    "start_time": "2024-01-20T10:57:45.454Z"
   },
   {
    "duration": 109,
    "start_time": "2024-01-20T10:57:45.459Z"
   },
   {
    "duration": 42,
    "start_time": "2024-01-20T10:57:45.570Z"
   },
   {
    "duration": 5,
    "start_time": "2024-01-20T10:57:45.622Z"
   },
   {
    "duration": 8,
    "start_time": "2024-01-20T10:57:45.629Z"
   },
   {
    "duration": 104,
    "start_time": "2024-01-20T10:57:45.639Z"
   },
   {
    "duration": 10,
    "start_time": "2024-01-20T10:57:45.744Z"
   },
   {
    "duration": 24,
    "start_time": "2024-01-20T10:57:45.756Z"
   },
   {
    "duration": 18,
    "start_time": "2024-01-20T10:57:45.782Z"
   },
   {
    "duration": 22,
    "start_time": "2024-01-20T10:57:45.801Z"
   },
   {
    "duration": 24,
    "start_time": "2024-01-20T10:57:45.825Z"
   },
   {
    "duration": 38,
    "start_time": "2024-01-20T10:57:45.851Z"
   },
   {
    "duration": 499,
    "start_time": "2024-01-20T10:57:45.891Z"
   },
   {
    "duration": 72,
    "start_time": "2024-01-20T10:57:46.392Z"
   },
   {
    "duration": 701,
    "start_time": "2024-01-20T10:57:46.466Z"
   },
   {
    "duration": 41,
    "start_time": "2024-01-20T10:57:47.169Z"
   },
   {
    "duration": 35,
    "start_time": "2024-01-20T10:57:47.222Z"
   },
   {
    "duration": 31,
    "start_time": "2024-01-20T10:57:47.259Z"
   },
   {
    "duration": 93,
    "start_time": "2024-01-20T10:57:47.292Z"
   },
   {
    "duration": 5,
    "start_time": "2024-01-20T10:57:47.387Z"
   },
   {
    "duration": 18,
    "start_time": "2024-01-20T10:57:47.396Z"
   },
   {
    "duration": 11,
    "start_time": "2024-01-20T10:57:47.424Z"
   },
   {
    "duration": 126,
    "start_time": "2024-01-20T10:57:47.437Z"
   },
   {
    "duration": 8,
    "start_time": "2024-01-20T10:57:47.564Z"
   },
   {
    "duration": 28,
    "start_time": "2024-01-20T10:57:47.574Z"
   },
   {
    "duration": 4,
    "start_time": "2024-01-20T10:57:47.604Z"
   },
   {
    "duration": 35,
    "start_time": "2024-01-20T10:57:47.624Z"
   },
   {
    "duration": 26,
    "start_time": "2024-01-20T10:57:47.661Z"
   },
   {
    "duration": 52,
    "start_time": "2024-01-20T10:57:47.689Z"
   },
   {
    "duration": 28,
    "start_time": "2024-01-20T10:57:47.743Z"
   },
   {
    "duration": 15,
    "start_time": "2024-01-20T10:57:47.773Z"
   },
   {
    "duration": 34,
    "start_time": "2024-01-20T10:57:47.790Z"
   },
   {
    "duration": 4,
    "start_time": "2024-01-20T10:57:47.826Z"
   },
   {
    "duration": 5,
    "start_time": "2024-01-20T10:57:47.831Z"
   },
   {
    "duration": 27,
    "start_time": "2024-01-20T10:57:47.838Z"
   },
   {
    "duration": 57,
    "start_time": "2024-01-20T10:57:47.867Z"
   },
   {
    "duration": 25,
    "start_time": "2024-01-20T10:57:47.927Z"
   },
   {
    "duration": 4,
    "start_time": "2024-01-20T10:57:47.954Z"
   },
   {
    "duration": 26,
    "start_time": "2024-01-20T10:57:47.960Z"
   },
   {
    "duration": 1243,
    "start_time": "2024-01-20T11:34:30.350Z"
   },
   {
    "duration": 200,
    "start_time": "2024-01-20T11:34:31.596Z"
   },
   {
    "duration": 12,
    "start_time": "2024-01-20T11:34:31.798Z"
   },
   {
    "duration": 17,
    "start_time": "2024-01-20T11:34:31.811Z"
   },
   {
    "duration": 14,
    "start_time": "2024-01-20T11:34:31.831Z"
   },
   {
    "duration": 26,
    "start_time": "2024-01-20T11:34:31.847Z"
   },
   {
    "duration": 84,
    "start_time": "2024-01-20T11:34:31.875Z"
   },
   {
    "duration": 4,
    "start_time": "2024-01-20T11:34:31.961Z"
   },
   {
    "duration": 116,
    "start_time": "2024-01-20T11:34:31.967Z"
   },
   {
    "duration": 47,
    "start_time": "2024-01-20T11:34:32.085Z"
   },
   {
    "duration": 5,
    "start_time": "2024-01-20T11:34:32.134Z"
   },
   {
    "duration": 9,
    "start_time": "2024-01-20T11:34:32.141Z"
   },
   {
    "duration": 100,
    "start_time": "2024-01-20T11:34:32.152Z"
   },
   {
    "duration": 10,
    "start_time": "2024-01-20T11:34:32.256Z"
   },
   {
    "duration": 16,
    "start_time": "2024-01-20T11:34:32.267Z"
   },
   {
    "duration": 18,
    "start_time": "2024-01-20T11:34:32.284Z"
   },
   {
    "duration": 4,
    "start_time": "2024-01-20T11:34:32.323Z"
   },
   {
    "duration": 39,
    "start_time": "2024-01-20T11:34:32.329Z"
   },
   {
    "duration": 40,
    "start_time": "2024-01-20T11:34:32.370Z"
   },
   {
    "duration": 472,
    "start_time": "2024-01-20T11:34:32.412Z"
   },
   {
    "duration": 66,
    "start_time": "2024-01-20T11:34:32.886Z"
   },
   {
    "duration": 670,
    "start_time": "2024-01-20T11:34:32.954Z"
   },
   {
    "duration": 37,
    "start_time": "2024-01-20T11:34:33.626Z"
   },
   {
    "duration": 34,
    "start_time": "2024-01-20T11:34:33.665Z"
   },
   {
    "duration": 48,
    "start_time": "2024-01-20T11:34:33.701Z"
   },
   {
    "duration": 83,
    "start_time": "2024-01-20T11:34:33.751Z"
   },
   {
    "duration": 7,
    "start_time": "2024-01-20T11:34:33.836Z"
   },
   {
    "duration": 8,
    "start_time": "2024-01-20T11:34:33.845Z"
   },
   {
    "duration": 10,
    "start_time": "2024-01-20T11:34:33.855Z"
   },
   {
    "duration": 128,
    "start_time": "2024-01-20T11:34:33.867Z"
   },
   {
    "duration": 9,
    "start_time": "2024-01-20T11:34:33.996Z"
   },
   {
    "duration": 23,
    "start_time": "2024-01-20T11:34:34.007Z"
   },
   {
    "duration": 4,
    "start_time": "2024-01-20T11:34:34.032Z"
   },
   {
    "duration": 36,
    "start_time": "2024-01-20T11:34:34.038Z"
   },
   {
    "duration": 58,
    "start_time": "2024-01-20T11:34:34.076Z"
   },
   {
    "duration": 27,
    "start_time": "2024-01-20T11:34:34.135Z"
   },
   {
    "duration": 28,
    "start_time": "2024-01-20T11:34:34.164Z"
   },
   {
    "duration": 36,
    "start_time": "2024-01-20T11:34:34.193Z"
   },
   {
    "duration": 10,
    "start_time": "2024-01-20T11:34:34.231Z"
   },
   {
    "duration": 4,
    "start_time": "2024-01-20T11:34:34.243Z"
   },
   {
    "duration": 9,
    "start_time": "2024-01-20T11:34:34.252Z"
   },
   {
    "duration": 31,
    "start_time": "2024-01-20T11:34:34.263Z"
   },
   {
    "duration": 24,
    "start_time": "2024-01-20T11:34:34.324Z"
   },
   {
    "duration": 25,
    "start_time": "2024-01-20T11:34:34.350Z"
   },
   {
    "duration": 7,
    "start_time": "2024-01-20T11:34:34.376Z"
   },
   {
    "duration": 51,
    "start_time": "2024-01-20T11:34:34.384Z"
   }
  ],
  "kernelspec": {
   "display_name": "Python 3 (ipykernel)",
   "language": "python",
   "name": "python3"
  },
  "language_info": {
   "codemirror_mode": {
    "name": "ipython",
    "version": 3
   },
   "file_extension": ".py",
   "mimetype": "text/x-python",
   "name": "python",
   "nbconvert_exporter": "python",
   "pygments_lexer": "ipython3",
   "version": "3.9.18"
  },
  "toc": {
   "base_numbering": 1,
   "nav_menu": {},
   "number_sections": true,
   "sideBar": true,
   "skip_h1_title": true,
   "title_cell": "Table of Contents",
   "title_sidebar": "Contents",
   "toc_cell": false,
   "toc_position": {},
   "toc_section_display": true,
   "toc_window_display": false
  }
 },
 "nbformat": 4,
 "nbformat_minor": 4
}
